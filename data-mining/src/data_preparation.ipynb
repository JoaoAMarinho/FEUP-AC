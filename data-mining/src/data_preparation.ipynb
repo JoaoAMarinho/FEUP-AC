{
 "cells": [
  {
   "cell_type": "markdown",
   "metadata": {},
   "source": [
    "# Data Mining Project - Data Preparation"
   ]
  },
  {
   "cell_type": "markdown",
   "metadata": {},
   "source": [
    "### Imports and Datasets"
   ]
  },
  {
   "cell_type": "code",
   "execution_count": 9,
   "metadata": {},
   "outputs": [],
   "source": [
    "import pandas as pd\n",
    "import data_preparation as dp\n",
    "from toolz.functoolz import pipe"
   ]
  },
  {
   "cell_type": "code",
   "execution_count": 10,
   "metadata": {},
   "outputs": [],
   "source": [
    "account = pd.read_csv('../data/account.csv',delimiter=';')\n",
    "card_dev = pd.read_csv('../data/card_dev.csv',delimiter=';')\n",
    "client = pd.read_csv('../data/client.csv',delimiter=';')\n",
    "disp = pd.read_csv('../data/disp.csv',delimiter=';')\n",
    "district = pd.read_csv('../data/district.csv',delimiter=';')\n",
    "loan_dev = pd.read_csv('../data/loan_dev.csv',delimiter=';')\n",
    "trans_dev = pd.read_csv('../data/trans_dev.csv',delimiter=';', dtype={'bank': str})"
   ]
  },
  {
   "cell_type": "code",
   "execution_count": 11,
   "metadata": {},
   "outputs": [],
   "source": [
    "district = dp.calculate_average_unemployment_rate(district)\n",
    "district = dp.calculate_average_commited_crimes(district)"
   ]
  },
  {
   "cell_type": "markdown",
   "metadata": {},
   "source": [
    "The mean for the unemployment rate and the total number of offenses committed are calculated in the following two cells of code.\n",
    "\n",
    "Any missing value is set to the value of the column whose value is present, e.g. if the value for the \"unemploymant rate '95\" is not present in a certain row, it is set to the \"unemploymant rate '96\" value.\n",
    "\n",
    "The reasoning behind this strategy was that, when taken into account over the course of just one year, neither the unemployment rate nor the number of crimes would be significant. "
   ]
  },
  {
   "cell_type": "markdown",
   "metadata": {},
   "source": [
    "**ASSEMBLE MAIN_DF**"
   ]
  },
  {
   "cell_type": "code",
   "execution_count": 12,
   "metadata": {},
   "outputs": [],
   "source": [
    "# join account, loan, disposition and client\n",
    "main_df = account.merge(loan_dev, on='account_id', suffixes=('','_loan'), how='right')\n",
    "main_df = main_df.merge(disp, on='account_id', suffixes=('','_disp'), how='left')\n",
    "main_df = main_df.merge(client, on='client_id',suffixes=('','_client'), how='left')\n",
    "\n",
    "main_df.drop(columns='district_id', axis=1, inplace=True)\n",
    "\n",
    "# create age_at_loan and gender column\n",
    "main_df = main_df.apply(lambda row: dp.calculate_age_loan(row), axis=1)\n",
    "\n",
    "# join demograph\n",
    "district.rename(columns={'code ':'code'}, inplace=True)\n",
    "main_df = main_df.merge(district, left_on='district_id_client', right_on='code', how='left')\n",
    "\n",
    "# join creditcard\n",
    "main_df = main_df.merge(card_dev, on='disp_id', suffixes=('', '_card'), how='left')"
   ]
  },
  {
   "cell_type": "code",
   "execution_count": 13,
   "metadata": {},
   "outputs": [],
   "source": [
    "main_df = pipe(main_df,\n",
    "               dp.calculate_number_of_disponents,\n",
    "               dp.calculate_diff_salary_loan,\n",
    "               dp.drop_irrelevant_columns_from_main_df,\n",
    "               dp.rename_main_df_columns,\n",
    "               dp.drop_duplicated_accounts)\n",
    "\n",
    "main_df.to_csv('main_df.csv', ';')"
   ]
  },
  {
   "cell_type": "markdown",
   "metadata": {},
   "source": [
    "**ASSEMBLE TRANSACTIONS_DF**"
   ]
  },
  {
   "cell_type": "code",
   "execution_count": 14,
   "metadata": {},
   "outputs": [],
   "source": [
    "transactions_df = account.merge(loan_dev, on='account_id', suffixes=('','_loan'), how='right').merge(trans_dev, on='account_id', suffixes=('', '_transaction'), how='left')"
   ]
  },
  {
   "cell_type": "code",
   "execution_count": 15,
   "metadata": {},
   "outputs": [],
   "source": [
    "transactions_df = pipe(transactions_df,\n",
    "                       dp.calculate_transaction_count,\n",
    "                       dp.calculate_credit_debit_ratio,\n",
    "                       dp.drop_irrelevant_columns_from_transactions_df,\n",
    "                       dp.rename_transactions_df_columns)\n",
    "\n",
    "transactions_df.to_csv('transactions_df.csv', ';')"
   ]
  },
  {
   "cell_type": "markdown",
   "metadata": {},
   "source": [
    "- assessment of dimensions of data quality\n",
    "- (cleaning): redundancy\n",
    "- (cleaning): missing data\n",
    "- (cleaning): outliers\n",
    "- data transformation for compatibility with algorithms\n",
    "- feature engineering from tabular data\n",
    "- sampling for domain-specific purposes\n",
    "- sampling for development\n",
    "- imbalanced data\n",
    "- feature selection"
   ]
  },
  {
   "cell_type": "markdown",
   "metadata": {},
   "source": [
    "##### **Redundancy**"
   ]
  },
  {
   "cell_type": "markdown",
   "metadata": {},
   "source": [
    "explain what has been done regarding redundant data"
   ]
  },
  {
   "cell_type": "markdown",
   "metadata": {},
   "source": [
    "##### **Missing Data**"
   ]
  },
  {
   "cell_type": "markdown",
   "metadata": {},
   "source": [
    "explain what has been done regarding missing data"
   ]
  },
  {
   "cell_type": "markdown",
   "metadata": {},
   "source": [
    "##### **Outliers**"
   ]
  },
  {
   "cell_type": "markdown",
   "metadata": {},
   "source": [
    "explain what has been done regarding outliers"
   ]
  },
  {
   "cell_type": "markdown",
   "metadata": {},
   "source": [
    "##### **Other data preparation operations**"
   ]
  },
  {
   "cell_type": "markdown",
   "metadata": {},
   "source": [
    "explain what has been done additionally"
   ]
  }
 ],
 "metadata": {
  "kernelspec": {
   "display_name": "Python 3.10.4 64-bit",
   "language": "python",
   "name": "python3"
  },
  "language_info": {
   "codemirror_mode": {
    "name": "ipython",
    "version": 3
   },
   "file_extension": ".py",
   "mimetype": "text/x-python",
   "name": "python",
   "nbconvert_exporter": "python",
   "pygments_lexer": "ipython3",
   "version": "3.10.4"
  },
  "orig_nbformat": 4,
  "vscode": {
   "interpreter": {
    "hash": "aee8b7b246df8f9039afb4144a1f6fd8d2ca17a180786b69acc140d282b71a49"
   }
  }
 },
 "nbformat": 4,
 "nbformat_minor": 2
}
