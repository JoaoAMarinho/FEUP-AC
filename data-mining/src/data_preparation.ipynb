{
 "cells": [
  {
   "cell_type": "markdown",
   "metadata": {},
   "source": [
    "# Data Mining Project - Data Preparation"
   ]
  },
  {
   "cell_type": "markdown",
   "metadata": {},
   "source": [
    "### Imports"
   ]
  },
  {
   "cell_type": "code",
   "execution_count": 1,
   "metadata": {},
   "outputs": [],
   "source": [
    "import pandas as pd\n",
    "import data_preparation as dp"
   ]
  },
  {
   "cell_type": "markdown",
   "metadata": {},
   "source": [
    "### Assemble Train DF"
   ]
  },
  {
   "cell_type": "code",
   "execution_count": 2,
   "metadata": {},
   "outputs": [],
   "source": [
    "account = pd.read_csv('../data/account.csv', delimiter=';')\n",
    "disp = pd.read_csv('../data/disp.csv', delimiter=';')\n",
    "card_dev = pd.read_csv('../data/card_dev.csv', delimiter=';')\n",
    "client = pd.read_csv('../data/client.csv', delimiter=';')\n",
    "district = pd.read_csv('../data/district.csv', delimiter=';')\n",
    "loan_dev = pd.read_csv('../data/loan_dev.csv', delimiter=';')\n",
    "trans_dev = pd.read_csv('../data/trans_dev.csv', delimiter=';', dtype={'bank': str})\n",
    "\n",
    "card_comp = pd.read_csv('../data/competition/card_comp.csv', delimiter=';')\n",
    "loan_comp = pd.read_csv('../data/competition/loan_comp.csv', delimiter=';')\n",
    "trans_comp = pd.read_csv('../data/competition/trans_comp.csv', delimiter=';', dtype={'bank': str})"
   ]
  },
  {
   "cell_type": "code",
   "execution_count": 3,
   "metadata": {},
   "outputs": [],
   "source": [
    "account = dp.clean_accounts(account)\n",
    "disp = dp.clean_disp(disp)\n",
    "card_dev = dp.clean_cards(card_dev, disp)\n",
    "client = dp.clean_clients(client)\n",
    "district = dp.clean_districts(district)\n",
    "loan_dev = dp.clean_loans(loan_dev)\n",
    "trans_dev = dp.clean_transactions(trans_dev)\n",
    "\n",
    "dfs = [\n",
    "    account,\n",
    "    disp,\n",
    "    card_dev,\n",
    "    client,\n",
    "    district,\n",
    "    loan_dev,\n",
    "    trans_dev\n",
    "]"
   ]
  },
  {
   "cell_type": "code",
   "execution_count": 4,
   "metadata": {},
   "outputs": [],
   "source": [
    "df = dp.merge_dfs(dfs)\n",
    "df = dp.extract_other_features(df)\n",
    "df = dp.clean_columns(df)"
   ]
  },
  {
   "cell_type": "code",
   "execution_count": 5,
   "metadata": {},
   "outputs": [],
   "source": [
    "df.to_csv('../data/clean/df-train.csv', index=False)"
   ]
  },
  {
   "cell_type": "markdown",
   "metadata": {},
   "source": [
    "### Assemble Competition DF"
   ]
  },
  {
   "cell_type": "code",
   "execution_count": null,
   "metadata": {},
   "outputs": [],
   "source": [
    "account = pd.read_csv('../data/account.csv', delimiter=';')\n",
    "disp = pd.read_csv('../data/disp.csv', delimiter=';')\n",
    "client = pd.read_csv('../data/client.csv', delimiter=';')\n",
    "district = pd.read_csv('../data/district.csv', delimiter=';')\n",
    "card_comp = pd.read_csv('../data/competition/card_comp.csv', delimiter=';')\n",
    "loan_comp = pd.read_csv('../data/competition/loan_comp.csv', delimiter=';')\n",
    "trans_comp = pd.read_csv('../data/competition/trans_comp.csv', delimiter=';', dtype={'bank': str})"
   ]
  },
  {
   "cell_type": "code",
   "execution_count": null,
   "metadata": {},
   "outputs": [],
   "source": [
    "account = dp.clean_accounts(account)\n",
    "disp = dp.clean_disp(disp)\n",
    "card_comp = dp.clean_cards(card_comp, disp)\n",
    "client = dp.clean_clients(client)\n",
    "district = dp.clean_districts(district)\n",
    "loan_comp = dp.clean_loans(loan_comp)\n",
    "trans_comp = dp.clean_transactions(trans_comp)\n",
    "\n",
    "dfs = [\n",
    "    account,\n",
    "    disp,\n",
    "    card_comp,\n",
    "    client,\n",
    "    district,\n",
    "    loan_comp,\n",
    "    trans_comp\n",
    "]"
   ]
  },
  {
   "cell_type": "code",
   "execution_count": null,
   "metadata": {},
   "outputs": [],
   "source": [
    "df = dp.merge_dfs(dfs)\n",
    "df = dp.extract_other_features(df)\n",
    "df = dp.clean_columns(df)"
   ]
  },
  {
   "cell_type": "code",
   "execution_count": null,
   "metadata": {},
   "outputs": [],
   "source": [
    "df.to_csv('../data/clean/df-comp.csv', index=False)"
   ]
  },
  {
   "cell_type": "markdown",
   "metadata": {},
   "source": [
    "**ASSEMBLE TESTING DFS**"
   ]
  },
  {
   "cell_type": "code",
   "execution_count": null,
   "metadata": {},
   "outputs": [],
   "source": [
    "amount_outliers_df = dp.drop_outliers(df, 'amount')\n"
   ]
  },
  {
   "cell_type": "code",
   "execution_count": null,
   "metadata": {},
   "outputs": [],
   "source": [
    "demographic_df = dp.drop_demographic_columns_from_transactions_df(df)"
   ]
  },
  {
   "cell_type": "code",
   "execution_count": null,
   "metadata": {},
   "outputs": [],
   "source": [
    "age_loan_outliers_df = df[df['age_loan'] > 18]"
   ]
  },
  {
   "cell_type": "code",
   "execution_count": null,
   "metadata": {},
   "outputs": [],
   "source": [
    "irrelevant_columns_df = dp.drop_irrelevant_columns(df, ['duration'])"
   ]
  },
  {
   "cell_type": "code",
   "execution_count": null,
   "metadata": {},
   "outputs": [],
   "source": [
    "amount_outliers_df.to_csv('../test_ml/amount_outliers_df.csv', index=False)\n",
    "age_loan_outliers_df.to_csv('../test_ml/age_loan_outliers_df.csv', index=False)\n",
    "irrelevant_columns_df.to_csv('../test_ml/irrelevant_columns_df.csv', index=False)"
   ]
  }
 ],
 "metadata": {
  "kernelspec": {
   "display_name": "Python 3.10.4 64-bit",
   "language": "python",
   "name": "python3"
  },
  "language_info": {
   "codemirror_mode": {
    "name": "ipython",
    "version": 3
   },
   "file_extension": ".py",
   "mimetype": "text/x-python",
   "name": "python",
   "nbconvert_exporter": "python",
   "pygments_lexer": "ipython3",
   "version": "3.10.4"
  },
  "orig_nbformat": 4,
  "vscode": {
   "interpreter": {
    "hash": "aee8b7b246df8f9039afb4144a1f6fd8d2ca17a180786b69acc140d282b71a49"
   }
  }
 },
 "nbformat": 4,
 "nbformat_minor": 2
}
