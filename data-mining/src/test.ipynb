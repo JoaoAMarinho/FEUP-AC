{
 "cells": [
  {
   "cell_type": "code",
   "execution_count": 2,
   "metadata": {},
   "outputs": [],
   "source": [
    "from pandas import read_csv\n",
    "import matplotlib.pyplot as plt"
   ]
  },
  {
   "cell_type": "code",
   "execution_count": 5,
   "metadata": {},
   "outputs": [
    {
     "name": "stderr",
     "output_type": "stream",
     "text": [
      "/var/folders/04/05jdn06x4bd37twbh8c046nr0000gn/T/ipykernel_14429/3919381780.py:7: DtypeWarning: Columns (8) have mixed types. Specify dtype option on import or set low_memory=False.\n",
      "  trans_dev = read_csv('../data/trans_dev.csv',delimiter=';')\n"
     ]
    }
   ],
   "source": [
    "account = read_csv('../data/account.csv',delimiter=';')\n",
    "card_dev = read_csv('../data/card_dev.csv',delimiter=';')\n",
    "client = read_csv('../data/client.csv',delimiter=';')\n",
    "disp = read_csv('../data/disp.csv',delimiter=';')\n",
    "district = read_csv('../data/district.csv',delimiter=';')\n",
    "loan_dev = read_csv('../data/loan_dev.csv',delimiter=';')\n",
    "trans_dev = read_csv('../data/trans_dev.csv',delimiter=';')"
   ]
  },
  {
   "cell_type": "code",
   "execution_count": 8,
   "metadata": {},
   "outputs": [
    {
     "data": {
      "text/plain": [
       "<AxesSubplot:>"
      ]
     },
     "execution_count": 8,
     "metadata": {},
     "output_type": "execute_result"
    },
    {
     "data": {
      "image/png": "[encoded data removed]",
      "text/plain": [
       "<Figure size 432x288 with 1 Axes>"
      ]
     },
     "metadata": {
      "needs_background": "light"
     },
     "output_type": "display_data"
    }
   ],
   "source": [
    "loan_dev['status'].value_counts().plot.bar()\n"
   ]
  },
  {
   "cell_type": "code",
   "execution_count": null,
   "metadata": {},
   "outputs": [],
   "source": [
    "from datetime import datetime\n",
    "\n",
    "def calculate_age(client):\n",
    "  today = date.today()\n",
    "  birth_date = datetime.strptime(client['birth number'], '%yy%mm%dd)\n",
    "  \n",
    "  female = birth_date.date.month >= 50\n",
    "  \n",
    "  client['age'] = today.year - birth_date .year - ((today.month, today.day) < (birth_date .month, birthdate.day))\n",
    "\n",
    "  if female:\n",
    "    client['sex'] = 'female' # or 1 ?\n",
    "  else:\n",
    "    client['sex'] = 'male' # or 0 ?\n",
    "    \n",
    "  return client\n",
    "\n",
    "client = client.apply(lambda c: calculate_age(c))"
   ]
  }
 ],
 "metadata": {
  "kernelspec": {
   "display_name": "Python 3.10.4 64-bit",
   "language": "python",
   "name": "python3"
  },
  "language_info": {
   "codemirror_mode": {
    "name": "ipython",
    "version": 3
   },
   "file_extension": ".py",
   "mimetype": "text/x-python",
   "name": "python",
   "nbconvert_exporter": "python",
   "pygments_lexer": "ipython3",
   "version": "3.10.4"
  },
  "orig_nbformat": 4,
  "vscode": {
   "interpreter": {
    "hash": "aee8b7b246df8f9039afb4144a1f6fd8d2ca17a180786b69acc140d282b71a49"
   }
  }
 },
 "nbformat": 4,
 "nbformat_minor": 2
}
