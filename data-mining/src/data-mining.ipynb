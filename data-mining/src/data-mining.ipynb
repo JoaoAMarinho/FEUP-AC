{
 "cells": [
  {
   "cell_type": "markdown",
   "metadata": {},
   "source": [
    "# Data Mining Project"
   ]
  },
  {
   "cell_type": "code",
   "execution_count": null,
   "metadata": {},
   "outputs": [],
   "source": [
    "import pandas as pd\n",
    "import matplotlib.pyplot as plt\n",
    "from datetime import datetime\n",
    "import numpy as np\n",
    "import math\n",
    "\n",
    "account = pd.read_csv('../data/account.csv',delimiter=';')\n",
    "card_dev = pd.read_csv('../data/card_dev.csv',delimiter=';')\n",
    "client = pd.read_csv('../data/client.csv',delimiter=';')\n",
    "disp = pd.read_csv('../data/disp.csv',delimiter=';')\n",
    "district = pd.read_csv('../data/district.csv',delimiter=';')\n",
    "loan_dev = pd.read_csv('../data/loan_dev.csv',delimiter=';')\n",
    "trans_dev = pd.read_csv('../data/trans_dev.csv',delimiter=';', dtype={'bank':'str'})"
   ]
  },
  {
   "cell_type": "markdown",
   "metadata": {},
   "source": [
    "## Business Understanding"
   ]
  },
  {
   "cell_type": "markdown",
   "metadata": {},
   "source": [
    "The bank wants to improve their services. For instance, the bank managers have only vague idea, who is a good client (whom to offer some additional services) and who is a bad client (whom to watch carefully to minimize the bank loses). Fortunately, the bank stores data about their clients, the accounts (transactions within several months), the loans already granted, the credit cards issued. The bank managers hope to improve their understanding of customers and seek specific actions to improve services. A mere application of a discovery tool will not be convincing for them.  \n",
    "\n",
    "To test a data mining approach to help the bank managers, it was decided to address two problems, a descriptive and a predictive one. While the descriptive problem was left open, the predictive problem is the prediction of whether a loan will end successfuly."
   ]
  },
  {
   "cell_type": "markdown",
   "metadata": {},
   "source": [
    "## Data Understanding"
   ]
  },
  {
   "cell_type": "markdown",
   "metadata": {},
   "source": [
    "### Build Dataset"
   ]
  },
  {
   "cell_type": "code",
   "execution_count": null,
   "metadata": {},
   "outputs": [],
   "source": [
    "def parse_date(d):\n",
    "  year = int(str(d)[0:2])\n",
    "  month = int(str(d)[2:4])\n",
    "  day = int(str(d)[4:6])\n",
    "  return { 'year': year, 'month': month, 'day': day }\n",
    "\n",
    "\n",
    "def parse_gender(row, birth_date):\n",
    "  female = birth_date['month'] >= 50\n",
    "\n",
    "  if female:\n",
    "    row['gender'] = 'female' \n",
    "    birth_date['month'] -= 50\n",
    "  else:\n",
    "    row['gender'] = 'male' \n",
    "\n",
    "\n",
    "def calculate_age_loan(row):\n",
    "  date_loan = row['date_loan']\n",
    "  birth_number = row['birth_number']\n",
    "\n",
    "  birth_date = parse_date(birth_number)\n",
    "\n",
    "  parse_gender(row, birth_date)\n",
    "  \n",
    "  if (date_loan is None):\n",
    "    date_loan = parse_date(row['date_loan'])\n",
    "    date_loan = date_loan['year'] - birth_date['year'] - ((date_loan['month'], date_loan['day']) < (birth_date['month'], birth_date['day']))\n",
    "  \n",
    "  row['age_loan'] = date_loan\n",
    "    \n",
    "  return row"
   ]
  },
  {
   "cell_type": "code",
   "execution_count": null,
   "metadata": {},
   "outputs": [],
   "source": [
    "def nan_unemploymant_rate(year): return district[\"unemploymant rate '\" + year + \" \"].isna()\n",
    "\n",
    "# convert '?' to NaN\n",
    "\n",
    "district['unemploymant rate \\'95 '] = pd.to_numeric(district['unemploymant rate \\'95 '], errors='coerce')\n",
    "district['unemploymant rate \\'96 '] = pd.to_numeric(district['unemploymant rate \\'96 '], errors='coerce')\n",
    "\n",
    "# NaN values will be equaled to the value of the other column\n",
    "\n",
    "district.loc[nan_unemploymant_rate(95), 'unemploymant rate \\'95 '] = district['unemploymant rate \\'96 ']\n",
    "district.loc[nan_unemploymant_rate(96), 'unemploymant rate \\'96 '] = district['unemploymant rate \\'95 ']\n",
    "\n",
    "# create column with mean from both years and drop previous and now useless columns\n",
    "\n",
    "district['unemploymant_rate'] = district[['unemploymant rate \\'95 ', 'unemploymant rate \\'96 ']].mean(axis=1)\n",
    "district = district.drop(['unemploymant rate \\'95 ', 'unemploymant rate \\'96 '], axis= 1).reset_index()"
   ]
  },
  {
   "cell_type": "code",
   "execution_count": null,
   "metadata": {},
   "outputs": [],
   "source": [
    "def nan_commited_crimes(year): return district[\"no. of commited crimes '\" + year + \" \"].isna()\n",
    "\n",
    "# convert '?' to NaN\n",
    "\n",
    "district['no. of commited crimes \\'95 '] = pd.to_numeric(district['no. of commited crimes \\'95 '], errors='coerce')\n",
    "district['no. of commited crimes \\'96 '] = pd.to_numeric(district['no. of commited crimes \\'96 '], errors='coerce')\n",
    "\n",
    "# NaN values will be equaled to the value of the other column\n",
    "\n",
    "district.loc[nan_commited_crimes(95), 'no. of commited crimes \\'95 '] = district['no. of commited crimes \\'96 ']\n",
    "district.loc[nan_commited_crimes(96), 'no. of commited crimes \\'96 '] = district['no. of commited crimes \\'95 ']\n",
    "\n",
    "# create column with mean from both years and drop previous and now useless columns\n",
    "\n",
    "district['commited_crimes'] = district[['no. of commited crimes \\'95 ', 'no. of commited crimes \\'96 ']].mean(axis=1)\n",
    "district = district.drop(['no. of commited crimes \\'95 ', 'no. of commited crimes \\'96 '], axis= 1).reset_index()"
   ]
  },
  {
   "cell_type": "code",
   "execution_count": null,
   "metadata": {},
   "outputs": [],
   "source": [
    "# join account, loan, disposition and client\n",
    "df = account.merge(loan_dev, on='account_id', suffixes=('','_loan'), how='right')\n",
    "df = df.merge(disp, on='account_id', suffixes=('','_disp'), how='left')\n",
    "df = df.merge(client, on='client_id',suffixes=('','_client'), how='left')\n",
    "\n",
    "df.drop(columns='district_id', axis=1, inplace=True)\n",
    "\n",
    "# create age_at_loan and gender column\n",
    "df = df.apply(lambda row: calculate_age_loan(row), axis=1)\n",
    "\n",
    "# join demograph\n",
    "district.rename(columns={'code ':'code'}, inplace=True)\n",
    "df = df.merge(district, left_on='district_id_client', right_on='code', how='left')\n",
    "\n",
    "# join creditcard\n",
    "df = df.merge(card_dev, on='disp_id', suffixes=('', '_card'), how='left')\n",
    "\n",
    "# join transactions\n",
    "df_transactions = df.merge(trans_dev, on='account_id', suffixes=('', '_transaction'), how='left')\n",
    "\n",
    "df"
   ]
  },
  {
   "cell_type": "markdown",
   "metadata": {},
   "source": [
    "### Exploratory Analysis"
   ]
  },
  {
   "cell_type": "markdown",
   "metadata": {},
   "source": [
    "- número de disponentes vs status \n",
    "    - quantas pessoas podem depositar naquela conta / contas quantas aquela pessoa tem ??\n",
    "- amount da loan vs status \n",
    "    - isto tipo não sei se faz super sentido era mais para perceber se o risco aumenta quanto maior for a loan ou se não podems concluir isso\n",
    "    \n",
    "- crime rate vs status\n",
    "- taxa de desemprego vs status\n",
    "- salário médio da região\n",
    "- ... outros dados demográficos vs status ??\n",
    "- diferença salário médio e dinheiro da loan pago a cada mês vs status\n",
    "    - se o que a pessoa paga em cada mês é quase a totalidade do seu salário, é mais provável que não possa pagar a dada altura\n",
    "- duration vs status\n",
    "- género vs status\n",
    "- frequência com que é utilizada a conta vs status\n",
    "    - ver pelo número de transactions, no fundo é se é cliente ativo ou não\n",
    "- percentagem de depósitos/débitos vs status \n",
    "    - my thought process foi que se eu só uso a conta para debitar dinheiro secalhar tou a gastar mais do que o ganho kk\n",
    "- quantas loans tem 'ativas' \n",
    "    - ver interseção data de aceitação + duração\n",
    "- ...\n"
   ]
  },
  {
   "cell_type": "code",
   "execution_count": null,
   "metadata": {},
   "outputs": [],
   "source": [
    "df.info()"
   ]
  },
  {
   "cell_type": "code",
   "execution_count": null,
   "metadata": {},
   "outputs": [],
   "source": [
    "df_transactions.info()"
   ]
  },
  {
   "cell_type": "code",
   "execution_count": null,
   "metadata": {},
   "outputs": [],
   "source": [
    "loan_dev['status'].value_counts().plot.bar()\n",
    "plt.xlabel('Status')\n",
    "plt.ylabel('Count')\n",
    "plt.title('Status count for bank loans')"
   ]
  },
  {
   "cell_type": "code",
   "execution_count": null,
   "metadata": {},
   "outputs": [],
   "source": [
    "loan_dev.boxplot(column='amount', by='status', figsize=(5,5))"
   ]
  },
  {
   "cell_type": "code",
   "execution_count": null,
   "metadata": {},
   "outputs": [],
   "source": [
    "loan_dev.boxplot(column='payments', by='status', figsize=(5,5))"
   ]
  },
  {
   "cell_type": "code",
   "execution_count": null,
   "metadata": {},
   "outputs": [],
   "source": [
    "loan_dev.boxplot(column='duration', by='status', figsize=(5,5))\n"
   ]
  },
  {
   "cell_type": "markdown",
   "metadata": {},
   "source": [
    "Since the boxes are not totally aligned, there might be a relation between the loan amount and the successfulness of a loan. The higher the amount, the most likely it is to fail. The differences in the graphics aren't, however, significant and our conclusions are enforced by logic."
   ]
  },
  {
   "cell_type": "code",
   "execution_count": null,
   "metadata": {},
   "outputs": [],
   "source": [
    "df.boxplot(column='age_loan', by='status', figsize=(5,5))\n"
   ]
  },
  {
   "cell_type": "code",
   "execution_count": null,
   "metadata": {},
   "outputs": [],
   "source": [
    "disp_count = df.groupby(['account_id'])['disp_id'].nunique()\n",
    "disp_count"
   ]
  },
  {
   "cell_type": "code",
   "execution_count": null,
   "metadata": {},
   "outputs": [],
   "source": [
    "df = df.merge(disp_count, on='account_id', suffixes=('', '_count'), how='left')\n"
   ]
  },
  {
   "cell_type": "code",
   "execution_count": null,
   "metadata": {},
   "outputs": [],
   "source": [
    "df.boxplot(column='disp_id_count', by='status', figsize=(5,5))"
   ]
  },
  {
   "cell_type": "code",
   "execution_count": null,
   "metadata": {},
   "outputs": [],
   "source": [
    "#remove duplicates\n",
    "no_dups_df = df.drop_duplicates(subset=['account_id'])\n",
    "no_dups_df.groupby('disp_id_count')['status'].value_counts().unstack(1).plot.bar()\n",
    "\n",
    "plt.xlabel('disponents')\n",
    "plt.ylabel('count by number of disponents')\n",
    "plt.legend(['Status = -1', 'Status = 1'])\n",
    "plt.title('Status count by number of account disponents')"
   ]
  },
  {
   "cell_type": "code",
   "execution_count": null,
   "metadata": {},
   "outputs": [],
   "source": [
    "df.boxplot(column='average salary ', by='status', figsize=(5,5))"
   ]
  },
  {
   "cell_type": "markdown",
   "metadata": {},
   "source": [
    "## Data Preparation"
   ]
  },
  {
   "cell_type": "code",
   "execution_count": null,
   "metadata": {},
   "outputs": [],
   "source": []
  },
  {
   "cell_type": "markdown",
   "metadata": {},
   "source": [
    "## Model"
   ]
  },
  {
   "cell_type": "code",
   "execution_count": null,
   "metadata": {},
   "outputs": [],
   "source": []
  },
  {
   "cell_type": "code",
   "execution_count": null,
   "metadata": {},
   "outputs": [],
   "source": []
  }
 ],
 "metadata": {
  "kernelspec": {
   "display_name": "Python 3.10.7 64-bit",
   "language": "python",
   "name": "python3"
  },
  "language_info": {
   "codemirror_mode": {
    "name": "ipython",
    "version": 3
   },
   "file_extension": ".py",
   "mimetype": "text/x-python",
   "name": "python",
   "nbconvert_exporter": "python",
   "pygments_lexer": "ipython3",
   "version": "3.10.7"
  },
  "orig_nbformat": 4,
  "vscode": {
   "interpreter": {
    "hash": "e7370f93d1d0cde622a1f8e1c04877d8463912d04d973331ad4851f04de6915a"
   }
  }
 },
 "nbformat": 4,
 "nbformat_minor": 2
}
