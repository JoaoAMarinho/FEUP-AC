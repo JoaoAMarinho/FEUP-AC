{
 "cells": [
  {
   "cell_type": "markdown",
   "metadata": {},
   "source": [
    "# Data Mining Project"
   ]
  },
  {
   "cell_type": "code",
   "execution_count": 74,
   "metadata": {},
   "outputs": [
    {
     "name": "stderr",
     "output_type": "stream",
     "text": [
      "/var/folders/04/05jdn06x4bd37twbh8c046nr0000gn/T/ipykernel_14563/1307852591.py:10: DtypeWarning: Columns (8) have mixed types. Specify dtype option on import or set low_memory=False.\n",
      "  trans_dev = read_csv('../data/trans_dev.csv',delimiter=';')\n"
     ]
    }
   ],
   "source": [
    "import pandas as pd\n",
    "import matplotlib.pyplot as plt\n",
    "\n",
    "account = read_csv('../data/account.csv',delimiter=';')\n",
    "card_dev = read_csv('../data/card_dev.csv',delimiter=';')\n",
    "client = read_csv('../data/client.csv',delimiter=';')\n",
    "disp = read_csv('../data/disp.csv',delimiter=';')\n",
    "district = read_csv('../data/district.csv',delimiter=';')\n",
    "loan_dev = read_csv('../data/loan_dev.csv',delimiter=';')\n",
    "trans_dev = read_csv('../data/trans_dev.csv',delimiter=';')"
   ]
  },
  {
   "cell_type": "code",
   "execution_count": 77,
   "metadata": {},
   "outputs": [
    {
     "data": {
      "text/html": [
       "<div>\n",
       "<style scoped>\n",
       "    .dataframe tbody tr th:only-of-type {\n",
       "        vertical-align: middle;\n",
       "    }\n",
       "\n",
       "    .dataframe tbody tr th {\n",
       "        vertical-align: top;\n",
       "    }\n",
       "\n",
       "    .dataframe thead th {\n",
       "        text-align: right;\n",
       "    }\n",
       "</style>\n",
       "<table border=\"1\" class=\"dataframe\">\n",
       "  <thead>\n",
       "    <tr style=\"text-align: right;\">\n",
       "      <th></th>\n",
       "      <th>client_id</th>\n",
       "      <th>birth_number</th>\n",
       "      <th>district_id_client</th>\n",
       "      <th>disp_id</th>\n",
       "      <th>account_id</th>\n",
       "      <th>type</th>\n",
       "      <th>district_id_disp_account_loan</th>\n",
       "      <th>frequency</th>\n",
       "      <th>date_account</th>\n",
       "      <th>loan_id</th>\n",
       "      <th>date_loan</th>\n",
       "      <th>amount</th>\n",
       "      <th>duration</th>\n",
       "      <th>payments</th>\n",
       "      <th>status</th>\n",
       "      <th>sex</th>\n",
       "      <th>age_at_loan</th>\n",
       "    </tr>\n",
       "  </thead>\n",
       "  <tbody>\n",
       "    <tr>\n",
       "      <th>0</th>\n",
       "      <td>2</td>\n",
       "      <td>450204</td>\n",
       "      <td>1</td>\n",
       "      <td>2</td>\n",
       "      <td>2</td>\n",
       "      <td>OWNER</td>\n",
       "      <td>1</td>\n",
       "      <td>monthly issuance</td>\n",
       "      <td>930226</td>\n",
       "      <td>4959</td>\n",
       "      <td>940105</td>\n",
       "      <td>80952</td>\n",
       "      <td>24</td>\n",
       "      <td>3373</td>\n",
       "      <td>1</td>\n",
       "      <td>male</td>\n",
       "      <td>48</td>\n",
       "    </tr>\n",
       "    <tr>\n",
       "      <th>1</th>\n",
       "      <td>3</td>\n",
       "      <td>406009</td>\n",
       "      <td>1</td>\n",
       "      <td>3</td>\n",
       "      <td>2</td>\n",
       "      <td>DISPONENT</td>\n",
       "      <td>1</td>\n",
       "      <td>monthly issuance</td>\n",
       "      <td>930226</td>\n",
       "      <td>4959</td>\n",
       "      <td>940105</td>\n",
       "      <td>80952</td>\n",
       "      <td>24</td>\n",
       "      <td>3373</td>\n",
       "      <td>1</td>\n",
       "      <td>female</td>\n",
       "      <td>53</td>\n",
       "    </tr>\n",
       "    <tr>\n",
       "      <th>2</th>\n",
       "      <td>25</td>\n",
       "      <td>395423</td>\n",
       "      <td>21</td>\n",
       "      <td>25</td>\n",
       "      <td>19</td>\n",
       "      <td>OWNER</td>\n",
       "      <td>21</td>\n",
       "      <td>monthly issuance</td>\n",
       "      <td>950407</td>\n",
       "      <td>4961</td>\n",
       "      <td>960429</td>\n",
       "      <td>30276</td>\n",
       "      <td>12</td>\n",
       "      <td>2523</td>\n",
       "      <td>-1</td>\n",
       "      <td>female</td>\n",
       "      <td>57</td>\n",
       "    </tr>\n",
       "    <tr>\n",
       "      <th>3</th>\n",
       "      <td>78</td>\n",
       "      <td>445613</td>\n",
       "      <td>16</td>\n",
       "      <td>78</td>\n",
       "      <td>67</td>\n",
       "      <td>OWNER</td>\n",
       "      <td>16</td>\n",
       "      <td>monthly issuance</td>\n",
       "      <td>941019</td>\n",
       "      <td>4973</td>\n",
       "      <td>960502</td>\n",
       "      <td>165960</td>\n",
       "      <td>24</td>\n",
       "      <td>6915</td>\n",
       "      <td>1</td>\n",
       "      <td>female</td>\n",
       "      <td>51</td>\n",
       "    </tr>\n",
       "    <tr>\n",
       "      <th>4</th>\n",
       "      <td>158</td>\n",
       "      <td>455703</td>\n",
       "      <td>40</td>\n",
       "      <td>158</td>\n",
       "      <td>132</td>\n",
       "      <td>OWNER</td>\n",
       "      <td>40</td>\n",
       "      <td>issuance after transaction</td>\n",
       "      <td>960511</td>\n",
       "      <td>4996</td>\n",
       "      <td>961106</td>\n",
       "      <td>88440</td>\n",
       "      <td>12</td>\n",
       "      <td>7370</td>\n",
       "      <td>1</td>\n",
       "      <td>female</td>\n",
       "      <td>51</td>\n",
       "    </tr>\n",
       "    <tr>\n",
       "      <th>...</th>\n",
       "      <td>...</td>\n",
       "      <td>...</td>\n",
       "      <td>...</td>\n",
       "      <td>...</td>\n",
       "      <td>...</td>\n",
       "      <td>...</td>\n",
       "      <td>...</td>\n",
       "      <td>...</td>\n",
       "      <td>...</td>\n",
       "      <td>...</td>\n",
       "      <td>...</td>\n",
       "      <td>...</td>\n",
       "      <td>...</td>\n",
       "      <td>...</td>\n",
       "      <td>...</td>\n",
       "      <td>...</td>\n",
       "      <td>...</td>\n",
       "    </tr>\n",
       "    <tr>\n",
       "      <th>398</th>\n",
       "      <td>13845</td>\n",
       "      <td>730216</td>\n",
       "      <td>15</td>\n",
       "      <td>13537</td>\n",
       "      <td>11265</td>\n",
       "      <td>OWNER</td>\n",
       "      <td>15</td>\n",
       "      <td>monthly issuance</td>\n",
       "      <td>930114</td>\n",
       "      <td>7284</td>\n",
       "      <td>930915</td>\n",
       "      <td>52788</td>\n",
       "      <td>12</td>\n",
       "      <td>4399</td>\n",
       "      <td>1</td>\n",
       "      <td>male</td>\n",
       "      <td>20</td>\n",
       "    </tr>\n",
       "    <tr>\n",
       "      <th>399</th>\n",
       "      <td>13955</td>\n",
       "      <td>456030</td>\n",
       "      <td>1</td>\n",
       "      <td>13647</td>\n",
       "      <td>11349</td>\n",
       "      <td>OWNER</td>\n",
       "      <td>1</td>\n",
       "      <td>weekly issuance</td>\n",
       "      <td>950526</td>\n",
       "      <td>7304</td>\n",
       "      <td>951029</td>\n",
       "      <td>419880</td>\n",
       "      <td>60</td>\n",
       "      <td>6998</td>\n",
       "      <td>1</td>\n",
       "      <td>female</td>\n",
       "      <td>49</td>\n",
       "    </tr>\n",
       "    <tr>\n",
       "      <th>400</th>\n",
       "      <td>13956</td>\n",
       "      <td>430406</td>\n",
       "      <td>1</td>\n",
       "      <td>13648</td>\n",
       "      <td>11349</td>\n",
       "      <td>DISPONENT</td>\n",
       "      <td>1</td>\n",
       "      <td>weekly issuance</td>\n",
       "      <td>950526</td>\n",
       "      <td>7304</td>\n",
       "      <td>951029</td>\n",
       "      <td>419880</td>\n",
       "      <td>60</td>\n",
       "      <td>6998</td>\n",
       "      <td>1</td>\n",
       "      <td>male</td>\n",
       "      <td>52</td>\n",
       "    </tr>\n",
       "    <tr>\n",
       "      <th>401</th>\n",
       "      <td>13968</td>\n",
       "      <td>680413</td>\n",
       "      <td>61</td>\n",
       "      <td>13660</td>\n",
       "      <td>11359</td>\n",
       "      <td>OWNER</td>\n",
       "      <td>61</td>\n",
       "      <td>monthly issuance</td>\n",
       "      <td>941001</td>\n",
       "      <td>7305</td>\n",
       "      <td>960806</td>\n",
       "      <td>54024</td>\n",
       "      <td>12</td>\n",
       "      <td>4502</td>\n",
       "      <td>1</td>\n",
       "      <td>male</td>\n",
       "      <td>28</td>\n",
       "    </tr>\n",
       "    <tr>\n",
       "      <th>402</th>\n",
       "      <td>13971</td>\n",
       "      <td>626019</td>\n",
       "      <td>67</td>\n",
       "      <td>13663</td>\n",
       "      <td>11362</td>\n",
       "      <td>OWNER</td>\n",
       "      <td>67</td>\n",
       "      <td>monthly issuance</td>\n",
       "      <td>951014</td>\n",
       "      <td>7308</td>\n",
       "      <td>961227</td>\n",
       "      <td>129408</td>\n",
       "      <td>24</td>\n",
       "      <td>5392</td>\n",
       "      <td>1</td>\n",
       "      <td>female</td>\n",
       "      <td>34</td>\n",
       "    </tr>\n",
       "  </tbody>\n",
       "</table>\n",
       "<p>403 rows × 17 columns</p>\n",
       "</div>"
      ],
      "text/plain": [
       "     client_id  birth_number  district_id_client  disp_id  account_id  \\\n",
       "0            2        450204                   1        2           2   \n",
       "1            3        406009                   1        3           2   \n",
       "2           25        395423                  21       25          19   \n",
       "3           78        445613                  16       78          67   \n",
       "4          158        455703                  40      158         132   \n",
       "..         ...           ...                 ...      ...         ...   \n",
       "398      13845        730216                  15    13537       11265   \n",
       "399      13955        456030                   1    13647       11349   \n",
       "400      13956        430406                   1    13648       11349   \n",
       "401      13968        680413                  61    13660       11359   \n",
       "402      13971        626019                  67    13663       11362   \n",
       "\n",
       "          type  district_id_disp_account_loan                   frequency  \\\n",
       "0        OWNER                              1            monthly issuance   \n",
       "1    DISPONENT                              1            monthly issuance   \n",
       "2        OWNER                             21            monthly issuance   \n",
       "3        OWNER                             16            monthly issuance   \n",
       "4        OWNER                             40  issuance after transaction   \n",
       "..         ...                            ...                         ...   \n",
       "398      OWNER                             15            monthly issuance   \n",
       "399      OWNER                              1             weekly issuance   \n",
       "400  DISPONENT                              1             weekly issuance   \n",
       "401      OWNER                             61            monthly issuance   \n",
       "402      OWNER                             67            monthly issuance   \n",
       "\n",
       "     date_account  loan_id  date_loan  amount  duration  payments  status  \\\n",
       "0          930226     4959     940105   80952        24      3373       1   \n",
       "1          930226     4959     940105   80952        24      3373       1   \n",
       "2          950407     4961     960429   30276        12      2523      -1   \n",
       "3          941019     4973     960502  165960        24      6915       1   \n",
       "4          960511     4996     961106   88440        12      7370       1   \n",
       "..            ...      ...        ...     ...       ...       ...     ...   \n",
       "398        930114     7284     930915   52788        12      4399       1   \n",
       "399        950526     7304     951029  419880        60      6998       1   \n",
       "400        950526     7304     951029  419880        60      6998       1   \n",
       "401        941001     7305     960806   54024        12      4502       1   \n",
       "402        951014     7308     961227  129408        24      5392       1   \n",
       "\n",
       "        sex  age_at_loan  \n",
       "0      male           48  \n",
       "1    female           53  \n",
       "2    female           57  \n",
       "3    female           51  \n",
       "4    female           51  \n",
       "..      ...          ...  \n",
       "398    male           20  \n",
       "399  female           49  \n",
       "400    male           52  \n",
       "401    male           28  \n",
       "402  female           34  \n",
       "\n",
       "[403 rows x 17 columns]"
      ]
     },
     "execution_count": 77,
     "metadata": {},
     "output_type": "execute_result"
    }
   ],
   "source": [
    "from datetime import datetime\n",
    "\n",
    "account_loan = account.merge(loan_dev, on='account_id', suffixes=('_account','_loan'))\n",
    "disp_account_loan = disp.merge(account_loan, on='account_id', suffixes=('_disp','_account_loan'))\n",
    "client_disp_account_loan = client.merge(disp_account_loan, on='client_id',suffixes=('_client','_disp_account_loan'))\n",
    "\n",
    "def parse_date(d):\n",
    "    year = int(str(d)[0:2])\n",
    "    month = int(str(d)[2:4])\n",
    "    day = int(str(d)[4:6])\n",
    "    return {'year':year, 'month':month, 'day':day}\n",
    "\n",
    "def calculate_age(client):\n",
    "  birth_date = parse_date(client['birth_number'])\n",
    "  date_at_loan = parse_date(client['date_loan'])\n",
    "  \n",
    "  female = birth_date['month'] >= 50\n",
    "  \n",
    "  if female:\n",
    "    client['sex'] = 'female' # or 1 ?\n",
    "    birth_date['month'] -= 50\n",
    "  else:\n",
    "    client['sex'] = 'male' # or 0 ?\n",
    "  \n",
    "  client['age_at_loan'] = date_at_loan['year'] - birth_date['year'] - ((date_at_loan['month'], date_at_loan['day']) < (birth_date['month'], birth_date['day']))\n",
    "    \n",
    "  return client\n",
    "\n",
    "client_disp_account_loan = client_disp_account_loan.apply(lambda c: calculate_age(c), axis=1)\n",
    "client_disp_account_loan"
   ]
  },
  {
   "cell_type": "markdown",
   "metadata": {},
   "source": [
    "## Business Understanding"
   ]
  },
  {
   "cell_type": "markdown",
   "metadata": {},
   "source": [
    "The bank wants to improve their services. For instance, the bank managers have only vague idea, who is a good client (whom to offer some additional services) and who is a bad client (whom to watch carefully to minimize the bank loses). Fortunately, the bank stores data about their clients, the accounts (transactions within several months), the loans already granted, the credit cards issued. The bank managers hope to improve their understanding of customers and seek specific actions to improve services. A mere application of a discovery tool will not be convincing for them.  \n",
    "\n",
    "To test a data mining approach to help the bank managers, it was decided to address two problems, a descriptive and a predictive one. While the descriptive problem was left open, the predictive problem is the prediction of whether a loan will end successfuly."
   ]
  },
  {
   "cell_type": "markdown",
   "metadata": {},
   "source": [
    "## Data Understanding"
   ]
  },
  {
   "cell_type": "code",
   "execution_count": 23,
   "metadata": {},
   "outputs": [
    {
     "data": {
      "text/plain": [
       "<AxesSubplot:>"
      ]
     },
     "execution_count": 23,
     "metadata": {},
     "output_type": "execute_result"
    },
    {
     "data": {
      "image/png": "[encoded data removed]",
      "text/plain": [
       "<Figure size 432x288 with 1 Axes>"
      ]
     },
     "metadata": {
      "needs_background": "light"
     },
     "output_type": "display_data"
    }
   ],
   "source": [
    "loan_dev['status'].value_counts().plot.bar()\n"
   ]
  },
  {
   "cell_type": "markdown",
   "metadata": {},
   "source": [
    "- idade vs status\n",
    "- número de disponentes vs status \n",
    "    - quantas pessoas podem depositar naquela conta / contas quantas aquela pessoa tem ??\n",
    "- amount da loan vs status \n",
    "    - isto tipo não sei se faz super sentido era mais para perceber se o risco aumenta quanto maior for a loan ou se não podems concluir isso\n",
    "- crime rate vs status\n",
    "- taxa de desemprego vs status\n",
    "- salário médio da região\n",
    "- ... outros dados demográficos vs status ??\n",
    "- diferença salário médio e dinheiro da loan pago a cada mês vs status\n",
    "    - se o que a pessoa paga em cada mês é quase a totalidade do seu salário, é mais provável que não possa pagar a dada altura\n",
    "- duration vs status\n",
    "- género vs status\n",
    "- frequência com que é utilizada a conta vs status\n",
    "    - ver pelo número de transactions, no fundo é se é cliente ativo ou não\n",
    "- percentagem de depósitos/débitos vs status \n",
    "    - my thought process foi que se eu só uso a conta para debitar dinheiro secalhar tou a gastar mais do que o ganho kk\n",
    "- quantas loans tem 'ativas' \n",
    "    - ver interseção data de aceitação + duração\n",
    "- ...\n"
   ]
  },
  {
   "cell_type": "code",
   "execution_count": 24,
   "metadata": {},
   "outputs": [
    {
     "data": {
      "text/plain": [
       "<AxesSubplot:title={'center':'duration'}, xlabel='status'>"
      ]
     },
     "execution_count": 24,
     "metadata": {},
     "output_type": "execute_result"
    },
    {
     "data": {
      "image/png": "[encoded data removed]",
      "text/plain": [
       "<Figure size 576x576 with 1 Axes>"
      ]
     },
     "metadata": {
      "needs_background": "light"
     },
     "output_type": "display_data"
    },
    {
     "data": {
      "image/png": "[encoded data removed]",
      "text/plain": [
       "<Figure size 576x576 with 1 Axes>"
      ]
     },
     "metadata": {
      "needs_background": "light"
     },
     "output_type": "display_data"
    },
    {
     "data": {
      "image/png": "[encoded data removed]",
      "text/plain": [
       "<Figure size 576x576 with 1 Axes>"
      ]
     },
     "metadata": {
      "needs_background": "light"
     },
     "output_type": "display_data"
    }
   ],
   "source": [
    "loan_dev.boxplot(column='amount', by='status', figsize=(8,8))\n",
    "loan_dev.boxplot(column='payments', by='status', figsize=(8,8))\n",
    "loan_dev.boxplot(column='duration', by='status', figsize=(8,8))\n"
   ]
  },
  {
   "cell_type": "markdown",
   "metadata": {},
   "source": []
  },
  {
   "cell_type": "markdown",
   "metadata": {},
   "source": [
    "Since the boxes are not totally aligned, there might be a relation between the loan amount and the successfulness of a loan. The higher the amount, the most likely it is to fail. The differences in the graphics aren't, however, significant and our conclusions are enforced by logic."
   ]
  },
  {
   "cell_type": "markdown",
   "metadata": {},
   "source": [
    "# Idade vs acount"
   ]
  },
  {
   "cell_type": "code",
   "execution_count": 69,
   "metadata": {},
   "outputs": [
    {
     "data": {
      "text/plain": [
       "<AxesSubplot:title={'center':'age_at_loan'}, xlabel='status'>"
      ]
     },
     "execution_count": 69,
     "metadata": {},
     "output_type": "execute_result"
    },
    {
     "data": {
      "image/png": "[encoded data removed]",
      "text/plain": [
       "<Figure size 576x576 with 1 Axes>"
      ]
     },
     "metadata": {
      "needs_background": "light"
     },
     "output_type": "display_data"
    }
   ],
   "source": [
    "client.boxplot(column='age_at_loan', by='status', figsize=(8,8))\n"
   ]
  },
  {
   "cell_type": "code",
   "execution_count": null,
   "metadata": {},
   "outputs": [],
   "source": []
  },
  {
   "cell_type": "markdown",
   "metadata": {},
   "source": [
    "## Data Preparation"
   ]
  },
  {
   "cell_type": "code",
   "execution_count": null,
   "metadata": {},
   "outputs": [],
   "source": []
  },
  {
   "cell_type": "code",
   "execution_count": null,
   "metadata": {},
   "outputs": [],
   "source": []
  },
  {
   "cell_type": "markdown",
   "metadata": {},
   "source": [
    "## Model"
   ]
  },
  {
   "cell_type": "code",
   "execution_count": null,
   "metadata": {},
   "outputs": [],
   "source": []
  },
  {
   "cell_type": "code",
   "execution_count": null,
   "metadata": {},
   "outputs": [],
   "source": []
  }
 ],
 "metadata": {
  "kernelspec": {
   "display_name": "Python 3.10.4 64-bit",
   "language": "python",
   "name": "python3"
  },
  "language_info": {
   "codemirror_mode": {
    "name": "ipython",
    "version": 3
   },
   "file_extension": ".py",
   "mimetype": "text/x-python",
   "name": "python",
   "nbconvert_exporter": "python",
   "pygments_lexer": "ipython3",
   "version": "3.10.4"
  },
  "orig_nbformat": 4,
  "vscode": {
   "interpreter": {
    "hash": "aee8b7b246df8f9039afb4144a1f6fd8d2ca17a180786b69acc140d282b71a49"
   }
  }
 },
 "nbformat": 4,
 "nbformat_minor": 2
}
