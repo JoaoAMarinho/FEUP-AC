{
 "cells": [
  {
   "cell_type": "markdown",
   "metadata": {},
   "source": [
    "# Data Mining Project"
   ]
  },
  {
   "cell_type": "markdown",
   "metadata": {},
   "source": [
    "## Imports and Datasets"
   ]
  },
  {
   "cell_type": "code",
   "execution_count": null,
   "metadata": {},
   "outputs": [],
   "source": [
    "import pandas as pd\n",
    "import matplotlib.pyplot as plt\n",
    "from datetime import datetime\n",
    "import numpy as np\n",
    "import seaborn as sns\n",
    "import math"
   ]
  },
  {
   "cell_type": "code",
   "execution_count": null,
   "metadata": {},
   "outputs": [],
   "source": [
    "account = pd.read_csv('../data/account.csv',delimiter=';')\n",
    "card_dev = pd.read_csv('../data/card_dev.csv',delimiter=';')\n",
    "client = pd.read_csv('../data/client.csv',delimiter=';')\n",
    "disp = pd.read_csv('../data/disp.csv',delimiter=';')\n",
    "district = pd.read_csv('../data/district.csv',delimiter=';')\n",
    "loan_dev = pd.read_csv('../data/loan_dev.csv',delimiter=';')\n",
    "trans_dev = pd.read_csv('../data/trans_dev.csv',delimiter=';', dtype={'bank': str})"
   ]
  },
  {
   "cell_type": "markdown",
   "metadata": {},
   "source": [
    "## Data Understanding"
   ]
  },
  {
   "cell_type": "markdown",
   "metadata": {},
   "source": [
    "### Build Dataset"
   ]
  },
  {
   "cell_type": "code",
   "execution_count": null,
   "metadata": {},
   "outputs": [],
   "source": [
    "def parse_date(date):\n",
    "  year = int(str(date)[0:2])\n",
    "  month = int(str(date)[2:4])\n",
    "  day = int(str(date)[4:6])\n",
    "  return { 'year': year, 'month': month, 'day': day }\n",
    "\n",
    "\n",
    "def parse_gender(row, birth_date):\n",
    "  female = birth_date['month'] >= 50\n",
    "\n",
    "  if female:\n",
    "    row['gender'] = 'female' \n",
    "    birth_date['month'] -= 50\n",
    "  else:\n",
    "    row['gender'] = 'male' \n",
    "\n",
    "\n",
    "def calculate_age_loan(row):\n",
    "  date_loan = row['date_loan']\n",
    "  birth_number = row['birth_number']\n",
    "\n",
    "  birth_date = parse_date(birth_number)\n",
    "\n",
    "  parse_gender(row, birth_date)\n",
    "  \n",
    "  if (date_loan is None):\n",
    "    date_loan = parse_date(row['date_loan'])\n",
    "    date_loan = date_loan['year'] - birth_date['year'] - ((date_loan['month'], date_loan['day']) < (birth_date['month'], birth_date['day']))\n",
    "  \n",
    "  row['age_loan'] = date_loan\n",
    "    \n",
    "  return row"
   ]
  },
  {
   "cell_type": "markdown",
   "metadata": {},
   "source": [
    "The mean for the unemployment rate and the total number of offenses committed are calculated in the following two cells of code.\n",
    "\n",
    "Any missing value is set to the value of the column whose value is present, e.g. if the value for the \"unemploymant rate '95\" is not present in a certain row, it is set to the \"unemploymant rate '96\" value.\n",
    "\n",
    "The reasoning behind this strategy was that, when taken into account over the course of just one year, neither the unemployment rate nor the number of crimes would be significant. "
   ]
  },
  {
   "cell_type": "code",
   "execution_count": null,
   "metadata": {},
   "outputs": [],
   "source": [
    "def nan_unemploymant_rate(year): return district[\"unemploymant rate '\" + str(year) + \" \"].isna()\n",
    "\n",
    "# convert '?' to NaN\n",
    "\n",
    "district['unemploymant rate \\'95 '] = pd.to_numeric(district['unemploymant rate \\'95 '], errors='coerce')\n",
    "district['unemploymant rate \\'96 '] = pd.to_numeric(district['unemploymant rate \\'96 '], errors='coerce')\n",
    "\n",
    "# NaN values will be equaled to the value of the other column\n",
    "\n",
    "district.loc[nan_unemploymant_rate(95), 'unemploymant rate \\'95 '] = district['unemploymant rate \\'96 ']\n",
    "district.loc[nan_unemploymant_rate(96), 'unemploymant rate \\'96 '] = district['unemploymant rate \\'95 ']\n",
    "\n",
    "# create column with mean from both years and drop previous and now useless columns\n",
    "\n",
    "district['unemploymant_rate'] = district[['unemploymant rate \\'95 ', 'unemploymant rate \\'96 ']].mean(axis=1)\n",
    "district = district.drop(['unemploymant rate \\'95 ', 'unemploymant rate \\'96 '], axis= 1).reset_index()"
   ]
  },
  {
   "cell_type": "code",
   "execution_count": null,
   "metadata": {},
   "outputs": [],
   "source": [
    "def nan_commited_crimes(year): return district[\"no. of commited crimes '\" + str(year) + \" \"].isna()\n",
    "\n",
    "# convert '?' to NaN\n",
    "\n",
    "district['no. of commited crimes \\'95 '] = pd.to_numeric(district['no. of commited crimes \\'95 '], errors='coerce')\n",
    "district['no. of commited crimes \\'96 '] = pd.to_numeric(district['no. of commited crimes \\'96 '], errors='coerce')\n",
    "\n",
    "# NaN values will be equaled to the value of the other column\n",
    "\n",
    "district.loc[nan_commited_crimes(95), 'no. of commited crimes \\'95 '] = district['no. of commited crimes \\'96 ']\n",
    "district.loc[nan_commited_crimes(96), 'no. of commited crimes \\'96 '] = district['no. of commited crimes \\'95 ']\n",
    "\n",
    "# create column with mean from both years and drop previous and now useless columns\n",
    "\n",
    "district['commited_crimes'] = district[['no. of commited crimes \\'95 ', 'no. of commited crimes \\'96 ']].mean(axis=1)\n",
    "district = district.drop(['no. of commited crimes \\'95 ', 'no. of commited crimes \\'96 '], axis= 1).reset_index() "
   ]
  },
  {
   "cell_type": "code",
   "execution_count": null,
   "metadata": {},
   "outputs": [],
   "source": [
    "# join account, loan, disposition and client\n",
    "df = account.merge(loan_dev, on='account_id', suffixes=('','_loan'), how='right')\n",
    "df = df.merge(disp, on='account_id', suffixes=('','_disp'), how='left')\n",
    "df = df.merge(client, on='client_id',suffixes=('','_client'), how='left')\n",
    "\n",
    "df.drop(columns='district_id', axis=1, inplace=True)\n",
    "\n",
    "# create age_at_loan and gender column\n",
    "df = df.apply(lambda row: calculate_age_loan(row), axis=1)\n",
    "\n",
    "# join demograph\n",
    "district.rename(columns={'code ':'code'}, inplace=True)\n",
    "df = df.merge(district, left_on='district_id_client', right_on='code', how='left')\n",
    "\n",
    "# join creditcard\n",
    "df = df.merge(card_dev, on='disp_id', suffixes=('', '_card'), how='left')\n",
    "\n",
    "# join transactions\n",
    "df_transactions = account.merge(loan_dev, on='account_id', suffixes=('','_loan'), how='right').merge(trans_dev, on='account_id', suffixes=('', '_transaction'), how='left')\n",
    "df"
   ]
  },
  {
   "cell_type": "markdown",
   "metadata": {},
   "source": [
    "### Exploratory Analysis"
   ]
  },
  {
   "cell_type": "markdown",
   "metadata": {},
   "source": [
    "- analise de dados sem graficos\n",
    "- graficos de dispersao\n",
    "- bitmaps, coordenadas paralelas\n",
    "- ver varios atributos ao mm tempo\n",
    "- matrizes de correlaçao\n",
    "- graficos de dispersao"
   ]
  },
  {
   "cell_type": "code",
   "execution_count": null,
   "metadata": {},
   "outputs": [],
   "source": [
    "df.info()"
   ]
  },
  {
   "cell_type": "code",
   "execution_count": null,
   "metadata": {},
   "outputs": [],
   "source": [
    "df_transactions.info()"
   ]
  },
  {
   "cell_type": "code",
   "execution_count": null,
   "metadata": {},
   "outputs": [],
   "source": [
    "# correlation analysis\n",
    "\n",
    "corr = df.corr()\n",
    "mask = np.triu(corr)\n",
    "\n",
    "fig = plt.figure(figsize=(25,15))\n",
    "\n",
    "colormap = sns.diverging_palette(250, 20, as_cmap=True)\n",
    "sns.heatmap(\n",
    "    corr, \n",
    "    annot=True, \n",
    "    fmt='.2f',\n",
    "    cbar_kws={'shrink': .5},\n",
    "    mask=mask,\n",
    "    cmap=colormap).set(title='Correlation Matrix')\n",
    "\n",
    "plt.show()"
   ]
  },
  {
   "cell_type": "code",
   "execution_count": null,
   "metadata": {},
   "outputs": [],
   "source": [
    "loan_dev['status'].value_counts().plot.bar()\n",
    "plt.xlabel('Status')\n",
    "plt.ylabel('Count')\n",
    "plt.title('Status count for bank loans')"
   ]
  },
  {
   "cell_type": "code",
   "execution_count": null,
   "metadata": {},
   "outputs": [],
   "source": [
    "disp_count = df.groupby(['account_id'])['disp_id'].nunique() # number of disponents of each account\n",
    "\n",
    "df = df.merge(disp_count, on='account_id', suffixes=('', '_count'), how='left')"
   ]
  },
  {
   "cell_type": "code",
   "execution_count": null,
   "metadata": {},
   "outputs": [],
   "source": [
    "no_dups_df = df.drop_duplicates(subset=['account_id']) #remove duplicates\n",
    "no_dups_df.groupby('disp_id_count')['status'].value_counts().unstack(1).plot.bar()\n",
    "\n",
    "plt.xlabel('Disponents')\n",
    "plt.ylabel('Count by number of disponents')\n",
    "plt.legend(['Status = -1', 'Status = 1'])\n",
    "plt.title('Status count by number of account disponents')"
   ]
  },
  {
   "cell_type": "code",
   "execution_count": null,
   "metadata": {},
   "outputs": [],
   "source": [
    "sns.histplot(data=df[df['status'] == 1], x='commited_crimes', color=\"skyblue\", kde=True)\n",
    "sns.histplot(data=df[df['status'] == -1], x='commited_crimes', color=\"red\", kde=True)\n",
    "\n",
    "plt.xlabel('Commited crimes')\n",
    "plt.legend(['Status 1', 'Status -1'])\n",
    "plt.title('Distribution of commited crimes per status')\n",
    "plt.show()"
   ]
  },
  {
   "cell_type": "code",
   "execution_count": null,
   "metadata": {},
   "outputs": [],
   "source": [
    "sns.histplot(data=df[df['status'] == 1], x='unemploymant_rate', color=\"skyblue\", kde=True)\n",
    "sns.histplot(data=df[df['status'] == -1], x='unemploymant_rate', color=\"red\", kde=True)\n",
    "\n",
    "plt.xlabel('Unemploymant Rate')\n",
    "plt.legend(['Status 1', 'Status -1'])\n",
    "plt.title('Distribution of unemploymant rate per status')\n",
    "plt.show()"
   ]
  },
  {
   "cell_type": "code",
   "execution_count": null,
   "metadata": {},
   "outputs": [],
   "source": [
    "df['diff_salary_loan'] = df['average salary '] - df['payments']"
   ]
  },
  {
   "cell_type": "code",
   "execution_count": null,
   "metadata": {},
   "outputs": [],
   "source": [
    "sns.histplot(data=df[df['status'] == 1], x='diff_salary_loan', color=\"skyblue\", kde=True)\n",
    "sns.histplot(data=df[df['status'] == -1], x='diff_salary_loan', color=\"red\", kde=True)\n",
    "\n",
    "plt.xlabel('Salary difference according to loan payment')\n",
    "plt.legend(['Status 1', 'Status -1'])\n",
    "plt.title('Distribution of salary loan difference per status')\n",
    "plt.show()"
   ]
  },
  {
   "cell_type": "code",
   "execution_count": null,
   "metadata": {},
   "outputs": [],
   "source": [
    "df.groupby('gender')['status'].value_counts().unstack(1).plot.bar()\n",
    "\n",
    "plt.xlabel('Gender')\n",
    "plt.ylabel('Count')\n",
    "plt.legend(['Status = -1', 'Status = 1'])\n",
    "plt.title('Status count by gender')"
   ]
  },
  {
   "cell_type": "code",
   "execution_count": null,
   "metadata": {},
   "outputs": [],
   "source": [
    "transaction_count = df_transactions.groupby(['account_id'])['trans_id'].nunique()\n",
    "\n",
    "df_transactions = df_transactions.merge(transaction_count, on='account_id', suffixes=['_', '_count'], how='left')"
   ]
  },
  {
   "cell_type": "code",
   "execution_count": null,
   "metadata": {},
   "outputs": [],
   "source": [
    "count_transactions_per_type = df_transactions.groupby(['account_id', 'type']).size().unstack(fill_value=0)\n",
    "count_transactions_per_type['debit'] = count_transactions_per_type['withdrawal'] + count_transactions_per_type['withdrawal in cash']\n",
    "count_transactions_per_type.drop(labels=['withdrawal', 'withdrawal in cash'], axis=1, inplace=True)\n",
    "count_transactions_per_type['credit_debit_ratio'] = count_transactions_per_type['credit'] / count_transactions_per_type['debit']\n",
    "\n",
    "df_transactions = df_transactions.merge(count_transactions_per_type, on='account_id', how='left')\n",
    "df_transactions.replace([np.inf, -np.inf], 0, inplace=True)\n",
    "df_transactions.rename({ \n",
    "    'trans_id_count': 'transactions_count', \n",
    "    'credit': 'credits_count', \n",
    "    'debit': 'debits_count' }, \n",
    "    axis=1, inplace=True)\n"
   ]
  },
  {
   "cell_type": "code",
   "execution_count": null,
   "metadata": {},
   "outputs": [],
   "source": [
    "df_transactions"
   ]
  },
  {
   "cell_type": "code",
   "execution_count": null,
   "metadata": {},
   "outputs": [],
   "source": [
    "fig, axs = plt.subplots(nrows=1, ncols=3, figsize=(15,5))\n",
    "\n",
    "loan_dev.boxplot(column='amount', by='status', figsize=(5,5), ax=axs[0])\n",
    "loan_dev.boxplot(column='payments', by='status', figsize=(5,5), ax=axs[1])\n",
    "loan_dev.boxplot(column='duration', by='status', figsize=(5,5), ax=axs[2])"
   ]
  },
  {
   "cell_type": "code",
   "execution_count": null,
   "metadata": {},
   "outputs": [],
   "source": [
    "fig, axs = plt.subplots(nrows=1, ncols=3, figsize=(15,5))\n",
    "\n",
    "df.boxplot(column='age_loan', by='status', figsize=(5,5), ax=axs[0])\n",
    "df.boxplot(column='average salary ', by='status', figsize=(5,5), ax=axs[1])\n",
    "df.boxplot(column='diff_salary_loan', by='status', figsize=(5,5), ax=axs[2])"
   ]
  },
  {
   "cell_type": "code",
   "execution_count": null,
   "metadata": {},
   "outputs": [],
   "source": [
    "fig, axs = plt.subplots(nrows=1, ncols=2, figsize=(10,5))\n",
    "\n",
    "df_transactions.boxplot(column='transactions_count', by='status', figsize=(5,5), ax=axs[0])\n",
    "df_transactions.boxplot(column='credit_debit_ratio', by='status', figsize=(5,5), ax=axs[1])"
   ]
  },
  {
   "cell_type": "code",
   "execution_count": null,
   "metadata": {},
   "outputs": [],
   "source": [
    "df.info()"
   ]
  },
  {
   "cell_type": "markdown",
   "metadata": {},
   "source": [
    "## Data Preparation"
   ]
  },
  {
   "cell_type": "markdown",
   "metadata": {},
   "source": [
    "- assessment of dimensions of data quality\n",
    "- (cleaning): redundancy\n",
    "- (cleaning): missing data\n",
    "- (cleaning): outliers\n",
    "- data transformation for compatibility with algorithms\n",
    "- feature engineering from tabular data\n",
    "- sampling for domain-specific purposes\n",
    "- sampling for development\n",
    "- imbalanced data\n",
    "- feature selection"
   ]
  },
  {
   "cell_type": "code",
   "execution_count": null,
   "metadata": {},
   "outputs": [],
   "source": [
    "df"
   ]
  },
  {
   "cell_type": "markdown",
   "metadata": {},
   "source": [
    "##### Redundancy"
   ]
  },
  {
   "cell_type": "code",
   "execution_count": null,
   "metadata": {},
   "outputs": [],
   "source": [
    "# drop duplicates and remove disp_id column (because we already have disp_id_count) \n",
    "\n",
    "df.drop_duplicates(subset='account_id', inplace=True)\n",
    "df.reset_index(inplace=True, drop=True)"
   ]
  },
  {
   "cell_type": "code",
   "execution_count": null,
   "metadata": {},
   "outputs": [],
   "source": [
    "df.columns"
   ]
  },
  {
   "cell_type": "markdown",
   "metadata": {},
   "source": [
    "##### Missing Data"
   ]
  },
  {
   "cell_type": "code",
   "execution_count": null,
   "metadata": {},
   "outputs": [],
   "source": [
    "# deal with null values\n",
    "df.drop(labels=['disp_id', 'card_id', 'type_card', 'issued'], axis=1, inplace=True)"
   ]
  },
  {
   "cell_type": "markdown",
   "metadata": {},
   "source": [
    "##### Outliers"
   ]
  },
  {
   "cell_type": "code",
   "execution_count": null,
   "metadata": {},
   "outputs": [],
   "source": []
  },
  {
   "cell_type": "markdown",
   "metadata": {},
   "source": [
    "##### Other data preparation operations"
   ]
  },
  {
   "cell_type": "code",
   "execution_count": null,
   "metadata": {},
   "outputs": [],
   "source": [
    "# drop unnecessary columns\n",
    "# deal with non numerical values\n",
    "# standardize columns names\n",
    "# ... ?"
   ]
  }
 ],
 "metadata": {
  "kernelspec": {
   "display_name": "Python 3.10.5 64-bit",
   "language": "python",
   "name": "python3"
  },
  "language_info": {
   "codemirror_mode": {
    "name": "ipython",
    "version": 3
   },
   "file_extension": ".py",
   "mimetype": "text/x-python",
   "name": "python",
   "nbconvert_exporter": "python",
   "pygments_lexer": "ipython3",
   "version": "3.10.5"
  },
  "orig_nbformat": 4,
  "vscode": {
   "interpreter": {
    "hash": "4faa59b1914308717cc78f809b0e619aee1c6f74c4ddccad8c7692e74bb65391"
   }
  }
 },
 "nbformat": 4,
 "nbformat_minor": 2
}
