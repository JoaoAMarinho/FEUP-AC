{
 "cells": [
  {
   "cell_type": "markdown",
   "metadata": {},
   "source": [
    "# Data Mining Project"
   ]
  },
  {
   "cell_type": "code",
   "execution_count": 199,
   "metadata": {},
   "outputs": [],
   "source": [
    "import pandas as pd\n",
    "import matplotlib.pyplot as plt\n",
    "from datetime import datetime\n",
    "import numpy as np\n",
    "\n",
    "account = pd.read_csv('../data/account.csv',delimiter=';')\n",
    "card_dev = pd.read_csv('../data/card_dev.csv',delimiter=';')\n",
    "client = pd.read_csv('../data/client.csv',delimiter=';')\n",
    "disp = pd.read_csv('../data/disp.csv',delimiter=';')\n",
    "district = pd.read_csv('../data/district.csv',delimiter=';')\n",
    "loan_dev = pd.read_csv('../data/loan_dev.csv',delimiter=';')\n",
    "trans_dev = pd.read_csv('../data/trans_dev.csv',delimiter=';', dtype={'bank':'str'})"
   ]
  },
  {
   "cell_type": "markdown",
   "metadata": {},
   "source": [
    "## Business Understanding"
   ]
  },
  {
   "cell_type": "markdown",
   "metadata": {},
   "source": [
    "The bank wants to improve their services. For instance, the bank managers have only vague idea, who is a good client (whom to offer some additional services) and who is a bad client (whom to watch carefully to minimize the bank loses). Fortunately, the bank stores data about their clients, the accounts (transactions within several months), the loans already granted, the credit cards issued. The bank managers hope to improve their understanding of customers and seek specific actions to improve services. A mere application of a discovery tool will not be convincing for them.  \n",
    "\n",
    "To test a data mining approach to help the bank managers, it was decided to address two problems, a descriptive and a predictive one. While the descriptive problem was left open, the predictive problem is the prediction of whether a loan will end successfuly."
   ]
  },
  {
   "cell_type": "markdown",
   "metadata": {},
   "source": [
    "## Data Understanding"
   ]
  },
  {
   "cell_type": "markdown",
   "metadata": {},
   "source": [
    "### Build Dataset"
   ]
  },
  {
   "cell_type": "code",
   "execution_count": 200,
   "metadata": {},
   "outputs": [],
   "source": [
    "def parse_date(d):\n",
    "  year = int(str(d)[0:2])\n",
    "  month = int(str(d)[2:4])\n",
    "  day = int(str(d)[4:6])\n",
    "  return { 'year': year, 'month': month, 'day': day }"
   ]
  },
  {
   "cell_type": "code",
   "execution_count": 201,
   "metadata": {},
   "outputs": [],
   "source": [
    "def parse_gender(row, birth_date):\n",
    "  female = birth_date['month'] >= 50\n",
    "\n",
    "  if female:\n",
    "    row['gender'] = 'female' \n",
    "    birth_date['month'] -= 50\n",
    "  else:\n",
    "    row['gender'] = 'male' "
   ]
  },
  {
   "cell_type": "code",
   "execution_count": 202,
   "metadata": {},
   "outputs": [],
   "source": [
    "def calculate_age_loan(row):\n",
    "  date_loan = row['date_loan']\n",
    "  birth_number = row['birth_number']\n",
    "\n",
    "  birth_date = parse_date(birth_number)\n",
    "\n",
    "  parse_gender(row, birth_date)\n",
    "  \n",
    "  if (date_loan is None):\n",
    "    date_loan = parse_date(row['date_loan'])\n",
    "    date_loan = date_loan['year'] - birth_date['year'] - ((date_loan['month'], date_loan['day']) < (birth_date['month'], birth_date['day']))\n",
    "  \n",
    "  row['age_loan'] = date_loan\n",
    "    \n",
    "  return row"
   ]
  },
  {
   "cell_type": "code",
   "execution_count": 203,
   "metadata": {},
   "outputs": [
    {
     "data": {
      "text/html": [
       "<div>\n",
       "<style scoped>\n",
       "    .dataframe tbody tr th:only-of-type {\n",
       "        vertical-align: middle;\n",
       "    }\n",
       "\n",
       "    .dataframe tbody tr th {\n",
       "        vertical-align: top;\n",
       "    }\n",
       "\n",
       "    .dataframe thead th {\n",
       "        text-align: right;\n",
       "    }\n",
       "</style>\n",
       "<table border=\"1\" class=\"dataframe\">\n",
       "  <thead>\n",
       "    <tr style=\"text-align: right;\">\n",
       "      <th></th>\n",
       "      <th>account_id</th>\n",
       "      <th>frequency</th>\n",
       "      <th>date</th>\n",
       "      <th>loan_id</th>\n",
       "      <th>date_loan</th>\n",
       "      <th>amount</th>\n",
       "      <th>duration</th>\n",
       "      <th>payments</th>\n",
       "      <th>status</th>\n",
       "      <th>disp_id</th>\n",
       "      <th>...</th>\n",
       "      <th>ratio of urban inhabitants</th>\n",
       "      <th>average salary</th>\n",
       "      <th>unemploymant rate '95</th>\n",
       "      <th>unemploymant rate '96</th>\n",
       "      <th>no. of enterpreneurs per 1000 inhabitants</th>\n",
       "      <th>no. of commited crimes '95</th>\n",
       "      <th>no. of commited crimes '96</th>\n",
       "      <th>card_id</th>\n",
       "      <th>type_card</th>\n",
       "      <th>issued</th>\n",
       "    </tr>\n",
       "  </thead>\n",
       "  <tbody>\n",
       "    <tr>\n",
       "      <th>0</th>\n",
       "      <td>1787</td>\n",
       "      <td>weekly issuance</td>\n",
       "      <td>930322</td>\n",
       "      <td>5314</td>\n",
       "      <td>930705</td>\n",
       "      <td>96396</td>\n",
       "      <td>12</td>\n",
       "      <td>8033</td>\n",
       "      <td>-1</td>\n",
       "      <td>2166</td>\n",
       "      <td>...</td>\n",
       "      <td>81.8</td>\n",
       "      <td>9650</td>\n",
       "      <td>3.38</td>\n",
       "      <td>3.67</td>\n",
       "      <td>100</td>\n",
       "      <td>2985</td>\n",
       "      <td>2804</td>\n",
       "      <td>NaN</td>\n",
       "      <td>NaN</td>\n",
       "      <td>NaN</td>\n",
       "    </tr>\n",
       "    <tr>\n",
       "      <th>1</th>\n",
       "      <td>1801</td>\n",
       "      <td>monthly issuance</td>\n",
       "      <td>930213</td>\n",
       "      <td>5316</td>\n",
       "      <td>930711</td>\n",
       "      <td>165960</td>\n",
       "      <td>36</td>\n",
       "      <td>4610</td>\n",
       "      <td>1</td>\n",
       "      <td>2181</td>\n",
       "      <td>...</td>\n",
       "      <td>73.5</td>\n",
       "      <td>8369</td>\n",
       "      <td>1.79</td>\n",
       "      <td>2.31</td>\n",
       "      <td>117</td>\n",
       "      <td>2854</td>\n",
       "      <td>2618</td>\n",
       "      <td>NaN</td>\n",
       "      <td>NaN</td>\n",
       "      <td>NaN</td>\n",
       "    </tr>\n",
       "    <tr>\n",
       "      <th>2</th>\n",
       "      <td>9188</td>\n",
       "      <td>monthly issuance</td>\n",
       "      <td>930208</td>\n",
       "      <td>6863</td>\n",
       "      <td>930728</td>\n",
       "      <td>127080</td>\n",
       "      <td>60</td>\n",
       "      <td>2118</td>\n",
       "      <td>1</td>\n",
       "      <td>11006</td>\n",
       "      <td>...</td>\n",
       "      <td>53.5</td>\n",
       "      <td>8390</td>\n",
       "      <td>2.28</td>\n",
       "      <td>2.89</td>\n",
       "      <td>132</td>\n",
       "      <td>2080</td>\n",
       "      <td>2122</td>\n",
       "      <td>NaN</td>\n",
       "      <td>NaN</td>\n",
       "      <td>NaN</td>\n",
       "    </tr>\n",
       "    <tr>\n",
       "      <th>3</th>\n",
       "      <td>1843</td>\n",
       "      <td>monthly issuance</td>\n",
       "      <td>930130</td>\n",
       "      <td>5325</td>\n",
       "      <td>930803</td>\n",
       "      <td>105804</td>\n",
       "      <td>36</td>\n",
       "      <td>2939</td>\n",
       "      <td>1</td>\n",
       "      <td>2235</td>\n",
       "      <td>...</td>\n",
       "      <td>74.8</td>\n",
       "      <td>10045</td>\n",
       "      <td>1.42</td>\n",
       "      <td>1.71</td>\n",
       "      <td>135</td>\n",
       "      <td>6604</td>\n",
       "      <td>6295</td>\n",
       "      <td>NaN</td>\n",
       "      <td>NaN</td>\n",
       "      <td>NaN</td>\n",
       "    </tr>\n",
       "    <tr>\n",
       "      <th>4</th>\n",
       "      <td>11013</td>\n",
       "      <td>weekly issuance</td>\n",
       "      <td>930214</td>\n",
       "      <td>7240</td>\n",
       "      <td>930906</td>\n",
       "      <td>274740</td>\n",
       "      <td>60</td>\n",
       "      <td>4579</td>\n",
       "      <td>1</td>\n",
       "      <td>13231</td>\n",
       "      <td>...</td>\n",
       "      <td>50.5</td>\n",
       "      <td>8288</td>\n",
       "      <td>3.79</td>\n",
       "      <td>4.52</td>\n",
       "      <td>110</td>\n",
       "      <td>1562</td>\n",
       "      <td>1460</td>\n",
       "      <td>NaN</td>\n",
       "      <td>NaN</td>\n",
       "      <td>NaN</td>\n",
       "    </tr>\n",
       "    <tr>\n",
       "      <th>...</th>\n",
       "      <td>...</td>\n",
       "      <td>...</td>\n",
       "      <td>...</td>\n",
       "      <td>...</td>\n",
       "      <td>...</td>\n",
       "      <td>...</td>\n",
       "      <td>...</td>\n",
       "      <td>...</td>\n",
       "      <td>...</td>\n",
       "      <td>...</td>\n",
       "      <td>...</td>\n",
       "      <td>...</td>\n",
       "      <td>...</td>\n",
       "      <td>...</td>\n",
       "      <td>...</td>\n",
       "      <td>...</td>\n",
       "      <td>...</td>\n",
       "      <td>...</td>\n",
       "      <td>...</td>\n",
       "      <td>...</td>\n",
       "      <td>...</td>\n",
       "    </tr>\n",
       "    <tr>\n",
       "      <th>398</th>\n",
       "      <td>9030</td>\n",
       "      <td>monthly issuance</td>\n",
       "      <td>950121</td>\n",
       "      <td>6818</td>\n",
       "      <td>961212</td>\n",
       "      <td>155616</td>\n",
       "      <td>48</td>\n",
       "      <td>3242</td>\n",
       "      <td>1</td>\n",
       "      <td>10814</td>\n",
       "      <td>...</td>\n",
       "      <td>62.6</td>\n",
       "      <td>8994</td>\n",
       "      <td>3.80</td>\n",
       "      <td>4.79</td>\n",
       "      <td>110</td>\n",
       "      <td>9672</td>\n",
       "      <td>9208</td>\n",
       "      <td>NaN</td>\n",
       "      <td>NaN</td>\n",
       "      <td>NaN</td>\n",
       "    </tr>\n",
       "    <tr>\n",
       "      <th>399</th>\n",
       "      <td>3189</td>\n",
       "      <td>monthly issuance</td>\n",
       "      <td>951129</td>\n",
       "      <td>5625</td>\n",
       "      <td>961215</td>\n",
       "      <td>222180</td>\n",
       "      <td>60</td>\n",
       "      <td>3703</td>\n",
       "      <td>-1</td>\n",
       "      <td>3855</td>\n",
       "      <td>...</td>\n",
       "      <td>55.6</td>\n",
       "      <td>8843</td>\n",
       "      <td>2.82</td>\n",
       "      <td>3.60</td>\n",
       "      <td>113</td>\n",
       "      <td>818</td>\n",
       "      <td>888</td>\n",
       "      <td>NaN</td>\n",
       "      <td>NaN</td>\n",
       "      <td>NaN</td>\n",
       "    </tr>\n",
       "    <tr>\n",
       "      <th>400</th>\n",
       "      <td>8972</td>\n",
       "      <td>monthly issuance</td>\n",
       "      <td>960521</td>\n",
       "      <td>6805</td>\n",
       "      <td>961221</td>\n",
       "      <td>45024</td>\n",
       "      <td>48</td>\n",
       "      <td>938</td>\n",
       "      <td>1</td>\n",
       "      <td>10742</td>\n",
       "      <td>...</td>\n",
       "      <td>89.9</td>\n",
       "      <td>10177</td>\n",
       "      <td>6.63</td>\n",
       "      <td>7.75</td>\n",
       "      <td>81</td>\n",
       "      <td>9878</td>\n",
       "      <td>10108</td>\n",
       "      <td>NaN</td>\n",
       "      <td>NaN</td>\n",
       "      <td>NaN</td>\n",
       "    </tr>\n",
       "    <tr>\n",
       "      <th>401</th>\n",
       "      <td>10963</td>\n",
       "      <td>monthly issuance</td>\n",
       "      <td>950520</td>\n",
       "      <td>7233</td>\n",
       "      <td>961225</td>\n",
       "      <td>115812</td>\n",
       "      <td>36</td>\n",
       "      <td>3217</td>\n",
       "      <td>1</td>\n",
       "      <td>13172</td>\n",
       "      <td>...</td>\n",
       "      <td>56.9</td>\n",
       "      <td>8427</td>\n",
       "      <td>1.12</td>\n",
       "      <td>1.54</td>\n",
       "      <td>107</td>\n",
       "      <td>1874</td>\n",
       "      <td>1913</td>\n",
       "      <td>NaN</td>\n",
       "      <td>NaN</td>\n",
       "      <td>NaN</td>\n",
       "    </tr>\n",
       "    <tr>\n",
       "      <th>402</th>\n",
       "      <td>11362</td>\n",
       "      <td>monthly issuance</td>\n",
       "      <td>951014</td>\n",
       "      <td>7308</td>\n",
       "      <td>961227</td>\n",
       "      <td>129408</td>\n",
       "      <td>24</td>\n",
       "      <td>5392</td>\n",
       "      <td>1</td>\n",
       "      <td>13663</td>\n",
       "      <td>...</td>\n",
       "      <td>63.1</td>\n",
       "      <td>8110</td>\n",
       "      <td>5.77</td>\n",
       "      <td>6.55</td>\n",
       "      <td>109</td>\n",
       "      <td>3244</td>\n",
       "      <td>3079</td>\n",
       "      <td>NaN</td>\n",
       "      <td>NaN</td>\n",
       "      <td>NaN</td>\n",
       "    </tr>\n",
       "  </tbody>\n",
       "</table>\n",
       "<p>403 rows × 35 columns</p>\n",
       "</div>"
      ],
      "text/plain": [
       "     account_id         frequency    date  loan_id  date_loan  amount  \\\n",
       "0          1787   weekly issuance  930322     5314     930705   96396   \n",
       "1          1801  monthly issuance  930213     5316     930711  165960   \n",
       "2          9188  monthly issuance  930208     6863     930728  127080   \n",
       "3          1843  monthly issuance  930130     5325     930803  105804   \n",
       "4         11013   weekly issuance  930214     7240     930906  274740   \n",
       "..          ...               ...     ...      ...        ...     ...   \n",
       "398        9030  monthly issuance  950121     6818     961212  155616   \n",
       "399        3189  monthly issuance  951129     5625     961215  222180   \n",
       "400        8972  monthly issuance  960521     6805     961221   45024   \n",
       "401       10963  monthly issuance  950520     7233     961225  115812   \n",
       "402       11362  monthly issuance  951014     7308     961227  129408   \n",
       "\n",
       "     duration  payments  status  disp_id  ...  ratio of urban inhabitants   \\\n",
       "0          12      8033      -1     2166  ...                         81.8   \n",
       "1          36      4610       1     2181  ...                         73.5   \n",
       "2          60      2118       1    11006  ...                         53.5   \n",
       "3          36      2939       1     2235  ...                         74.8   \n",
       "4          60      4579       1    13231  ...                         50.5   \n",
       "..        ...       ...     ...      ...  ...                          ...   \n",
       "398        48      3242       1    10814  ...                         62.6   \n",
       "399        60      3703      -1     3855  ...                         55.6   \n",
       "400        48       938       1    10742  ...                         89.9   \n",
       "401        36      3217       1    13172  ...                         56.9   \n",
       "402        24      5392       1    13663  ...                         63.1   \n",
       "\n",
       "    average salary   unemploymant rate '95   unemploymant rate '96   \\\n",
       "0              9650                    3.38                    3.67   \n",
       "1              8369                    1.79                    2.31   \n",
       "2              8390                    2.28                    2.89   \n",
       "3             10045                    1.42                    1.71   \n",
       "4              8288                    3.79                    4.52   \n",
       "..              ...                     ...                     ...   \n",
       "398            8994                    3.80                    4.79   \n",
       "399            8843                    2.82                    3.60   \n",
       "400           10177                    6.63                    7.75   \n",
       "401            8427                    1.12                    1.54   \n",
       "402            8110                    5.77                    6.55   \n",
       "\n",
       "    no. of enterpreneurs per 1000 inhabitants   no. of commited crimes '95   \\\n",
       "0                                          100                         2985   \n",
       "1                                          117                         2854   \n",
       "2                                          132                         2080   \n",
       "3                                          135                         6604   \n",
       "4                                          110                         1562   \n",
       "..                                         ...                          ...   \n",
       "398                                        110                         9672   \n",
       "399                                        113                          818   \n",
       "400                                         81                         9878   \n",
       "401                                        107                         1874   \n",
       "402                                        109                         3244   \n",
       "\n",
       "     no. of commited crimes '96  card_id type_card  issued  \n",
       "0                           2804     NaN       NaN     NaN  \n",
       "1                           2618     NaN       NaN     NaN  \n",
       "2                           2122     NaN       NaN     NaN  \n",
       "3                           6295     NaN       NaN     NaN  \n",
       "4                           1460     NaN       NaN     NaN  \n",
       "..                           ...     ...       ...     ...  \n",
       "398                         9208     NaN       NaN     NaN  \n",
       "399                          888     NaN       NaN     NaN  \n",
       "400                        10108     NaN       NaN     NaN  \n",
       "401                         1913     NaN       NaN     NaN  \n",
       "402                         3079     NaN       NaN     NaN  \n",
       "\n",
       "[403 rows x 35 columns]"
      ]
     },
     "execution_count": 203,
     "metadata": {},
     "output_type": "execute_result"
    }
   ],
   "source": [
    "# join account, loan, disposition and client\n",
    "df = account.merge(loan_dev, on='account_id', suffixes=('','_loan'), how='right')\n",
    "df = df.merge(disp, on='account_id', suffixes=('','_disp'), how='left')\n",
    "df = df.merge(client, on='client_id',suffixes=('','_client'), how='left')\n",
    "\n",
    "df.drop(columns='district_id', axis=1, inplace=True)\n",
    "\n",
    "# create age_at_loan and gender column\n",
    "df = df.apply(lambda row: calculate_age_loan(row), axis=1)\n",
    "\n",
    "# join demograph\n",
    "district.rename(columns={'code ':'code'}, inplace=True)\n",
    "df = df.merge(district, left_on='district_id_client', right_on='code', how='left')\n",
    "\n",
    "# join creditcard\n",
    "df = df.merge(card_dev, on='disp_id', suffixes=('', '_card'), how='left')\n",
    "\n",
    "# join transactions\n",
    "df_transactions = df.merge(trans_dev, on='account_id', suffixes=('', '_transaction'), how='left')\n",
    "\n",
    "df"
   ]
  },
  {
   "cell_type": "markdown",
   "metadata": {},
   "source": [
    "### Exploratory Analysis"
   ]
  },
  {
   "cell_type": "markdown",
   "metadata": {},
   "source": [
    "- número de disponentes vs status \n",
    "    - quantas pessoas podem depositar naquela conta / contas quantas aquela pessoa tem ??\n",
    "- amount da loan vs status \n",
    "    - isto tipo não sei se faz super sentido era mais para perceber se o risco aumenta quanto maior for a loan ou se não podems concluir isso\n",
    "    \n",
    "- crime rate vs status\n",
    "- taxa de desemprego vs status\n",
    "- salário médio da região\n",
    "- ... outros dados demográficos vs status ??\n",
    "- diferença salário médio e dinheiro da loan pago a cada mês vs status\n",
    "    - se o que a pessoa paga em cada mês é quase a totalidade do seu salário, é mais provável que não possa pagar a dada altura\n",
    "- duration vs status\n",
    "- género vs status\n",
    "- frequência com que é utilizada a conta vs status\n",
    "    - ver pelo número de transactions, no fundo é se é cliente ativo ou não\n",
    "- percentagem de depósitos/débitos vs status \n",
    "    - my thought process foi que se eu só uso a conta para debitar dinheiro secalhar tou a gastar mais do que o ganho kk\n",
    "- quantas loans tem 'ativas' \n",
    "    - ver interseção data de aceitação + duração\n",
    "- ...\n"
   ]
  },
  {
   "cell_type": "code",
   "execution_count": 204,
   "metadata": {},
   "outputs": [
    {
     "name": "stdout",
     "output_type": "stream",
     "text": [
      "<class 'pandas.core.frame.DataFrame'>\n",
      "Int64Index: 403 entries, 0 to 402\n",
      "Data columns (total 35 columns):\n",
      " #   Column                                             Non-Null Count  Dtype  \n",
      "---  ------                                             --------------  -----  \n",
      " 0   account_id                                         403 non-null    int64  \n",
      " 1   frequency                                          403 non-null    object \n",
      " 2   date                                               403 non-null    int64  \n",
      " 3   loan_id                                            403 non-null    int64  \n",
      " 4   date_loan                                          403 non-null    int64  \n",
      " 5   amount                                             403 non-null    int64  \n",
      " 6   duration                                           403 non-null    int64  \n",
      " 7   payments                                           403 non-null    int64  \n",
      " 8   status                                             403 non-null    int64  \n",
      " 9   disp_id                                            403 non-null    int64  \n",
      " 10  client_id                                          403 non-null    int64  \n",
      " 11  type                                               403 non-null    object \n",
      " 12  birth_number                                       403 non-null    int64  \n",
      " 13  district_id_client                                 403 non-null    int64  \n",
      " 14  gender                                             403 non-null    object \n",
      " 15  age_loan                                           403 non-null    int64  \n",
      " 16  code                                               403 non-null    int64  \n",
      " 17  name                                               403 non-null    object \n",
      " 18  region                                             403 non-null    object \n",
      " 19  no. of inhabitants                                 403 non-null    int64  \n",
      " 20  no. of municipalities with inhabitants < 499       403 non-null    int64  \n",
      " 21  no. of municipalities with inhabitants 500-1999    403 non-null    int64  \n",
      " 22  no. of municipalities with inhabitants 2000-9999   403 non-null    int64  \n",
      " 23  no. of municipalities with inhabitants >10000      403 non-null    int64  \n",
      " 24  no. of cities                                      403 non-null    int64  \n",
      " 25  ratio of urban inhabitants                         403 non-null    float64\n",
      " 26  average salary                                     403 non-null    int64  \n",
      " 27  unemploymant rate '95                              403 non-null    object \n",
      " 28  unemploymant rate '96                              403 non-null    float64\n",
      " 29  no. of enterpreneurs per 1000 inhabitants          403 non-null    int64  \n",
      " 30  no. of commited crimes '95                         403 non-null    object \n",
      " 31  no. of commited crimes '96                         403 non-null    int64  \n",
      " 32  card_id                                            11 non-null     float64\n",
      " 33  type_card                                          11 non-null     object \n",
      " 34  issued                                             11 non-null     float64\n",
      "dtypes: float64(4), int64(23), object(8)\n",
      "memory usage: 113.3+ KB\n"
     ]
    }
   ],
   "source": [
    "df.info()"
   ]
  },
  {
   "cell_type": "code",
   "execution_count": 205,
   "metadata": {},
   "outputs": [
    {
     "name": "stdout",
     "output_type": "stream",
     "text": [
      "<class 'pandas.core.frame.DataFrame'>\n",
      "Int64Index: 30373 entries, 0 to 30372\n",
      "Data columns (total 44 columns):\n",
      " #   Column                                             Non-Null Count  Dtype  \n",
      "---  ------                                             --------------  -----  \n",
      " 0   account_id                                         30373 non-null  int64  \n",
      " 1   frequency                                          30373 non-null  object \n",
      " 2   date                                               30373 non-null  int64  \n",
      " 3   loan_id                                            30373 non-null  int64  \n",
      " 4   date_loan                                          30373 non-null  int64  \n",
      " 5   amount                                             30373 non-null  int64  \n",
      " 6   duration                                           30373 non-null  int64  \n",
      " 7   payments                                           30373 non-null  int64  \n",
      " 8   status                                             30373 non-null  int64  \n",
      " 9   disp_id                                            30373 non-null  int64  \n",
      " 10  client_id                                          30373 non-null  int64  \n",
      " 11  type                                               30373 non-null  object \n",
      " 12  birth_number                                       30373 non-null  int64  \n",
      " 13  district_id_client                                 30373 non-null  int64  \n",
      " 14  gender                                             30373 non-null  object \n",
      " 15  age_loan                                           30373 non-null  int64  \n",
      " 16  code                                               30373 non-null  int64  \n",
      " 17  name                                               30373 non-null  object \n",
      " 18  region                                             30373 non-null  object \n",
      " 19  no. of inhabitants                                 30373 non-null  int64  \n",
      " 20  no. of municipalities with inhabitants < 499       30373 non-null  int64  \n",
      " 21  no. of municipalities with inhabitants 500-1999    30373 non-null  int64  \n",
      " 22  no. of municipalities with inhabitants 2000-9999   30373 non-null  int64  \n",
      " 23  no. of municipalities with inhabitants >10000      30373 non-null  int64  \n",
      " 24  no. of cities                                      30373 non-null  int64  \n",
      " 25  ratio of urban inhabitants                         30373 non-null  float64\n",
      " 26  average salary                                     30373 non-null  int64  \n",
      " 27  unemploymant rate '95                              30373 non-null  object \n",
      " 28  unemploymant rate '96                              30373 non-null  float64\n",
      " 29  no. of enterpreneurs per 1000 inhabitants          30373 non-null  int64  \n",
      " 30  no. of commited crimes '95                         30373 non-null  object \n",
      " 31  no. of commited crimes '96                         30373 non-null  int64  \n",
      " 32  card_id                                            1038 non-null   float64\n",
      " 33  type_card                                          1038 non-null   object \n",
      " 34  issued                                             1038 non-null   float64\n",
      " 35  trans_id                                           30373 non-null  int64  \n",
      " 36  date_transaction                                   30373 non-null  int64  \n",
      " 37  type_transaction                                   30373 non-null  object \n",
      " 38  operation                                          25015 non-null  object \n",
      " 39  amount_transaction                                 30373 non-null  float64\n",
      " 40  balance                                            30373 non-null  float64\n",
      " 41  k_symbol                                           12451 non-null  object \n",
      " 42  bank                                               5268 non-null   object \n",
      " 43  account                                            8584 non-null   float64\n",
      "dtypes: float64(7), int64(25), object(12)\n",
      "memory usage: 10.4+ MB\n"
     ]
    }
   ],
   "source": [
    "df_transactions.info()"
   ]
  },
  {
   "cell_type": "code",
   "execution_count": 206,
   "metadata": {},
   "outputs": [
    {
     "data": {
      "text/plain": [
       "Text(0.5, 1.0, 'Status count for bank loans')"
      ]
     },
     "execution_count": 206,
     "metadata": {},
     "output_type": "execute_result"
    },
    {
     "data": {
      "image/png": "[encoded data removed]",
      "text/plain": [
       "<Figure size 432x288 with 1 Axes>"
      ]
     },
     "metadata": {
      "needs_background": "light"
     },
     "output_type": "display_data"
    }
   ],
   "source": [
    "loan_dev['status'].value_counts().plot.bar()\n",
    "plt.xlabel('Status')\n",
    "plt.ylabel('Count')\n",
    "plt.title('Status count for bank loans')"
   ]
  },
  {
   "cell_type": "code",
   "execution_count": 207,
   "metadata": {},
   "outputs": [
    {
     "data": {
      "text/plain": [
       "<AxesSubplot:title={'center':'amount'}, xlabel='status'>"
      ]
     },
     "execution_count": 207,
     "metadata": {},
     "output_type": "execute_result"
    },
    {
     "data": {
      "image/png": "[encoded data removed]",
      "text/plain": [
       "<Figure size 360x360 with 1 Axes>"
      ]
     },
     "metadata": {
      "needs_background": "light"
     },
     "output_type": "display_data"
    }
   ],
   "source": [
    "loan_dev.boxplot(column='amount', by='status', figsize=(5,5))"
   ]
  },
  {
   "cell_type": "code",
   "execution_count": 208,
   "metadata": {},
   "outputs": [
    {
     "data": {
      "text/plain": [
       "<AxesSubplot:title={'center':'payments'}, xlabel='status'>"
      ]
     },
     "execution_count": 208,
     "metadata": {},
     "output_type": "execute_result"
    },
    {
     "data": {
      "image/png": "[encoded data removed]",
      "text/plain": [
       "<Figure size 360x360 with 1 Axes>"
      ]
     },
     "metadata": {
      "needs_background": "light"
     },
     "output_type": "display_data"
    }
   ],
   "source": [
    "loan_dev.boxplot(column='payments', by='status', figsize=(5,5))"
   ]
  },
  {
   "cell_type": "code",
   "execution_count": 209,
   "metadata": {},
   "outputs": [
    {
     "data": {
      "text/plain": [
       "<AxesSubplot:title={'center':'duration'}, xlabel='status'>"
      ]
     },
     "execution_count": 209,
     "metadata": {},
     "output_type": "execute_result"
    },
    {
     "data": {
      "image/png": "[encoded data removed]",
      "text/plain": [
       "<Figure size 360x360 with 1 Axes>"
      ]
     },
     "metadata": {
      "needs_background": "light"
     },
     "output_type": "display_data"
    }
   ],
   "source": [
    "loan_dev.boxplot(column='duration', by='status', figsize=(5,5))\n"
   ]
  },
  {
   "cell_type": "markdown",
   "metadata": {},
   "source": [
    "Since the boxes are not totally aligned, there might be a relation between the loan amount and the successfulness of a loan. The higher the amount, the most likely it is to fail. The differences in the graphics aren't, however, significant and our conclusions are enforced by logic."
   ]
  },
  {
   "cell_type": "code",
   "execution_count": 210,
   "metadata": {},
   "outputs": [
    {
     "data": {
      "text/plain": [
       "<AxesSubplot:title={'center':'age_loan'}, xlabel='status'>"
      ]
     },
     "execution_count": 210,
     "metadata": {},
     "output_type": "execute_result"
    },
    {
     "data": {
      "image/png": "[encoded data removed]",
      "text/plain": [
       "<Figure size 360x360 with 1 Axes>"
      ]
     },
     "metadata": {
      "needs_background": "light"
     },
     "output_type": "display_data"
    }
   ],
   "source": [
    "df.boxplot(column='age_loan', by='status', figsize=(5,5))\n"
   ]
  },
  {
   "cell_type": "code",
   "execution_count": 211,
   "metadata": {},
   "outputs": [
    {
     "data": {
      "text/plain": [
       "account_id\n",
       "2        2\n",
       "19       1\n",
       "67       1\n",
       "132      2\n",
       "173      2\n",
       "        ..\n",
       "11186    2\n",
       "11265    1\n",
       "11349    2\n",
       "11359    1\n",
       "11362    1\n",
       "Name: disp_id, Length: 328, dtype: int64"
      ]
     },
     "execution_count": 211,
     "metadata": {},
     "output_type": "execute_result"
    }
   ],
   "source": [
    "disp_count = df.groupby(['account_id'])['disp_id'].nunique()\n",
    "disp_count"
   ]
  },
  {
   "cell_type": "code",
   "execution_count": 212,
   "metadata": {},
   "outputs": [],
   "source": [
    "df = df.merge(disp_count, on='account_id', suffixes=('', '_count'), how='left')\n"
   ]
  },
  {
   "cell_type": "code",
   "execution_count": 213,
   "metadata": {},
   "outputs": [
    {
     "data": {
      "text/plain": [
       "<AxesSubplot:title={'center':'disp_id_count'}, xlabel='status'>"
      ]
     },
     "execution_count": 213,
     "metadata": {},
     "output_type": "execute_result"
    },
    {
     "data": {
      "image/png": "[encoded data removed]",
      "text/plain": [
       "<Figure size 360x360 with 1 Axes>"
      ]
     },
     "metadata": {
      "needs_background": "light"
     },
     "output_type": "display_data"
    }
   ],
   "source": [
    "df.boxplot(column='disp_id_count', by='status', figsize=(5,5))"
   ]
  },
  {
   "cell_type": "code",
   "execution_count": 218,
   "metadata": {},
   "outputs": [
    {
     "data": {
      "text/plain": [
       "Text(0.5, 1.0, 'Status count by number of account disponents')"
      ]
     },
     "execution_count": 218,
     "metadata": {},
     "output_type": "execute_result"
    },
    {
     "data": {
      "image/png": "[encoded data removed]",
      "text/plain": [
       "<Figure size 432x288 with 1 Axes>"
      ]
     },
     "metadata": {
      "needs_background": "light"
     },
     "output_type": "display_data"
    }
   ],
   "source": [
    "#remove duplicates\n",
    "no_dups_df = df.drop_duplicates(subset=['account_id'])\n",
    "no_dups_df.groupby('disp_id_count')['status'].value_counts().unstack(1).plot.bar()\n",
    "\n",
    "plt.xlabel('disponents')\n",
    "plt.ylabel('count by number of disponents')\n",
    "plt.legend(['Status = -1', 'Status = 1'])\n",
    "plt.title('Status count by number of account disponents')"
   ]
  },
  {
   "cell_type": "code",
   "execution_count": 215,
   "metadata": {},
   "outputs": [
    {
     "data": {
      "text/plain": [
       "<AxesSubplot:title={'center':'average salary '}, xlabel='status'>"
      ]
     },
     "execution_count": 215,
     "metadata": {},
     "output_type": "execute_result"
    },
    {
     "data": {
      "image/png": "[encoded data removed]",
      "text/plain": [
       "<Figure size 360x360 with 1 Axes>"
      ]
     },
     "metadata": {
      "needs_background": "light"
     },
     "output_type": "display_data"
    }
   ],
   "source": [
    "df.boxplot(column='average salary ', by='status', figsize=(5,5))"
   ]
  },
  {
   "cell_type": "markdown",
   "metadata": {},
   "source": [
    "## Data Preparation"
   ]
  },
  {
   "cell_type": "code",
   "execution_count": null,
   "metadata": {},
   "outputs": [],
   "source": []
  },
  {
   "cell_type": "markdown",
   "metadata": {},
   "source": [
    "## Model"
   ]
  },
  {
   "cell_type": "code",
   "execution_count": null,
   "metadata": {},
   "outputs": [],
   "source": []
  },
  {
   "cell_type": "code",
   "execution_count": null,
   "metadata": {},
   "outputs": [],
   "source": []
  }
 ],
 "metadata": {
  "kernelspec": {
   "display_name": "Python 3.10.4 64-bit",
   "language": "python",
   "name": "python3"
  },
  "language_info": {
   "codemirror_mode": {
    "name": "ipython",
    "version": 3
   },
   "file_extension": ".py",
   "mimetype": "text/x-python",
   "name": "python",
   "nbconvert_exporter": "python",
   "pygments_lexer": "ipython3",
   "version": "3.10.4"
  },
  "orig_nbformat": 4,
  "vscode": {
   "interpreter": {
    "hash": "aee8b7b246df8f9039afb4144a1f6fd8d2ca17a180786b69acc140d282b71a49"
   }
  }
 },
 "nbformat": 4,
 "nbformat_minor": 2
}
