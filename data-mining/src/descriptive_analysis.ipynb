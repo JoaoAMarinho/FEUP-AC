{
 "cells": [
  {
   "cell_type": "code",
   "execution_count": 1,
   "metadata": {},
   "outputs": [],
   "source": [
    "from utils.ml_utils import draw_decision_tree\n",
    "import utils.clustering_utils as cluster\n",
    "import pandas as pd"
   ]
  },
  {
   "cell_type": "code",
   "execution_count": 2,
   "metadata": {},
   "outputs": [],
   "source": [
    "df = pd.read_csv('../data/clean/df-exploratory.csv')"
   ]
  },
  {
   "cell_type": "code",
   "execution_count": 9,
   "metadata": {},
   "outputs": [
    {
     "ename": "ValueError",
     "evalue": "could not convert string to float: '1993-07-05'",
     "output_type": "error",
     "traceback": [
      "\u001b[1;31m---------------------------------------------------------------------------\u001b[0m",
      "\u001b[1;31mValueError\u001b[0m                                Traceback (most recent call last)",
      "Cell \u001b[1;32mIn [9], line 1\u001b[0m\n\u001b[1;32m----> 1\u001b[0m draw_decision_tree(df)\n",
      "File \u001b[1;32md:\\Escola\\Faculdade\\4_Ano\\AC\\feup-ac\\data-mining\\src\\utils\\ml_utils.py:256\u001b[0m, in \u001b[0;36mdraw_decision_tree\u001b[1;34m(df, model_instance)\u001b[0m\n\u001b[0;32m    253\u001b[0m X \u001b[39m=\u001b[39m df\u001b[39m.\u001b[39mdrop([\u001b[39m'\u001b[39m\u001b[39mstatus\u001b[39m\u001b[39m'\u001b[39m], axis\u001b[39m=\u001b[39m\u001b[39m1\u001b[39m)\n\u001b[0;32m    254\u001b[0m y \u001b[39m=\u001b[39m df[\u001b[39m'\u001b[39m\u001b[39mstatus\u001b[39m\u001b[39m'\u001b[39m]\n\u001b[1;32m--> 256\u001b[0m scaler \u001b[39m=\u001b[39m StandardScaler()\u001b[39m.\u001b[39;49mfit(X)\n\u001b[0;32m    257\u001b[0m X \u001b[39m=\u001b[39m pd\u001b[39m.\u001b[39mDataFrame(scaler\u001b[39m.\u001b[39mtransform(X), index\u001b[39m=\u001b[39mX\u001b[39m.\u001b[39mindex, columns\u001b[39m=\u001b[39mX\u001b[39m.\u001b[39mcolumns)\n\u001b[0;32m    259\u001b[0m clf \u001b[39m=\u001b[39m model_instance\u001b[39m.\u001b[39mfit(X,y)\n",
      "File \u001b[1;32mc:\\Users\\joaoa\\AppData\\Local\\Programs\\Python\\Python310\\lib\\site-packages\\sklearn\\preprocessing\\_data.py:809\u001b[0m, in \u001b[0;36mStandardScaler.fit\u001b[1;34m(self, X, y, sample_weight)\u001b[0m\n\u001b[0;32m    807\u001b[0m \u001b[39m# Reset internal state before fitting\u001b[39;00m\n\u001b[0;32m    808\u001b[0m \u001b[39mself\u001b[39m\u001b[39m.\u001b[39m_reset()\n\u001b[1;32m--> 809\u001b[0m \u001b[39mreturn\u001b[39;00m \u001b[39mself\u001b[39;49m\u001b[39m.\u001b[39;49mpartial_fit(X, y, sample_weight)\n",
      "File \u001b[1;32mc:\\Users\\joaoa\\AppData\\Local\\Programs\\Python\\Python310\\lib\\site-packages\\sklearn\\preprocessing\\_data.py:844\u001b[0m, in \u001b[0;36mStandardScaler.partial_fit\u001b[1;34m(self, X, y, sample_weight)\u001b[0m\n\u001b[0;32m    812\u001b[0m \u001b[39m\"\"\"Online computation of mean and std on X for later scaling.\u001b[39;00m\n\u001b[0;32m    813\u001b[0m \n\u001b[0;32m    814\u001b[0m \u001b[39mAll of X is processed as a single batch. This is intended for cases\u001b[39;00m\n\u001b[1;32m   (...)\u001b[0m\n\u001b[0;32m    841\u001b[0m \u001b[39m    Fitted scaler.\u001b[39;00m\n\u001b[0;32m    842\u001b[0m \u001b[39m\"\"\"\u001b[39;00m\n\u001b[0;32m    843\u001b[0m first_call \u001b[39m=\u001b[39m \u001b[39mnot\u001b[39;00m \u001b[39mhasattr\u001b[39m(\u001b[39mself\u001b[39m, \u001b[39m\"\u001b[39m\u001b[39mn_samples_seen_\u001b[39m\u001b[39m\"\u001b[39m)\n\u001b[1;32m--> 844\u001b[0m X \u001b[39m=\u001b[39m \u001b[39mself\u001b[39;49m\u001b[39m.\u001b[39;49m_validate_data(\n\u001b[0;32m    845\u001b[0m     X,\n\u001b[0;32m    846\u001b[0m     accept_sparse\u001b[39m=\u001b[39;49m(\u001b[39m\"\u001b[39;49m\u001b[39mcsr\u001b[39;49m\u001b[39m\"\u001b[39;49m, \u001b[39m\"\u001b[39;49m\u001b[39mcsc\u001b[39;49m\u001b[39m\"\u001b[39;49m),\n\u001b[0;32m    847\u001b[0m     dtype\u001b[39m=\u001b[39;49mFLOAT_DTYPES,\n\u001b[0;32m    848\u001b[0m     force_all_finite\u001b[39m=\u001b[39;49m\u001b[39m\"\u001b[39;49m\u001b[39mallow-nan\u001b[39;49m\u001b[39m\"\u001b[39;49m,\n\u001b[0;32m    849\u001b[0m     reset\u001b[39m=\u001b[39;49mfirst_call,\n\u001b[0;32m    850\u001b[0m )\n\u001b[0;32m    851\u001b[0m n_features \u001b[39m=\u001b[39m X\u001b[39m.\u001b[39mshape[\u001b[39m1\u001b[39m]\n\u001b[0;32m    853\u001b[0m \u001b[39mif\u001b[39;00m sample_weight \u001b[39mis\u001b[39;00m \u001b[39mnot\u001b[39;00m \u001b[39mNone\u001b[39;00m:\n",
      "File \u001b[1;32mc:\\Users\\joaoa\\AppData\\Local\\Programs\\Python\\Python310\\lib\\site-packages\\sklearn\\base.py:577\u001b[0m, in \u001b[0;36mBaseEstimator._validate_data\u001b[1;34m(self, X, y, reset, validate_separately, **check_params)\u001b[0m\n\u001b[0;32m    575\u001b[0m     \u001b[39mraise\u001b[39;00m \u001b[39mValueError\u001b[39;00m(\u001b[39m\"\u001b[39m\u001b[39mValidation should be done on X, y or both.\u001b[39m\u001b[39m\"\u001b[39m)\n\u001b[0;32m    576\u001b[0m \u001b[39melif\u001b[39;00m \u001b[39mnot\u001b[39;00m no_val_X \u001b[39mand\u001b[39;00m no_val_y:\n\u001b[1;32m--> 577\u001b[0m     X \u001b[39m=\u001b[39m check_array(X, input_name\u001b[39m=\u001b[39m\u001b[39m\"\u001b[39m\u001b[39mX\u001b[39m\u001b[39m\"\u001b[39m, \u001b[39m*\u001b[39m\u001b[39m*\u001b[39mcheck_params)\n\u001b[0;32m    578\u001b[0m     out \u001b[39m=\u001b[39m X\n\u001b[0;32m    579\u001b[0m \u001b[39melif\u001b[39;00m no_val_X \u001b[39mand\u001b[39;00m \u001b[39mnot\u001b[39;00m no_val_y:\n",
      "File \u001b[1;32mc:\\Users\\joaoa\\AppData\\Local\\Programs\\Python\\Python310\\lib\\site-packages\\sklearn\\utils\\validation.py:791\u001b[0m, in \u001b[0;36mcheck_array\u001b[1;34m(array, accept_sparse, accept_large_sparse, dtype, order, copy, force_all_finite, ensure_2d, allow_nd, ensure_min_samples, ensure_min_features, estimator, input_name)\u001b[0m\n\u001b[0;32m    786\u001b[0m \u001b[39mif\u001b[39;00m pandas_requires_conversion:\n\u001b[0;32m    787\u001b[0m     \u001b[39m# pandas dataframe requires conversion earlier to handle extension dtypes with\u001b[39;00m\n\u001b[0;32m    788\u001b[0m     \u001b[39m# nans\u001b[39;00m\n\u001b[0;32m    789\u001b[0m     \u001b[39m# Use the original dtype for conversion if dtype is None\u001b[39;00m\n\u001b[0;32m    790\u001b[0m     new_dtype \u001b[39m=\u001b[39m dtype_orig \u001b[39mif\u001b[39;00m dtype \u001b[39mis\u001b[39;00m \u001b[39mNone\u001b[39;00m \u001b[39melse\u001b[39;00m dtype\n\u001b[1;32m--> 791\u001b[0m     array \u001b[39m=\u001b[39m array\u001b[39m.\u001b[39;49mastype(new_dtype)\n\u001b[0;32m    792\u001b[0m     \u001b[39m# Since we converted here, we do not need to convert again later\u001b[39;00m\n\u001b[0;32m    793\u001b[0m     dtype \u001b[39m=\u001b[39m \u001b[39mNone\u001b[39;00m\n",
      "File \u001b[1;32mc:\\Users\\joaoa\\AppData\\Local\\Programs\\Python\\Python310\\lib\\site-packages\\pandas\\core\\generic.py:6245\u001b[0m, in \u001b[0;36mNDFrame.astype\u001b[1;34m(self, dtype, copy, errors)\u001b[0m\n\u001b[0;32m   6238\u001b[0m     results \u001b[39m=\u001b[39m [\n\u001b[0;32m   6239\u001b[0m         \u001b[39mself\u001b[39m\u001b[39m.\u001b[39miloc[:, i]\u001b[39m.\u001b[39mastype(dtype, copy\u001b[39m=\u001b[39mcopy)\n\u001b[0;32m   6240\u001b[0m         \u001b[39mfor\u001b[39;00m i \u001b[39min\u001b[39;00m \u001b[39mrange\u001b[39m(\u001b[39mlen\u001b[39m(\u001b[39mself\u001b[39m\u001b[39m.\u001b[39mcolumns))\n\u001b[0;32m   6241\u001b[0m     ]\n\u001b[0;32m   6243\u001b[0m \u001b[39melse\u001b[39;00m:\n\u001b[0;32m   6244\u001b[0m     \u001b[39m# else, only a single dtype is given\u001b[39;00m\n\u001b[1;32m-> 6245\u001b[0m     new_data \u001b[39m=\u001b[39m \u001b[39mself\u001b[39;49m\u001b[39m.\u001b[39;49m_mgr\u001b[39m.\u001b[39;49mastype(dtype\u001b[39m=\u001b[39;49mdtype, copy\u001b[39m=\u001b[39;49mcopy, errors\u001b[39m=\u001b[39;49merrors)\n\u001b[0;32m   6246\u001b[0m     \u001b[39mreturn\u001b[39;00m \u001b[39mself\u001b[39m\u001b[39m.\u001b[39m_constructor(new_data)\u001b[39m.\u001b[39m__finalize__(\u001b[39mself\u001b[39m, method\u001b[39m=\u001b[39m\u001b[39m\"\u001b[39m\u001b[39mastype\u001b[39m\u001b[39m\"\u001b[39m)\n\u001b[0;32m   6248\u001b[0m \u001b[39m# GH 33113: handle empty frame or series\u001b[39;00m\n",
      "File \u001b[1;32mc:\\Users\\joaoa\\AppData\\Local\\Programs\\Python\\Python310\\lib\\site-packages\\pandas\\core\\internals\\managers.py:446\u001b[0m, in \u001b[0;36mBaseBlockManager.astype\u001b[1;34m(self, dtype, copy, errors)\u001b[0m\n\u001b[0;32m    445\u001b[0m \u001b[39mdef\u001b[39;00m \u001b[39mastype\u001b[39m(\u001b[39mself\u001b[39m: T, dtype, copy: \u001b[39mbool\u001b[39m \u001b[39m=\u001b[39m \u001b[39mFalse\u001b[39;00m, errors: \u001b[39mstr\u001b[39m \u001b[39m=\u001b[39m \u001b[39m\"\u001b[39m\u001b[39mraise\u001b[39m\u001b[39m\"\u001b[39m) \u001b[39m-\u001b[39m\u001b[39m>\u001b[39m T:\n\u001b[1;32m--> 446\u001b[0m     \u001b[39mreturn\u001b[39;00m \u001b[39mself\u001b[39;49m\u001b[39m.\u001b[39;49mapply(\u001b[39m\"\u001b[39;49m\u001b[39mastype\u001b[39;49m\u001b[39m\"\u001b[39;49m, dtype\u001b[39m=\u001b[39;49mdtype, copy\u001b[39m=\u001b[39;49mcopy, errors\u001b[39m=\u001b[39;49merrors)\n",
      "File \u001b[1;32mc:\\Users\\joaoa\\AppData\\Local\\Programs\\Python\\Python310\\lib\\site-packages\\pandas\\core\\internals\\managers.py:348\u001b[0m, in \u001b[0;36mBaseBlockManager.apply\u001b[1;34m(self, f, align_keys, ignore_failures, **kwargs)\u001b[0m\n\u001b[0;32m    346\u001b[0m         applied \u001b[39m=\u001b[39m b\u001b[39m.\u001b[39mapply(f, \u001b[39m*\u001b[39m\u001b[39m*\u001b[39mkwargs)\n\u001b[0;32m    347\u001b[0m     \u001b[39melse\u001b[39;00m:\n\u001b[1;32m--> 348\u001b[0m         applied \u001b[39m=\u001b[39m \u001b[39mgetattr\u001b[39m(b, f)(\u001b[39m*\u001b[39m\u001b[39m*\u001b[39mkwargs)\n\u001b[0;32m    349\u001b[0m \u001b[39mexcept\u001b[39;00m (\u001b[39mTypeError\u001b[39;00m, \u001b[39mNotImplementedError\u001b[39;00m):\n\u001b[0;32m    350\u001b[0m     \u001b[39mif\u001b[39;00m \u001b[39mnot\u001b[39;00m ignore_failures:\n",
      "File \u001b[1;32mc:\\Users\\joaoa\\AppData\\Local\\Programs\\Python\\Python310\\lib\\site-packages\\pandas\\core\\internals\\blocks.py:527\u001b[0m, in \u001b[0;36mBlock.astype\u001b[1;34m(self, dtype, copy, errors)\u001b[0m\n\u001b[0;32m    509\u001b[0m \u001b[39m\"\"\"\u001b[39;00m\n\u001b[0;32m    510\u001b[0m \u001b[39mCoerce to the new dtype.\u001b[39;00m\n\u001b[0;32m    511\u001b[0m \n\u001b[1;32m   (...)\u001b[0m\n\u001b[0;32m    523\u001b[0m \u001b[39mBlock\u001b[39;00m\n\u001b[0;32m    524\u001b[0m \u001b[39m\"\"\"\u001b[39;00m\n\u001b[0;32m    525\u001b[0m values \u001b[39m=\u001b[39m \u001b[39mself\u001b[39m\u001b[39m.\u001b[39mvalues\n\u001b[1;32m--> 527\u001b[0m new_values \u001b[39m=\u001b[39m astype_array_safe(values, dtype, copy\u001b[39m=\u001b[39;49mcopy, errors\u001b[39m=\u001b[39;49merrors)\n\u001b[0;32m    529\u001b[0m new_values \u001b[39m=\u001b[39m maybe_coerce_values(new_values)\n\u001b[0;32m    530\u001b[0m newb \u001b[39m=\u001b[39m \u001b[39mself\u001b[39m\u001b[39m.\u001b[39mmake_block(new_values)\n",
      "File \u001b[1;32mc:\\Users\\joaoa\\AppData\\Local\\Programs\\Python\\Python310\\lib\\site-packages\\pandas\\core\\dtypes\\astype.py:299\u001b[0m, in \u001b[0;36mastype_array_safe\u001b[1;34m(values, dtype, copy, errors)\u001b[0m\n\u001b[0;32m    296\u001b[0m     \u001b[39mreturn\u001b[39;00m values\u001b[39m.\u001b[39mcopy()\n\u001b[0;32m    298\u001b[0m \u001b[39mtry\u001b[39;00m:\n\u001b[1;32m--> 299\u001b[0m     new_values \u001b[39m=\u001b[39m astype_array(values, dtype, copy\u001b[39m=\u001b[39;49mcopy)\n\u001b[0;32m    300\u001b[0m \u001b[39mexcept\u001b[39;00m (\u001b[39mValueError\u001b[39;00m, \u001b[39mTypeError\u001b[39;00m):\n\u001b[0;32m    301\u001b[0m     \u001b[39m# e.g. astype_nansafe can fail on object-dtype of strings\u001b[39;00m\n\u001b[0;32m    302\u001b[0m     \u001b[39m#  trying to convert to float\u001b[39;00m\n\u001b[0;32m    303\u001b[0m     \u001b[39mif\u001b[39;00m errors \u001b[39m==\u001b[39m \u001b[39m\"\u001b[39m\u001b[39mignore\u001b[39m\u001b[39m\"\u001b[39m:\n",
      "File \u001b[1;32mc:\\Users\\joaoa\\AppData\\Local\\Programs\\Python\\Python310\\lib\\site-packages\\pandas\\core\\dtypes\\astype.py:230\u001b[0m, in \u001b[0;36mastype_array\u001b[1;34m(values, dtype, copy)\u001b[0m\n\u001b[0;32m    227\u001b[0m     values \u001b[39m=\u001b[39m values\u001b[39m.\u001b[39mastype(dtype, copy\u001b[39m=\u001b[39mcopy)\n\u001b[0;32m    229\u001b[0m \u001b[39melse\u001b[39;00m:\n\u001b[1;32m--> 230\u001b[0m     values \u001b[39m=\u001b[39m astype_nansafe(values, dtype, copy\u001b[39m=\u001b[39;49mcopy)\n\u001b[0;32m    232\u001b[0m \u001b[39m# in pandas we don't store numpy str dtypes, so convert to object\u001b[39;00m\n\u001b[0;32m    233\u001b[0m \u001b[39mif\u001b[39;00m \u001b[39misinstance\u001b[39m(dtype, np\u001b[39m.\u001b[39mdtype) \u001b[39mand\u001b[39;00m \u001b[39missubclass\u001b[39m(values\u001b[39m.\u001b[39mdtype\u001b[39m.\u001b[39mtype, \u001b[39mstr\u001b[39m):\n",
      "File \u001b[1;32mc:\\Users\\joaoa\\AppData\\Local\\Programs\\Python\\Python310\\lib\\site-packages\\pandas\\core\\dtypes\\astype.py:170\u001b[0m, in \u001b[0;36mastype_nansafe\u001b[1;34m(arr, dtype, copy, skipna)\u001b[0m\n\u001b[0;32m    166\u001b[0m     \u001b[39mraise\u001b[39;00m \u001b[39mValueError\u001b[39;00m(msg)\n\u001b[0;32m    168\u001b[0m \u001b[39mif\u001b[39;00m copy \u001b[39mor\u001b[39;00m is_object_dtype(arr\u001b[39m.\u001b[39mdtype) \u001b[39mor\u001b[39;00m is_object_dtype(dtype):\n\u001b[0;32m    169\u001b[0m     \u001b[39m# Explicit copy, or required since NumPy can't view from / to object.\u001b[39;00m\n\u001b[1;32m--> 170\u001b[0m     \u001b[39mreturn\u001b[39;00m arr\u001b[39m.\u001b[39;49mastype(dtype, copy\u001b[39m=\u001b[39;49m\u001b[39mTrue\u001b[39;49;00m)\n\u001b[0;32m    172\u001b[0m \u001b[39mreturn\u001b[39;00m arr\u001b[39m.\u001b[39mastype(dtype, copy\u001b[39m=\u001b[39mcopy)\n",
      "\u001b[1;31mValueError\u001b[0m: could not convert string to float: '1993-07-05'"
     ]
    }
   ],
   "source": [
    "draw_decision_tree(df)"
   ]
  },
  {
   "cell_type": "code",
   "execution_count": 4,
   "metadata": {},
   "outputs": [
    {
     "data": {
      "text/plain": [
       "Index(['loan_id', 'account_id', 'loan_date', 'amount', 'duration', 'payments',\n",
       "       'status', 'account_district_id', 'frequency', 'creation_date',\n",
       "       'disp_id', 'client_id', 'has_disponent', 'client_district_id', 'gender',\n",
       "       'birth_date', 'code', 'region', 'no._of_inhabitants',\n",
       "       'no._of_municipalities_with_inhabitants_<_499',\n",
       "       'no._of_municipalities_with_inhabitants_500-1999',\n",
       "       'no._of_municipalities_with_inhabitants_2000-9999',\n",
       "       'no._of_municipalities_with_inhabitants_>10000', 'no._of_cities',\n",
       "       'ratio_of_urban_inhabitants', 'average_salary', 'unemployment_rate',\n",
       "       'avg_commited_crimes', 'ratio_entrepreneurs', 'criminality_growth',\n",
       "       'unemployment_growth', 'avg_amount_credit', 'avg_amount_withdrawal',\n",
       "       'avg_amount_total', 'min_amount', 'max_amount', 'credit_ratio',\n",
       "       'num_trans', 'avg_balance', 'min_balance', 'max_balance', 'std_balance',\n",
       "       'negative_balance', 'last_balance_negative', 'num_cash_credit',\n",
       "       'num_coll', 'num_interest', 'num_cash_withdrawal', 'num_rem',\n",
       "       'num_card_withdrawal', 'mean_no_symbol', 'num_no_symbol',\n",
       "       'mean_household', 'num_household', 'mean_statement', 'num_statement',\n",
       "       'mean_insurance', 'num_insurance', 'mean_sanction', 'num_sanction',\n",
       "       'mean_pension', 'num_pension', 'has_card', 'age_at_loan',\n",
       "       'days_between', 'same_district'],\n",
       "      dtype='object')"
      ]
     },
     "execution_count": 4,
     "metadata": {},
     "output_type": "execute_result"
    }
   ],
   "source": [
    "df.columns"
   ]
  },
  {
   "cell_type": "code",
   "execution_count": 5,
   "metadata": {},
   "outputs": [
    {
     "data": {
      "image/png": "[encoded data removed]",
      "text/plain": [
       "<Figure size 640x480 with 1 Axes>"
      ]
     },
     "metadata": {},
     "output_type": "display_data"
    },
    {
     "name": "stdout",
     "output_type": "stream",
     "text": [
      "KMeans Clusters: \n",
      " Counter({0: 131, 2: 109, 1: 88})\n",
      "KMeans Centers: \n",
      " [[0.8371721  0.17177971]\n",
      " [0.58201359 0.67245474]\n",
      " [0.68831343 0.4009929 ]]\n",
      "KMeans Inertia: \n",
      "6.4806116212539315\n",
      "KMeans Silhouette Score: \n",
      "0.4106109406883579\n",
      "\n"
     ]
    },
    {
     "data": {
      "application/vnd.plotly.v1+json": {
       "config": {
        "plotlyServerURL": "https://plot.ly"
       },
       "data": [
        {
         "marker": {
          "color": [
           0,
           2,
           2,
           0,
           0,
           2,
           0,
           2,
           0,
           2,
           2,
           1,
           2,
           1,
           0,
           0,
           2,
           2,
           2,
           1,
           1,
           0,
           0,
           0,
           0,
           1,
           2,
           2,
           0,
           0,
           2,
           0,
           0,
           1,
           2,
           0,
           0,
           1,
           0,
           1,
           2,
           1,
           0,
           1,
           2,
           2,
           2,
           2,
           2,
           2,
           2,
           2,
           2,
           0,
           0,
           2,
           0,
           2,
           2,
           1,
           1,
           2,
           2,
           2,
           2,
           1,
           0,
           2,
           1,
           0,
           1,
           0,
           2,
           0,
           0,
           2,
           0,
           0,
           0,
           2,
           0,
           0,
           1,
           1,
           2,
           2,
           2,
           1,
           2,
           2,
           2,
           0,
           0,
           1,
           0,
           2,
           0,
           0,
           0,
           0,
           1,
           0,
           1,
           0,
           2,
           2,
           0,
           0,
           0,
           0,
           0,
           2,
           2,
           0,
           0,
           2,
           0,
           1,
           1,
           2,
           1,
           0,
           0,
           0,
           1,
           0,
           0,
           2,
           0,
           0,
           2,
           1,
           2,
           0,
           2,
           2,
           2,
           1,
           2,
           2,
           2,
           2,
           1,
           0,
           1,
           0,
           2,
           2,
           1,
           1,
           0,
           2,
           2,
           2,
           1,
           2,
           0,
           1,
           0,
           2,
           1,
           0,
           1,
           0,
           1,
           0,
           2,
           0,
           1,
           0,
           0,
           0,
           0,
           0,
           2,
           0,
           2,
           0,
           0,
           1,
           1,
           1,
           1,
           0,
           1,
           1,
           0,
           2,
           1,
           1,
           1,
           0,
           0,
           1,
           1,
           1,
           0,
           1,
           2,
           0,
           0,
           2,
           1,
           1,
           0,
           1,
           2,
           2,
           2,
           2,
           1,
           1,
           0,
           0,
           2,
           2,
           1,
           1,
           0,
           2,
           0,
           0,
           1,
           1,
           2,
           1,
           0,
           1,
           0,
           1,
           0,
           1,
           2,
           2,
           0,
           0,
           0,
           2,
           0,
           1,
           2,
           2,
           0,
           0,
           0,
           0,
           0,
           2,
           1,
           1,
           1,
           0,
           1,
           0,
           0,
           0,
           2,
           1,
           0,
           0,
           2,
           1,
           1,
           0,
           0,
           2,
           1,
           2,
           2,
           1,
           0,
           2,
           0,
           0,
           0,
           0,
           2,
           1,
           2,
           2,
           1,
           1,
           0,
           0,
           0,
           1,
           0,
           1,
           2,
           2,
           0,
           2,
           2,
           1,
           0,
           2,
           2,
           1,
           0,
           0,
           0,
           2,
           2,
           0,
           0,
           0,
           1,
           0,
           0,
           0,
           2,
           2,
           2,
           1,
           1,
           1,
           2,
           0,
           0,
           0,
           1,
           2,
           0,
           1,
           1,
           2,
           2,
           1
          ],
          "colorscale": [
           [
            0,
            "rgb(150,0,90)"
           ],
           [
            0.125,
            "rgb(0,0,200)"
           ],
           [
            0.25,
            "rgb(0,25,255)"
           ],
           [
            0.375,
            "rgb(0,152,255)"
           ],
           [
            0.5,
            "rgb(44,255,150)"
           ],
           [
            0.625,
            "rgb(151,255,0)"
           ],
           [
            0.75,
            "rgb(255,234,0)"
           ],
           [
            0.875,
            "rgb(255,111,0)"
           ],
           [
            1,
            "rgb(255,0,0)"
           ]
          ],
          "line": {
           "width": 0
          },
          "size": 7
         },
         "mode": "markers",
         "type": "scatter",
         "x": [
          0.9999999999999999,
          0.7002704760803138,
          0.6155475550157601,
          0.8809535675413936,
          0.7943041940179095,
          0.7878597274738254,
          0.9365216464584533,
          0.8048991980181794,
          0.7581682619550234,
          0.450083379119555,
          0.5755815157792752,
          0.6151968486227182,
          0.7620743086280519,
          0.4331810339010824,
          0.7575740049931079,
          0.901040748487805,
          0.4714502825893473,
          0.3387505663032686,
          0.3745120152685,
          0.2555321001577615,
          0.6727293520049404,
          0.8243071219262985,
          0.8936421997365867,
          0.8430173602074356,
          0.8706162431112547,
          0.5744920942457161,
          0.6713640920351251,
          0.7357975357373508,
          0.8290945172204389,
          0.9066009509944418,
          0.7276963867441657,
          0.8460697348254821,
          0.9115930581353631,
          0.6287329336990517,
          0.7272296213594713,
          0.9652167160943655,
          0.71608835146616,
          0.5488609414144694,
          0.8466111915838643,
          0.5620088727575497,
          0.7047608710202473,
          0.6263995408612394,
          0.89404992076798,
          0.5833412512513753,
          0.45683082232054206,
          0.6897822503686994,
          0.8179469819650481,
          0.7798997147866468,
          0.6747867325988258,
          0.8771916029181579,
          0.6278592290564182,
          0.7533057652082549,
          0.7403562114498754,
          0.7381992038017022,
          0.8823467607453032,
          0.7615903402317906,
          0.7009790802972029,
          0.7882519483242242,
          0.789200807524363,
          0.5565734555584472,
          0.5980739262729372,
          0.6423855103476861,
          0.804564056262966,
          0.763589270280083,
          0.6283815409897202,
          0.6234510601518495,
          0.8565768180716703,
          0.8651583298975034,
          0.7936015167340218,
          0.8838689344328278,
          0.6070024071468694,
          0.9071789325544855,
          0.5867097324906526,
          0.8266716087671777,
          0.8878118846999833,
          0.6483331461534305,
          0.9238154450351899,
          0.8729419156752236,
          0.7115468031578034,
          0.695480196254205,
          0.935144458795148,
          0.8229596213720443,
          0.7604969366188771,
          0,
          0.7592677884948206,
          0.7081248855344456,
          0.6544734298896024,
          0.5575204181558344,
          0.7958238923543384,
          0.6415420799475626,
          0.7025821501209719,
          0.7886216834904024,
          0.8419910740965655,
          0.5479333192742006,
          0.8225239694887043,
          0.6557478293361819,
          0.7830475309177486,
          0.7604657663649594,
          0.8304228605643696,
          0.8052690000771136,
          0.6515876316484301,
          0.8359761220837388,
          0.7122037318603275,
          0.7683377834327777,
          0.43827535351782765,
          0.7480198182046016,
          0.9190578359327446,
          0.874020684836343,
          0.8454620163042017,
          0.895903145272452,
          0.9439061149507275,
          0.7667855087307871,
          0.656507908967352,
          0.8398558692332057,
          0.8077577156593907,
          0.7861283041154212,
          0.8035804615837883,
          0.5882075550091124,
          0.7739243852597283,
          0.4426611915984692,
          0.627854020776528,
          0.8599905535795185,
          0.8984026874102348,
          0.5765979391380622,
          0.6151810845069063,
          0.8213574957150467,
          0.7441414521140381,
          0.6438699478519032,
          0.9115285243698726,
          0.9510567747098444,
          0.7541906441880415,
          0.6249655561812868,
          0.6595318577013727,
          0.8376540175312139,
          0.6309577431975396,
          0.6312150017932243,
          0.38598266871017795,
          0.620127859501864,
          0.768849808799492,
          0.739465152668935,
          0.6583713940160951,
          0.6485697294703685,
          0.5710133053153786,
          0.6513821012823354,
          0.5987228053940987,
          0.7764295268990766,
          0.7855550796198296,
          0.6579735709774446,
          0.5574462299217222,
          0.7018722897595184,
          0.7405594128993164,
          0.6787255383921013,
          0.8015206733035125,
          0.5957269406128605,
          0.5355033981305539,
          0.7220225394843554,
          0.7233116806359032,
          0.5822754306314641,
          0.8623698211247136,
          0.636239939080227,
          0.5812141298049451,
          0.8313234028684708,
          0.5711762967447584,
          0.6822904084724157,
          0.5716475872450608,
          0.9073801441819913,
          0.6933028413162012,
          0.7942029823698947,
          0.15656959987661812,
          0.9378476138149079,
          0.8448155538204987,
          0.8181892432903103,
          0.8855067698912584,
          0.8090432607501228,
          0.6886940564664603,
          0.7405723759675351,
          0.7161019910014074,
          0.9416919046994087,
          0.8846727008087292,
          0.6888003286968758,
          0.2611549694919174,
          0.6285699428293702,
          0.5992055409500651,
          0.8040302585341768,
          0.6649871183664406,
          0.5153358261799312,
          0.6991033933213163,
          0.7468200892757981,
          0.7035783322544837,
          0.6867744855512703,
          0.2300417591762549,
          0.6693752831516342,
          0.8292724876500053,
          0.5044042033019855,
          0.6814985642940299,
          0.5718022931100666,
          0.8139254128236516,
          0.24342718705519073,
          0.6019008511417636,
          0.8707709832725778,
          0.8528739758639019,
          0.7592252636008128,
          0.534575537626635,
          0.6973034106134652,
          0.8785460223822329,
          0.6291558077065836,
          0.70467426235987,
          0.5839617811208807,
          0.6923165900349902,
          0.6986693078087195,
          0.6446841393314888,
          0.6835917567005446,
          0.7828664839753893,
          0.7754244510331242,
          0.7467522128222126,
          0.661333401878788,
          0.6334399750665908,
          0.5086406432241211,
          0.9012295769353111,
          0.6938565065166378,
          0.7118639329882497,
          0.8395034417315437,
          0.49071153395088496,
          0.13005214809673904,
          0.7803085435236037,
          0.7278208743504808,
          0.8339540104786916,
          0.665001527701841,
          0.8651168001226294,
          0.6606204755983536,
          0.8211927551738429,
          0.587964999481184,
          0.8167956021499874,
          0.7148013199284128,
          0.8602360480546478,
          0.9013926055437289,
          0.8896460484080853,
          0.7746703453825861,
          0.7475813059132166,
          0.48854380536518116,
          0.7475216766851529,
          0.6920100633295738,
          0.9999999999999999,
          0.7834863164766062,
          0.8849940477911762,
          0.8859780499246535,
          0.9017324863685581,
          0.772701741217532,
          0.7959677536476356,
          0.5888022645704609,
          0.6654488616099399,
          0.89993827201687,
          0.7600940702547139,
          0.9149351763492476,
          0.805613752253164,
          0.873825691050641,
          0.6647119902065681,
          0.62792067898557,
          0.6772473002194526,
          0.8793100208560662,
          0.7490425776961436,
          0.5777439664140454,
          0.5732024181056886,
          0.7647020953094107,
          0.8763029089473682,
          0.7814755160139124,
          0.6888949407193886,
          0.654755822882829,
          0.6700057942329709,
          0.4759092179713329,
          0.8332592828217592,
          0.6825706580470756,
          0.8162873639667254,
          0.8580915561309418,
          0.7809025515384682,
          0.8212972493617934,
          0.5864156734634742,
          0.6251735538783338,
          0.6410376574512949,
          0.6559755139328483,
          0.7829072103879078,
          0.5368615713831294,
          0.864636259405063,
          0.9310656395810687,
          0.7447759073529947,
          0.6282474199996457,
          0.8571019498781305,
          0.5957578549189548,
          0.7925327255720347,
          0.8208523159941568,
          0.7447217322293229,
          0.6939314781077599,
          0.7804765140780582,
          0.7070421786933676,
          0.8983902528363359,
          0.5224686438229955,
          0.8242101434447856,
          0.48334336686900226,
          0.9019327982197765,
          0.8976262346523471,
          0.9005866784219422,
          0.5960570833694803,
          0.6534029605210311,
          0.900017629597837,
          0.8753561889325904,
          0.897682154133889,
          0.7009969772588482,
          0.8486048054647863,
          0.9104282026768362,
          0.8117400370788068,
          0.7203394445890324,
          0.7986350602818842,
          0.809520507069511,
          0.5199192234656794,
          0.7306014683939467,
          0.606558302402106,
          0.7816731548485032,
          0.8357482922965336,
          0.829652525331674,
          0.7854022717560497,
          0.47789248431219444,
          0.4309656233834249,
          0.7042370730234007,
          0.6231641387021707,
          0.6861483888811033,
          0.7905228903754105,
          0.6439754880483866,
          0.510289915142869
         ],
         "y": [
          0.10013096370425442,
          0.4496031640292065,
          0.42936659380272557,
          0.16478220532454943,
          0.09950314823240713,
          0.35383426430742326,
          0.051414008077357326,
          0.3364845721440475,
          0.27406600648102963,
          0.43445641022434756,
          0.4881098132695355,
          0.5628460449932644,
          0.3208566399955244,
          0.7676001422679554,
          0.18483259213420614,
          0.11359948858891836,
          0.17500618337888404,
          0.19500179283696076,
          0.40189960460139884,
          0.4687349522170594,
          0.9259676090234347,
          0.3093926210636613,
          0.07048264241023441,
          0.04530638035844059,
          0.1275554771711438,
          0.6545009353903459,
          0.44350421813248786,
          0.5376019122438792,
          0.2519666371704046,
          0.2041861721301633,
          0.3626614958819776,
          0.20403873244856727,
          0.21424268874141808,
          0.564291159377152,
          0.4335986470551152,
          0,
          0.22254910595959912,
          0.8622807525890533,
          0.20383369498900736,
          0.636046004878524,
          0.4593294412686576,
          0.5529212719952936,
          0.04708697405780837,
          1,
          0.3091729541873216,
          0.3748999254475964,
          0.36816549575745805,
          0.3760001602234877,
          0.3547257301169293,
          0.3876147049139921,
          0.48744444728110337,
          0.444042476229894,
          0.45201615602492395,
          0.18018977335004263,
          0.11361563128161267,
          0.2955535099416855,
          0.22526340590325591,
          0.3209542143334475,
          0.32097028979908226,
          0.7301264117990816,
          0.728561477882125,
          0.2258160571501259,
          0.3815452548017553,
          0.43318341611622047,
          0.46424430590313337,
          0.7049225631811812,
          0.09254983611493056,
          0.36717688960084893,
          0.6057692724777866,
          0.09408283011760238,
          0.5850743089681784,
          0.08252855314293164,
          0.4555122171136725,
          0.2581654361406114,
          0.08232094909661883,
          0.40516186825716316,
          0.08992276793040738,
          0.2134730538538965,
          0.247446904629931,
          0.43690209129538327,
          0.12667484003550764,
          0.27548942042418745,
          0.731663536955244,
          0.7615260894065466,
          0.33603365533299034,
          0.3441164188024616,
          0.4818673253600104,
          0.6097112124285564,
          0.4267657110111631,
          0.2238164374567694,
          0.3609674735941997,
          0.29313350258014803,
          0.14568916562274722,
          0.5466971597576283,
          0.10439076872781117,
          0.44323415159895374,
          0.20577857876590103,
          0.0941447843034744,
          0.2840170187874236,
          0.15029472741440383,
          0.6816038838338506,
          0.23592307821040662,
          0.8054882960472696,
          0.14826713861558757,
          0.37368305008384317,
          0.37971455963350886,
          0.17075403579445084,
          0.20983966124536488,
          0.3036403920265933,
          0.09738172528780639,
          0.04610858151403238,
          0.383769612567908,
          0.45115481350424924,
          0.2547234413032706,
          0.30771924609148305,
          0.4298060521714173,
          0.2857949154402314,
          0.5979831497746233,
          0.6265354631750206,
          0.4353970789889343,
          0.6979986437317584,
          0.017384905603641046,
          0.11895935727962814,
          0.13122564965050915,
          0.5852963186096205,
          0.2666145816185709,
          0.2251370089200683,
          0.39771226624469946,
          0.05696008266387975,
          0.007147928305703571,
          0.42068098233541973,
          0.7354875185808396,
          0.47245339463912095,
          0.25058630978346186,
          0.44200272478042957,
          0.4397017947838706,
          0.39228402537018403,
          0.9664715537403915,
          0.5585138939286951,
          0.5073594257284088,
          0.5116558647684075,
          0.4682129428319398,
          0.5865186635327126,
          0.20874125832485993,
          0.5739514813486606,
          0.21587764155499187,
          0.3505826059665835,
          0.3821894014169186,
          0.7902592579305231,
          0.613646624902281,
          0.25992385591966405,
          0.5531841864903433,
          0.42489087498755573,
          0.4722162014107132,
          0.661853589026689,
          0.2720206918192387,
          0.22737581762661643,
          0.5369546088338518,
          0.10272161637638424,
          0.34379122019991604,
          0.6477063227248241,
          0.23882106731003752,
          0.6481440692630261,
          0.19492341381556125,
          0.6632162238977968,
          0.03660353152953416,
          0.3420706676822731,
          0.14500839249938094,
          0.45879385519140714,
          0.024238300339892382,
          0.20988769324128967,
          0.2120310753668931,
          0.1894848318889277,
          0.2930411789547589,
          0.4683053391833474,
          0.24486744662960638,
          0.37807837383728593,
          0.06639315887217961,
          0.21431288193338413,
          0.5921701165349519,
          0.5386317414160614,
          0.562852654092508,
          0.6234686197584343,
          0.30141047000279897,
          0.7777641415531175,
          0.5721955818185513,
          0.23831678784542012,
          0.36882614832026084,
          0.6129760137993616,
          0.6240288816686616,
          0.481919534051233,
          0.08681748737430597,
          0.19439299817237118,
          0.7439861441792763,
          0.6418186124611559,
          0.7664608835084032,
          0.2569320692097802,
          0.6355227110873064,
          0.2014112156895456,
          0.15867336609536156,
          0.12384398309181141,
          0.38642768647490966,
          0.6536033933519912,
          0.7973560188023642,
          0.06797666780223996,
          0.5742818658870833,
          0.45916819802830044,
          0.33407951799193925,
          0.40731209022322024,
          0.2777085013774625,
          0.9529542669631313,
          0.558754160722044,
          0.06631443629471223,
          0.10999089687602939,
          0.48881261894584316,
          0.44852524524352244,
          0.5463653013817837,
          0.7804995449218156,
          0.02171027881319748,
          0.3972194206896459,
          0.1852643866181186,
          0.28294452353595345,
          0.6772307762788392,
          0.8987965466266218,
          0.3917516471809549,
          0.6777343619815435,
          0.27500331274346246,
          0.7210645050920591,
          0.24651286968833322,
          0.6656450961716806,
          0.17060667735946486,
          0.6497589311612386,
          0.5184717081760012,
          0.4057247138797365,
          0.160900798991829,
          0.07531605248463769,
          0.04615117011063938,
          0.4274663242254727,
          0.2719598736020863,
          0.5121402131310033,
          0.40239068414837265,
          0.509725991649852,
          0.07854123950863146,
          0.2735380084353336,
          0.14708470711773716,
          0.1470947823223617,
          0.07684754767581564,
          0.4693605705583572,
          0.6541887792017116,
          0.6688407959316754,
          0.6200806273319707,
          0.2558549145920399,
          0.7429236969184927,
          0.0631267219459101,
          0.21995755575547324,
          0.15304577389964327,
          0.2562956758426297,
          0.5753089307640945,
          0.0582183866210462,
          0.3281100938974413,
          0.36892261870691867,
          0.840798579800868,
          0.8408070614782306,
          0.244882045395491,
          0.15661326390540067,
          0.48742298936230577,
          0.7407360749270349,
          0.26604920915374053,
          0.4867488697754315,
          0.747407794188625,
          0.26643051977374976,
          0.41790823940167376,
          0.14395952731966769,
          0.22009247190299444,
          0.2634896852648717,
          0.21211575887061632,
          0.49540624673815414,
          0.5804583251427908,
          0.32688284697139947,
          0.44526047610480934,
          0.7240057505348184,
          0.6736892311367495,
          0.32008455334990826,
          0.059817175554593094,
          0.2454292318148185,
          0.692495897533727,
          0.18366076545903418,
          0.636600900686075,
          0.49016923039847393,
          0.4348072816478924,
          0.1704755397754618,
          0.3425399757398675,
          0.32432168988833265,
          0.6046543000523676,
          0.08189857489095326,
          0.4269291537853699,
          0.36602013730934335,
          0.6946403449984273,
          0.052554823759492525,
          0.10608140946340044,
          0.22362443284292297,
          0.4075482802242555,
          0.251738462028372,
          0.04451661218440878,
          0.2799966509241618,
          0.3286135755515861,
          0.5907293206607834,
          0.15837110812076197,
          0.056313610928775126,
          0.20329307630524,
          0.3644481908316367,
          0.3422576154376663,
          0.3441731059707528,
          0.8132734805951317,
          0.6607910158612321,
          0.7806816786419574,
          0.579209428136881,
          0.29789373690800247,
          0.11989385453889284,
          0.24266426667954824,
          0.4838896820575923,
          0.3957263053564464,
          0.21135472960997,
          0.7416110174972318,
          0.6120331214001775,
          0.5066247098761605,
          0.5357831363305053,
          0.7382392971983359
         ]
        }
       ],
       "layout": {
        "font": {
         "size": 16
        },
        "height": 1000,
        "scene": {
         "xaxis": {
          "title": {
           "text": "avg_amount_withdrawal"
          }
         },
         "yaxis": {
          "title": {
           "text": "avg_amount_credit"
          }
         }
        },
        "template": {
         "data": {
          "bar": [
           {
            "error_x": {
             "color": "#2a3f5f"
            },
            "error_y": {
             "color": "#2a3f5f"
            },
            "marker": {
             "line": {
              "color": "#E5ECF6",
              "width": 0.5
             },
             "pattern": {
              "fillmode": "overlay",
              "size": 10,
              "solidity": 0.2
             }
            },
            "type": "bar"
           }
          ],
          "barpolar": [
           {
            "marker": {
             "line": {
              "color": "#E5ECF6",
              "width": 0.5
             },
             "pattern": {
              "fillmode": "overlay",
              "size": 10,
              "solidity": 0.2
             }
            },
            "type": "barpolar"
           }
          ],
          "carpet": [
           {
            "aaxis": {
             "endlinecolor": "#2a3f5f",
             "gridcolor": "white",
             "linecolor": "white",
             "minorgridcolor": "white",
             "startlinecolor": "#2a3f5f"
            },
            "baxis": {
             "endlinecolor": "#2a3f5f",
             "gridcolor": "white",
             "linecolor": "white",
             "minorgridcolor": "white",
             "startlinecolor": "#2a3f5f"
            },
            "type": "carpet"
           }
          ],
          "choropleth": [
           {
            "colorbar": {
             "outlinewidth": 0,
             "ticks": ""
            },
            "type": "choropleth"
           }
          ],
          "contour": [
           {
            "colorbar": {
             "outlinewidth": 0,
             "ticks": ""
            },
            "colorscale": [
             [
              0,
              "#0d0887"
             ],
             [
              0.1111111111111111,
              "#46039f"
             ],
             [
              0.2222222222222222,
              "#7201a8"
             ],
             [
              0.3333333333333333,
              "#9c179e"
             ],
             [
              0.4444444444444444,
              "#bd3786"
             ],
             [
              0.5555555555555556,
              "#d8576b"
             ],
             [
              0.6666666666666666,
              "#ed7953"
             ],
             [
              0.7777777777777778,
              "#fb9f3a"
             ],
             [
              0.8888888888888888,
              "#fdca26"
             ],
             [
              1,
              "#f0f921"
             ]
            ],
            "type": "contour"
           }
          ],
          "contourcarpet": [
           {
            "colorbar": {
             "outlinewidth": 0,
             "ticks": ""
            },
            "type": "contourcarpet"
           }
          ],
          "heatmap": [
           {
            "colorbar": {
             "outlinewidth": 0,
             "ticks": ""
            },
            "colorscale": [
             [
              0,
              "#0d0887"
             ],
             [
              0.1111111111111111,
              "#46039f"
             ],
             [
              0.2222222222222222,
              "#7201a8"
             ],
             [
              0.3333333333333333,
              "#9c179e"
             ],
             [
              0.4444444444444444,
              "#bd3786"
             ],
             [
              0.5555555555555556,
              "#d8576b"
             ],
             [
              0.6666666666666666,
              "#ed7953"
             ],
             [
              0.7777777777777778,
              "#fb9f3a"
             ],
             [
              0.8888888888888888,
              "#fdca26"
             ],
             [
              1,
              "#f0f921"
             ]
            ],
            "type": "heatmap"
           }
          ],
          "heatmapgl": [
           {
            "colorbar": {
             "outlinewidth": 0,
             "ticks": ""
            },
            "colorscale": [
             [
              0,
              "#0d0887"
             ],
             [
              0.1111111111111111,
              "#46039f"
             ],
             [
              0.2222222222222222,
              "#7201a8"
             ],
             [
              0.3333333333333333,
              "#9c179e"
             ],
             [
              0.4444444444444444,
              "#bd3786"
             ],
             [
              0.5555555555555556,
              "#d8576b"
             ],
             [
              0.6666666666666666,
              "#ed7953"
             ],
             [
              0.7777777777777778,
              "#fb9f3a"
             ],
             [
              0.8888888888888888,
              "#fdca26"
             ],
             [
              1,
              "#f0f921"
             ]
            ],
            "type": "heatmapgl"
           }
          ],
          "histogram": [
           {
            "marker": {
             "pattern": {
              "fillmode": "overlay",
              "size": 10,
              "solidity": 0.2
             }
            },
            "type": "histogram"
           }
          ],
          "histogram2d": [
           {
            "colorbar": {
             "outlinewidth": 0,
             "ticks": ""
            },
            "colorscale": [
             [
              0,
              "#0d0887"
             ],
             [
              0.1111111111111111,
              "#46039f"
             ],
             [
              0.2222222222222222,
              "#7201a8"
             ],
             [
              0.3333333333333333,
              "#9c179e"
             ],
             [
              0.4444444444444444,
              "#bd3786"
             ],
             [
              0.5555555555555556,
              "#d8576b"
             ],
             [
              0.6666666666666666,
              "#ed7953"
             ],
             [
              0.7777777777777778,
              "#fb9f3a"
             ],
             [
              0.8888888888888888,
              "#fdca26"
             ],
             [
              1,
              "#f0f921"
             ]
            ],
            "type": "histogram2d"
           }
          ],
          "histogram2dcontour": [
           {
            "colorbar": {
             "outlinewidth": 0,
             "ticks": ""
            },
            "colorscale": [
             [
              0,
              "#0d0887"
             ],
             [
              0.1111111111111111,
              "#46039f"
             ],
             [
              0.2222222222222222,
              "#7201a8"
             ],
             [
              0.3333333333333333,
              "#9c179e"
             ],
             [
              0.4444444444444444,
              "#bd3786"
             ],
             [
              0.5555555555555556,
              "#d8576b"
             ],
             [
              0.6666666666666666,
              "#ed7953"
             ],
             [
              0.7777777777777778,
              "#fb9f3a"
             ],
             [
              0.8888888888888888,
              "#fdca26"
             ],
             [
              1,
              "#f0f921"
             ]
            ],
            "type": "histogram2dcontour"
           }
          ],
          "mesh3d": [
           {
            "colorbar": {
             "outlinewidth": 0,
             "ticks": ""
            },
            "type": "mesh3d"
           }
          ],
          "parcoords": [
           {
            "line": {
             "colorbar": {
              "outlinewidth": 0,
              "ticks": ""
             }
            },
            "type": "parcoords"
           }
          ],
          "pie": [
           {
            "automargin": true,
            "type": "pie"
           }
          ],
          "scatter": [
           {
            "fillpattern": {
             "fillmode": "overlay",
             "size": 10,
             "solidity": 0.2
            },
            "type": "scatter"
           }
          ],
          "scatter3d": [
           {
            "line": {
             "colorbar": {
              "outlinewidth": 0,
              "ticks": ""
             }
            },
            "marker": {
             "colorbar": {
              "outlinewidth": 0,
              "ticks": ""
             }
            },
            "type": "scatter3d"
           }
          ],
          "scattercarpet": [
           {
            "marker": {
             "colorbar": {
              "outlinewidth": 0,
              "ticks": ""
             }
            },
            "type": "scattercarpet"
           }
          ],
          "scattergeo": [
           {
            "marker": {
             "colorbar": {
              "outlinewidth": 0,
              "ticks": ""
             }
            },
            "type": "scattergeo"
           }
          ],
          "scattergl": [
           {
            "marker": {
             "colorbar": {
              "outlinewidth": 0,
              "ticks": ""
             }
            },
            "type": "scattergl"
           }
          ],
          "scattermapbox": [
           {
            "marker": {
             "colorbar": {
              "outlinewidth": 0,
              "ticks": ""
             }
            },
            "type": "scattermapbox"
           }
          ],
          "scatterpolar": [
           {
            "marker": {
             "colorbar": {
              "outlinewidth": 0,
              "ticks": ""
             }
            },
            "type": "scatterpolar"
           }
          ],
          "scatterpolargl": [
           {
            "marker": {
             "colorbar": {
              "outlinewidth": 0,
              "ticks": ""
             }
            },
            "type": "scatterpolargl"
           }
          ],
          "scatterternary": [
           {
            "marker": {
             "colorbar": {
              "outlinewidth": 0,
              "ticks": ""
             }
            },
            "type": "scatterternary"
           }
          ],
          "surface": [
           {
            "colorbar": {
             "outlinewidth": 0,
             "ticks": ""
            },
            "colorscale": [
             [
              0,
              "#0d0887"
             ],
             [
              0.1111111111111111,
              "#46039f"
             ],
             [
              0.2222222222222222,
              "#7201a8"
             ],
             [
              0.3333333333333333,
              "#9c179e"
             ],
             [
              0.4444444444444444,
              "#bd3786"
             ],
             [
              0.5555555555555556,
              "#d8576b"
             ],
             [
              0.6666666666666666,
              "#ed7953"
             ],
             [
              0.7777777777777778,
              "#fb9f3a"
             ],
             [
              0.8888888888888888,
              "#fdca26"
             ],
             [
              1,
              "#f0f921"
             ]
            ],
            "type": "surface"
           }
          ],
          "table": [
           {
            "cells": {
             "fill": {
              "color": "#EBF0F8"
             },
             "line": {
              "color": "white"
             }
            },
            "header": {
             "fill": {
              "color": "#C8D4E3"
             },
             "line": {
              "color": "white"
             }
            },
            "type": "table"
           }
          ]
         },
         "layout": {
          "annotationdefaults": {
           "arrowcolor": "#2a3f5f",
           "arrowhead": 0,
           "arrowwidth": 1
          },
          "autotypenumbers": "strict",
          "coloraxis": {
           "colorbar": {
            "outlinewidth": 0,
            "ticks": ""
           }
          },
          "colorscale": {
           "diverging": [
            [
             0,
             "#8e0152"
            ],
            [
             0.1,
             "#c51b7d"
            ],
            [
             0.2,
             "#de77ae"
            ],
            [
             0.3,
             "#f1b6da"
            ],
            [
             0.4,
             "#fde0ef"
            ],
            [
             0.5,
             "#f7f7f7"
            ],
            [
             0.6,
             "#e6f5d0"
            ],
            [
             0.7,
             "#b8e186"
            ],
            [
             0.8,
             "#7fbc41"
            ],
            [
             0.9,
             "#4d9221"
            ],
            [
             1,
             "#276419"
            ]
           ],
           "sequential": [
            [
             0,
             "#0d0887"
            ],
            [
             0.1111111111111111,
             "#46039f"
            ],
            [
             0.2222222222222222,
             "#7201a8"
            ],
            [
             0.3333333333333333,
             "#9c179e"
            ],
            [
             0.4444444444444444,
             "#bd3786"
            ],
            [
             0.5555555555555556,
             "#d8576b"
            ],
            [
             0.6666666666666666,
             "#ed7953"
            ],
            [
             0.7777777777777778,
             "#fb9f3a"
            ],
            [
             0.8888888888888888,
             "#fdca26"
            ],
            [
             1,
             "#f0f921"
            ]
           ],
           "sequentialminus": [
            [
             0,
             "#0d0887"
            ],
            [
             0.1111111111111111,
             "#46039f"
            ],
            [
             0.2222222222222222,
             "#7201a8"
            ],
            [
             0.3333333333333333,
             "#9c179e"
            ],
            [
             0.4444444444444444,
             "#bd3786"
            ],
            [
             0.5555555555555556,
             "#d8576b"
            ],
            [
             0.6666666666666666,
             "#ed7953"
            ],
            [
             0.7777777777777778,
             "#fb9f3a"
            ],
            [
             0.8888888888888888,
             "#fdca26"
            ],
            [
             1,
             "#f0f921"
            ]
           ]
          },
          "colorway": [
           "#636efa",
           "#EF553B",
           "#00cc96",
           "#ab63fa",
           "#FFA15A",
           "#19d3f3",
           "#FF6692",
           "#B6E880",
           "#FF97FF",
           "#FECB52"
          ],
          "font": {
           "color": "#2a3f5f"
          },
          "geo": {
           "bgcolor": "white",
           "lakecolor": "white",
           "landcolor": "#E5ECF6",
           "showlakes": true,
           "showland": true,
           "subunitcolor": "white"
          },
          "hoverlabel": {
           "align": "left"
          },
          "hovermode": "closest",
          "mapbox": {
           "style": "light"
          },
          "paper_bgcolor": "white",
          "plot_bgcolor": "#E5ECF6",
          "polar": {
           "angularaxis": {
            "gridcolor": "white",
            "linecolor": "white",
            "ticks": ""
           },
           "bgcolor": "#E5ECF6",
           "radialaxis": {
            "gridcolor": "white",
            "linecolor": "white",
            "ticks": ""
           }
          },
          "scene": {
           "xaxis": {
            "backgroundcolor": "#E5ECF6",
            "gridcolor": "white",
            "gridwidth": 2,
            "linecolor": "white",
            "showbackground": true,
            "ticks": "",
            "zerolinecolor": "white"
           },
           "yaxis": {
            "backgroundcolor": "#E5ECF6",
            "gridcolor": "white",
            "gridwidth": 2,
            "linecolor": "white",
            "showbackground": true,
            "ticks": "",
            "zerolinecolor": "white"
           },
           "zaxis": {
            "backgroundcolor": "#E5ECF6",
            "gridcolor": "white",
            "gridwidth": 2,
            "linecolor": "white",
            "showbackground": true,
            "ticks": "",
            "zerolinecolor": "white"
           }
          },
          "shapedefaults": {
           "line": {
            "color": "#2a3f5f"
           }
          },
          "ternary": {
           "aaxis": {
            "gridcolor": "white",
            "linecolor": "white",
            "ticks": ""
           },
           "baxis": {
            "gridcolor": "white",
            "linecolor": "white",
            "ticks": ""
           },
           "bgcolor": "#E5ECF6",
           "caxis": {
            "gridcolor": "white",
            "linecolor": "white",
            "ticks": ""
           }
          },
          "title": {
           "x": 0.05
          },
          "xaxis": {
           "automargin": true,
           "gridcolor": "white",
           "linecolor": "white",
           "ticks": "",
           "title": {
            "standoff": 15
           },
           "zerolinecolor": "white",
           "zerolinewidth": 2
          },
          "yaxis": {
           "automargin": true,
           "gridcolor": "white",
           "linecolor": "white",
           "ticks": "",
           "title": {
            "standoff": 15
           },
           "zerolinecolor": "white",
           "zerolinewidth": 2
          }
         }
        },
        "title": {
         "text": "KMeans Clusters"
        },
        "width": 1000
       }
      }
     },
     "metadata": {},
     "output_type": "display_data"
    },
    {
     "name": "stdout",
     "output_type": "stream",
     "text": [
      "          cluster  avg_amount_withdrawal  avg_amount_credit\n",
      "count  328.000000             328.000000         328.000000\n",
      "mean     0.932927               0.719247           0.382279\n",
      "std      0.854068               0.149462           0.221281\n",
      "min      0.000000               0.000000           0.000000\n",
      "25%      0.000000               0.631151           0.210988\n",
      "50%      1.000000               0.740458           0.366599\n",
      "75%      2.000000               0.827277           0.548253\n",
      "max      2.000000               1.000000           1.000000\n"
     ]
    }
   ],
   "source": [
    "cluster.clustering_kmeans(\n",
    "    df[['avg_amount_withdrawal','avg_amount_credit']]\n",
    ") # 'diff_salary_loan'"
   ]
  },
  {
   "cell_type": "code",
   "execution_count": 7,
   "metadata": {},
   "outputs": [
    {
     "data": {
      "image/png": "[encoded data removed]",
      "text/plain": [
       "<Figure size 640x480 with 1 Axes>"
      ]
     },
     "metadata": {},
     "output_type": "display_data"
    },
    {
     "name": "stdout",
     "output_type": "stream",
     "text": [
      "KMedoids Clusters: \n",
      " Counter({2: 129, 0: 112, 1: 87})\n",
      "KMedoids Centers: \n",
      " [[0.59920554 0.62346862]\n",
      " [0.87061624 0.12755548]\n",
      " [0.75926779 0.33603366]]\n",
      "KMedoids Inertia: 38.249840719575396\n",
      "KMedoids Silhouette Score: 0.4054128412656302\n"
     ]
    },
    {
     "data": {
      "application/vnd.plotly.v1+json": {
       "config": {
        "plotlyServerURL": "https://plot.ly"
       },
       "data": [
        {
         "marker": {
          "color": [
           1,
           2,
           2,
           1,
           1,
           2,
           1,
           2,
           2,
           0,
           0,
           0,
           2,
           0,
           1,
           1,
           2,
           2,
           0,
           0,
           0,
           2,
           1,
           1,
           1,
           0,
           2,
           0,
           2,
           1,
           2,
           1,
           1,
           0,
           2,
           1,
           2,
           0,
           1,
           0,
           2,
           0,
           1,
           0,
           2,
           2,
           2,
           2,
           2,
           2,
           0,
           2,
           2,
           1,
           1,
           2,
           2,
           2,
           2,
           0,
           0,
           2,
           2,
           2,
           0,
           0,
           1,
           2,
           0,
           1,
           0,
           1,
           0,
           2,
           1,
           2,
           1,
           1,
           2,
           2,
           1,
           2,
           0,
           0,
           2,
           2,
           0,
           0,
           2,
           2,
           2,
           2,
           1,
           0,
           1,
           2,
           1,
           1,
           2,
           1,
           0,
           1,
           0,
           1,
           0,
           2,
           1,
           1,
           2,
           1,
           1,
           2,
           2,
           2,
           2,
           2,
           2,
           0,
           0,
           0,
           0,
           1,
           1,
           2,
           0,
           2,
           2,
           2,
           1,
           1,
           2,
           0,
           0,
           2,
           2,
           2,
           0,
           0,
           0,
           2,
           0,
           0,
           0,
           2,
           0,
           2,
           2,
           2,
           0,
           0,
           2,
           0,
           2,
           0,
           0,
           2,
           2,
           0,
           1,
           2,
           0,
           1,
           0,
           2,
           0,
           1,
           2,
           1,
           0,
           1,
           1,
           1,
           1,
           2,
           2,
           2,
           2,
           1,
           1,
           0,
           0,
           0,
           0,
           2,
           0,
           0,
           2,
           2,
           0,
           0,
           0,
           1,
           1,
           0,
           0,
           0,
           2,
           0,
           2,
           1,
           1,
           2,
           0,
           0,
           1,
           0,
           2,
           2,
           2,
           2,
           0,
           0,
           1,
           1,
           2,
           2,
           0,
           0,
           1,
           2,
           2,
           2,
           0,
           0,
           2,
           0,
           2,
           0,
           1,
           0,
           1,
           0,
           2,
           2,
           1,
           1,
           1,
           2,
           2,
           0,
           2,
           0,
           1,
           2,
           1,
           1,
           1,
           2,
           0,
           0,
           0,
           1,
           0,
           1,
           1,
           1,
           2,
           0,
           1,
           2,
           2,
           0,
           0,
           2,
           1,
           2,
           0,
           2,
           0,
           0,
           2,
           2,
           1,
           1,
           2,
           1,
           0,
           0,
           2,
           2,
           0,
           0,
           2,
           1,
           2,
           0,
           1,
           0,
           2,
           2,
           1,
           2,
           2,
           0,
           1,
           0,
           2,
           0,
           1,
           1,
           1,
           2,
           2,
           1,
           2,
           2,
           0,
           1,
           1,
           1,
           2,
           2,
           2,
           0,
           0,
           0,
           0,
           2,
           1,
           2,
           0,
           0,
           2,
           0,
           0,
           2,
           0,
           0
          ],
          "colorscale": [
           [
            0,
            "rgb(150,0,90)"
           ],
           [
            0.125,
            "rgb(0,0,200)"
           ],
           [
            0.25,
            "rgb(0,25,255)"
           ],
           [
            0.375,
            "rgb(0,152,255)"
           ],
           [
            0.5,
            "rgb(44,255,150)"
           ],
           [
            0.625,
            "rgb(151,255,0)"
           ],
           [
            0.75,
            "rgb(255,234,0)"
           ],
           [
            0.875,
            "rgb(255,111,0)"
           ],
           [
            1,
            "rgb(255,0,0)"
           ]
          ],
          "line": {
           "width": 0
          },
          "size": 7
         },
         "mode": "markers",
         "type": "scatter",
         "x": [
          0.9999999999999999,
          0.7002704760803138,
          0.6155475550157601,
          0.8809535675413936,
          0.7943041940179095,
          0.7878597274738254,
          0.9365216464584533,
          0.8048991980181794,
          0.7581682619550234,
          0.450083379119555,
          0.5755815157792752,
          0.6151968486227182,
          0.7620743086280519,
          0.4331810339010824,
          0.7575740049931079,
          0.901040748487805,
          0.4714502825893473,
          0.3387505663032686,
          0.3745120152685,
          0.2555321001577615,
          0.6727293520049404,
          0.8243071219262985,
          0.8936421997365867,
          0.8430173602074356,
          0.8706162431112547,
          0.5744920942457161,
          0.6713640920351251,
          0.7357975357373508,
          0.8290945172204389,
          0.9066009509944418,
          0.7276963867441657,
          0.8460697348254821,
          0.9115930581353631,
          0.6287329336990517,
          0.7272296213594713,
          0.9652167160943655,
          0.71608835146616,
          0.5488609414144694,
          0.8466111915838643,
          0.5620088727575497,
          0.7047608710202473,
          0.6263995408612394,
          0.89404992076798,
          0.5833412512513753,
          0.45683082232054206,
          0.6897822503686994,
          0.8179469819650481,
          0.7798997147866468,
          0.6747867325988258,
          0.8771916029181579,
          0.6278592290564182,
          0.7533057652082549,
          0.7403562114498754,
          0.7381992038017022,
          0.8823467607453032,
          0.7615903402317906,
          0.7009790802972029,
          0.7882519483242242,
          0.789200807524363,
          0.5565734555584472,
          0.5980739262729372,
          0.6423855103476861,
          0.804564056262966,
          0.763589270280083,
          0.6283815409897202,
          0.6234510601518495,
          0.8565768180716703,
          0.8651583298975034,
          0.7936015167340218,
          0.8838689344328278,
          0.6070024071468694,
          0.9071789325544855,
          0.5867097324906526,
          0.8266716087671777,
          0.8878118846999833,
          0.6483331461534305,
          0.9238154450351899,
          0.8729419156752236,
          0.7115468031578034,
          0.695480196254205,
          0.935144458795148,
          0.8229596213720443,
          0.7604969366188771,
          0,
          0.7592677884948206,
          0.7081248855344456,
          0.6544734298896024,
          0.5575204181558344,
          0.7958238923543384,
          0.6415420799475626,
          0.7025821501209719,
          0.7886216834904024,
          0.8419910740965655,
          0.5479333192742006,
          0.8225239694887043,
          0.6557478293361819,
          0.7830475309177486,
          0.7604657663649594,
          0.8304228605643696,
          0.8052690000771136,
          0.6515876316484301,
          0.8359761220837388,
          0.7122037318603275,
          0.7683377834327777,
          0.43827535351782765,
          0.7480198182046016,
          0.9190578359327446,
          0.874020684836343,
          0.8454620163042017,
          0.895903145272452,
          0.9439061149507275,
          0.7667855087307871,
          0.656507908967352,
          0.8398558692332057,
          0.8077577156593907,
          0.7861283041154212,
          0.8035804615837883,
          0.5882075550091124,
          0.7739243852597283,
          0.4426611915984692,
          0.627854020776528,
          0.8599905535795185,
          0.8984026874102348,
          0.5765979391380622,
          0.6151810845069063,
          0.8213574957150467,
          0.7441414521140381,
          0.6438699478519032,
          0.9115285243698726,
          0.9510567747098444,
          0.7541906441880415,
          0.6249655561812868,
          0.6595318577013727,
          0.8376540175312139,
          0.6309577431975396,
          0.6312150017932243,
          0.38598266871017795,
          0.620127859501864,
          0.768849808799492,
          0.739465152668935,
          0.6583713940160951,
          0.6485697294703685,
          0.5710133053153786,
          0.6513821012823354,
          0.5987228053940987,
          0.7764295268990766,
          0.7855550796198296,
          0.6579735709774446,
          0.5574462299217222,
          0.7018722897595184,
          0.7405594128993164,
          0.6787255383921013,
          0.8015206733035125,
          0.5957269406128605,
          0.5355033981305539,
          0.7220225394843554,
          0.7233116806359032,
          0.5822754306314641,
          0.8623698211247136,
          0.636239939080227,
          0.5812141298049451,
          0.8313234028684708,
          0.5711762967447584,
          0.6822904084724157,
          0.5716475872450608,
          0.9073801441819913,
          0.6933028413162012,
          0.7942029823698947,
          0.15656959987661812,
          0.9378476138149079,
          0.8448155538204987,
          0.8181892432903103,
          0.8855067698912584,
          0.8090432607501228,
          0.6886940564664603,
          0.7405723759675351,
          0.7161019910014074,
          0.9416919046994087,
          0.8846727008087292,
          0.6888003286968758,
          0.2611549694919174,
          0.6285699428293702,
          0.5992055409500651,
          0.8040302585341768,
          0.6649871183664406,
          0.5153358261799312,
          0.6991033933213163,
          0.7468200892757981,
          0.7035783322544837,
          0.6867744855512703,
          0.2300417591762549,
          0.6693752831516342,
          0.8292724876500053,
          0.5044042033019855,
          0.6814985642940299,
          0.5718022931100666,
          0.8139254128236516,
          0.24342718705519073,
          0.6019008511417636,
          0.8707709832725778,
          0.8528739758639019,
          0.7592252636008128,
          0.534575537626635,
          0.6973034106134652,
          0.8785460223822329,
          0.6291558077065836,
          0.70467426235987,
          0.5839617811208807,
          0.6923165900349902,
          0.6986693078087195,
          0.6446841393314888,
          0.6835917567005446,
          0.7828664839753893,
          0.7754244510331242,
          0.7467522128222126,
          0.661333401878788,
          0.6334399750665908,
          0.5086406432241211,
          0.9012295769353111,
          0.6938565065166378,
          0.7118639329882497,
          0.8395034417315437,
          0.49071153395088496,
          0.13005214809673904,
          0.7803085435236037,
          0.7278208743504808,
          0.8339540104786916,
          0.665001527701841,
          0.8651168001226294,
          0.6606204755983536,
          0.8211927551738429,
          0.587964999481184,
          0.8167956021499874,
          0.7148013199284128,
          0.8602360480546478,
          0.9013926055437289,
          0.8896460484080853,
          0.7746703453825861,
          0.7475813059132166,
          0.48854380536518116,
          0.7475216766851529,
          0.6920100633295738,
          0.9999999999999999,
          0.7834863164766062,
          0.8849940477911762,
          0.8859780499246535,
          0.9017324863685581,
          0.772701741217532,
          0.7959677536476356,
          0.5888022645704609,
          0.6654488616099399,
          0.89993827201687,
          0.7600940702547139,
          0.9149351763492476,
          0.805613752253164,
          0.873825691050641,
          0.6647119902065681,
          0.62792067898557,
          0.6772473002194526,
          0.8793100208560662,
          0.7490425776961436,
          0.5777439664140454,
          0.5732024181056886,
          0.7647020953094107,
          0.8763029089473682,
          0.7814755160139124,
          0.6888949407193886,
          0.654755822882829,
          0.6700057942329709,
          0.4759092179713329,
          0.8332592828217592,
          0.6825706580470756,
          0.8162873639667254,
          0.8580915561309418,
          0.7809025515384682,
          0.8212972493617934,
          0.5864156734634742,
          0.6251735538783338,
          0.6410376574512949,
          0.6559755139328483,
          0.7829072103879078,
          0.5368615713831294,
          0.864636259405063,
          0.9310656395810687,
          0.7447759073529947,
          0.6282474199996457,
          0.8571019498781305,
          0.5957578549189548,
          0.7925327255720347,
          0.8208523159941568,
          0.7447217322293229,
          0.6939314781077599,
          0.7804765140780582,
          0.7070421786933676,
          0.8983902528363359,
          0.5224686438229955,
          0.8242101434447856,
          0.48334336686900226,
          0.9019327982197765,
          0.8976262346523471,
          0.9005866784219422,
          0.5960570833694803,
          0.6534029605210311,
          0.900017629597837,
          0.8753561889325904,
          0.897682154133889,
          0.7009969772588482,
          0.8486048054647863,
          0.9104282026768362,
          0.8117400370788068,
          0.7203394445890324,
          0.7986350602818842,
          0.809520507069511,
          0.5199192234656794,
          0.7306014683939467,
          0.606558302402106,
          0.7816731548485032,
          0.8357482922965336,
          0.829652525331674,
          0.7854022717560497,
          0.47789248431219444,
          0.4309656233834249,
          0.7042370730234007,
          0.6231641387021707,
          0.6861483888811033,
          0.7905228903754105,
          0.6439754880483866,
          0.510289915142869
         ],
         "y": [
          0.10013096370425442,
          0.4496031640292065,
          0.42936659380272557,
          0.16478220532454943,
          0.09950314823240713,
          0.35383426430742326,
          0.051414008077357326,
          0.3364845721440475,
          0.27406600648102963,
          0.43445641022434756,
          0.4881098132695355,
          0.5628460449932644,
          0.3208566399955244,
          0.7676001422679554,
          0.18483259213420614,
          0.11359948858891836,
          0.17500618337888404,
          0.19500179283696076,
          0.40189960460139884,
          0.4687349522170594,
          0.9259676090234347,
          0.3093926210636613,
          0.07048264241023441,
          0.04530638035844059,
          0.1275554771711438,
          0.6545009353903459,
          0.44350421813248786,
          0.5376019122438792,
          0.2519666371704046,
          0.2041861721301633,
          0.3626614958819776,
          0.20403873244856727,
          0.21424268874141808,
          0.564291159377152,
          0.4335986470551152,
          0,
          0.22254910595959912,
          0.8622807525890533,
          0.20383369498900736,
          0.636046004878524,
          0.4593294412686576,
          0.5529212719952936,
          0.04708697405780837,
          1,
          0.3091729541873216,
          0.3748999254475964,
          0.36816549575745805,
          0.3760001602234877,
          0.3547257301169293,
          0.3876147049139921,
          0.48744444728110337,
          0.444042476229894,
          0.45201615602492395,
          0.18018977335004263,
          0.11361563128161267,
          0.2955535099416855,
          0.22526340590325591,
          0.3209542143334475,
          0.32097028979908226,
          0.7301264117990816,
          0.728561477882125,
          0.2258160571501259,
          0.3815452548017553,
          0.43318341611622047,
          0.46424430590313337,
          0.7049225631811812,
          0.09254983611493056,
          0.36717688960084893,
          0.6057692724777866,
          0.09408283011760238,
          0.5850743089681784,
          0.08252855314293164,
          0.4555122171136725,
          0.2581654361406114,
          0.08232094909661883,
          0.40516186825716316,
          0.08992276793040738,
          0.2134730538538965,
          0.247446904629931,
          0.43690209129538327,
          0.12667484003550764,
          0.27548942042418745,
          0.731663536955244,
          0.7615260894065466,
          0.33603365533299034,
          0.3441164188024616,
          0.4818673253600104,
          0.6097112124285564,
          0.4267657110111631,
          0.2238164374567694,
          0.3609674735941997,
          0.29313350258014803,
          0.14568916562274722,
          0.5466971597576283,
          0.10439076872781117,
          0.44323415159895374,
          0.20577857876590103,
          0.0941447843034744,
          0.2840170187874236,
          0.15029472741440383,
          0.6816038838338506,
          0.23592307821040662,
          0.8054882960472696,
          0.14826713861558757,
          0.37368305008384317,
          0.37971455963350886,
          0.17075403579445084,
          0.20983966124536488,
          0.3036403920265933,
          0.09738172528780639,
          0.04610858151403238,
          0.383769612567908,
          0.45115481350424924,
          0.2547234413032706,
          0.30771924609148305,
          0.4298060521714173,
          0.2857949154402314,
          0.5979831497746233,
          0.6265354631750206,
          0.4353970789889343,
          0.6979986437317584,
          0.017384905603641046,
          0.11895935727962814,
          0.13122564965050915,
          0.5852963186096205,
          0.2666145816185709,
          0.2251370089200683,
          0.39771226624469946,
          0.05696008266387975,
          0.007147928305703571,
          0.42068098233541973,
          0.7354875185808396,
          0.47245339463912095,
          0.25058630978346186,
          0.44200272478042957,
          0.4397017947838706,
          0.39228402537018403,
          0.9664715537403915,
          0.5585138939286951,
          0.5073594257284088,
          0.5116558647684075,
          0.4682129428319398,
          0.5865186635327126,
          0.20874125832485993,
          0.5739514813486606,
          0.21587764155499187,
          0.3505826059665835,
          0.3821894014169186,
          0.7902592579305231,
          0.613646624902281,
          0.25992385591966405,
          0.5531841864903433,
          0.42489087498755573,
          0.4722162014107132,
          0.661853589026689,
          0.2720206918192387,
          0.22737581762661643,
          0.5369546088338518,
          0.10272161637638424,
          0.34379122019991604,
          0.6477063227248241,
          0.23882106731003752,
          0.6481440692630261,
          0.19492341381556125,
          0.6632162238977968,
          0.03660353152953416,
          0.3420706676822731,
          0.14500839249938094,
          0.45879385519140714,
          0.024238300339892382,
          0.20988769324128967,
          0.2120310753668931,
          0.1894848318889277,
          0.2930411789547589,
          0.4683053391833474,
          0.24486744662960638,
          0.37807837383728593,
          0.06639315887217961,
          0.21431288193338413,
          0.5921701165349519,
          0.5386317414160614,
          0.562852654092508,
          0.6234686197584343,
          0.30141047000279897,
          0.7777641415531175,
          0.5721955818185513,
          0.23831678784542012,
          0.36882614832026084,
          0.6129760137993616,
          0.6240288816686616,
          0.481919534051233,
          0.08681748737430597,
          0.19439299817237118,
          0.7439861441792763,
          0.6418186124611559,
          0.7664608835084032,
          0.2569320692097802,
          0.6355227110873064,
          0.2014112156895456,
          0.15867336609536156,
          0.12384398309181141,
          0.38642768647490966,
          0.6536033933519912,
          0.7973560188023642,
          0.06797666780223996,
          0.5742818658870833,
          0.45916819802830044,
          0.33407951799193925,
          0.40731209022322024,
          0.2777085013774625,
          0.9529542669631313,
          0.558754160722044,
          0.06631443629471223,
          0.10999089687602939,
          0.48881261894584316,
          0.44852524524352244,
          0.5463653013817837,
          0.7804995449218156,
          0.02171027881319748,
          0.3972194206896459,
          0.1852643866181186,
          0.28294452353595345,
          0.6772307762788392,
          0.8987965466266218,
          0.3917516471809549,
          0.6777343619815435,
          0.27500331274346246,
          0.7210645050920591,
          0.24651286968833322,
          0.6656450961716806,
          0.17060667735946486,
          0.6497589311612386,
          0.5184717081760012,
          0.4057247138797365,
          0.160900798991829,
          0.07531605248463769,
          0.04615117011063938,
          0.4274663242254727,
          0.2719598736020863,
          0.5121402131310033,
          0.40239068414837265,
          0.509725991649852,
          0.07854123950863146,
          0.2735380084353336,
          0.14708470711773716,
          0.1470947823223617,
          0.07684754767581564,
          0.4693605705583572,
          0.6541887792017116,
          0.6688407959316754,
          0.6200806273319707,
          0.2558549145920399,
          0.7429236969184927,
          0.0631267219459101,
          0.21995755575547324,
          0.15304577389964327,
          0.2562956758426297,
          0.5753089307640945,
          0.0582183866210462,
          0.3281100938974413,
          0.36892261870691867,
          0.840798579800868,
          0.8408070614782306,
          0.244882045395491,
          0.15661326390540067,
          0.48742298936230577,
          0.7407360749270349,
          0.26604920915374053,
          0.4867488697754315,
          0.747407794188625,
          0.26643051977374976,
          0.41790823940167376,
          0.14395952731966769,
          0.22009247190299444,
          0.2634896852648717,
          0.21211575887061632,
          0.49540624673815414,
          0.5804583251427908,
          0.32688284697139947,
          0.44526047610480934,
          0.7240057505348184,
          0.6736892311367495,
          0.32008455334990826,
          0.059817175554593094,
          0.2454292318148185,
          0.692495897533727,
          0.18366076545903418,
          0.636600900686075,
          0.49016923039847393,
          0.4348072816478924,
          0.1704755397754618,
          0.3425399757398675,
          0.32432168988833265,
          0.6046543000523676,
          0.08189857489095326,
          0.4269291537853699,
          0.36602013730934335,
          0.6946403449984273,
          0.052554823759492525,
          0.10608140946340044,
          0.22362443284292297,
          0.4075482802242555,
          0.251738462028372,
          0.04451661218440878,
          0.2799966509241618,
          0.3286135755515861,
          0.5907293206607834,
          0.15837110812076197,
          0.056313610928775126,
          0.20329307630524,
          0.3644481908316367,
          0.3422576154376663,
          0.3441731059707528,
          0.8132734805951317,
          0.6607910158612321,
          0.7806816786419574,
          0.579209428136881,
          0.29789373690800247,
          0.11989385453889284,
          0.24266426667954824,
          0.4838896820575923,
          0.3957263053564464,
          0.21135472960997,
          0.7416110174972318,
          0.6120331214001775,
          0.5066247098761605,
          0.5357831363305053,
          0.7382392971983359
         ]
        }
       ],
       "layout": {
        "font": {
         "size": 16
        },
        "height": 1000,
        "scene": {
         "xaxis": {
          "title": {
           "text": "avg_amount_withdrawal"
          }
         },
         "yaxis": {
          "title": {
           "text": "avg_amount_credit"
          }
         }
        },
        "template": {
         "data": {
          "bar": [
           {
            "error_x": {
             "color": "#2a3f5f"
            },
            "error_y": {
             "color": "#2a3f5f"
            },
            "marker": {
             "line": {
              "color": "#E5ECF6",
              "width": 0.5
             },
             "pattern": {
              "fillmode": "overlay",
              "size": 10,
              "solidity": 0.2
             }
            },
            "type": "bar"
           }
          ],
          "barpolar": [
           {
            "marker": {
             "line": {
              "color": "#E5ECF6",
              "width": 0.5
             },
             "pattern": {
              "fillmode": "overlay",
              "size": 10,
              "solidity": 0.2
             }
            },
            "type": "barpolar"
           }
          ],
          "carpet": [
           {
            "aaxis": {
             "endlinecolor": "#2a3f5f",
             "gridcolor": "white",
             "linecolor": "white",
             "minorgridcolor": "white",
             "startlinecolor": "#2a3f5f"
            },
            "baxis": {
             "endlinecolor": "#2a3f5f",
             "gridcolor": "white",
             "linecolor": "white",
             "minorgridcolor": "white",
             "startlinecolor": "#2a3f5f"
            },
            "type": "carpet"
           }
          ],
          "choropleth": [
           {
            "colorbar": {
             "outlinewidth": 0,
             "ticks": ""
            },
            "type": "choropleth"
           }
          ],
          "contour": [
           {
            "colorbar": {
             "outlinewidth": 0,
             "ticks": ""
            },
            "colorscale": [
             [
              0,
              "#0d0887"
             ],
             [
              0.1111111111111111,
              "#46039f"
             ],
             [
              0.2222222222222222,
              "#7201a8"
             ],
             [
              0.3333333333333333,
              "#9c179e"
             ],
             [
              0.4444444444444444,
              "#bd3786"
             ],
             [
              0.5555555555555556,
              "#d8576b"
             ],
             [
              0.6666666666666666,
              "#ed7953"
             ],
             [
              0.7777777777777778,
              "#fb9f3a"
             ],
             [
              0.8888888888888888,
              "#fdca26"
             ],
             [
              1,
              "#f0f921"
             ]
            ],
            "type": "contour"
           }
          ],
          "contourcarpet": [
           {
            "colorbar": {
             "outlinewidth": 0,
             "ticks": ""
            },
            "type": "contourcarpet"
           }
          ],
          "heatmap": [
           {
            "colorbar": {
             "outlinewidth": 0,
             "ticks": ""
            },
            "colorscale": [
             [
              0,
              "#0d0887"
             ],
             [
              0.1111111111111111,
              "#46039f"
             ],
             [
              0.2222222222222222,
              "#7201a8"
             ],
             [
              0.3333333333333333,
              "#9c179e"
             ],
             [
              0.4444444444444444,
              "#bd3786"
             ],
             [
              0.5555555555555556,
              "#d8576b"
             ],
             [
              0.6666666666666666,
              "#ed7953"
             ],
             [
              0.7777777777777778,
              "#fb9f3a"
             ],
             [
              0.8888888888888888,
              "#fdca26"
             ],
             [
              1,
              "#f0f921"
             ]
            ],
            "type": "heatmap"
           }
          ],
          "heatmapgl": [
           {
            "colorbar": {
             "outlinewidth": 0,
             "ticks": ""
            },
            "colorscale": [
             [
              0,
              "#0d0887"
             ],
             [
              0.1111111111111111,
              "#46039f"
             ],
             [
              0.2222222222222222,
              "#7201a8"
             ],
             [
              0.3333333333333333,
              "#9c179e"
             ],
             [
              0.4444444444444444,
              "#bd3786"
             ],
             [
              0.5555555555555556,
              "#d8576b"
             ],
             [
              0.6666666666666666,
              "#ed7953"
             ],
             [
              0.7777777777777778,
              "#fb9f3a"
             ],
             [
              0.8888888888888888,
              "#fdca26"
             ],
             [
              1,
              "#f0f921"
             ]
            ],
            "type": "heatmapgl"
           }
          ],
          "histogram": [
           {
            "marker": {
             "pattern": {
              "fillmode": "overlay",
              "size": 10,
              "solidity": 0.2
             }
            },
            "type": "histogram"
           }
          ],
          "histogram2d": [
           {
            "colorbar": {
             "outlinewidth": 0,
             "ticks": ""
            },
            "colorscale": [
             [
              0,
              "#0d0887"
             ],
             [
              0.1111111111111111,
              "#46039f"
             ],
             [
              0.2222222222222222,
              "#7201a8"
             ],
             [
              0.3333333333333333,
              "#9c179e"
             ],
             [
              0.4444444444444444,
              "#bd3786"
             ],
             [
              0.5555555555555556,
              "#d8576b"
             ],
             [
              0.6666666666666666,
              "#ed7953"
             ],
             [
              0.7777777777777778,
              "#fb9f3a"
             ],
             [
              0.8888888888888888,
              "#fdca26"
             ],
             [
              1,
              "#f0f921"
             ]
            ],
            "type": "histogram2d"
           }
          ],
          "histogram2dcontour": [
           {
            "colorbar": {
             "outlinewidth": 0,
             "ticks": ""
            },
            "colorscale": [
             [
              0,
              "#0d0887"
             ],
             [
              0.1111111111111111,
              "#46039f"
             ],
             [
              0.2222222222222222,
              "#7201a8"
             ],
             [
              0.3333333333333333,
              "#9c179e"
             ],
             [
              0.4444444444444444,
              "#bd3786"
             ],
             [
              0.5555555555555556,
              "#d8576b"
             ],
             [
              0.6666666666666666,
              "#ed7953"
             ],
             [
              0.7777777777777778,
              "#fb9f3a"
             ],
             [
              0.8888888888888888,
              "#fdca26"
             ],
             [
              1,
              "#f0f921"
             ]
            ],
            "type": "histogram2dcontour"
           }
          ],
          "mesh3d": [
           {
            "colorbar": {
             "outlinewidth": 0,
             "ticks": ""
            },
            "type": "mesh3d"
           }
          ],
          "parcoords": [
           {
            "line": {
             "colorbar": {
              "outlinewidth": 0,
              "ticks": ""
             }
            },
            "type": "parcoords"
           }
          ],
          "pie": [
           {
            "automargin": true,
            "type": "pie"
           }
          ],
          "scatter": [
           {
            "fillpattern": {
             "fillmode": "overlay",
             "size": 10,
             "solidity": 0.2
            },
            "type": "scatter"
           }
          ],
          "scatter3d": [
           {
            "line": {
             "colorbar": {
              "outlinewidth": 0,
              "ticks": ""
             }
            },
            "marker": {
             "colorbar": {
              "outlinewidth": 0,
              "ticks": ""
             }
            },
            "type": "scatter3d"
           }
          ],
          "scattercarpet": [
           {
            "marker": {
             "colorbar": {
              "outlinewidth": 0,
              "ticks": ""
             }
            },
            "type": "scattercarpet"
           }
          ],
          "scattergeo": [
           {
            "marker": {
             "colorbar": {
              "outlinewidth": 0,
              "ticks": ""
             }
            },
            "type": "scattergeo"
           }
          ],
          "scattergl": [
           {
            "marker": {
             "colorbar": {
              "outlinewidth": 0,
              "ticks": ""
             }
            },
            "type": "scattergl"
           }
          ],
          "scattermapbox": [
           {
            "marker": {
             "colorbar": {
              "outlinewidth": 0,
              "ticks": ""
             }
            },
            "type": "scattermapbox"
           }
          ],
          "scatterpolar": [
           {
            "marker": {
             "colorbar": {
              "outlinewidth": 0,
              "ticks": ""
             }
            },
            "type": "scatterpolar"
           }
          ],
          "scatterpolargl": [
           {
            "marker": {
             "colorbar": {
              "outlinewidth": 0,
              "ticks": ""
             }
            },
            "type": "scatterpolargl"
           }
          ],
          "scatterternary": [
           {
            "marker": {
             "colorbar": {
              "outlinewidth": 0,
              "ticks": ""
             }
            },
            "type": "scatterternary"
           }
          ],
          "surface": [
           {
            "colorbar": {
             "outlinewidth": 0,
             "ticks": ""
            },
            "colorscale": [
             [
              0,
              "#0d0887"
             ],
             [
              0.1111111111111111,
              "#46039f"
             ],
             [
              0.2222222222222222,
              "#7201a8"
             ],
             [
              0.3333333333333333,
              "#9c179e"
             ],
             [
              0.4444444444444444,
              "#bd3786"
             ],
             [
              0.5555555555555556,
              "#d8576b"
             ],
             [
              0.6666666666666666,
              "#ed7953"
             ],
             [
              0.7777777777777778,
              "#fb9f3a"
             ],
             [
              0.8888888888888888,
              "#fdca26"
             ],
             [
              1,
              "#f0f921"
             ]
            ],
            "type": "surface"
           }
          ],
          "table": [
           {
            "cells": {
             "fill": {
              "color": "#EBF0F8"
             },
             "line": {
              "color": "white"
             }
            },
            "header": {
             "fill": {
              "color": "#C8D4E3"
             },
             "line": {
              "color": "white"
             }
            },
            "type": "table"
           }
          ]
         },
         "layout": {
          "annotationdefaults": {
           "arrowcolor": "#2a3f5f",
           "arrowhead": 0,
           "arrowwidth": 1
          },
          "autotypenumbers": "strict",
          "coloraxis": {
           "colorbar": {
            "outlinewidth": 0,
            "ticks": ""
           }
          },
          "colorscale": {
           "diverging": [
            [
             0,
             "#8e0152"
            ],
            [
             0.1,
             "#c51b7d"
            ],
            [
             0.2,
             "#de77ae"
            ],
            [
             0.3,
             "#f1b6da"
            ],
            [
             0.4,
             "#fde0ef"
            ],
            [
             0.5,
             "#f7f7f7"
            ],
            [
             0.6,
             "#e6f5d0"
            ],
            [
             0.7,
             "#b8e186"
            ],
            [
             0.8,
             "#7fbc41"
            ],
            [
             0.9,
             "#4d9221"
            ],
            [
             1,
             "#276419"
            ]
           ],
           "sequential": [
            [
             0,
             "#0d0887"
            ],
            [
             0.1111111111111111,
             "#46039f"
            ],
            [
             0.2222222222222222,
             "#7201a8"
            ],
            [
             0.3333333333333333,
             "#9c179e"
            ],
            [
             0.4444444444444444,
             "#bd3786"
            ],
            [
             0.5555555555555556,
             "#d8576b"
            ],
            [
             0.6666666666666666,
             "#ed7953"
            ],
            [
             0.7777777777777778,
             "#fb9f3a"
            ],
            [
             0.8888888888888888,
             "#fdca26"
            ],
            [
             1,
             "#f0f921"
            ]
           ],
           "sequentialminus": [
            [
             0,
             "#0d0887"
            ],
            [
             0.1111111111111111,
             "#46039f"
            ],
            [
             0.2222222222222222,
             "#7201a8"
            ],
            [
             0.3333333333333333,
             "#9c179e"
            ],
            [
             0.4444444444444444,
             "#bd3786"
            ],
            [
             0.5555555555555556,
             "#d8576b"
            ],
            [
             0.6666666666666666,
             "#ed7953"
            ],
            [
             0.7777777777777778,
             "#fb9f3a"
            ],
            [
             0.8888888888888888,
             "#fdca26"
            ],
            [
             1,
             "#f0f921"
            ]
           ]
          },
          "colorway": [
           "#636efa",
           "#EF553B",
           "#00cc96",
           "#ab63fa",
           "#FFA15A",
           "#19d3f3",
           "#FF6692",
           "#B6E880",
           "#FF97FF",
           "#FECB52"
          ],
          "font": {
           "color": "#2a3f5f"
          },
          "geo": {
           "bgcolor": "white",
           "lakecolor": "white",
           "landcolor": "#E5ECF6",
           "showlakes": true,
           "showland": true,
           "subunitcolor": "white"
          },
          "hoverlabel": {
           "align": "left"
          },
          "hovermode": "closest",
          "mapbox": {
           "style": "light"
          },
          "paper_bgcolor": "white",
          "plot_bgcolor": "#E5ECF6",
          "polar": {
           "angularaxis": {
            "gridcolor": "white",
            "linecolor": "white",
            "ticks": ""
           },
           "bgcolor": "#E5ECF6",
           "radialaxis": {
            "gridcolor": "white",
            "linecolor": "white",
            "ticks": ""
           }
          },
          "scene": {
           "xaxis": {
            "backgroundcolor": "#E5ECF6",
            "gridcolor": "white",
            "gridwidth": 2,
            "linecolor": "white",
            "showbackground": true,
            "ticks": "",
            "zerolinecolor": "white"
           },
           "yaxis": {
            "backgroundcolor": "#E5ECF6",
            "gridcolor": "white",
            "gridwidth": 2,
            "linecolor": "white",
            "showbackground": true,
            "ticks": "",
            "zerolinecolor": "white"
           },
           "zaxis": {
            "backgroundcolor": "#E5ECF6",
            "gridcolor": "white",
            "gridwidth": 2,
            "linecolor": "white",
            "showbackground": true,
            "ticks": "",
            "zerolinecolor": "white"
           }
          },
          "shapedefaults": {
           "line": {
            "color": "#2a3f5f"
           }
          },
          "ternary": {
           "aaxis": {
            "gridcolor": "white",
            "linecolor": "white",
            "ticks": ""
           },
           "baxis": {
            "gridcolor": "white",
            "linecolor": "white",
            "ticks": ""
           },
           "bgcolor": "#E5ECF6",
           "caxis": {
            "gridcolor": "white",
            "linecolor": "white",
            "ticks": ""
           }
          },
          "title": {
           "x": 0.05
          },
          "xaxis": {
           "automargin": true,
           "gridcolor": "white",
           "linecolor": "white",
           "ticks": "",
           "title": {
            "standoff": 15
           },
           "zerolinecolor": "white",
           "zerolinewidth": 2
          },
          "yaxis": {
           "automargin": true,
           "gridcolor": "white",
           "linecolor": "white",
           "ticks": "",
           "title": {
            "standoff": 15
           },
           "zerolinecolor": "white",
           "zerolinewidth": 2
          }
         }
        },
        "title": {
         "text": "KMedoids Clusters"
        },
        "width": 1000
       }
      }
     },
     "metadata": {},
     "output_type": "display_data"
    }
   ],
   "source": [
    "cluster.clustering_kmedoids(df[['avg_amount_withdrawal','avg_amount_credit']])"
   ]
  },
  {
   "cell_type": "code",
   "execution_count": 8,
   "metadata": {},
   "outputs": [
    {
     "ename": "KeyError",
     "evalue": "\"['credit'] not in index\"",
     "output_type": "error",
     "traceback": [
      "\u001b[1;31m---------------------------------------------------------------------------\u001b[0m",
      "\u001b[1;31mKeyError\u001b[0m                                  Traceback (most recent call last)",
      "Cell \u001b[1;32mIn [8], line 1\u001b[0m\n\u001b[1;32m----> 1\u001b[0m cluster\u001b[39m.\u001b[39mclustering_dbscan(df[[\u001b[39m'\u001b[39;49m\u001b[39mcredit\u001b[39;49m\u001b[39m'\u001b[39;49m,\u001b[39m'\u001b[39;49m\u001b[39mfrequency\u001b[39;49m\u001b[39m'\u001b[39;49m]],\u001b[39m0.2\u001b[39m, \u001b[39m3\u001b[39m)\n",
      "File \u001b[1;32mc:\\Users\\joaoa\\AppData\\Local\\Programs\\Python\\Python310\\lib\\site-packages\\pandas\\core\\frame.py:3811\u001b[0m, in \u001b[0;36mDataFrame.__getitem__\u001b[1;34m(self, key)\u001b[0m\n\u001b[0;32m   3809\u001b[0m     \u001b[39mif\u001b[39;00m is_iterator(key):\n\u001b[0;32m   3810\u001b[0m         key \u001b[39m=\u001b[39m \u001b[39mlist\u001b[39m(key)\n\u001b[1;32m-> 3811\u001b[0m     indexer \u001b[39m=\u001b[39m \u001b[39mself\u001b[39;49m\u001b[39m.\u001b[39;49mcolumns\u001b[39m.\u001b[39;49m_get_indexer_strict(key, \u001b[39m\"\u001b[39;49m\u001b[39mcolumns\u001b[39;49m\u001b[39m\"\u001b[39;49m)[\u001b[39m1\u001b[39m]\n\u001b[0;32m   3813\u001b[0m \u001b[39m# take() does not accept boolean indexers\u001b[39;00m\n\u001b[0;32m   3814\u001b[0m \u001b[39mif\u001b[39;00m \u001b[39mgetattr\u001b[39m(indexer, \u001b[39m\"\u001b[39m\u001b[39mdtype\u001b[39m\u001b[39m\"\u001b[39m, \u001b[39mNone\u001b[39;00m) \u001b[39m==\u001b[39m \u001b[39mbool\u001b[39m:\n",
      "File \u001b[1;32mc:\\Users\\joaoa\\AppData\\Local\\Programs\\Python\\Python310\\lib\\site-packages\\pandas\\core\\indexes\\base.py:6108\u001b[0m, in \u001b[0;36mIndex._get_indexer_strict\u001b[1;34m(self, key, axis_name)\u001b[0m\n\u001b[0;32m   6105\u001b[0m \u001b[39melse\u001b[39;00m:\n\u001b[0;32m   6106\u001b[0m     keyarr, indexer, new_indexer \u001b[39m=\u001b[39m \u001b[39mself\u001b[39m\u001b[39m.\u001b[39m_reindex_non_unique(keyarr)\n\u001b[1;32m-> 6108\u001b[0m \u001b[39mself\u001b[39;49m\u001b[39m.\u001b[39;49m_raise_if_missing(keyarr, indexer, axis_name)\n\u001b[0;32m   6110\u001b[0m keyarr \u001b[39m=\u001b[39m \u001b[39mself\u001b[39m\u001b[39m.\u001b[39mtake(indexer)\n\u001b[0;32m   6111\u001b[0m \u001b[39mif\u001b[39;00m \u001b[39misinstance\u001b[39m(key, Index):\n\u001b[0;32m   6112\u001b[0m     \u001b[39m# GH 42790 - Preserve name from an Index\u001b[39;00m\n",
      "File \u001b[1;32mc:\\Users\\joaoa\\AppData\\Local\\Programs\\Python\\Python310\\lib\\site-packages\\pandas\\core\\indexes\\base.py:6171\u001b[0m, in \u001b[0;36mIndex._raise_if_missing\u001b[1;34m(self, key, indexer, axis_name)\u001b[0m\n\u001b[0;32m   6168\u001b[0m     \u001b[39mraise\u001b[39;00m \u001b[39mKeyError\u001b[39;00m(\u001b[39mf\u001b[39m\u001b[39m\"\u001b[39m\u001b[39mNone of [\u001b[39m\u001b[39m{\u001b[39;00mkey\u001b[39m}\u001b[39;00m\u001b[39m] are in the [\u001b[39m\u001b[39m{\u001b[39;00maxis_name\u001b[39m}\u001b[39;00m\u001b[39m]\u001b[39m\u001b[39m\"\u001b[39m)\n\u001b[0;32m   6170\u001b[0m not_found \u001b[39m=\u001b[39m \u001b[39mlist\u001b[39m(ensure_index(key)[missing_mask\u001b[39m.\u001b[39mnonzero()[\u001b[39m0\u001b[39m]]\u001b[39m.\u001b[39munique())\n\u001b[1;32m-> 6171\u001b[0m \u001b[39mraise\u001b[39;00m \u001b[39mKeyError\u001b[39;00m(\u001b[39mf\u001b[39m\u001b[39m\"\u001b[39m\u001b[39m{\u001b[39;00mnot_found\u001b[39m}\u001b[39;00m\u001b[39m not in index\u001b[39m\u001b[39m\"\u001b[39m)\n",
      "\u001b[1;31mKeyError\u001b[0m: \"['credit'] not in index\""
     ]
    }
   ],
   "source": [
    "cluster.clustering_dbscan(df[['credit','frequency']],0.2, 3)"
   ]
  }
 ],
 "metadata": {
  "kernelspec": {
   "display_name": "Python 3.10.5 64-bit",
   "language": "python",
   "name": "python3"
  },
  "language_info": {
   "codemirror_mode": {
    "name": "ipython",
    "version": 3
   },
   "file_extension": ".py",
   "mimetype": "text/x-python",
   "name": "python",
   "nbconvert_exporter": "python",
   "pygments_lexer": "ipython3",
   "version": "3.10.5"
  },
  "orig_nbformat": 4,
  "vscode": {
   "interpreter": {
    "hash": "4faa59b1914308717cc78f809b0e619aee1c6f74c4ddccad8c7692e74bb65391"
   }
  }
 },
 "nbformat": 4,
 "nbformat_minor": 2
}
