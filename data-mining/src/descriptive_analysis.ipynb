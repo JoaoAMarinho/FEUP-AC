{
 "cells": [
  {
   "cell_type": "markdown",
   "metadata": {},
   "source": [
    "### Imports\n"
   ]
  },
  {
   "cell_type": "code",
   "execution_count": null,
   "metadata": {},
   "outputs": [],
   "source": [
    "from utils.ml_utils import draw_decision_tree\n",
    "import utils.clustering_utils as cluster\n",
    "import pandas as pd\n"
   ]
  },
  {
   "cell_type": "markdown",
   "metadata": {},
   "source": [
    "### Read DFs\n"
   ]
  },
  {
   "cell_type": "code",
   "execution_count": null,
   "metadata": {},
   "outputs": [],
   "source": [
    "# account = pd.read_csv('../data/account.csv', delimiter=';')\n",
    "# disp = pd.read_csv('../data/disp.csv', delimiter=';')\n",
    "# client = pd.read_csv('../data/client.csv', delimiter=';')\n",
    "# district = pd.read_csv('../data/district.csv', delimiter=';')\n",
    "# card_dev = pd.read_csv('../data/card_dev.csv', delimiter=';')\n",
    "# trans_dev = pd.read_csv('../data/trans_dev.csv', delimiter=';', dtype={'bank': str})\n",
    "\n",
    "# dfs = [\n",
    "#     account,\n",
    "#     disp,\n",
    "#     client,\n",
    "#     district,\n",
    "#     card_dev,\n",
    "#     trans_dev\n",
    "# ]\n",
    "# df = cluster.merge_transactions_clients(dfs)\n"
   ]
  },
  {
   "cell_type": "code",
   "execution_count": null,
   "metadata": {},
   "outputs": [],
   "source": [
    "df = pd.read_csv(\"../data/clean/df-train.csv\")\n",
    "df[\"status\"] = df[\"status\"].replace([0, 1], [1, -1])\n",
    "# df.columns"
   ]
  },
  {
   "cell_type": "markdown",
   "metadata": {},
   "source": [
    "### Clustering\n"
   ]
  },
  {
   "cell_type": "markdown",
   "metadata": {},
   "source": [
    "In this section we will try to find groups of clients or transactions. To do that, we will use PCA alongside KMeans.\n",
    "\n",
    "PCA is used to reduce the dimensionality of our features.\n",
    "\n",
    "KMeans was used to generate the clusters because it is a fast algorithm and it uses a stochastic approach that frequently works well.\n"
   ]
  },
  {
   "cell_type": "markdown",
   "metadata": {},
   "source": [
    "#### Clients\n"
   ]
  },
  {
   "cell_type": "code",
   "execution_count": null,
   "metadata": {},
   "outputs": [],
   "source": [
    "cluster_feature_mean = cluster.clustering_clients(df)\n",
    "cluster_feature_mean\n"
   ]
  }
 ],
 "metadata": {
  "kernelspec": {
   "display_name": "Python 3.11.0 64-bit",
   "language": "python",
   "name": "python3"
  },
  "language_info": {
   "codemirror_mode": {
    "name": "ipython",
    "version": 3
   },
   "file_extension": ".py",
   "mimetype": "text/x-python",
   "name": "python",
   "nbconvert_exporter": "python",
   "pygments_lexer": "ipython3",
   "version": "3.11.0"
  },
  "orig_nbformat": 4,
  "vscode": {
   "interpreter": {
    "hash": "e7370f93d1d0cde622a1f8e1c04877d8463912d04d973331ad4851f04de6915a"
   }
  }
 },
 "nbformat": 4,
 "nbformat_minor": 2
}
