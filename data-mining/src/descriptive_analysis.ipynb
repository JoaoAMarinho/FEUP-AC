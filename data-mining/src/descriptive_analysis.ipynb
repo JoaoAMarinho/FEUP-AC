{
 "cells": [
  {
   "cell_type": "code",
   "execution_count": 12,
   "metadata": {},
   "outputs": [],
   "source": [
    "from matplotlib.pyplot import cm\n",
    "from matplotlib import colors\n",
    "from clean import *\n",
    "from sklearn.cluster import AgglomerativeClustering, KMeans, DBSCAN\n",
    "from sklearn_extra.cluster import KMedoids\n",
    "from sklearn.preprocessing import MinMaxScaler\n",
    "from sklearn.decomposition import PCA\n",
    "from sklearn import metrics\n",
    "from sklearn.metrics import silhouette_score\n",
    "import plotly.graph_objects as go\n",
    "from itertools import product\n",
    "import scipy.cluster.hierarchy as sch\n",
    "from collections import Counter\n",
    "import matplotlib.pyplot as plt\n",
    "import pandas as pd\n",
    "import numpy as np\n",
    "DEBUG = True"
   ]
  },
  {
   "cell_type": "code",
   "execution_count": 13,
   "metadata": {},
   "outputs": [],
   "source": [
    "df = pd.read_csv('../test_ml/df.csv')"
   ]
  },
  {
   "cell_type": "code",
   "execution_count": 14,
   "metadata": {},
   "outputs": [],
   "source": [
    "def pca_analysis(data):\n",
    "    n_components = len(data.columns)\n",
    "\n",
    "    pca = PCA(n_components=n_components)\n",
    "    pca.fit(data)\n",
    "    variance = pca.explained_variance_ratio_ \n",
    "    var=np.cumsum(np.round(variance, 3)*100)\n",
    "    plt.figure(figsize=(12,6))\n",
    "    plt.ylabel('% Variance Explained')\n",
    "    plt.xlabel('# of Features')\n",
    "    plt.title('PCA Analysis')\n",
    "    plt.ylim(0,100.5)\n",
    "    plt.plot(var)\n",
    "    plt.show()\n",
    "\n",
    "def dbscan_param_tuning_silhouette(df_scale):\n",
    "    eps_values = np.arange(0.2,1.5,0.1) \n",
    "    min_samples = np.arange(2,5) \n",
    "    dbscan_params = list(product(eps_values, min_samples))\n",
    "    no_of_clusters = []\n",
    "    sil_score = []\n",
    "    epsvalues = []\n",
    "    min_samp = []\n",
    "\n",
    "    for p in dbscan_params:\n",
    "        dbscan_cluster = DBSCAN(eps=p[0], min_samples=p[1]).fit(df_scale)\n",
    "        epsvalues.append(p[0])\n",
    "        min_samp.append(p[1])\n",
    "        if len(np.unique(dbscan_cluster.labels_)) > 1:\n",
    "            no_of_clusters.append(len(np.unique(dbscan_cluster.labels_)))\n",
    "            sil_score.append(silhouette_score(df_scale, dbscan_cluster.labels_))\n",
    "\n",
    "    eps_min = list(zip(no_of_clusters, sil_score, epsvalues, min_samp))\n",
    "    eps_min_df = pd.DataFrame(eps_min, columns=['no_of_clusters', 'silhouette_score', 'epsilon_values', 'minimum_points'])\n",
    "    print(eps_min_df)\n",
    "\n",
    "def pca(n_components, data):\n",
    "    pca_cols = []\n",
    "    for i in range(n_components):\n",
    "        pca_cols.append('pc'+str(i+1))\n",
    "\n",
    "    pca = PCA(n_components=n_components)\n",
    "    pca.fit(data)\n",
    "    pca_scale = pca.transform(data)\n",
    "    pca_df = pd.DataFrame(pca_scale, columns=pca_cols)\n",
    "\n",
    "    return pca_df\n",
    "\n",
    "def elbow_method(df):\n",
    "    df_copy = df.copy()\n",
    "\n",
    "    nr_clusters = []\n",
    "    inertias = []\n",
    "    range_values = np.arange(2,8)\n",
    "\n",
    "    for k in range_values:\n",
    "        kmeans = KMeans(k)\n",
    "        kmeans.fit(df_copy)\n",
    "        nr_clusters.append(k)\n",
    "        inertias.append(kmeans.inertia_)\n",
    "\n",
    "    plt.rcParams.update({'font.size': 22})\n",
    "    plt.plot(nr_clusters, inertias, \"-o\", color='#138f8d')\n",
    "    plt.title('Evolution of Inertia with number of clusters')\n",
    "    plt.xlabel('Number of clusters')\n",
    "    plt.ylabel('Inertia')\n",
    "    plt.show()\n",
    "\n",
    "def silhouette_score(df, labels):\n",
    "    return metrics.silhouette_score(df, labels, metric='euclidean')"
   ]
  },
  {
   "cell_type": "code",
   "execution_count": 15,
   "metadata": {},
   "outputs": [],
   "source": [
    "def clustering_kmeans(df, n_clusters=3, init_method='k-means++', n_components=2):\n",
    "    df_copy = df.copy()\n",
    "\n",
    "    # Scaling\n",
    "    scaler = MinMaxScaler()\n",
    "    scaler.fit(df_copy)\n",
    "    X_scale = scaler.transform(df_copy)\n",
    "    df_copy = pd.DataFrame(X_scale, columns=df_copy.columns)\n",
    "\n",
    "    # Reduce dimensionality with PCA\n",
    "    if len(df_copy.columns) > 3:\n",
    "        # Analyse PCA\n",
    "        if DEBUG:\n",
    "            pca_analysis(df)\n",
    "        df_pca = pca(n_components, df)\n",
    "        if DEBUG:\n",
    "            elbow_method(df_pca)\n",
    "\n",
    "        # Compute K-Means\n",
    "        kmeans = KMeans(n_clusters=n_clusters, init=init_method)\n",
    "        kmeans.fit_predict(df_pca)\n",
    "                \n",
    "        print(\"KMeans Clusters: \\n\", Counter(kmeans.labels_))\n",
    "        print(\"KMeans Centers: \\n\", kmeans.cluster_centers_)\n",
    "        print(f'KMeans Inertia: \\n{kmeans.inertia_}')\n",
    "        print(f'KMeans Silhouette Score: \\n{silhouette_score(df_pca, kmeans.labels_)}')\n",
    "\n",
    "        # Plot results\n",
    "        if n_components == 2:\n",
    "            Scene = dict(xaxis = dict(title  = 'PC1'),yaxis = dict(title  = 'PC2'))\n",
    "            trace = go.Scatter(x=df_pca.iloc[:,0], y=df_pca.iloc[:,1], mode='markers',marker=dict(color = kmeans.labels_, colorscale='bluered', size = 10, line = dict(width = 0)))\n",
    "        else: \n",
    "            Scene = dict(xaxis = dict(title  = 'PC1'),yaxis = dict(title  = 'PC2'), zaxis= dict(title  = 'PC3'))\n",
    "            trace = go.Scatter3d(x=df_pca.iloc[:,0], y=df_pca.iloc[:,1], z=df_pca.iloc[:,2], mode='markers',marker=dict(color = kmeans.labels_, colorscale='rainbow', size = 10, line = dict(width = 0)))\n",
    "        layout = go.Layout(scene = Scene, height = 1000,width = 1000)\n",
    "        data = [trace]\n",
    "        fig = go.Figure(data = data, layout = layout)\n",
    "        fig.update_layout(title=\"KMeans Clusters\",font=dict(size=16))\n",
    "        fig.show()\n",
    "\n",
    "        clusters_pca_scale = pd.concat([df_pca, pd.DataFrame({'cluster':kmeans.labels_})], axis=1)\n",
    "        cluster_pca_profile = pd.merge(df_copy, clusters_pca_scale['cluster'], left_index=True, right_index=True)\n",
    "\n",
    "        if DEBUG:\n",
    "            print(cluster_pca_profile.groupby('cluster').mean())\n",
    "            print(cluster_pca_profile.groupby('cluster').min())\n",
    "            print(cluster_pca_profile.groupby('cluster').max())\n",
    "            print(cluster_pca_profile.groupby('cluster').std())\n",
    "            \n",
    "    else:\n",
    "        if DEBUG:\n",
    "            elbow_method(df_copy)\n",
    "\n",
    "        # Compute K-Means\n",
    "        kmeans = KMeans(n_clusters=n_clusters, init=init_method)\n",
    "        kmeans.fit_predict(df_copy)\n",
    "\n",
    "        print(\"KMeans Clusters: \\n\", Counter(kmeans.labels_))\n",
    "        print(\"KMeans Centers: \\n\", kmeans.cluster_centers_)\n",
    "        print(f'KMeans Inertia: \\n{kmeans.inertia_}')\n",
    "        print(f'KMeans Silhouette Score: \\n{silhouette_score(df_copy, kmeans.labels_)}')\n",
    "        print()\n",
    "\n",
    "        # Plot results\n",
    "        if len(df_copy.columns) == 2:\n",
    "            Scene = dict(xaxis = dict(title = df_copy.columns[0]),yaxis = dict(title  = df_copy.columns[1]))\n",
    "            trace = go.Scatter(x=df_copy.iloc[:,0], y=df_copy.iloc[:,1], mode='markers',marker=dict(color=kmeans.labels_, colorscale='rainbow', size = 7, line = dict(width = 0)))\n",
    "        else: \n",
    "            Scene = dict(xaxis = dict(title = df_copy.columns[0]),yaxis = dict(title = df_copy.columns[1]), zaxis= dict(title = df_copy.columns[2]))\n",
    "            trace = go.Scatter3d(x=df_copy.iloc[:,0], y=df_copy.iloc[:,1], z=df_copy.iloc[:,2], mode='markers',marker=dict(color=kmeans.labels_, colorscale='rainbow', size = 7, line = dict(width = 0)))\n",
    "        layout = go.Layout(scene = Scene, height = 1000,width = 1000)\n",
    "        data = [trace]\n",
    "        fig = go.Figure(data = data, layout = layout)\n",
    "        fig.update_layout(title=\"KMeans Clusters\", font=dict(size=16))\n",
    "        fig.show()\n",
    "\n",
    "        df_copy.insert(loc=0, column='cluster', value=kmeans.labels_)\n",
    "        print(df_copy.describe())"
   ]
  },
  {
   "cell_type": "code",
   "execution_count": 16,
   "metadata": {},
   "outputs": [],
   "source": [
    "def clustering_kmedoids(df, n_clusters=3, init_method='k-medoids++', n_components=2):\n",
    "    df_copy = df.copy()\n",
    "    \n",
    "    scaler = MinMaxScaler()\n",
    "    scaler.fit(df_copy)\n",
    "    X_scale = scaler.transform(df_copy)\n",
    "    df_copy = pd.DataFrame(X_scale, columns=df_copy.columns)\n",
    "    \n",
    "    # Reduce dimensionality with PCA\n",
    "    if len(df_copy.columns) > 3:\n",
    "        # Analyse PCA\n",
    "        if DEBUG:\n",
    "            pca_analysis(df)\n",
    "        df_pca = pca(n_components, df_copy)\n",
    "        if DEBUG:\n",
    "            elbow_method(df_pca)\n",
    "\n",
    "        # Apply K-Medoids\n",
    "        kmedoids = KMedoids(n_clusters=n_clusters, method='pam', init=init_method)\n",
    "        kmedoids.fit(df_pca)\n",
    " \n",
    "        print(\"\\nKMedoids Clusters: \\n\", Counter(kmedoids.labels_))\n",
    "        print(\"KMedoids Centers: \\n\", kmedoids.cluster_centers_)\n",
    "        print(f'KMedoids Inertia: \\n{kmedoids.inertia_}')\n",
    "        print(f'KMedoids Silhouette Score: \\n{silhouette_score(df_pca, kmedoids.labels_)}')\n",
    "\n",
    "        # Plot results\n",
    "        if n_components == 2:\n",
    "            Scene = dict(xaxis = dict(title  = 'PC1'),yaxis = dict(title  = 'PC2'))\n",
    "            trace = go.Scatter(x=df_pca.iloc[:,0], y=df_pca.iloc[:,1], mode='markers',marker=dict(color = kmedoids.labels_, colorscale='rainbow', size = 6, line = dict(width = 0)))\n",
    "        else: \n",
    "            Scene = dict(xaxis = dict(title  = 'PC1'),yaxis = dict(title  = 'PC2'), zaxis= dict(title  = 'PC3'))\n",
    "            trace = go.Scatter3d(x=df_pca.iloc[:,0], y=df_pca.iloc[:,1], z=df_pca.iloc[:,2], mode='markers',marker=dict(color = kmedoids.labels_, colorscale='rainbow', size = 6, line = dict(width = 0)))\n",
    "        layout = go.Layout(scene = Scene, height = 1000,width = 1000)\n",
    "        data = [trace]\n",
    "        fig = go.Figure(data = data, layout = layout)\n",
    "        fig.update_layout(title=\"KMedoids Clusters\",font=dict(size=16))\n",
    "        fig.show()\n",
    "    else:\n",
    "        if DEBUG:\n",
    "            elbow_method(df_copy)\n",
    "\n",
    "        # Apply K-Medoids\n",
    "        kmedoids = KMedoids(n_clusters=n_clusters, method='pam', init=init_method)\n",
    "        kmedoids.fit_predict(df_copy)\n",
    "\n",
    "        print(\"KMedoids Clusters: \\n\", Counter(kmedoids.labels_))\n",
    "        print(\"KMedoids Centers: \\n\", kmedoids.cluster_centers_)\n",
    "        print(f'KMedoids Inertia: {kmedoids.inertia_}')\n",
    "        print(f'KMedoids Silhouette Score: {silhouette_score(df_copy, kmedoids.labels_)}')\n",
    "\n",
    "        # Plot results\n",
    "        if len(df_copy.columns) == 2:\n",
    "            Scene = dict(xaxis = dict(title = df_copy.columns[0]),yaxis = dict(title  = df_copy.columns[1]))\n",
    "            trace = go.Scatter(x=df_copy.iloc[:,0], y=df_copy.iloc[:,1], mode='markers',marker=dict(color=kmedoids.labels_, colorscale='rainbow', size = 7, line = dict(width = 0)))\n",
    "        else: \n",
    "            Scene = dict(xaxis = dict(title = df_copy.columns[0]),yaxis = dict(title = df_copy.columns[1]), zaxis= dict(title = df_copy.columns[2]))\n",
    "            trace = go.Scatter3d(x=df_copy.iloc[:,0], y=df_copy.iloc[:,1], z=df_copy.iloc[:,2], mode='markers',marker=dict(color=kmedoids.labels_, colorscale='rainbow', size = 7, line = dict(width = 0)))\n",
    "        layout = go.Layout(scene = Scene, height = 1000,width = 1000)\n",
    "        data = [trace]\n",
    "        fig = go.Figure(data = data, layout = layout)\n",
    "        fig.update_layout(title=\"KMedoids Clusters\", font=dict(size=16))\n",
    "        fig.show()"
   ]
  },
  {
   "cell_type": "code",
   "execution_count": 17,
   "metadata": {},
   "outputs": [],
   "source": [
    "def clustering_dbscan(df, eps=0.9, min_samples=4, n_components=2):\n",
    "    df_copy = df.copy()\n",
    "\n",
    "    # Scaling\n",
    "    scaler = MinMaxScaler()\n",
    "    scaler.fit(df_copy)\n",
    "    X_scale = scaler.transform(df_copy)\n",
    "    df_copy = pd.DataFrame(X_scale, columns=df_copy.columns)\n",
    "\n",
    "    # Reduce dimensionality with PCA\n",
    "    if len(df_copy.columns) > 3:\n",
    "        # Analyse PCA\n",
    "        if DEBUG:\n",
    "            pca_analysis(df)\n",
    "        df_pca = pca(n_components, df)\n",
    "        if DEBUG:\n",
    "            dbscan_param_tuning_silhouette(df_pca)\n",
    "\n",
    "        # Apply DBSCAN\n",
    "        dbscan = DBSCAN(eps=eps, min_samples=min_samples).fit(df_pca)\n",
    "        labels = dbscan.labels_\n",
    "        n_clusters_ = len(set(labels)) - (1 if -1 in labels else 0)\n",
    "        n_noise_ = list(labels).count(-1)\n",
    "        print('Estimated number of clusters: %d' % n_clusters_)\n",
    "        print('Estimated number of noise points: %d' % n_noise_)\n",
    "        print(\"Silhouette Coefficient: %0.3f\" % silhouette_score(df_pca, labels))\n",
    "\n",
    "        # Plot results\n",
    "        labels = dbscan.labels_\n",
    "        if n_components == 2:\n",
    "            Scene = dict(xaxis = dict(title  = 'PC1'),yaxis = dict(title  = 'PC2'))\n",
    "            trace = go.Scatter(x=df_pca.iloc[:,0], y=df_pca.iloc[:,1], mode='markers',marker=dict(color = labels, colorscale='rainbow', size = 6, line = dict(width = 0)))\n",
    "        else: \n",
    "            Scene = dict(xaxis = dict(title  = 'PC1'),yaxis = dict(title  = 'PC2'), zaxis= dict(title  = 'PC3'))\n",
    "            trace = go.Scatter3d(x=df_pca.iloc[:,0], y=df_pca.iloc[:,1], z=df_pca.iloc[:,2], mode='markers',marker=dict(color = labels, colorscale='rainbow', size = 6, line = dict(width = 0)))\n",
    "        layout = go.Layout(scene = Scene, height = 1000,width = 1000)\n",
    "        data = [trace]\n",
    "        fig = go.Figure(data = data, layout = layout)\n",
    "        fig.update_layout(title=\"'DBSCAN Clusters Derived from PCA'\", font=dict(size=12,))\n",
    "        fig.show()\n",
    "\n",
    "    else:\n",
    "        if DEBUG:\n",
    "            dbscan_param_tuning_silhouette(df_copy)\n",
    "\n",
    "        # Apply DBSCAN\n",
    "        dbscan = DBSCAN(eps=eps, min_samples=min_samples).fit(df_copy)\n",
    "        labels = dbscan.labels_\n",
    "        n_clusters_ = len(set(labels)) - (1 if -1 in labels else 0)\n",
    "        n_noise_ = list(labels).count(-1)\n",
    "        print('Estimated number of clusters: %d' % n_clusters_)\n",
    "        print('Estimated number of noise points: %d' % n_noise_)\n",
    "        print(\"Silhouette Coefficient: %0.3f\" % silhouette_score(df_copy, labels))\n",
    "\n",
    "        # Plot results\n",
    "        labels = dbscan.labels_\n",
    "        if len(df_copy.columns) == 2:\n",
    "            Scene = dict(xaxis = dict(title = df_copy.columns[0]),yaxis = dict(title  = df_copy.columns[1]))\n",
    "            trace = go.Scatter(x=df_copy.iloc[:,0], y=df_copy.iloc[:,1], mode='markers',marker=dict(color = labels, colorscale='rainbow', size = 7, line = dict(width = 0)))\n",
    "        else: \n",
    "            Scene = dict(xaxis = dict(title = df_copy.columns[0]),yaxis = dict(title = df_copy.columns[1]), zaxis= dict(title = df_copy.columns[2]))\n",
    "            trace = go.Scatter3d(x=df_copy.iloc[:,0], y=df_copy.iloc[:,1], z=df_copy.iloc[:,2], mode='markers',marker=dict(color = labels, colorscale='rainbow', size = 7, line = dict(width = 0)))\n",
    "        layout = go.Layout(scene = Scene, height = 1000,width = 1000)\n",
    "        data = [trace]\n",
    "        fig = go.Figure(data = data, layout = layout)\n",
    "        fig.update_layout(title=\"'DBSCAN Clusters'\", font=dict(size=12,))\n",
    "        fig.show()"
   ]
  },
  {
   "cell_type": "code",
   "execution_count": 18,
   "metadata": {},
   "outputs": [
    {
     "data": {
      "text/plain": [
       "Index(['credit', 'frequency', 'withdrawal', 'credit_amount_avg',\n",
       "       'withdrawal_amount_avg', 'loan_id', 'amount', 'duration', 'payments',\n",
       "       'status', 'type', 'gender', 'age_loan', 'unemployment_rate',\n",
       "       'commited_crimes', 'disp_id_count', 'diff_salary_loan'],\n",
       "      dtype='object')"
      ]
     },
     "execution_count": 18,
     "metadata": {},
     "output_type": "execute_result"
    }
   ],
   "source": [
    "df.columns"
   ]
  },
  {
   "cell_type": "code",
   "execution_count": 34,
   "metadata": {},
   "outputs": [
    {
     "data": {
      "image/png": "[encoded data removed]",
      "text/plain": [
       "<Figure size 640x480 with 1 Axes>"
      ]
     },
     "metadata": {},
     "output_type": "display_data"
    },
    {
     "name": "stdout",
     "output_type": "stream",
     "text": [
      "KMeans Clusters: \n",
      " Counter({2: 132, 0: 114, 1: 82})\n",
      "KMeans Centers: \n",
      " [[0.18610655 0.22068034 0.67471584]\n",
      " [0.22346298 0.25003206 0.34554167]\n",
      " [0.39808321 0.60399393 0.43279801]]\n",
      "KMeans Inertia: \n",
      "15.358158592127337\n",
      "KMeans Silhouette Score: \n",
      "0.31957324130201736\n",
      "\n"
     ]
    },
    {
     "data": {
      "application/vnd.plotly.v1+json": {
       "config": {
        "plotlyServerURL": "https://plot.ly"
       },
       "data": [
        {
         "marker": {
          "color": [
           1,
           2,
           0,
           0,
           2,
           1,
           1,
           1,
           1,
           2,
           0,
           2,
           2,
           0,
           0,
           2,
           2,
           0,
           1,
           2,
           0,
           0,
           2,
           2,
           0,
           2,
           1,
           0,
           2,
           2,
           2,
           1,
           1,
           2,
           0,
           0,
           0,
           2,
           2,
           0,
           2,
           1,
           0,
           2,
           0,
           2,
           2,
           2,
           2,
           2,
           0,
           0,
           1,
           1,
           2,
           0,
           1,
           2,
           0,
           1,
           0,
           0,
           1,
           2,
           2,
           1,
           0,
           2,
           1,
           0,
           2,
           0,
           2,
           1,
           1,
           0,
           0,
           2,
           0,
           0,
           0,
           0,
           2,
           2,
           1,
           2,
           2,
           2,
           2,
           0,
           2,
           0,
           1,
           0,
           1,
           1,
           1,
           2,
           0,
           1,
           1,
           0,
           1,
           1,
           2,
           0,
           0,
           0,
           0,
           0,
           1,
           2,
           2,
           2,
           1,
           1,
           0,
           2,
           0,
           2,
           0,
           0,
           1,
           1,
           2,
           2,
           0,
           0,
           2,
           2,
           2,
           0,
           0,
           2,
           2,
           0,
           0,
           1,
           1,
           0,
           2,
           0,
           1,
           0,
           2,
           1,
           0,
           0,
           2,
           1,
           0,
           1,
           2,
           2,
           2,
           1,
           1,
           1,
           2,
           2,
           2,
           0,
           0,
           0,
           1,
           0,
           0,
           2,
           1,
           1,
           0,
           1,
           2,
           1,
           0,
           0,
           2,
           0,
           0,
           0,
           0,
           1,
           2,
           0,
           2,
           0,
           1,
           2,
           2,
           2,
           1,
           2,
           0,
           0,
           2,
           2,
           2,
           0,
           0,
           1,
           0,
           2,
           0,
           0,
           2,
           2,
           2,
           2,
           1,
           0,
           2,
           2,
           2,
           0,
           0,
           0,
           2,
           1,
           2,
           2,
           2,
           1,
           0,
           2,
           2,
           2,
           1,
           2,
           2,
           1,
           0,
           2,
           1,
           1,
           1,
           1,
           2,
           0,
           0,
           0,
           2,
           0,
           1,
           2,
           2,
           1,
           2,
           2,
           2,
           2,
           2,
           2,
           0,
           2,
           0,
           0,
           1,
           2,
           0,
           0,
           1,
           0,
           2,
           2,
           2,
           2,
           0,
           0,
           1,
           1,
           2,
           2,
           2,
           2,
           0,
           1,
           2,
           1,
           1,
           1,
           0,
           0,
           0,
           0,
           0,
           2,
           2,
           2,
           2,
           0,
           1,
           1,
           0,
           2,
           1,
           2,
           0,
           0,
           2,
           1,
           0,
           1,
           2,
           2,
           2,
           2,
           2,
           2,
           2,
           0,
           1,
           1,
           2,
           0,
           1,
           2,
           0,
           1,
           2,
           0,
           0,
           1,
           1,
           0,
           2,
           0,
           2,
           1
          ],
          "colorscale": [
           [
            0,
            "rgb(150,0,90)"
           ],
           [
            0.125,
            "rgb(0,0,200)"
           ],
           [
            0.25,
            "rgb(0,25,255)"
           ],
           [
            0.375,
            "rgb(0,152,255)"
           ],
           [
            0.5,
            "rgb(44,255,150)"
           ],
           [
            0.625,
            "rgb(151,255,0)"
           ],
           [
            0.75,
            "rgb(255,234,0)"
           ],
           [
            0.875,
            "rgb(255,111,0)"
           ],
           [
            1,
            "rgb(255,0,0)"
           ]
          ],
          "line": {
           "width": 0
          },
          "size": 7
         },
         "mode": "markers",
         "type": "scatter3d",
         "x": [
          0,
          0.2997295239196861,
          0.20569580598209034,
          0.2418317380449765,
          0.5668189660989175,
          0.6612494336967313,
          0.10635780026341318,
          0.3286359079648747,
          0.27230361325583413,
          0.5499166208804449,
          0.1539302651745178,
          0.45113905858553055,
          0.3736004591387605,
          0.31021774963130044,
          0.24242599500689202,
          0.38445244498423986,
          0.3721407709435817,
          0.29902091970279704,
          0.23953423363504042,
          0.5617246464821722,
          0.2117480516757757,
          0.21079919247563692,
          0.4434265444415527,
          0.34349209103264794,
          0.14000944642048138,
          0.3848189154930935,
          0.08847147563012729,
          0.16957713943563021,
          0.26420246426264904,
          0.6254879847314999,
          0.2605348473310649,
          0.34861789871766447,
          0.16014413076679423,
          0.4012771946059011,
          0.27797746051564454,
          0.3066971586837987,
          0.18181075670968963,
          0.3113059435335396,
          0.4007944590499348,
          0.15338880841613556,
          0.2964216677455161,
          0.20579701763010516,
          0.1059500792320199,
          0.769958240823745,
          0.14712602413609804,
          0.2953257376401299,
          0.4019260737270627,
          0.355315860668511,
          0.2532477871777873,
          0.3665600249334091,
          0.04894322529015544,
          0.3061434934833622,
          0.16049655826845616,
          0.2458093558119584,
          0.5092884660491149,
          0.19473099992288634,
          0.1660459895213083,
          0.33937952440164637,
          0.1569826397925643,
          0.25942762403246483,
          0.11904643245860627,
          0.35761448965231385,
          0.18205301803495177,
          0.24669423479174496,
          0.412035000518816,
          0.2851986800715871,
          0.09895925151219483,
          0.3484123683515697,
          0.11035395159191463,
          0.2524186940867833,
          0.41665874874862463,
          0.16402387791626102,
          0.307989936670426,
          0.22729825878246787,
          0.2519801817953982,
          0.1954359437370339,
          0.21214027252617454,
          0.33455113839006,
          0.13976395194535213,
          0.08840694186463677,
          0.23641072971991683,
          0.4160382188791192,
          0.3716184590102797,
          0.3386665981212119,
          0.33062471684836564,
          0.37503444381871304,
          0.8699478519032608,
          0.37126706630094813,
          0.23990592974528607,
          0.2838980089985925,
          0.3765489398481504,
          0.1943862477468359,
          0.1434231819283296,
          0.08094216406725532,
          0,
          0.22357047310092332,
          0.2727703786405285,
          0.2040322463523643,
          0.13484167010249654,
          0.21651368352339379,
          0.2766883193640966,
          0.1236970910526317,
          0.345244177117171,
          0.24077473639918712,
          0.33499847229815893,
          0.13488319987737052,
          0.2253296546174138,
          0.2144449203801702,
          0.03478328390563432,
          0.3420264290225553,
          0.1837126360332745,
          0.3404681422986272,
          0.20639848326597812,
          0.41358432653652566,
          0.19224228434060925,
          0.11613106556717208,
          0.12617430894935883,
          0.44255377007827773,
          0.12597931516365687,
          0.39299759285313046,
          0.16234598246878593,
          0.09282106744551438,
          0.5285497174106526,
          0.1786425042849532,
          0.4132902675093473,
          0.34162860598390477,
          0.17332839123282212,
          0.17072751234999461,
          0.3748264461216661,
          0.21709278961209214,
          0.4631384286168705,
          0.058308095300591174,
          0.11218811530001657,
          0.37175258000035416,
          0.2981277102404814,
          0.2594405871006835,
          0.1791476840058431,
          0.2201002852133531,
          0.1015973125897651,
          0.21952348592194168,
          0.35166685384656937,
          0.25964378855012443,
          0.17578985655521429,
          0.10237376534765273,
          0.3299942057670289,
          0.3352880097934318,
          0.07618455496481,
          0.12705808432477625,
          0.4039429166305196,
          0.09998237040216285,
          0.28845319684219656,
          0.2138716958845787,
          0.4177245693685357,
          0.32127446160789863,
          0.2929578213066323,
          0.2618007961982977,
          0.14289805012186943,
          0.12464381106740949,
          0.30451980374579485,
          0.2990030227411516,
          0.49135935677587883,
          0.11532729919127073,
          0.06485554120485192,
          0.11449323010874152,
          0.35896234254870496,
          0.08506482365075234,
          0.2552782677706769,
          0.40424214508104506,
          0.15139519453521358,
          0.2881360670117502,
          0.06347835354154664,
          0.21969145647639615,
          0.30768340996500965,
          0.32521326740117407,
          0.18825996292119307,
          0.27966055541096746,
          0.5166566331309976,
          0.1293837568887452,
          0.1376301788752863,
          0.19047949293048896,
          0.09806720178022338,
          0.36376006091977287,
          0.49559579669801435,
          0.1770403786279556,
          0.43799112724245015,
          0.3465970394789688,
          0.1419084438690581,
          0.23950306338112284,
          0.2877962681396724,
          0.9999999999999999,
          0.1959697414658231,
          0.8434304001233818,
          0.13536374059493692,
          0.1176532392546967,
          0.46542446237336493,
          0.48008077653432046,
          0.524090782028667,
          0.1545379836957982,
          0.062152386185092,
          0.23166221656722222,
          0.24073221150517932,
          0.31850143570596995,
          0.19847932669648732,
          0.19641953841621163,
          0.3690422568024603,
          0.36878499820677557,
          0.31640824329945527,
          0.40427305938713937,
          0.19510080198182045,
          0.29187511446555425,
          0.4281977068899333,
          0.2693985316060532,
          0.411197735429539,
          0.09941332157805771,
          0.09860739445627101,
          0.08957179732316367,
          0.37207932101442986,
          0.21909744846153165,
          0.21832684515149672,
          0.7444678998422384,
          0.6140173312898219,
          0.16674071717824065,
          0.10409685472754787,
          0.4117924449908876,
          0.3111996713031241,
          0.464496601869446,
          0.10160974716366405,
          0.34552657011039745,
          0.3798721404981359,
          0.16425170770346628,
          0.3227526997805474,
          0.32727064799505945,
          0.17034747466832584,
          0.31742934195292427,
          0.29523912897975263,
          0.30606852189224004,
          0.44247958184416547,
          0.2171335160246106,
          0.12068997914393367,
          0.2245755489668757,
          0.3026965893865347,
          0.2509574223038563,
          0.1787027506382065,
          0.569034376616575,
          0.33501288163355925,
          0.18607458717634826,
          0.3768358612978292,
          0.42441848422072465,
          0.2721791256495191,
          0.7388450305080825,
          0.3514302705296314,
          0.41878587019505475,
          0.10231784586611091,
          0.18320439785001247,
          0.23840965976820927,
          0.17090548277956102,
          0.42340206086193766,
          0.31385161111889665,
          0.06893436041893118,
          0.20417610764566158,
          0.16867659713152905,
          0.05609388504927239,
          0.3714300571706297,
          0.22607561474027163,
          0.7565728129448092,
          0.5114561946348187,
          0.11500595220882372,
          0.11402195007534643,
          0.35845792005243726,
          0.12280839708184203,
          0.31322551444872954,
          0.2074672744279652,
          0.4255079057542838,
          0.42882370325524144,
          0.2558585478859618,
          0.252478323314847,
          0.5573388084015307,
          0.21459772824395015,
          0.0987704230646887,
          0.35613005214809673,
          0.297417849879028,
          0.3980991488582362,
          0.5431691776794578,
          0.1909567392498771,
          0.21137831650959749,
          0.21852448398608748,
          0.47753135617700443,
          0.5221075156878054,
          0.35602451195161333,
          0.09339904900555802,
          0.3177095915275841,
          0.29576292697659917,
          0.09826751363144179,
          0.3111050592806113,
          0.15800892590343446,
          0.4520666807257992,
          0.17747603051129554,
          0.17880724482615692,
          0.3934416975978939,
          0.20136493971811562,
          0.12145397761776698,
          0.17569287807370135,
          0.428352412754939,
          0.4222560335859546,
          0.4267975818943113,
          0.4846641738200687,
          0.20947710962458943,
          0.42898669468462125,
          0.4897100848571309,
          0.34425217066381797,
          0.09261985581800854,
          0.2552240926470052,
          0.38480315137728166,
          0.30089660667868356,
          0.23792569137194797,
          0.3721459792234719,
          0.2169524690822513,
          0.25317991072420176,
          0.23115019120050784,
          0.23321449126921273,
          0.3013306921912804,
          0.2839116485338399,
          0.15518444617950128,
          0.129229016727422,
          0.34402448606715164,
          0.23529790469058917,
          0.37084419229341625,
          0.1000617279831299
         ],
         "y": [
          0.10013096370425442,
          0.4496031640292065,
          0.09950314823240713,
          0.27406600648102963,
          0.7676001422679554,
          0.19500179283696076,
          0.07048264241023441,
          0.44350421813248786,
          0.3626614958819776,
          0.43445641022434756,
          0.20403873244856727,
          0.8622807525890533,
          0.5529212719952936,
          0.3748999254475964,
          0.18483259213420614,
          0.42936659380272557,
          0.48744444728110337,
          0.22526340590325591,
          0.0941447843034744,
          0.37368305008384317,
          0.3209542143334475,
          0.32097028979908226,
          0.7301264117990816,
          0.45115481350424924,
          0.017384905603641046,
          0.5852963186096205,
          0.05696008266387975,
          0.2840170187874236,
          0.5376019122438792,
          0.40189960460139884,
          0.5073594257284088,
          0.20874125832485993,
          0.2547234413032706,
          0.5739514813486606,
          0.2720206918192387,
          0.3420706676822731,
          0.2120310753668931,
          0.4683053391833474,
          0.6234686197584343,
          0.20383369498900736,
          0.6129760137993616,
          0.14500839249938094,
          0.04708697405780837,
          0.481919534051233,
          0.12384398309181141,
          0.45916819802830044,
          0.728561477882125,
          0.9529542669631313,
          0.48881261894584316,
          0.5463653013817837,
          0.007147928305703571,
          0.3972194206896459,
          0.28294452353595345,
          0.42068098233541973,
          0.6772307762788392,
          0.15029472741440383,
          0.27500331274346246,
          0.6656450961716806,
          0.04530638035844059,
          0.24486744662960638,
          0.16478220532454943,
          0.2258160571501259,
          0.36816549575745805,
          0.444042476229894,
          0.6497589311612386,
          0.4057247138797365,
          0.11359948858891836,
          0.6816038838338506,
          0.04615117011063938,
          0.2719598736020863,
          1,
          0.23592307821040662,
          0.509725991649852,
          0.4693605705583572,
          0.37971455963350886,
          0.3815452548017553,
          0.35383426430742326,
          0.6200806273319707,
          0.160900798991829,
          0.21424268874141808,
          0.43318341611622047,
          0.33407951799193925,
          0.46424430590313337,
          0.44852524524352244,
          0.08681748737430597,
          0.7354875185808396,
          0.8987965466266218,
          0.564291159377152,
          0.7429236969184927,
          0.37807837383728593,
          0.7049225631811812,
          0.21995755575547324,
          0.09254983611493056,
          0.17075403579445084,
          0.07854123950863146,
          0.21587764155499187,
          0.4335986470551152,
          0.6541887792017116,
          0.36717688960084893,
          0.2735380084353336,
          0.22737581762661643,
          0.15661326390540067,
          0.26604920915374053,
          0.38642768647490966,
          0.7210645050920591,
          0.24651286968833322,
          0.4274663242254727,
          0.3505826059665835,
          0,
          0.3821894014169186,
          0.14395952731966769,
          0.47245339463912095,
          0.6057692724777866,
          0.49540624673815414,
          0.30771924609148305,
          0.09408283011760238,
          0.15304577389964327,
          0.7902592579305231,
          0.20983966124536488,
          0.5850743089681784,
          0.25058630978346186,
          0.08252855314293164,
          0.17500618337888404,
          0.2666145816185709,
          0.4555122171136725,
          0.5116558647684075,
          0.2581654361406114,
          0.19439299817237118,
          0.5804583251427908,
          0.7240057505348184,
          0.6736892311367495,
          0.06639315887217961,
          0.08232094909661883,
          0.692495897533727,
          0.613646624902281,
          0.25992385591966405,
          0.4348072816478924,
          0.3760001602234877,
          0.11895935727962814,
          0.32432168988833265,
          0.40516186825716316,
          0.45201615602492395,
          0.36602013730934335,
          0.10608140946340044,
          0.4867488697754315,
          0.2562956758426297,
          0.08992276793040738,
          0.2134730538538965,
          0.4075482802242555,
          0.04451661218440878,
          0.247446904629931,
          0.4298060521714173,
          0.5369546088338518,
          0.5531841864903433,
          0.6046543000523676,
          0.18018977335004263,
          0.18366076545903418,
          0.2799966509241618,
          0.43690209129538327,
          0.5907293206607834,
          0.7804995449218156,
          0.21431288193338413,
          0.12667484003550764,
          0.1894848318889277,
          0.32688284697139947,
          0.0631267219459101,
          0.1704755397754618,
          0.636600900686075,
          0.15837110812076197,
          0.1852643866181186,
          0.051414008077357326,
          0.3917516471809549,
          0.40731209022322024,
          0.3547257301169293,
          0.20329307630524,
          0.3644481908316367,
          0.6946403449984273,
          0.1275554771711438,
          0.10272161637638424,
          0.3441731059707528,
          0.052554823759492525,
          0.34379122019991604,
          0.7439861441792763,
          0.27548942042418745,
          0.636046004878524,
          0.251738462028372,
          0.22009247190299444,
          0.731663536955244,
          0.8054882960472696,
          0.7615260894065466,
          0.30141047000279897,
          0.45879385519140714,
          0.32008455334990826,
          0.11361563128161267,
          0.6536033933519912,
          0.8132734805951317,
          0.747407794188625,
          0.3036403920265933,
          0.024238300339892382,
          0.14826713861558757,
          0.33603365533299034,
          0.6418186124611559,
          0.42489087498755573,
          0.2857949154402314,
          0.44200272478042957,
          0.4397017947838706,
          0.558754160722044,
          0.4722162014107132,
          0.3364845721440475,
          0.3441164188024616,
          0.7664608835084032,
          0.6607910158612321,
          0.6688407959316754,
          0.22362443284292297,
          0.07531605248463769,
          0.056313610928775126,
          0.5753089307640945,
          0.2634896852648717,
          0.579209428136881,
          0.4687349522170594,
          0.39228402537018403,
          0.26643051977374976,
          0.09738172528780639,
          0.5979831497746233,
          0.5921701165349519,
          0.661853589026689,
          0.08189857489095326,
          0.4818673253600104,
          0.9664715537403915,
          0.29789373690800247,
          0.0582183866210462,
          0.9259676090234347,
          0.11989385453889284,
          0.41790823940167376,
          0.4593294412686576,
          0.3425399757398675,
          0.6097112124285564,
          0.06631443629471223,
          0.3281100938974413,
          0.10999089687602939,
          0.7973560188023642,
          0.36892261870691867,
          0.21211575887061632,
          0.3957263053564464,
          0.7777641415531175,
          0.2569320692097802,
          0.7416110174972318,
          0.4881098132695355,
          0.6777343619815435,
          0.5386317414160614,
          0.4682129428319398,
          0.6477063227248241,
          0.3286135755515861,
          0.5184717081760012,
          0.2955535099416855,
          0.2519666371704046,
          0.13122564965050915,
          0.6120331214001775,
          0.059817175554593094,
          0.4267657110111631,
          0.23882106731003752,
          0.04610858151403238,
          0.562852654092508,
          0.6265354631750206,
          0.6355227110873064,
          0.5121402131310033,
          0.14708470711773716,
          0.1470947823223617,
          0.2238164374567694,
          0.3876147049139921,
          0.6240288816686616,
          0.49016923039847393,
          0.6545009353903459,
          0.6481440692630261,
          0.2251370089200683,
          0.40239068414837265,
          0.4353970789889343,
          0.24266426667954824,
          0.02171027881319748,
          0.39771226624469946,
          0.3609674735941997,
          0.2014112156895456,
          0.3091729541873216,
          0.2930411789547589,
          0.29313350258014803,
          0.48742298936230577,
          0.4269291537853699,
          0.4838896820575923,
          0.5357831363305053,
          0.2041861721301633,
          0.19492341381556125,
          0.21135472960997,
          0.07684754767581564,
          0.7407360749270349,
          0.14568916562274722,
          0.5466971597576283,
          0.10439076872781117,
          0.17060667735946486,
          0.7806816786419574,
          0.3422576154376663,
          0.06797666780223996,
          0.3093926210636613,
          0.6632162238977968,
          0.840798579800868,
          0.8408070614782306,
          0.5721955818185513,
          0.5066247098761605,
          0.5865186635327126,
          0.7382392971983359,
          0.44323415159895374,
          0.03660353152953416,
          0.2454292318148185,
          0.5628460449932644,
          0.23831678784542012,
          0.3208566399955244,
          0.6979986437317584,
          0.20577857876590103,
          0.36882614832026084,
          0.5585138939286951,
          0.383769612567908,
          0.2777085013774625,
          0.22254910595959912,
          0.20988769324128967,
          0.15867336609536156,
          0.44526047610480934,
          0.244882045395491,
          0.5742818658870833,
          0.2558549145920399
         ],
         "z": [
          0.21120266082092376,
          0.37311966135006425,
          0.5630811096832716,
          0.6261244236147858,
          0.369340086174314,
          0.46224204399425506,
          0.44016932496787364,
          0.2182326706478192,
          0.523697936351954,
          0.4797036813062212,
          0.7038324892282108,
          0.46216645249074007,
          0.17718648423917155,
          0.5921838385365485,
          0.5183309396023887,
          0.4254289817824477,
          0.5095623251946482,
          0.7966588555446369,
          0.2706931740872326,
          0.598911482349384,
          0.7819941038627259,
          0.7819941038627259,
          0.8825308035376824,
          0.40214679869982617,
          0.6359513190717364,
          0.5001889787587875,
          0.2667624159044524,
          0.5816010280444479,
          0.45793332829389977,
          0.3236828180512511,
          0.414468213772772,
          0.3721369718043692,
          0.14392622269256938,
          0.7329352180814878,
          0.6420742308564519,
          0.5913523319978835,
          0.7497165318618189,
          0.3206591579106509,
          0.5243026683800741,
          0.5247562174011642,
          0.3571698541083983,
          0.42633607982462773,
          0.6502381132360724,
          0.3615541613122686,
          0.5728324136367073,
          0.5109229722579183,
          0.5308791291858795,
          0.16214377503968558,
          0.4320810340917681,
          0.3417491873913372,
          0.6642981328898633,
          0.7504724468969689,
          0.0721898858568297,
          0.43593620077103334,
          0.2550457328596266,
          0.6521279008239474,
          0.11777156247637767,
          0.2470330334870361,
          0.6353465870436164,
          0.49149595585456196,
          0.6123667699750549,
          0.6736714793257239,
          0.24211958575856077,
          0.5351122533827198,
          0.4585380603220198,
          0.44281502759089886,
          0.6841031068107946,
          0.46549247864540033,
          0.17113916395797113,
          0.5405548416358001,
          0.214982235996674,
          0.752740192002419,
          0.40947917454078164,
          0.25459218383853655,
          0.5093355506841032,
          0.7612820318996146,
          0.5662559528309019,
          0.07400408194118982,
          0.5124348023282184,
          0.6577216720840579,
          0.783127976415451,
          0.583264041121778,
          0.5275531030312194,
          0.2703908080731726,
          0.48053518784488625,
          0.29238793559603904,
          0.4815934688940964,
          0.36593846851613887,
          0.18724015420666718,
          0.6178093582281352,
          0.7075364729004461,
          0.5943004006349687,
          0.4837856224960315,
          0.6918890316728401,
          0.12956383702471844,
          0.41235165167435184,
          0.2997203114369945,
          0.26298284072870215,
          1,
          0.322322170987981,
          0.33796961221558697,
          0.6404112177791217,
          0.41492176279386206,
          0.18973467382266235,
          0.22518708897119966,
          0.6519767178169175,
          0.5572605639126162,
          0.7075364729004461,
          0.6476680021165622,
          0.6009524529442891,
          0.12858114747902338,
          0.4195328445082773,
          0.6060926751833094,
          0.5955098646912088,
          0.46957441983521053,
          0.4285282334265629,
          0.6271827046639958,
          0.3935293672991156,
          0.7098798095094112,
          0.8401239700657647,
          0.5204475017008089,
          0.5558243253458311,
          0.10975886310378716,
          0.44735051780179913,
          0.4686673217930305,
          0.6401088517650617,
          0.7962808980270618,
          0.5951319071736337,
          0.20946405624007863,
          0.33018368735354153,
          0.1978985562022829,
          0.7338423161236678,
          0.6386726131982766,
          0.48333207347494145,
          0.5472824854486357,
          0.6568145740418778,
          0.8036888653715324,
          0.11406757880414242,
          0.3960994784186258,
          0.7209917605261169,
          0.5047244689696878,
          0.5952830901806638,
          0.31430947161539047,
          0.5924106130470936,
          0.5671630508730819,
          0.4337440471690982,
          0.9398291632020562,
          0.937032277572001,
          0.5274775115277044,
          0.40963035754781163,
          0.920024189281125,
          0.47078388389145065,
          0.6674729760374934,
          0.5659535868168418,
          0.4112177791216268,
          0.4059263738755764,
          0.4712374329125407,
          0.21755234711618415,
          0.44727492629828414,
          0.492327462393227,
          0.5880263058432232,
          0.6174314007105602,
          0.8996144833320736,
          0.5738151031824024,
          0.2319903242875501,
          0.629601632776476,
          0.8105676921913978,
          0.31574571018217557,
          0.17748885025323158,
          0.20780104316274853,
          0.6475924106130472,
          0,
          0.5437296847834304,
          0.4326857661198882,
          0.6227983974601256,
          0.6342883059944063,
          0.39300022677451063,
          0.6379166981631266,
          0.7629450449769447,
          0.5812986620303878,
          0.6238566785093357,
          0.5193136291480838,
          0.28135157608284833,
          0.8091314536246127,
          0.3166528082243556,
          0.7744349535112255,
          0.39965227908383105,
          0.5504573285962658,
          0.2703152165696576,
          0.5079749036208331,
          0.49603144606546234,
          0.7235618716456271,
          0.537153223977625,
          0.5239247108624991,
          0.5996673973845341,
          0.49474639050570723,
          0.33933025927885707,
          0.5981555673142339,
          0.7635497770050648,
          0.3819638672613199,
          0.9387708821528461,
          0.31287323304860537,
          0.5888578123818883,
          0.5448635573361554,
          0.47116184140902573,
          0.4341975961901883,
          0.5354146193967798,
          0.5295184821226094,
          0.4661728021770354,
          0.8790535943759923,
          0.28127598457933334,
          0.12661576838763325,
          0.49467079900219224,
          0.5673898253836269,
          0.7188751984276969,
          0.5265704134855242,
          0.5751757502456725,
          0.4642074230856452,
          0.4403960994784186,
          0.5447123743291254,
          0.5359437599213849,
          0.48575100158742157,
          0.766422254138635,
          0.35490210900294805,
          0.5726056391261622,
          0.4168115503817371,
          0.36208330183687354,
          0.6468364955778971,
          0.33819638672613206,
          0.5013984428150277,
          0.7004308715700356,
          0.4577821452868698,
          0.36722352407589387,
          0.4076649784564216,
          0.12941265401768842,
          0.5117544787965833,
          0.5314838612139996,
          0.5864388842694082,
          0.7959785320130018,
          0.5864388842694082,
          0.20326555295184823,
          0.7025474336684557,
          0.4571018217552347,
          0.5407060246428302,
          0.22994935369264496,
          0.429737697482803,
          0.41605563534658707,
          0.4849950865522715,
          0.2676695139466324,
          0.39677980195026086,
          0.4997354297376976,
          0.24952755310303124,
          0.7007332375840957,
          0.6011036359513191,
          0.5387406455514401,
          0.7286265023811325,
          0.5223372892886841,
          0.28324136367072345,
          0.7500188978758788,
          0.9945574117469198,
          0.11588177488850254,
          0.7652883815859098,
          0.5634590672008467,
          0.5101670572227682,
          0.17952982084813668,
          0.44871116486506923,
          0.614483332073475,
          0.614483332073475,
          0.49429284148461716,
          0.3022904225565047,
          0.3419759619018823,
          0.41492176279386206,
          0.49315896893189215,
          0.6816085871947994,
          0.5396477435936201,
          0.5027590898782978,
          0.2750018897875879,
          0.09494292841484618,
          0.31975205986847083,
          0.1949504875651977,
          0.8869151107415527,
          0.583339632625293,
          0.660065008693023,
          0.5457706553783356,
          0.8924332904981481,
          0.5950563156701187,
          0.5358681684178699,
          0.4418323380452037,
          0.5320885932421197,
          0.7207649860155719,
          0.21067352029631872,
          0.4572530047622647,
          0.612820318996145,
          0.2562551969158667,
          0.3974601254818959,
          0.874896061682667,
          0.9256935520447502,
          0.6342883059944063,
          0.22503590596416964,
          0.46685312570867044,
          0.6777534205155341,
          0.4075893869529066,
          0.3476453246655077,
          0.31536775266460054,
          0.31536775266460054,
          0.3301080958500265,
          0.5583188449618264,
          0.23614785698087537,
          0.3650313704739587,
          0.6900748355884799,
          0.4683649557789705,
          0.34817446519011264,
          0.4436465341295639,
          0.6621059792879281,
          0.18527477511527707,
          0.26683800740796737,
          0.5576385214301913,
          0.44719933479476914,
          0.37621891299417953,
          0.5546904527931061,
          0.6091919268274247,
          0.22375085040441456,
          0.4899085342807469,
          0.523773527855469,
          0.47751152770428607,
          0.7873611006122913,
          0.4828029329503364,
          0.2944289061909442
         ]
        }
       ],
       "layout": {
        "font": {
         "size": 16
        },
        "height": 1000,
        "scene": {
         "xaxis": {
          "title": {
           "text": "withdrawal_amount_avg"
          }
         },
         "yaxis": {
          "title": {
           "text": "credit_amount_avg"
          }
         },
         "zaxis": {
          "title": {
           "text": "diff_salary_loan"
          }
         }
        },
        "template": {
         "data": {
          "bar": [
           {
            "error_x": {
             "color": "#2a3f5f"
            },
            "error_y": {
             "color": "#2a3f5f"
            },
            "marker": {
             "line": {
              "color": "#E5ECF6",
              "width": 0.5
             },
             "pattern": {
              "fillmode": "overlay",
              "size": 10,
              "solidity": 0.2
             }
            },
            "type": "bar"
           }
          ],
          "barpolar": [
           {
            "marker": {
             "line": {
              "color": "#E5ECF6",
              "width": 0.5
             },
             "pattern": {
              "fillmode": "overlay",
              "size": 10,
              "solidity": 0.2
             }
            },
            "type": "barpolar"
           }
          ],
          "carpet": [
           {
            "aaxis": {
             "endlinecolor": "#2a3f5f",
             "gridcolor": "white",
             "linecolor": "white",
             "minorgridcolor": "white",
             "startlinecolor": "#2a3f5f"
            },
            "baxis": {
             "endlinecolor": "#2a3f5f",
             "gridcolor": "white",
             "linecolor": "white",
             "minorgridcolor": "white",
             "startlinecolor": "#2a3f5f"
            },
            "type": "carpet"
           }
          ],
          "choropleth": [
           {
            "colorbar": {
             "outlinewidth": 0,
             "ticks": ""
            },
            "type": "choropleth"
           }
          ],
          "contour": [
           {
            "colorbar": {
             "outlinewidth": 0,
             "ticks": ""
            },
            "colorscale": [
             [
              0,
              "#0d0887"
             ],
             [
              0.1111111111111111,
              "#46039f"
             ],
             [
              0.2222222222222222,
              "#7201a8"
             ],
             [
              0.3333333333333333,
              "#9c179e"
             ],
             [
              0.4444444444444444,
              "#bd3786"
             ],
             [
              0.5555555555555556,
              "#d8576b"
             ],
             [
              0.6666666666666666,
              "#ed7953"
             ],
             [
              0.7777777777777778,
              "#fb9f3a"
             ],
             [
              0.8888888888888888,
              "#fdca26"
             ],
             [
              1,
              "#f0f921"
             ]
            ],
            "type": "contour"
           }
          ],
          "contourcarpet": [
           {
            "colorbar": {
             "outlinewidth": 0,
             "ticks": ""
            },
            "type": "contourcarpet"
           }
          ],
          "heatmap": [
           {
            "colorbar": {
             "outlinewidth": 0,
             "ticks": ""
            },
            "colorscale": [
             [
              0,
              "#0d0887"
             ],
             [
              0.1111111111111111,
              "#46039f"
             ],
             [
              0.2222222222222222,
              "#7201a8"
             ],
             [
              0.3333333333333333,
              "#9c179e"
             ],
             [
              0.4444444444444444,
              "#bd3786"
             ],
             [
              0.5555555555555556,
              "#d8576b"
             ],
             [
              0.6666666666666666,
              "#ed7953"
             ],
             [
              0.7777777777777778,
              "#fb9f3a"
             ],
             [
              0.8888888888888888,
              "#fdca26"
             ],
             [
              1,
              "#f0f921"
             ]
            ],
            "type": "heatmap"
           }
          ],
          "heatmapgl": [
           {
            "colorbar": {
             "outlinewidth": 0,
             "ticks": ""
            },
            "colorscale": [
             [
              0,
              "#0d0887"
             ],
             [
              0.1111111111111111,
              "#46039f"
             ],
             [
              0.2222222222222222,
              "#7201a8"
             ],
             [
              0.3333333333333333,
              "#9c179e"
             ],
             [
              0.4444444444444444,
              "#bd3786"
             ],
             [
              0.5555555555555556,
              "#d8576b"
             ],
             [
              0.6666666666666666,
              "#ed7953"
             ],
             [
              0.7777777777777778,
              "#fb9f3a"
             ],
             [
              0.8888888888888888,
              "#fdca26"
             ],
             [
              1,
              "#f0f921"
             ]
            ],
            "type": "heatmapgl"
           }
          ],
          "histogram": [
           {
            "marker": {
             "pattern": {
              "fillmode": "overlay",
              "size": 10,
              "solidity": 0.2
             }
            },
            "type": "histogram"
           }
          ],
          "histogram2d": [
           {
            "colorbar": {
             "outlinewidth": 0,
             "ticks": ""
            },
            "colorscale": [
             [
              0,
              "#0d0887"
             ],
             [
              0.1111111111111111,
              "#46039f"
             ],
             [
              0.2222222222222222,
              "#7201a8"
             ],
             [
              0.3333333333333333,
              "#9c179e"
             ],
             [
              0.4444444444444444,
              "#bd3786"
             ],
             [
              0.5555555555555556,
              "#d8576b"
             ],
             [
              0.6666666666666666,
              "#ed7953"
             ],
             [
              0.7777777777777778,
              "#fb9f3a"
             ],
             [
              0.8888888888888888,
              "#fdca26"
             ],
             [
              1,
              "#f0f921"
             ]
            ],
            "type": "histogram2d"
           }
          ],
          "histogram2dcontour": [
           {
            "colorbar": {
             "outlinewidth": 0,
             "ticks": ""
            },
            "colorscale": [
             [
              0,
              "#0d0887"
             ],
             [
              0.1111111111111111,
              "#46039f"
             ],
             [
              0.2222222222222222,
              "#7201a8"
             ],
             [
              0.3333333333333333,
              "#9c179e"
             ],
             [
              0.4444444444444444,
              "#bd3786"
             ],
             [
              0.5555555555555556,
              "#d8576b"
             ],
             [
              0.6666666666666666,
              "#ed7953"
             ],
             [
              0.7777777777777778,
              "#fb9f3a"
             ],
             [
              0.8888888888888888,
              "#fdca26"
             ],
             [
              1,
              "#f0f921"
             ]
            ],
            "type": "histogram2dcontour"
           }
          ],
          "mesh3d": [
           {
            "colorbar": {
             "outlinewidth": 0,
             "ticks": ""
            },
            "type": "mesh3d"
           }
          ],
          "parcoords": [
           {
            "line": {
             "colorbar": {
              "outlinewidth": 0,
              "ticks": ""
             }
            },
            "type": "parcoords"
           }
          ],
          "pie": [
           {
            "automargin": true,
            "type": "pie"
           }
          ],
          "scatter": [
           {
            "fillpattern": {
             "fillmode": "overlay",
             "size": 10,
             "solidity": 0.2
            },
            "type": "scatter"
           }
          ],
          "scatter3d": [
           {
            "line": {
             "colorbar": {
              "outlinewidth": 0,
              "ticks": ""
             }
            },
            "marker": {
             "colorbar": {
              "outlinewidth": 0,
              "ticks": ""
             }
            },
            "type": "scatter3d"
           }
          ],
          "scattercarpet": [
           {
            "marker": {
             "colorbar": {
              "outlinewidth": 0,
              "ticks": ""
             }
            },
            "type": "scattercarpet"
           }
          ],
          "scattergeo": [
           {
            "marker": {
             "colorbar": {
              "outlinewidth": 0,
              "ticks": ""
             }
            },
            "type": "scattergeo"
           }
          ],
          "scattergl": [
           {
            "marker": {
             "colorbar": {
              "outlinewidth": 0,
              "ticks": ""
             }
            },
            "type": "scattergl"
           }
          ],
          "scattermapbox": [
           {
            "marker": {
             "colorbar": {
              "outlinewidth": 0,
              "ticks": ""
             }
            },
            "type": "scattermapbox"
           }
          ],
          "scatterpolar": [
           {
            "marker": {
             "colorbar": {
              "outlinewidth": 0,
              "ticks": ""
             }
            },
            "type": "scatterpolar"
           }
          ],
          "scatterpolargl": [
           {
            "marker": {
             "colorbar": {
              "outlinewidth": 0,
              "ticks": ""
             }
            },
            "type": "scatterpolargl"
           }
          ],
          "scatterternary": [
           {
            "marker": {
             "colorbar": {
              "outlinewidth": 0,
              "ticks": ""
             }
            },
            "type": "scatterternary"
           }
          ],
          "surface": [
           {
            "colorbar": {
             "outlinewidth": 0,
             "ticks": ""
            },
            "colorscale": [
             [
              0,
              "#0d0887"
             ],
             [
              0.1111111111111111,
              "#46039f"
             ],
             [
              0.2222222222222222,
              "#7201a8"
             ],
             [
              0.3333333333333333,
              "#9c179e"
             ],
             [
              0.4444444444444444,
              "#bd3786"
             ],
             [
              0.5555555555555556,
              "#d8576b"
             ],
             [
              0.6666666666666666,
              "#ed7953"
             ],
             [
              0.7777777777777778,
              "#fb9f3a"
             ],
             [
              0.8888888888888888,
              "#fdca26"
             ],
             [
              1,
              "#f0f921"
             ]
            ],
            "type": "surface"
           }
          ],
          "table": [
           {
            "cells": {
             "fill": {
              "color": "#EBF0F8"
             },
             "line": {
              "color": "white"
             }
            },
            "header": {
             "fill": {
              "color": "#C8D4E3"
             },
             "line": {
              "color": "white"
             }
            },
            "type": "table"
           }
          ]
         },
         "layout": {
          "annotationdefaults": {
           "arrowcolor": "#2a3f5f",
           "arrowhead": 0,
           "arrowwidth": 1
          },
          "autotypenumbers": "strict",
          "coloraxis": {
           "colorbar": {
            "outlinewidth": 0,
            "ticks": ""
           }
          },
          "colorscale": {
           "diverging": [
            [
             0,
             "#8e0152"
            ],
            [
             0.1,
             "#c51b7d"
            ],
            [
             0.2,
             "#de77ae"
            ],
            [
             0.3,
             "#f1b6da"
            ],
            [
             0.4,
             "#fde0ef"
            ],
            [
             0.5,
             "#f7f7f7"
            ],
            [
             0.6,
             "#e6f5d0"
            ],
            [
             0.7,
             "#b8e186"
            ],
            [
             0.8,
             "#7fbc41"
            ],
            [
             0.9,
             "#4d9221"
            ],
            [
             1,
             "#276419"
            ]
           ],
           "sequential": [
            [
             0,
             "#0d0887"
            ],
            [
             0.1111111111111111,
             "#46039f"
            ],
            [
             0.2222222222222222,
             "#7201a8"
            ],
            [
             0.3333333333333333,
             "#9c179e"
            ],
            [
             0.4444444444444444,
             "#bd3786"
            ],
            [
             0.5555555555555556,
             "#d8576b"
            ],
            [
             0.6666666666666666,
             "#ed7953"
            ],
            [
             0.7777777777777778,
             "#fb9f3a"
            ],
            [
             0.8888888888888888,
             "#fdca26"
            ],
            [
             1,
             "#f0f921"
            ]
           ],
           "sequentialminus": [
            [
             0,
             "#0d0887"
            ],
            [
             0.1111111111111111,
             "#46039f"
            ],
            [
             0.2222222222222222,
             "#7201a8"
            ],
            [
             0.3333333333333333,
             "#9c179e"
            ],
            [
             0.4444444444444444,
             "#bd3786"
            ],
            [
             0.5555555555555556,
             "#d8576b"
            ],
            [
             0.6666666666666666,
             "#ed7953"
            ],
            [
             0.7777777777777778,
             "#fb9f3a"
            ],
            [
             0.8888888888888888,
             "#fdca26"
            ],
            [
             1,
             "#f0f921"
            ]
           ]
          },
          "colorway": [
           "#636efa",
           "#EF553B",
           "#00cc96",
           "#ab63fa",
           "#FFA15A",
           "#19d3f3",
           "#FF6692",
           "#B6E880",
           "#FF97FF",
           "#FECB52"
          ],
          "font": {
           "color": "#2a3f5f"
          },
          "geo": {
           "bgcolor": "white",
           "lakecolor": "white",
           "landcolor": "#E5ECF6",
           "showlakes": true,
           "showland": true,
           "subunitcolor": "white"
          },
          "hoverlabel": {
           "align": "left"
          },
          "hovermode": "closest",
          "mapbox": {
           "style": "light"
          },
          "paper_bgcolor": "white",
          "plot_bgcolor": "#E5ECF6",
          "polar": {
           "angularaxis": {
            "gridcolor": "white",
            "linecolor": "white",
            "ticks": ""
           },
           "bgcolor": "#E5ECF6",
           "radialaxis": {
            "gridcolor": "white",
            "linecolor": "white",
            "ticks": ""
           }
          },
          "scene": {
           "xaxis": {
            "backgroundcolor": "#E5ECF6",
            "gridcolor": "white",
            "gridwidth": 2,
            "linecolor": "white",
            "showbackground": true,
            "ticks": "",
            "zerolinecolor": "white"
           },
           "yaxis": {
            "backgroundcolor": "#E5ECF6",
            "gridcolor": "white",
            "gridwidth": 2,
            "linecolor": "white",
            "showbackground": true,
            "ticks": "",
            "zerolinecolor": "white"
           },
           "zaxis": {
            "backgroundcolor": "#E5ECF6",
            "gridcolor": "white",
            "gridwidth": 2,
            "linecolor": "white",
            "showbackground": true,
            "ticks": "",
            "zerolinecolor": "white"
           }
          },
          "shapedefaults": {
           "line": {
            "color": "#2a3f5f"
           }
          },
          "ternary": {
           "aaxis": {
            "gridcolor": "white",
            "linecolor": "white",
            "ticks": ""
           },
           "baxis": {
            "gridcolor": "white",
            "linecolor": "white",
            "ticks": ""
           },
           "bgcolor": "#E5ECF6",
           "caxis": {
            "gridcolor": "white",
            "linecolor": "white",
            "ticks": ""
           }
          },
          "title": {
           "x": 0.05
          },
          "xaxis": {
           "automargin": true,
           "gridcolor": "white",
           "linecolor": "white",
           "ticks": "",
           "title": {
            "standoff": 15
           },
           "zerolinecolor": "white",
           "zerolinewidth": 2
          },
          "yaxis": {
           "automargin": true,
           "gridcolor": "white",
           "linecolor": "white",
           "ticks": "",
           "title": {
            "standoff": 15
           },
           "zerolinecolor": "white",
           "zerolinewidth": 2
          }
         }
        },
        "title": {
         "text": "KMeans Clusters"
        },
        "width": 1000
       }
      }
     },
     "metadata": {},
     "output_type": "display_data"
    },
    {
     "name": "stdout",
     "output_type": "stream",
     "text": [
      "          cluster  withdrawal_amount_avg  credit_amount_avg  diff_salary_loan\n",
      "count  328.000000             328.000000         328.000000        328.000000\n",
      "mean     1.054878               0.280753           0.382279          0.495065\n",
      "std      0.865605               0.149462           0.221281          0.192151\n",
      "min      0.000000               0.000000           0.000000          0.000000\n",
      "25%      0.000000               0.172723           0.210988          0.365712\n",
      "50%      1.000000               0.259542           0.366599          0.502079\n",
      "75%      2.000000               0.368849           0.548253          0.615220\n",
      "max      2.000000               1.000000           1.000000          1.000000\n"
     ]
    }
   ],
   "source": [
    "clustering_kmeans(df[['withdrawal_amount_avg','credit_amount_avg','diff_salary_loan']])"
   ]
  },
  {
   "cell_type": "code",
   "execution_count": 27,
   "metadata": {},
   "outputs": [
    {
     "data": {
      "image/png": "[encoded data removed]",
      "text/plain": [
       "<Figure size 640x480 with 1 Axes>"
      ]
     },
     "metadata": {},
     "output_type": "display_data"
    },
    {
     "name": "stdout",
     "output_type": "stream",
     "text": [
      "KMedoids Clusters: \n",
      " Counter({0: 121, 1: 104, 2: 103})\n",
      "KMedoids Centers: \n",
      " [[0.27230361 0.3626615 ]\n",
      " [0.13976395 0.1609008 ]\n",
      " [0.40424215 0.6366009 ]]\n",
      "KMedoids Inertia: 38.2305666796166\n",
      "KMedoids Silhouette Score: 0.4018740691393424\n"
     ]
    },
    {
     "data": {
      "application/vnd.plotly.v1+json": {
       "config": {
        "plotlyServerURL": "https://plot.ly"
       },
       "data": [
        {
         "marker": {
          "color": [
           1,
           0,
           1,
           0,
           2,
           0,
           1,
           0,
           0,
           2,
           1,
           2,
           2,
           0,
           1,
           0,
           2,
           0,
           1,
           0,
           0,
           0,
           2,
           0,
           1,
           2,
           1,
           1,
           2,
           2,
           0,
           0,
           1,
           2,
           0,
           0,
           1,
           0,
           2,
           1,
           2,
           1,
           1,
           2,
           1,
           0,
           2,
           2,
           0,
           2,
           1,
           0,
           1,
           0,
           2,
           1,
           1,
           2,
           1,
           0,
           1,
           0,
           0,
           0,
           2,
           0,
           1,
           2,
           1,
           0,
           2,
           1,
           0,
           0,
           0,
           0,
           0,
           2,
           1,
           1,
           0,
           0,
           0,
           0,
           1,
           2,
           2,
           2,
           2,
           0,
           2,
           1,
           1,
           1,
           1,
           1,
           0,
           2,
           0,
           0,
           0,
           1,
           0,
           0,
           2,
           1,
           0,
           0,
           1,
           0,
           1,
           0,
           2,
           2,
           0,
           1,
           1,
           2,
           1,
           2,
           1,
           1,
           0,
           1,
           0,
           2,
           1,
           1,
           2,
           2,
           2,
           1,
           1,
           2,
           2,
           0,
           0,
           0,
           1,
           0,
           0,
           0,
           0,
           1,
           0,
           0,
           1,
           1,
           0,
           1,
           0,
           0,
           2,
           2,
           2,
           1,
           1,
           1,
           0,
           2,
           2,
           1,
           1,
           1,
           0,
           1,
           1,
           2,
           1,
           1,
           1,
           0,
           0,
           0,
           1,
           0,
           2,
           1,
           1,
           0,
           1,
           0,
           2,
           1,
           2,
           0,
           1,
           2,
           2,
           2,
           0,
           2,
           0,
           1,
           2,
           2,
           2,
           0,
           1,
           1,
           0,
           2,
           0,
           0,
           0,
           0,
           2,
           2,
           0,
           0,
           2,
           2,
           2,
           1,
           1,
           1,
           2,
           0,
           2,
           2,
           2,
           1,
           1,
           2,
           2,
           2,
           1,
           0,
           2,
           0,
           1,
           2,
           1,
           0,
           0,
           0,
           2,
           1,
           0,
           1,
           2,
           0,
           1,
           2,
           2,
           1,
           2,
           2,
           2,
           2,
           0,
           2,
           1,
           0,
           0,
           1,
           0,
           2,
           1,
           0,
           1,
           1,
           2,
           2,
           2,
           2,
           1,
           1,
           0,
           0,
           2,
           0,
           2,
           2,
           1,
           0,
           2,
           1,
           1,
           0,
           0,
           0,
           0,
           0,
           0,
           0,
           0,
           2,
           2,
           1,
           0,
           0,
           1,
           2,
           1,
           2,
           1,
           1,
           2,
           0,
           1,
           0,
           2,
           2,
           2,
           2,
           0,
           2,
           2,
           0,
           1,
           0,
           2,
           0,
           0,
           2,
           1,
           0,
           2,
           0,
           0,
           0,
           1,
           1,
           0,
           0,
           2,
           1
          ],
          "colorscale": [
           [
            0,
            "rgb(150,0,90)"
           ],
           [
            0.125,
            "rgb(0,0,200)"
           ],
           [
            0.25,
            "rgb(0,25,255)"
           ],
           [
            0.375,
            "rgb(0,152,255)"
           ],
           [
            0.5,
            "rgb(44,255,150)"
           ],
           [
            0.625,
            "rgb(151,255,0)"
           ],
           [
            0.75,
            "rgb(255,234,0)"
           ],
           [
            0.875,
            "rgb(255,111,0)"
           ],
           [
            1,
            "rgb(255,0,0)"
           ]
          ],
          "line": {
           "width": 0
          },
          "size": 7
         },
         "mode": "markers",
         "type": "scatter",
         "x": [
          0,
          0.2997295239196861,
          0.20569580598209034,
          0.2418317380449765,
          0.5668189660989175,
          0.6612494336967313,
          0.10635780026341318,
          0.3286359079648747,
          0.27230361325583413,
          0.5499166208804449,
          0.1539302651745178,
          0.45113905858553055,
          0.3736004591387605,
          0.31021774963130044,
          0.24242599500689202,
          0.38445244498423986,
          0.3721407709435817,
          0.29902091970279704,
          0.23953423363504042,
          0.5617246464821722,
          0.2117480516757757,
          0.21079919247563692,
          0.4434265444415527,
          0.34349209103264794,
          0.14000944642048138,
          0.3848189154930935,
          0.08847147563012729,
          0.16957713943563021,
          0.26420246426264904,
          0.6254879847314999,
          0.2605348473310649,
          0.34861789871766447,
          0.16014413076679423,
          0.4012771946059011,
          0.27797746051564454,
          0.3066971586837987,
          0.18181075670968963,
          0.3113059435335396,
          0.4007944590499348,
          0.15338880841613556,
          0.2964216677455161,
          0.20579701763010516,
          0.1059500792320199,
          0.769958240823745,
          0.14712602413609804,
          0.2953257376401299,
          0.4019260737270627,
          0.355315860668511,
          0.2532477871777873,
          0.3665600249334091,
          0.04894322529015544,
          0.3061434934833622,
          0.16049655826845616,
          0.2458093558119584,
          0.5092884660491149,
          0.19473099992288634,
          0.1660459895213083,
          0.33937952440164637,
          0.1569826397925643,
          0.25942762403246483,
          0.11904643245860627,
          0.35761448965231385,
          0.18205301803495177,
          0.24669423479174496,
          0.412035000518816,
          0.2851986800715871,
          0.09895925151219483,
          0.3484123683515697,
          0.11035395159191463,
          0.2524186940867833,
          0.41665874874862463,
          0.16402387791626102,
          0.307989936670426,
          0.22729825878246787,
          0.2519801817953982,
          0.1954359437370339,
          0.21214027252617454,
          0.33455113839006,
          0.13976395194535213,
          0.08840694186463677,
          0.23641072971991683,
          0.4160382188791192,
          0.3716184590102797,
          0.3386665981212119,
          0.33062471684836564,
          0.37503444381871304,
          0.8699478519032608,
          0.37126706630094813,
          0.23990592974528607,
          0.2838980089985925,
          0.3765489398481504,
          0.1943862477468359,
          0.1434231819283296,
          0.08094216406725532,
          0,
          0.22357047310092332,
          0.2727703786405285,
          0.2040322463523643,
          0.13484167010249654,
          0.21651368352339379,
          0.2766883193640966,
          0.1236970910526317,
          0.345244177117171,
          0.24077473639918712,
          0.33499847229815893,
          0.13488319987737052,
          0.2253296546174138,
          0.2144449203801702,
          0.03478328390563432,
          0.3420264290225553,
          0.1837126360332745,
          0.3404681422986272,
          0.20639848326597812,
          0.41358432653652566,
          0.19224228434060925,
          0.11613106556717208,
          0.12617430894935883,
          0.44255377007827773,
          0.12597931516365687,
          0.39299759285313046,
          0.16234598246878593,
          0.09282106744551438,
          0.5285497174106526,
          0.1786425042849532,
          0.4132902675093473,
          0.34162860598390477,
          0.17332839123282212,
          0.17072751234999461,
          0.3748264461216661,
          0.21709278961209214,
          0.4631384286168705,
          0.058308095300591174,
          0.11218811530001657,
          0.37175258000035416,
          0.2981277102404814,
          0.2594405871006835,
          0.1791476840058431,
          0.2201002852133531,
          0.1015973125897651,
          0.21952348592194168,
          0.35166685384656937,
          0.25964378855012443,
          0.17578985655521429,
          0.10237376534765273,
          0.3299942057670289,
          0.3352880097934318,
          0.07618455496481,
          0.12705808432477625,
          0.4039429166305196,
          0.09998237040216285,
          0.28845319684219656,
          0.2138716958845787,
          0.4177245693685357,
          0.32127446160789863,
          0.2929578213066323,
          0.2618007961982977,
          0.14289805012186943,
          0.12464381106740949,
          0.30451980374579485,
          0.2990030227411516,
          0.49135935677587883,
          0.11532729919127073,
          0.06485554120485192,
          0.11449323010874152,
          0.35896234254870496,
          0.08506482365075234,
          0.2552782677706769,
          0.40424214508104506,
          0.15139519453521358,
          0.2881360670117502,
          0.06347835354154664,
          0.21969145647639615,
          0.30768340996500965,
          0.32521326740117407,
          0.18825996292119307,
          0.27966055541096746,
          0.5166566331309976,
          0.1293837568887452,
          0.1376301788752863,
          0.19047949293048896,
          0.09806720178022338,
          0.36376006091977287,
          0.49559579669801435,
          0.1770403786279556,
          0.43799112724245015,
          0.3465970394789688,
          0.1419084438690581,
          0.23950306338112284,
          0.2877962681396724,
          0.9999999999999999,
          0.1959697414658231,
          0.8434304001233818,
          0.13536374059493692,
          0.1176532392546967,
          0.46542446237336493,
          0.48008077653432046,
          0.524090782028667,
          0.1545379836957982,
          0.062152386185092,
          0.23166221656722222,
          0.24073221150517932,
          0.31850143570596995,
          0.19847932669648732,
          0.19641953841621163,
          0.3690422568024603,
          0.36878499820677557,
          0.31640824329945527,
          0.40427305938713937,
          0.19510080198182045,
          0.29187511446555425,
          0.4281977068899333,
          0.2693985316060532,
          0.411197735429539,
          0.09941332157805771,
          0.09860739445627101,
          0.08957179732316367,
          0.37207932101442986,
          0.21909744846153165,
          0.21832684515149672,
          0.7444678998422384,
          0.6140173312898219,
          0.16674071717824065,
          0.10409685472754787,
          0.4117924449908876,
          0.3111996713031241,
          0.464496601869446,
          0.10160974716366405,
          0.34552657011039745,
          0.3798721404981359,
          0.16425170770346628,
          0.3227526997805474,
          0.32727064799505945,
          0.17034747466832584,
          0.31742934195292427,
          0.29523912897975263,
          0.30606852189224004,
          0.44247958184416547,
          0.2171335160246106,
          0.12068997914393367,
          0.2245755489668757,
          0.3026965893865347,
          0.2509574223038563,
          0.1787027506382065,
          0.569034376616575,
          0.33501288163355925,
          0.18607458717634826,
          0.3768358612978292,
          0.42441848422072465,
          0.2721791256495191,
          0.7388450305080825,
          0.3514302705296314,
          0.41878587019505475,
          0.10231784586611091,
          0.18320439785001247,
          0.23840965976820927,
          0.17090548277956102,
          0.42340206086193766,
          0.31385161111889665,
          0.06893436041893118,
          0.20417610764566158,
          0.16867659713152905,
          0.05609388504927239,
          0.3714300571706297,
          0.22607561474027163,
          0.7565728129448092,
          0.5114561946348187,
          0.11500595220882372,
          0.11402195007534643,
          0.35845792005243726,
          0.12280839708184203,
          0.31322551444872954,
          0.2074672744279652,
          0.4255079057542838,
          0.42882370325524144,
          0.2558585478859618,
          0.252478323314847,
          0.5573388084015307,
          0.21459772824395015,
          0.0987704230646887,
          0.35613005214809673,
          0.297417849879028,
          0.3980991488582362,
          0.5431691776794578,
          0.1909567392498771,
          0.21137831650959749,
          0.21852448398608748,
          0.47753135617700443,
          0.5221075156878054,
          0.35602451195161333,
          0.09339904900555802,
          0.3177095915275841,
          0.29576292697659917,
          0.09826751363144179,
          0.3111050592806113,
          0.15800892590343446,
          0.4520666807257992,
          0.17747603051129554,
          0.17880724482615692,
          0.3934416975978939,
          0.20136493971811562,
          0.12145397761776698,
          0.17569287807370135,
          0.428352412754939,
          0.4222560335859546,
          0.4267975818943113,
          0.4846641738200687,
          0.20947710962458943,
          0.42898669468462125,
          0.4897100848571309,
          0.34425217066381797,
          0.09261985581800854,
          0.2552240926470052,
          0.38480315137728166,
          0.30089660667868356,
          0.23792569137194797,
          0.3721459792234719,
          0.2169524690822513,
          0.25317991072420176,
          0.23115019120050784,
          0.23321449126921273,
          0.3013306921912804,
          0.2839116485338399,
          0.15518444617950128,
          0.129229016727422,
          0.34402448606715164,
          0.23529790469058917,
          0.37084419229341625,
          0.1000617279831299
         ],
         "y": [
          0.10013096370425442,
          0.4496031640292065,
          0.09950314823240713,
          0.27406600648102963,
          0.7676001422679554,
          0.19500179283696076,
          0.07048264241023441,
          0.44350421813248786,
          0.3626614958819776,
          0.43445641022434756,
          0.20403873244856727,
          0.8622807525890533,
          0.5529212719952936,
          0.3748999254475964,
          0.18483259213420614,
          0.42936659380272557,
          0.48744444728110337,
          0.22526340590325591,
          0.0941447843034744,
          0.37368305008384317,
          0.3209542143334475,
          0.32097028979908226,
          0.7301264117990816,
          0.45115481350424924,
          0.017384905603641046,
          0.5852963186096205,
          0.05696008266387975,
          0.2840170187874236,
          0.5376019122438792,
          0.40189960460139884,
          0.5073594257284088,
          0.20874125832485993,
          0.2547234413032706,
          0.5739514813486606,
          0.2720206918192387,
          0.3420706676822731,
          0.2120310753668931,
          0.4683053391833474,
          0.6234686197584343,
          0.20383369498900736,
          0.6129760137993616,
          0.14500839249938094,
          0.04708697405780837,
          0.481919534051233,
          0.12384398309181141,
          0.45916819802830044,
          0.728561477882125,
          0.9529542669631313,
          0.48881261894584316,
          0.5463653013817837,
          0.007147928305703571,
          0.3972194206896459,
          0.28294452353595345,
          0.42068098233541973,
          0.6772307762788392,
          0.15029472741440383,
          0.27500331274346246,
          0.6656450961716806,
          0.04530638035844059,
          0.24486744662960638,
          0.16478220532454943,
          0.2258160571501259,
          0.36816549575745805,
          0.444042476229894,
          0.6497589311612386,
          0.4057247138797365,
          0.11359948858891836,
          0.6816038838338506,
          0.04615117011063938,
          0.2719598736020863,
          1,
          0.23592307821040662,
          0.509725991649852,
          0.4693605705583572,
          0.37971455963350886,
          0.3815452548017553,
          0.35383426430742326,
          0.6200806273319707,
          0.160900798991829,
          0.21424268874141808,
          0.43318341611622047,
          0.33407951799193925,
          0.46424430590313337,
          0.44852524524352244,
          0.08681748737430597,
          0.7354875185808396,
          0.8987965466266218,
          0.564291159377152,
          0.7429236969184927,
          0.37807837383728593,
          0.7049225631811812,
          0.21995755575547324,
          0.09254983611493056,
          0.17075403579445084,
          0.07854123950863146,
          0.21587764155499187,
          0.4335986470551152,
          0.6541887792017116,
          0.36717688960084893,
          0.2735380084353336,
          0.22737581762661643,
          0.15661326390540067,
          0.26604920915374053,
          0.38642768647490966,
          0.7210645050920591,
          0.24651286968833322,
          0.4274663242254727,
          0.3505826059665835,
          0,
          0.3821894014169186,
          0.14395952731966769,
          0.47245339463912095,
          0.6057692724777866,
          0.49540624673815414,
          0.30771924609148305,
          0.09408283011760238,
          0.15304577389964327,
          0.7902592579305231,
          0.20983966124536488,
          0.5850743089681784,
          0.25058630978346186,
          0.08252855314293164,
          0.17500618337888404,
          0.2666145816185709,
          0.4555122171136725,
          0.5116558647684075,
          0.2581654361406114,
          0.19439299817237118,
          0.5804583251427908,
          0.7240057505348184,
          0.6736892311367495,
          0.06639315887217961,
          0.08232094909661883,
          0.692495897533727,
          0.613646624902281,
          0.25992385591966405,
          0.4348072816478924,
          0.3760001602234877,
          0.11895935727962814,
          0.32432168988833265,
          0.40516186825716316,
          0.45201615602492395,
          0.36602013730934335,
          0.10608140946340044,
          0.4867488697754315,
          0.2562956758426297,
          0.08992276793040738,
          0.2134730538538965,
          0.4075482802242555,
          0.04451661218440878,
          0.247446904629931,
          0.4298060521714173,
          0.5369546088338518,
          0.5531841864903433,
          0.6046543000523676,
          0.18018977335004263,
          0.18366076545903418,
          0.2799966509241618,
          0.43690209129538327,
          0.5907293206607834,
          0.7804995449218156,
          0.21431288193338413,
          0.12667484003550764,
          0.1894848318889277,
          0.32688284697139947,
          0.0631267219459101,
          0.1704755397754618,
          0.636600900686075,
          0.15837110812076197,
          0.1852643866181186,
          0.051414008077357326,
          0.3917516471809549,
          0.40731209022322024,
          0.3547257301169293,
          0.20329307630524,
          0.3644481908316367,
          0.6946403449984273,
          0.1275554771711438,
          0.10272161637638424,
          0.3441731059707528,
          0.052554823759492525,
          0.34379122019991604,
          0.7439861441792763,
          0.27548942042418745,
          0.636046004878524,
          0.251738462028372,
          0.22009247190299444,
          0.731663536955244,
          0.8054882960472696,
          0.7615260894065466,
          0.30141047000279897,
          0.45879385519140714,
          0.32008455334990826,
          0.11361563128161267,
          0.6536033933519912,
          0.8132734805951317,
          0.747407794188625,
          0.3036403920265933,
          0.024238300339892382,
          0.14826713861558757,
          0.33603365533299034,
          0.6418186124611559,
          0.42489087498755573,
          0.2857949154402314,
          0.44200272478042957,
          0.4397017947838706,
          0.558754160722044,
          0.4722162014107132,
          0.3364845721440475,
          0.3441164188024616,
          0.7664608835084032,
          0.6607910158612321,
          0.6688407959316754,
          0.22362443284292297,
          0.07531605248463769,
          0.056313610928775126,
          0.5753089307640945,
          0.2634896852648717,
          0.579209428136881,
          0.4687349522170594,
          0.39228402537018403,
          0.26643051977374976,
          0.09738172528780639,
          0.5979831497746233,
          0.5921701165349519,
          0.661853589026689,
          0.08189857489095326,
          0.4818673253600104,
          0.9664715537403915,
          0.29789373690800247,
          0.0582183866210462,
          0.9259676090234347,
          0.11989385453889284,
          0.41790823940167376,
          0.4593294412686576,
          0.3425399757398675,
          0.6097112124285564,
          0.06631443629471223,
          0.3281100938974413,
          0.10999089687602939,
          0.7973560188023642,
          0.36892261870691867,
          0.21211575887061632,
          0.3957263053564464,
          0.7777641415531175,
          0.2569320692097802,
          0.7416110174972318,
          0.4881098132695355,
          0.6777343619815435,
          0.5386317414160614,
          0.4682129428319398,
          0.6477063227248241,
          0.3286135755515861,
          0.5184717081760012,
          0.2955535099416855,
          0.2519666371704046,
          0.13122564965050915,
          0.6120331214001775,
          0.059817175554593094,
          0.4267657110111631,
          0.23882106731003752,
          0.04610858151403238,
          0.562852654092508,
          0.6265354631750206,
          0.6355227110873064,
          0.5121402131310033,
          0.14708470711773716,
          0.1470947823223617,
          0.2238164374567694,
          0.3876147049139921,
          0.6240288816686616,
          0.49016923039847393,
          0.6545009353903459,
          0.6481440692630261,
          0.2251370089200683,
          0.40239068414837265,
          0.4353970789889343,
          0.24266426667954824,
          0.02171027881319748,
          0.39771226624469946,
          0.3609674735941997,
          0.2014112156895456,
          0.3091729541873216,
          0.2930411789547589,
          0.29313350258014803,
          0.48742298936230577,
          0.4269291537853699,
          0.4838896820575923,
          0.5357831363305053,
          0.2041861721301633,
          0.19492341381556125,
          0.21135472960997,
          0.07684754767581564,
          0.7407360749270349,
          0.14568916562274722,
          0.5466971597576283,
          0.10439076872781117,
          0.17060667735946486,
          0.7806816786419574,
          0.3422576154376663,
          0.06797666780223996,
          0.3093926210636613,
          0.6632162238977968,
          0.840798579800868,
          0.8408070614782306,
          0.5721955818185513,
          0.5066247098761605,
          0.5865186635327126,
          0.7382392971983359,
          0.44323415159895374,
          0.03660353152953416,
          0.2454292318148185,
          0.5628460449932644,
          0.23831678784542012,
          0.3208566399955244,
          0.6979986437317584,
          0.20577857876590103,
          0.36882614832026084,
          0.5585138939286951,
          0.383769612567908,
          0.2777085013774625,
          0.22254910595959912,
          0.20988769324128967,
          0.15867336609536156,
          0.44526047610480934,
          0.244882045395491,
          0.5742818658870833,
          0.2558549145920399
         ]
        }
       ],
       "layout": {
        "font": {
         "size": 16
        },
        "height": 1000,
        "scene": {
         "xaxis": {
          "title": {
           "text": "withdrawal_amount_avg"
          }
         },
         "yaxis": {
          "title": {
           "text": "credit_amount_avg"
          }
         }
        },
        "template": {
         "data": {
          "bar": [
           {
            "error_x": {
             "color": "#2a3f5f"
            },
            "error_y": {
             "color": "#2a3f5f"
            },
            "marker": {
             "line": {
              "color": "#E5ECF6",
              "width": 0.5
             },
             "pattern": {
              "fillmode": "overlay",
              "size": 10,
              "solidity": 0.2
             }
            },
            "type": "bar"
           }
          ],
          "barpolar": [
           {
            "marker": {
             "line": {
              "color": "#E5ECF6",
              "width": 0.5
             },
             "pattern": {
              "fillmode": "overlay",
              "size": 10,
              "solidity": 0.2
             }
            },
            "type": "barpolar"
           }
          ],
          "carpet": [
           {
            "aaxis": {
             "endlinecolor": "#2a3f5f",
             "gridcolor": "white",
             "linecolor": "white",
             "minorgridcolor": "white",
             "startlinecolor": "#2a3f5f"
            },
            "baxis": {
             "endlinecolor": "#2a3f5f",
             "gridcolor": "white",
             "linecolor": "white",
             "minorgridcolor": "white",
             "startlinecolor": "#2a3f5f"
            },
            "type": "carpet"
           }
          ],
          "choropleth": [
           {
            "colorbar": {
             "outlinewidth": 0,
             "ticks": ""
            },
            "type": "choropleth"
           }
          ],
          "contour": [
           {
            "colorbar": {
             "outlinewidth": 0,
             "ticks": ""
            },
            "colorscale": [
             [
              0,
              "#0d0887"
             ],
             [
              0.1111111111111111,
              "#46039f"
             ],
             [
              0.2222222222222222,
              "#7201a8"
             ],
             [
              0.3333333333333333,
              "#9c179e"
             ],
             [
              0.4444444444444444,
              "#bd3786"
             ],
             [
              0.5555555555555556,
              "#d8576b"
             ],
             [
              0.6666666666666666,
              "#ed7953"
             ],
             [
              0.7777777777777778,
              "#fb9f3a"
             ],
             [
              0.8888888888888888,
              "#fdca26"
             ],
             [
              1,
              "#f0f921"
             ]
            ],
            "type": "contour"
           }
          ],
          "contourcarpet": [
           {
            "colorbar": {
             "outlinewidth": 0,
             "ticks": ""
            },
            "type": "contourcarpet"
           }
          ],
          "heatmap": [
           {
            "colorbar": {
             "outlinewidth": 0,
             "ticks": ""
            },
            "colorscale": [
             [
              0,
              "#0d0887"
             ],
             [
              0.1111111111111111,
              "#46039f"
             ],
             [
              0.2222222222222222,
              "#7201a8"
             ],
             [
              0.3333333333333333,
              "#9c179e"
             ],
             [
              0.4444444444444444,
              "#bd3786"
             ],
             [
              0.5555555555555556,
              "#d8576b"
             ],
             [
              0.6666666666666666,
              "#ed7953"
             ],
             [
              0.7777777777777778,
              "#fb9f3a"
             ],
             [
              0.8888888888888888,
              "#fdca26"
             ],
             [
              1,
              "#f0f921"
             ]
            ],
            "type": "heatmap"
           }
          ],
          "heatmapgl": [
           {
            "colorbar": {
             "outlinewidth": 0,
             "ticks": ""
            },
            "colorscale": [
             [
              0,
              "#0d0887"
             ],
             [
              0.1111111111111111,
              "#46039f"
             ],
             [
              0.2222222222222222,
              "#7201a8"
             ],
             [
              0.3333333333333333,
              "#9c179e"
             ],
             [
              0.4444444444444444,
              "#bd3786"
             ],
             [
              0.5555555555555556,
              "#d8576b"
             ],
             [
              0.6666666666666666,
              "#ed7953"
             ],
             [
              0.7777777777777778,
              "#fb9f3a"
             ],
             [
              0.8888888888888888,
              "#fdca26"
             ],
             [
              1,
              "#f0f921"
             ]
            ],
            "type": "heatmapgl"
           }
          ],
          "histogram": [
           {
            "marker": {
             "pattern": {
              "fillmode": "overlay",
              "size": 10,
              "solidity": 0.2
             }
            },
            "type": "histogram"
           }
          ],
          "histogram2d": [
           {
            "colorbar": {
             "outlinewidth": 0,
             "ticks": ""
            },
            "colorscale": [
             [
              0,
              "#0d0887"
             ],
             [
              0.1111111111111111,
              "#46039f"
             ],
             [
              0.2222222222222222,
              "#7201a8"
             ],
             [
              0.3333333333333333,
              "#9c179e"
             ],
             [
              0.4444444444444444,
              "#bd3786"
             ],
             [
              0.5555555555555556,
              "#d8576b"
             ],
             [
              0.6666666666666666,
              "#ed7953"
             ],
             [
              0.7777777777777778,
              "#fb9f3a"
             ],
             [
              0.8888888888888888,
              "#fdca26"
             ],
             [
              1,
              "#f0f921"
             ]
            ],
            "type": "histogram2d"
           }
          ],
          "histogram2dcontour": [
           {
            "colorbar": {
             "outlinewidth": 0,
             "ticks": ""
            },
            "colorscale": [
             [
              0,
              "#0d0887"
             ],
             [
              0.1111111111111111,
              "#46039f"
             ],
             [
              0.2222222222222222,
              "#7201a8"
             ],
             [
              0.3333333333333333,
              "#9c179e"
             ],
             [
              0.4444444444444444,
              "#bd3786"
             ],
             [
              0.5555555555555556,
              "#d8576b"
             ],
             [
              0.6666666666666666,
              "#ed7953"
             ],
             [
              0.7777777777777778,
              "#fb9f3a"
             ],
             [
              0.8888888888888888,
              "#fdca26"
             ],
             [
              1,
              "#f0f921"
             ]
            ],
            "type": "histogram2dcontour"
           }
          ],
          "mesh3d": [
           {
            "colorbar": {
             "outlinewidth": 0,
             "ticks": ""
            },
            "type": "mesh3d"
           }
          ],
          "parcoords": [
           {
            "line": {
             "colorbar": {
              "outlinewidth": 0,
              "ticks": ""
             }
            },
            "type": "parcoords"
           }
          ],
          "pie": [
           {
            "automargin": true,
            "type": "pie"
           }
          ],
          "scatter": [
           {
            "fillpattern": {
             "fillmode": "overlay",
             "size": 10,
             "solidity": 0.2
            },
            "type": "scatter"
           }
          ],
          "scatter3d": [
           {
            "line": {
             "colorbar": {
              "outlinewidth": 0,
              "ticks": ""
             }
            },
            "marker": {
             "colorbar": {
              "outlinewidth": 0,
              "ticks": ""
             }
            },
            "type": "scatter3d"
           }
          ],
          "scattercarpet": [
           {
            "marker": {
             "colorbar": {
              "outlinewidth": 0,
              "ticks": ""
             }
            },
            "type": "scattercarpet"
           }
          ],
          "scattergeo": [
           {
            "marker": {
             "colorbar": {
              "outlinewidth": 0,
              "ticks": ""
             }
            },
            "type": "scattergeo"
           }
          ],
          "scattergl": [
           {
            "marker": {
             "colorbar": {
              "outlinewidth": 0,
              "ticks": ""
             }
            },
            "type": "scattergl"
           }
          ],
          "scattermapbox": [
           {
            "marker": {
             "colorbar": {
              "outlinewidth": 0,
              "ticks": ""
             }
            },
            "type": "scattermapbox"
           }
          ],
          "scatterpolar": [
           {
            "marker": {
             "colorbar": {
              "outlinewidth": 0,
              "ticks": ""
             }
            },
            "type": "scatterpolar"
           }
          ],
          "scatterpolargl": [
           {
            "marker": {
             "colorbar": {
              "outlinewidth": 0,
              "ticks": ""
             }
            },
            "type": "scatterpolargl"
           }
          ],
          "scatterternary": [
           {
            "marker": {
             "colorbar": {
              "outlinewidth": 0,
              "ticks": ""
             }
            },
            "type": "scatterternary"
           }
          ],
          "surface": [
           {
            "colorbar": {
             "outlinewidth": 0,
             "ticks": ""
            },
            "colorscale": [
             [
              0,
              "#0d0887"
             ],
             [
              0.1111111111111111,
              "#46039f"
             ],
             [
              0.2222222222222222,
              "#7201a8"
             ],
             [
              0.3333333333333333,
              "#9c179e"
             ],
             [
              0.4444444444444444,
              "#bd3786"
             ],
             [
              0.5555555555555556,
              "#d8576b"
             ],
             [
              0.6666666666666666,
              "#ed7953"
             ],
             [
              0.7777777777777778,
              "#fb9f3a"
             ],
             [
              0.8888888888888888,
              "#fdca26"
             ],
             [
              1,
              "#f0f921"
             ]
            ],
            "type": "surface"
           }
          ],
          "table": [
           {
            "cells": {
             "fill": {
              "color": "#EBF0F8"
             },
             "line": {
              "color": "white"
             }
            },
            "header": {
             "fill": {
              "color": "#C8D4E3"
             },
             "line": {
              "color": "white"
             }
            },
            "type": "table"
           }
          ]
         },
         "layout": {
          "annotationdefaults": {
           "arrowcolor": "#2a3f5f",
           "arrowhead": 0,
           "arrowwidth": 1
          },
          "autotypenumbers": "strict",
          "coloraxis": {
           "colorbar": {
            "outlinewidth": 0,
            "ticks": ""
           }
          },
          "colorscale": {
           "diverging": [
            [
             0,
             "#8e0152"
            ],
            [
             0.1,
             "#c51b7d"
            ],
            [
             0.2,
             "#de77ae"
            ],
            [
             0.3,
             "#f1b6da"
            ],
            [
             0.4,
             "#fde0ef"
            ],
            [
             0.5,
             "#f7f7f7"
            ],
            [
             0.6,
             "#e6f5d0"
            ],
            [
             0.7,
             "#b8e186"
            ],
            [
             0.8,
             "#7fbc41"
            ],
            [
             0.9,
             "#4d9221"
            ],
            [
             1,
             "#276419"
            ]
           ],
           "sequential": [
            [
             0,
             "#0d0887"
            ],
            [
             0.1111111111111111,
             "#46039f"
            ],
            [
             0.2222222222222222,
             "#7201a8"
            ],
            [
             0.3333333333333333,
             "#9c179e"
            ],
            [
             0.4444444444444444,
             "#bd3786"
            ],
            [
             0.5555555555555556,
             "#d8576b"
            ],
            [
             0.6666666666666666,
             "#ed7953"
            ],
            [
             0.7777777777777778,
             "#fb9f3a"
            ],
            [
             0.8888888888888888,
             "#fdca26"
            ],
            [
             1,
             "#f0f921"
            ]
           ],
           "sequentialminus": [
            [
             0,
             "#0d0887"
            ],
            [
             0.1111111111111111,
             "#46039f"
            ],
            [
             0.2222222222222222,
             "#7201a8"
            ],
            [
             0.3333333333333333,
             "#9c179e"
            ],
            [
             0.4444444444444444,
             "#bd3786"
            ],
            [
             0.5555555555555556,
             "#d8576b"
            ],
            [
             0.6666666666666666,
             "#ed7953"
            ],
            [
             0.7777777777777778,
             "#fb9f3a"
            ],
            [
             0.8888888888888888,
             "#fdca26"
            ],
            [
             1,
             "#f0f921"
            ]
           ]
          },
          "colorway": [
           "#636efa",
           "#EF553B",
           "#00cc96",
           "#ab63fa",
           "#FFA15A",
           "#19d3f3",
           "#FF6692",
           "#B6E880",
           "#FF97FF",
           "#FECB52"
          ],
          "font": {
           "color": "#2a3f5f"
          },
          "geo": {
           "bgcolor": "white",
           "lakecolor": "white",
           "landcolor": "#E5ECF6",
           "showlakes": true,
           "showland": true,
           "subunitcolor": "white"
          },
          "hoverlabel": {
           "align": "left"
          },
          "hovermode": "closest",
          "mapbox": {
           "style": "light"
          },
          "paper_bgcolor": "white",
          "plot_bgcolor": "#E5ECF6",
          "polar": {
           "angularaxis": {
            "gridcolor": "white",
            "linecolor": "white",
            "ticks": ""
           },
           "bgcolor": "#E5ECF6",
           "radialaxis": {
            "gridcolor": "white",
            "linecolor": "white",
            "ticks": ""
           }
          },
          "scene": {
           "xaxis": {
            "backgroundcolor": "#E5ECF6",
            "gridcolor": "white",
            "gridwidth": 2,
            "linecolor": "white",
            "showbackground": true,
            "ticks": "",
            "zerolinecolor": "white"
           },
           "yaxis": {
            "backgroundcolor": "#E5ECF6",
            "gridcolor": "white",
            "gridwidth": 2,
            "linecolor": "white",
            "showbackground": true,
            "ticks": "",
            "zerolinecolor": "white"
           },
           "zaxis": {
            "backgroundcolor": "#E5ECF6",
            "gridcolor": "white",
            "gridwidth": 2,
            "linecolor": "white",
            "showbackground": true,
            "ticks": "",
            "zerolinecolor": "white"
           }
          },
          "shapedefaults": {
           "line": {
            "color": "#2a3f5f"
           }
          },
          "ternary": {
           "aaxis": {
            "gridcolor": "white",
            "linecolor": "white",
            "ticks": ""
           },
           "baxis": {
            "gridcolor": "white",
            "linecolor": "white",
            "ticks": ""
           },
           "bgcolor": "#E5ECF6",
           "caxis": {
            "gridcolor": "white",
            "linecolor": "white",
            "ticks": ""
           }
          },
          "title": {
           "x": 0.05
          },
          "xaxis": {
           "automargin": true,
           "gridcolor": "white",
           "linecolor": "white",
           "ticks": "",
           "title": {
            "standoff": 15
           },
           "zerolinecolor": "white",
           "zerolinewidth": 2
          },
          "yaxis": {
           "automargin": true,
           "gridcolor": "white",
           "linecolor": "white",
           "ticks": "",
           "title": {
            "standoff": 15
           },
           "zerolinecolor": "white",
           "zerolinewidth": 2
          }
         }
        },
        "title": {
         "text": "KMedoids Clusters"
        },
        "width": 1000
       }
      }
     },
     "metadata": {},
     "output_type": "display_data"
    }
   ],
   "source": [
    "clustering_kmedoids(df[['withdrawal_amount_avg','credit_amount_avg']])"
   ]
  },
  {
   "cell_type": "code",
   "execution_count": 31,
   "metadata": {},
   "outputs": [
    {
     "data": {
      "text/plain": [
       "Index(['credit', 'frequency', 'withdrawal', 'credit_amount_avg',\n",
       "       'withdrawal_amount_avg', 'loan_id', 'amount', 'duration', 'payments',\n",
       "       'status', 'type', 'gender', 'age_loan', 'unemployment_rate',\n",
       "       'commited_crimes', 'disp_id_count', 'diff_salary_loan'],\n",
       "      dtype='object')"
      ]
     },
     "execution_count": 31,
     "metadata": {},
     "output_type": "execute_result"
    }
   ],
   "source": [
    "df.columns  \n",
    "\n"
   ]
  },
  {
   "cell_type": "code",
   "execution_count": 33,
   "metadata": {},
   "outputs": [
    {
     "name": "stdout",
     "output_type": "stream",
     "text": [
      "   no_of_clusters  silhouette_score  epsilon_values  minimum_points\n",
      "0               5          0.607987             0.2               2\n",
      "1               5          0.607987             0.2               3\n",
      "2               4          0.607672             0.2               4\n",
      "3               5          0.607987             0.3               2\n",
      "4               5          0.607987             0.3               3\n",
      "5               4          0.607672             0.3               4\n",
      "6               3          0.623224             0.4               2\n",
      "7               3          0.623224             0.4               3\n",
      "8               3          0.623224             0.4               4\n",
      "Estimated number of clusters: 4\n",
      "Estimated number of noise points: 2\n",
      "Silhouette Coefficient: 0.608\n"
     ]
    },
    {
     "data": {
      "application/vnd.plotly.v1+json": {
       "config": {
        "plotlyServerURL": "https://plot.ly"
       },
       "data": [
        {
         "marker": {
          "color": [
           0,
           1,
           1,
           1,
           0,
           1,
           1,
           1,
           0,
           1,
           1,
           1,
           0,
           0,
           2,
           2,
           1,
           1,
           1,
           1,
           1,
           1,
           1,
           0,
           1,
           1,
           1,
           1,
           2,
           1,
           1,
           1,
           1,
           1,
           1,
           1,
           1,
           0,
           1,
           0,
           1,
           1,
           1,
           2,
           1,
           1,
           1,
           1,
           1,
           1,
           1,
           1,
           1,
           0,
           1,
           1,
           1,
           0,
           1,
           1,
           1,
           2,
           1,
           1,
           1,
           1,
           1,
           1,
           1,
           1,
           2,
           1,
           1,
           1,
           1,
           0,
           1,
           1,
           1,
           1,
           0,
           1,
           1,
           1,
           0,
           1,
           1,
           1,
           1,
           1,
           1,
           1,
           1,
           1,
           1,
           1,
           1,
           1,
           1,
           1,
           1,
           1,
           1,
           1,
           1,
           1,
           1,
           1,
           1,
           1,
           0,
           2,
           0,
           1,
           1,
           1,
           1,
           0,
           1,
           1,
           0,
           1,
           1,
           1,
           0,
           1,
           1,
           0,
           1,
           1,
           1,
           1,
           1,
           1,
           0,
           1,
           1,
           1,
           1,
           1,
           1,
           1,
           1,
           1,
           1,
           1,
           1,
           1,
           1,
           1,
           1,
           1,
           1,
           1,
           1,
           1,
           1,
           1,
           1,
           0,
           2,
           1,
           1,
           1,
           1,
           1,
           1,
           1,
           1,
           1,
           1,
           1,
           2,
           0,
           1,
           1,
           1,
           1,
           1,
           1,
           1,
           1,
           1,
           1,
           0,
           1,
           1,
           0,
           1,
           0,
           1,
           1,
           1,
           1,
           1,
           1,
           3,
           2,
           1,
           1,
           1,
           1,
           1,
           0,
           0,
           0,
           1,
           2,
           1,
           0,
           0,
           0,
           1,
           1,
           1,
           1,
           0,
           0,
           1,
           0,
           2,
           1,
           1,
           1,
           1,
           1,
           1,
           0,
           0,
           1,
           1,
           0,
           1,
           1,
           1,
           0,
           1,
           1,
           1,
           1,
           1,
           1,
           1,
           0,
           1,
           0,
           1,
           0,
           1,
           1,
           -1,
           3,
           1,
           1,
           1,
           1,
           1,
           1,
           1,
           1,
           1,
           1,
           1,
           1,
           1,
           1,
           1,
           1,
           0,
           1,
           1,
           1,
           1,
           1,
           0,
           1,
           1,
           3,
           1,
           0,
           1,
           1,
           1,
           1,
           1,
           0,
           1,
           0,
           1,
           1,
           -1,
           1,
           1,
           1,
           1,
           1,
           1,
           1,
           0,
           1,
           1,
           1,
           1,
           1,
           1,
           1,
           0,
           2,
           1,
           1,
           1,
           1,
           1,
           1,
           1,
           1,
           1,
           1,
           0,
           1,
           1,
           2,
           2,
           1,
           1,
           1,
           1,
           1
          ],
          "colorscale": [
           [
            0,
            "rgb(150,0,90)"
           ],
           [
            0.125,
            "rgb(0,0,200)"
           ],
           [
            0.25,
            "rgb(0,25,255)"
           ],
           [
            0.375,
            "rgb(0,152,255)"
           ],
           [
            0.5,
            "rgb(44,255,150)"
           ],
           [
            0.625,
            "rgb(151,255,0)"
           ],
           [
            0.75,
            "rgb(255,234,0)"
           ],
           [
            0.875,
            "rgb(255,111,0)"
           ],
           [
            1,
            "rgb(255,0,0)"
           ]
          ],
          "line": {
           "width": 0
          },
          "size": 7
         },
         "mode": "markers",
         "type": "scatter",
         "x": [
          0,
          0.16250000000000003,
          0.1375,
          0.1125,
          0.1125,
          0.125,
          0.21250000000000002,
          0.15000000000000002,
          0.15000000000000002,
          0.0625,
          0.21250000000000002,
          0.22500000000000003,
          0.3375,
          0.22500000000000003,
          0.10000000000000002,
          0.22500000000000003,
          0.075,
          0.175,
          0.10000000000000002,
          0.1375,
          0.22500000000000003,
          0.22500000000000003,
          0.3375,
          0.21250000000000002,
          0.1125,
          0.23750000000000004,
          0.25000000000000006,
          0.2,
          0.16250000000000003,
          0.08750000000000001,
          0.25000000000000006,
          0.075,
          0.28750000000000003,
          0.5,
          0.5375,
          0.175,
          0.4,
          0.3375,
          0.36250000000000004,
          0.23750000000000004,
          0.325,
          0.075,
          0.5,
          0.2,
          0.41250000000000003,
          0.37500000000000006,
          0.22500000000000003,
          0.2,
          0.2,
          0.47500000000000003,
          0.3875,
          0.1875,
          0.10000000000000002,
          0.36250000000000004,
          0.1125,
          0.43750000000000006,
          0.28750000000000003,
          0.22500000000000003,
          0.21250000000000002,
          0.15000000000000002,
          0.3375,
          0.05,
          0.42500000000000004,
          0.175,
          0.125,
          0.175,
          0.1875,
          0.6375,
          0.325,
          0.6125,
          0.275,
          0.1875,
          0.275,
          0.5375,
          0.31250000000000006,
          0.31250000000000006,
          0.275,
          0.525,
          0.47500000000000003,
          0.31250000000000006,
          0.4,
          0.2625,
          0.30000000000000004,
          0.5625,
          0.22500000000000003,
          0.37500000000000006,
          0.075,
          0.43750000000000006,
          0.37500000000000006,
          0.5625,
          0.275,
          0.7375,
          0.4625000000000001,
          0.55,
          0.012499999999999997,
          0.42500000000000004,
          0.2,
          0.28750000000000003,
          0.4,
          0.36250000000000004,
          0.5125,
          0.3375,
          0.08750000000000001,
          0.3375,
          0.7875,
          0.23750000000000004,
          0.22500000000000003,
          0.22500000000000003,
          0.37500000000000006,
          0.22500000000000003,
          0.275,
          0.30000000000000004,
          0.4,
          0.3375,
          0.30000000000000004,
          0.65,
          0.575,
          0.37500000000000006,
          0.28750000000000003,
          0.5875,
          0.525,
          0.2,
          0.125,
          0.4,
          0.4,
          0.5625,
          0.6625,
          0.42500000000000004,
          0.575,
          0.41250000000000003,
          0.45,
          0.5375,
          0.7,
          0.275,
          0.2625,
          0.30000000000000004,
          0.31250000000000006,
          0.22500000000000003,
          0.47500000000000003,
          0.42500000000000004,
          0.875,
          0.6125,
          0.45,
          0.5,
          0.5125,
          0.325,
          0.6125,
          0.4625000000000001,
          0.2,
          0.41250000000000003,
          0.0625,
          0.6,
          0.9,
          0.85,
          0.525,
          0.0625,
          0.22500000000000003,
          0.41250000000000003,
          0.42500000000000004,
          0.65,
          0.125,
          0.31250000000000006,
          0.4625000000000001,
          0.6375,
          0.4625000000000001,
          0.5625,
          0.0625,
          0.7875,
          0.75,
          0.08750000000000001,
          0.55,
          0.42500000000000004,
          0.1125,
          0.25000000000000006,
          0.16250000000000003,
          0.23750000000000004,
          0.10000000000000002,
          0.37500000000000006,
          0.4,
          0.36250000000000004,
          0.5375,
          0.10000000000000002,
          0.15000000000000002,
          0.1375,
          0.65,
          0.10000000000000002,
          0.6125,
          0.37500000000000006,
          0.5375,
          0.08750000000000001,
          0.3375,
          0.125,
          0.3375,
          0.25000000000000006,
          0.275,
          0.25000000000000006,
          0.75,
          0.2625,
          0.23750000000000004,
          0.0625,
          0.10000000000000002,
          0.21250000000000002,
          0.41250000000000003,
          0.325,
          0.575,
          0.575,
          0.3875,
          0.125,
          0.2625,
          0.6625,
          0.22500000000000003,
          0.325,
          0.35000000000000003,
          0.575,
          0.22500000000000003,
          0.575,
          0.1125,
          0.3875,
          0.55,
          0.0625,
          0.0625,
          0.275,
          0.30000000000000004,
          0.47500000000000003,
          0.55,
          0.5375,
          0.28750000000000003,
          0.23750000000000004,
          0.275,
          0.35000000000000003,
          0.1375,
          0.4875,
          0.325,
          0.16250000000000003,
          0.525,
          0.325,
          0.23750000000000004,
          0.675,
          0.3375,
          0.525,
          0.41250000000000003,
          0.2,
          0.625,
          0.037500000000000006,
          0.325,
          0.6,
          0.4,
          0.5375,
          0.675,
          0.0625,
          0.9750000000000001,
          0.6625,
          0.5125,
          0.55,
          0.037500000000000006,
          0.31250000000000006,
          0.1375,
          0.5875,
          0.43750000000000006,
          0.37500000000000006,
          0.28750000000000003,
          0.31250000000000006,
          0.30000000000000004,
          0.23750000000000004,
          0.15000000000000002,
          0.075,
          0.2,
          0.2,
          0.10000000000000002,
          0.28750000000000003,
          0.35000000000000003,
          0.5125,
          0.175,
          0.42500000000000004,
          0.15000000000000002,
          0.3375,
          0.1125,
          0.625,
          0.31250000000000006,
          0.125,
          0.15000000000000002,
          0.0625,
          0.08750000000000001,
          0.41250000000000003,
          0.25000000000000006,
          0.43750000000000006,
          0.42500000000000004,
          0.10000000000000002,
          0.42500000000000004,
          0.5375,
          1,
          0.1875,
          0.125,
          0.525,
          0.175,
          0.4,
          0.31250000000000006,
          0.0625,
          0.4,
          0.21250000000000002,
          0.075,
          0.25000000000000006,
          0.8375,
          0.15000000000000002,
          0.15000000000000002,
          0.1125,
          0.16250000000000003,
          0.15000000000000002,
          0.41250000000000003,
          0.31250000000000006,
          0.5125,
          0.2625,
          0.16250000000000003,
          0.08750000000000001,
          0.22500000000000003,
          0.45,
          0.1125,
          0.16250000000000003,
          0.22500000000000003,
          0.21250000000000002,
          0.15000000000000002,
          0.21250000000000002,
          0.2625,
          0.825,
          0.30000000000000004,
          0.2,
          0.5875,
          0.31250000000000006
         ],
         "y": [
          0,
          0.5,
          0.5,
          0.5,
          0,
          0.5,
          0.5,
          0.5,
          0,
          0.5,
          0.5,
          0.5,
          0,
          0,
          1,
          1,
          0.5,
          0.5,
          0.5,
          0.5,
          0.5,
          0.5,
          0.5,
          0,
          0.5,
          0.5,
          0.5,
          0.5,
          1,
          0.5,
          0.5,
          0.5,
          0.5,
          0.5,
          0.5,
          0.5,
          0.5,
          0,
          0.5,
          0,
          0.5,
          0.5,
          0.5,
          1,
          0.5,
          0.5,
          0.5,
          0.5,
          0.5,
          0.5,
          0.5,
          0.5,
          0.5,
          0,
          0.5,
          0.5,
          0.5,
          0,
          0.5,
          0.5,
          0.5,
          1,
          0.5,
          0.5,
          0.5,
          0.5,
          0.5,
          0.5,
          0.5,
          0.5,
          1,
          0.5,
          0.5,
          0.5,
          0.5,
          0,
          0.5,
          0.5,
          0.5,
          0.5,
          0,
          0.5,
          0.5,
          0.5,
          0,
          0.5,
          0.5,
          0.5,
          0.5,
          0.5,
          0.5,
          0.5,
          0.5,
          0.5,
          0.5,
          0.5,
          0.5,
          0.5,
          0.5,
          0.5,
          0.5,
          0.5,
          0.5,
          0.5,
          0.5,
          0.5,
          0.5,
          0.5,
          0.5,
          0.5,
          0,
          1,
          0,
          0.5,
          0.5,
          0.5,
          0.5,
          0,
          0.5,
          0.5,
          0,
          0.5,
          0.5,
          0.5,
          0,
          0.5,
          0.5,
          0,
          0.5,
          0.5,
          0.5,
          0.5,
          0.5,
          0.5,
          0,
          0.5,
          0.5,
          0.5,
          0.5,
          0.5,
          0.5,
          0.5,
          0.5,
          0.5,
          0.5,
          0.5,
          0.5,
          0.5,
          0.5,
          0.5,
          0.5,
          0.5,
          0.5,
          0.5,
          0.5,
          0.5,
          0.5,
          0.5,
          0.5,
          0,
          1,
          0.5,
          0.5,
          0.5,
          0.5,
          0.5,
          0.5,
          0.5,
          0.5,
          0.5,
          0.5,
          0.5,
          1,
          0,
          0.5,
          0.5,
          0.5,
          0.5,
          0.5,
          0.5,
          0.5,
          0.5,
          0.5,
          0.5,
          0,
          0.5,
          0.5,
          0,
          0.5,
          0,
          0.5,
          0.5,
          0.5,
          0.5,
          0.5,
          0.5,
          1,
          1,
          0.5,
          0.5,
          0.5,
          0.5,
          0.5,
          0,
          0,
          0,
          0.5,
          1,
          0.5,
          0,
          0,
          0,
          0.5,
          0.5,
          0.5,
          0.5,
          0,
          0,
          0.5,
          0,
          1,
          0.5,
          0.5,
          0.5,
          0.5,
          0.5,
          0.5,
          0,
          0,
          0.5,
          0.5,
          0,
          0.5,
          0.5,
          0.5,
          0,
          0.5,
          0.5,
          0.5,
          0.5,
          0.5,
          0.5,
          0.5,
          0,
          0.5,
          0,
          0.5,
          0,
          0.5,
          0.5,
          0,
          1,
          0.5,
          0.5,
          0.5,
          0.5,
          0.5,
          0.5,
          0.5,
          0.5,
          0.5,
          0.5,
          0.5,
          0.5,
          0.5,
          0.5,
          0.5,
          0.5,
          0,
          0.5,
          0.5,
          0.5,
          0.5,
          0.5,
          0,
          0.5,
          0.5,
          1,
          0.5,
          0,
          0.5,
          0.5,
          0.5,
          0.5,
          0.5,
          0,
          0.5,
          0,
          0.5,
          0.5,
          0,
          0.5,
          0.5,
          0.5,
          0.5,
          0.5,
          0.5,
          0.5,
          0,
          0.5,
          0.5,
          0.5,
          0.5,
          0.5,
          0.5,
          0.5,
          0,
          1,
          0.5,
          0.5,
          0.5,
          0.5,
          0.5,
          0.5,
          0.5,
          0.5,
          0.5,
          0.5,
          0,
          0.5,
          0.5,
          1,
          1,
          0.5,
          0.5,
          0.5,
          0.5,
          0.5
         ]
        }
       ],
       "layout": {
        "font": {
         "size": 12
        },
        "height": 1000,
        "scene": {
         "xaxis": {
          "title": {
           "text": "credit"
          }
         },
         "yaxis": {
          "title": {
           "text": "frequency"
          }
         }
        },
        "template": {
         "data": {
          "bar": [
           {
            "error_x": {
             "color": "#2a3f5f"
            },
            "error_y": {
             "color": "#2a3f5f"
            },
            "marker": {
             "line": {
              "color": "#E5ECF6",
              "width": 0.5
             },
             "pattern": {
              "fillmode": "overlay",
              "size": 10,
              "solidity": 0.2
             }
            },
            "type": "bar"
           }
          ],
          "barpolar": [
           {
            "marker": {
             "line": {
              "color": "#E5ECF6",
              "width": 0.5
             },
             "pattern": {
              "fillmode": "overlay",
              "size": 10,
              "solidity": 0.2
             }
            },
            "type": "barpolar"
           }
          ],
          "carpet": [
           {
            "aaxis": {
             "endlinecolor": "#2a3f5f",
             "gridcolor": "white",
             "linecolor": "white",
             "minorgridcolor": "white",
             "startlinecolor": "#2a3f5f"
            },
            "baxis": {
             "endlinecolor": "#2a3f5f",
             "gridcolor": "white",
             "linecolor": "white",
             "minorgridcolor": "white",
             "startlinecolor": "#2a3f5f"
            },
            "type": "carpet"
           }
          ],
          "choropleth": [
           {
            "colorbar": {
             "outlinewidth": 0,
             "ticks": ""
            },
            "type": "choropleth"
           }
          ],
          "contour": [
           {
            "colorbar": {
             "outlinewidth": 0,
             "ticks": ""
            },
            "colorscale": [
             [
              0,
              "#0d0887"
             ],
             [
              0.1111111111111111,
              "#46039f"
             ],
             [
              0.2222222222222222,
              "#7201a8"
             ],
             [
              0.3333333333333333,
              "#9c179e"
             ],
             [
              0.4444444444444444,
              "#bd3786"
             ],
             [
              0.5555555555555556,
              "#d8576b"
             ],
             [
              0.6666666666666666,
              "#ed7953"
             ],
             [
              0.7777777777777778,
              "#fb9f3a"
             ],
             [
              0.8888888888888888,
              "#fdca26"
             ],
             [
              1,
              "#f0f921"
             ]
            ],
            "type": "contour"
           }
          ],
          "contourcarpet": [
           {
            "colorbar": {
             "outlinewidth": 0,
             "ticks": ""
            },
            "type": "contourcarpet"
           }
          ],
          "heatmap": [
           {
            "colorbar": {
             "outlinewidth": 0,
             "ticks": ""
            },
            "colorscale": [
             [
              0,
              "#0d0887"
             ],
             [
              0.1111111111111111,
              "#46039f"
             ],
             [
              0.2222222222222222,
              "#7201a8"
             ],
             [
              0.3333333333333333,
              "#9c179e"
             ],
             [
              0.4444444444444444,
              "#bd3786"
             ],
             [
              0.5555555555555556,
              "#d8576b"
             ],
             [
              0.6666666666666666,
              "#ed7953"
             ],
             [
              0.7777777777777778,
              "#fb9f3a"
             ],
             [
              0.8888888888888888,
              "#fdca26"
             ],
             [
              1,
              "#f0f921"
             ]
            ],
            "type": "heatmap"
           }
          ],
          "heatmapgl": [
           {
            "colorbar": {
             "outlinewidth": 0,
             "ticks": ""
            },
            "colorscale": [
             [
              0,
              "#0d0887"
             ],
             [
              0.1111111111111111,
              "#46039f"
             ],
             [
              0.2222222222222222,
              "#7201a8"
             ],
             [
              0.3333333333333333,
              "#9c179e"
             ],
             [
              0.4444444444444444,
              "#bd3786"
             ],
             [
              0.5555555555555556,
              "#d8576b"
             ],
             [
              0.6666666666666666,
              "#ed7953"
             ],
             [
              0.7777777777777778,
              "#fb9f3a"
             ],
             [
              0.8888888888888888,
              "#fdca26"
             ],
             [
              1,
              "#f0f921"
             ]
            ],
            "type": "heatmapgl"
           }
          ],
          "histogram": [
           {
            "marker": {
             "pattern": {
              "fillmode": "overlay",
              "size": 10,
              "solidity": 0.2
             }
            },
            "type": "histogram"
           }
          ],
          "histogram2d": [
           {
            "colorbar": {
             "outlinewidth": 0,
             "ticks": ""
            },
            "colorscale": [
             [
              0,
              "#0d0887"
             ],
             [
              0.1111111111111111,
              "#46039f"
             ],
             [
              0.2222222222222222,
              "#7201a8"
             ],
             [
              0.3333333333333333,
              "#9c179e"
             ],
             [
              0.4444444444444444,
              "#bd3786"
             ],
             [
              0.5555555555555556,
              "#d8576b"
             ],
             [
              0.6666666666666666,
              "#ed7953"
             ],
             [
              0.7777777777777778,
              "#fb9f3a"
             ],
             [
              0.8888888888888888,
              "#fdca26"
             ],
             [
              1,
              "#f0f921"
             ]
            ],
            "type": "histogram2d"
           }
          ],
          "histogram2dcontour": [
           {
            "colorbar": {
             "outlinewidth": 0,
             "ticks": ""
            },
            "colorscale": [
             [
              0,
              "#0d0887"
             ],
             [
              0.1111111111111111,
              "#46039f"
             ],
             [
              0.2222222222222222,
              "#7201a8"
             ],
             [
              0.3333333333333333,
              "#9c179e"
             ],
             [
              0.4444444444444444,
              "#bd3786"
             ],
             [
              0.5555555555555556,
              "#d8576b"
             ],
             [
              0.6666666666666666,
              "#ed7953"
             ],
             [
              0.7777777777777778,
              "#fb9f3a"
             ],
             [
              0.8888888888888888,
              "#fdca26"
             ],
             [
              1,
              "#f0f921"
             ]
            ],
            "type": "histogram2dcontour"
           }
          ],
          "mesh3d": [
           {
            "colorbar": {
             "outlinewidth": 0,
             "ticks": ""
            },
            "type": "mesh3d"
           }
          ],
          "parcoords": [
           {
            "line": {
             "colorbar": {
              "outlinewidth": 0,
              "ticks": ""
             }
            },
            "type": "parcoords"
           }
          ],
          "pie": [
           {
            "automargin": true,
            "type": "pie"
           }
          ],
          "scatter": [
           {
            "fillpattern": {
             "fillmode": "overlay",
             "size": 10,
             "solidity": 0.2
            },
            "type": "scatter"
           }
          ],
          "scatter3d": [
           {
            "line": {
             "colorbar": {
              "outlinewidth": 0,
              "ticks": ""
             }
            },
            "marker": {
             "colorbar": {
              "outlinewidth": 0,
              "ticks": ""
             }
            },
            "type": "scatter3d"
           }
          ],
          "scattercarpet": [
           {
            "marker": {
             "colorbar": {
              "outlinewidth": 0,
              "ticks": ""
             }
            },
            "type": "scattercarpet"
           }
          ],
          "scattergeo": [
           {
            "marker": {
             "colorbar": {
              "outlinewidth": 0,
              "ticks": ""
             }
            },
            "type": "scattergeo"
           }
          ],
          "scattergl": [
           {
            "marker": {
             "colorbar": {
              "outlinewidth": 0,
              "ticks": ""
             }
            },
            "type": "scattergl"
           }
          ],
          "scattermapbox": [
           {
            "marker": {
             "colorbar": {
              "outlinewidth": 0,
              "ticks": ""
             }
            },
            "type": "scattermapbox"
           }
          ],
          "scatterpolar": [
           {
            "marker": {
             "colorbar": {
              "outlinewidth": 0,
              "ticks": ""
             }
            },
            "type": "scatterpolar"
           }
          ],
          "scatterpolargl": [
           {
            "marker": {
             "colorbar": {
              "outlinewidth": 0,
              "ticks": ""
             }
            },
            "type": "scatterpolargl"
           }
          ],
          "scatterternary": [
           {
            "marker": {
             "colorbar": {
              "outlinewidth": 0,
              "ticks": ""
             }
            },
            "type": "scatterternary"
           }
          ],
          "surface": [
           {
            "colorbar": {
             "outlinewidth": 0,
             "ticks": ""
            },
            "colorscale": [
             [
              0,
              "#0d0887"
             ],
             [
              0.1111111111111111,
              "#46039f"
             ],
             [
              0.2222222222222222,
              "#7201a8"
             ],
             [
              0.3333333333333333,
              "#9c179e"
             ],
             [
              0.4444444444444444,
              "#bd3786"
             ],
             [
              0.5555555555555556,
              "#d8576b"
             ],
             [
              0.6666666666666666,
              "#ed7953"
             ],
             [
              0.7777777777777778,
              "#fb9f3a"
             ],
             [
              0.8888888888888888,
              "#fdca26"
             ],
             [
              1,
              "#f0f921"
             ]
            ],
            "type": "surface"
           }
          ],
          "table": [
           {
            "cells": {
             "fill": {
              "color": "#EBF0F8"
             },
             "line": {
              "color": "white"
             }
            },
            "header": {
             "fill": {
              "color": "#C8D4E3"
             },
             "line": {
              "color": "white"
             }
            },
            "type": "table"
           }
          ]
         },
         "layout": {
          "annotationdefaults": {
           "arrowcolor": "#2a3f5f",
           "arrowhead": 0,
           "arrowwidth": 1
          },
          "autotypenumbers": "strict",
          "coloraxis": {
           "colorbar": {
            "outlinewidth": 0,
            "ticks": ""
           }
          },
          "colorscale": {
           "diverging": [
            [
             0,
             "#8e0152"
            ],
            [
             0.1,
             "#c51b7d"
            ],
            [
             0.2,
             "#de77ae"
            ],
            [
             0.3,
             "#f1b6da"
            ],
            [
             0.4,
             "#fde0ef"
            ],
            [
             0.5,
             "#f7f7f7"
            ],
            [
             0.6,
             "#e6f5d0"
            ],
            [
             0.7,
             "#b8e186"
            ],
            [
             0.8,
             "#7fbc41"
            ],
            [
             0.9,
             "#4d9221"
            ],
            [
             1,
             "#276419"
            ]
           ],
           "sequential": [
            [
             0,
             "#0d0887"
            ],
            [
             0.1111111111111111,
             "#46039f"
            ],
            [
             0.2222222222222222,
             "#7201a8"
            ],
            [
             0.3333333333333333,
             "#9c179e"
            ],
            [
             0.4444444444444444,
             "#bd3786"
            ],
            [
             0.5555555555555556,
             "#d8576b"
            ],
            [
             0.6666666666666666,
             "#ed7953"
            ],
            [
             0.7777777777777778,
             "#fb9f3a"
            ],
            [
             0.8888888888888888,
             "#fdca26"
            ],
            [
             1,
             "#f0f921"
            ]
           ],
           "sequentialminus": [
            [
             0,
             "#0d0887"
            ],
            [
             0.1111111111111111,
             "#46039f"
            ],
            [
             0.2222222222222222,
             "#7201a8"
            ],
            [
             0.3333333333333333,
             "#9c179e"
            ],
            [
             0.4444444444444444,
             "#bd3786"
            ],
            [
             0.5555555555555556,
             "#d8576b"
            ],
            [
             0.6666666666666666,
             "#ed7953"
            ],
            [
             0.7777777777777778,
             "#fb9f3a"
            ],
            [
             0.8888888888888888,
             "#fdca26"
            ],
            [
             1,
             "#f0f921"
            ]
           ]
          },
          "colorway": [
           "#636efa",
           "#EF553B",
           "#00cc96",
           "#ab63fa",
           "#FFA15A",
           "#19d3f3",
           "#FF6692",
           "#B6E880",
           "#FF97FF",
           "#FECB52"
          ],
          "font": {
           "color": "#2a3f5f"
          },
          "geo": {
           "bgcolor": "white",
           "lakecolor": "white",
           "landcolor": "#E5ECF6",
           "showlakes": true,
           "showland": true,
           "subunitcolor": "white"
          },
          "hoverlabel": {
           "align": "left"
          },
          "hovermode": "closest",
          "mapbox": {
           "style": "light"
          },
          "paper_bgcolor": "white",
          "plot_bgcolor": "#E5ECF6",
          "polar": {
           "angularaxis": {
            "gridcolor": "white",
            "linecolor": "white",
            "ticks": ""
           },
           "bgcolor": "#E5ECF6",
           "radialaxis": {
            "gridcolor": "white",
            "linecolor": "white",
            "ticks": ""
           }
          },
          "scene": {
           "xaxis": {
            "backgroundcolor": "#E5ECF6",
            "gridcolor": "white",
            "gridwidth": 2,
            "linecolor": "white",
            "showbackground": true,
            "ticks": "",
            "zerolinecolor": "white"
           },
           "yaxis": {
            "backgroundcolor": "#E5ECF6",
            "gridcolor": "white",
            "gridwidth": 2,
            "linecolor": "white",
            "showbackground": true,
            "ticks": "",
            "zerolinecolor": "white"
           },
           "zaxis": {
            "backgroundcolor": "#E5ECF6",
            "gridcolor": "white",
            "gridwidth": 2,
            "linecolor": "white",
            "showbackground": true,
            "ticks": "",
            "zerolinecolor": "white"
           }
          },
          "shapedefaults": {
           "line": {
            "color": "#2a3f5f"
           }
          },
          "ternary": {
           "aaxis": {
            "gridcolor": "white",
            "linecolor": "white",
            "ticks": ""
           },
           "baxis": {
            "gridcolor": "white",
            "linecolor": "white",
            "ticks": ""
           },
           "bgcolor": "#E5ECF6",
           "caxis": {
            "gridcolor": "white",
            "linecolor": "white",
            "ticks": ""
           }
          },
          "title": {
           "x": 0.05
          },
          "xaxis": {
           "automargin": true,
           "gridcolor": "white",
           "linecolor": "white",
           "ticks": "",
           "title": {
            "standoff": 15
           },
           "zerolinecolor": "white",
           "zerolinewidth": 2
          },
          "yaxis": {
           "automargin": true,
           "gridcolor": "white",
           "linecolor": "white",
           "ticks": "",
           "title": {
            "standoff": 15
           },
           "zerolinecolor": "white",
           "zerolinewidth": 2
          }
         }
        },
        "title": {
         "text": "'DBSCAN Clusters'"
        },
        "width": 1000
       }
      }
     },
     "metadata": {},
     "output_type": "display_data"
    }
   ],
   "source": [
    "clustering_dbscan(df[['credit','frequency']],0.2, 3)"
   ]
  }
 ],
 "metadata": {
  "kernelspec": {
   "display_name": "Python 3.10.8 64-bit ('3.10.8')",
   "language": "python",
   "name": "python3"
  },
  "language_info": {
   "codemirror_mode": {
    "name": "ipython",
    "version": 3
   },
   "file_extension": ".py",
   "mimetype": "text/x-python",
   "name": "python",
   "nbconvert_exporter": "python",
   "pygments_lexer": "ipython3",
   "version": "3.10.8"
  },
  "orig_nbformat": 4,
  "vscode": {
   "interpreter": {
    "hash": "99f1f04becf66b291a43c00d0d69d8b2cfa065c95007f4165098052401428b70"
   }
  }
 },
 "nbformat": 4,
 "nbformat_minor": 2
}
