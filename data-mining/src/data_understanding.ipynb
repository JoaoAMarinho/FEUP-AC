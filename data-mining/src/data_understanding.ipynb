{
 "cells": [
  {
   "cell_type": "markdown",
   "metadata": {},
   "source": [
    "# Data Mining Project - Data Understanding"
   ]
  },
  {
   "cell_type": "markdown",
   "metadata": {},
   "source": [
    "### Imports and Datasets"
   ]
  },
  {
   "cell_type": "code",
   "execution_count": null,
   "metadata": {},
   "outputs": [],
   "source": [
    "import pandas as pd\n",
    "import matplotlib.pyplot as plt\n",
    "import numpy as np\n",
    "import seaborn as sns\n",
    "import plotly.express as px\n"
   ]
  },
  {
   "cell_type": "code",
   "execution_count": null,
   "metadata": {},
   "outputs": [],
   "source": [
    "account = pd.read_csv('../data/account.csv',delimiter=';')\n",
    "card_dev = pd.read_csv('../data/card_dev.csv',delimiter=';')\n",
    "client = pd.read_csv('../data/client.csv',delimiter=';')\n",
    "disp = pd.read_csv('../data/disp.csv',delimiter=';')\n",
    "district = pd.read_csv('../data/district.csv',delimiter=';')\n",
    "loan_dev = pd.read_csv('../data/loan_dev.csv',delimiter=';')\n",
    "trans_dev = pd.read_csv('../data/trans_dev.csv',delimiter=';', dtype={'bank': str})"
   ]
  },
  {
   "cell_type": "markdown",
   "metadata": {},
   "source": [
    "### Build Dataset"
   ]
  },
  {
   "cell_type": "code",
   "execution_count": null,
   "metadata": {},
   "outputs": [],
   "source": [
    "def parse_date(date):\n",
    "  year = int(str(date)[0:2])\n",
    "  month = int(str(date)[2:4])\n",
    "  day = int(str(date)[4:6])\n",
    "  return { 'year': year, 'month': month, 'day': day }\n",
    "\n",
    "\n",
    "def parse_gender(row, birth_date):\n",
    "  female = birth_date['month'] >= 50\n",
    "\n",
    "  if female:\n",
    "    row['gender'] = 'female' \n",
    "    birth_date['month'] -= 50\n",
    "  else:\n",
    "    row['gender'] = 'male' \n",
    "\n",
    "\n",
    "def calculate_age_loan(row):\n",
    "  date_loan = row['date_loan']\n",
    "  birth_number = row['birth_number']\n",
    "\n",
    "  birth_date = parse_date(birth_number)\n",
    "\n",
    "  parse_gender(row, birth_date)\n",
    "  if (not date_loan is None):\n",
    "    date_loan = parse_date(row['date_loan'])\n",
    "    date_loan = date_loan['year'] - birth_date['year'] - ((date_loan['month'], date_loan['day']) < (birth_date['month'], birth_date['day']))\n",
    "  \n",
    "  row['age_loan'] = date_loan\n",
    "    \n",
    "  return row"
   ]
  },
  {
   "cell_type": "markdown",
   "metadata": {},
   "source": [
    "The mean for the unemployment rate and the total number of offenses committed are calculated in the following two cells of code.\n",
    "\n",
    "Any missing value is set to the value of the column whose value is present, e.g. if the value for the \"unemploymant rate '95\" is not present in a certain row, it is set to the \"unemploymant rate '96\" value.\n",
    "\n",
    "The reasoning behind this strategy was that, when taken into account over the course of just one year, neither the unemployment rate nor the number of crimes would be significant. "
   ]
  },
  {
   "cell_type": "code",
   "execution_count": null,
   "metadata": {},
   "outputs": [],
   "source": [
    "def nan_unemployment_rate(year): return district[\"unemploymant rate '\" + str(year) + \" \"].isna()\n",
    "\n",
    "# convert '?' to NaN\n",
    "\n",
    "district['unemploymant rate \\'95 '] = pd.to_numeric(district['unemploymant rate \\'95 '], errors='coerce')\n",
    "district['unemploymant rate \\'96 '] = pd.to_numeric(district['unemploymant rate \\'96 '], errors='coerce')\n",
    "\n",
    "# NaN values will be equaled to the value of the other column\n",
    "\n",
    "district.loc[nan_unemployment_rate(95), 'unemploymant rate \\'95 '] = district['unemploymant rate \\'96 ']\n",
    "district.loc[nan_unemployment_rate(96), 'unemploymant rate \\'96 '] = district['unemploymant rate \\'95 ']\n",
    "\n",
    "# create column with mean from both years and drop previous and now useless columns\n",
    "\n",
    "district['unemployment_rate'] = district[['unemploymant rate \\'95 ', 'unemploymant rate \\'96 ']].mean(axis=1)\n",
    "district = district.drop(['unemploymant rate \\'95 ', 'unemploymant rate \\'96 '], axis= 1).reset_index()"
   ]
  },
  {
   "cell_type": "code",
   "execution_count": null,
   "metadata": {},
   "outputs": [],
   "source": [
    "def nan_commited_crimes(year): return district[\"no. of commited crimes '\" + str(year) + \" \"].isna()\n",
    "\n",
    "# convert '?' to NaN\n",
    "\n",
    "district['no. of commited crimes \\'95 '] = pd.to_numeric(district['no. of commited crimes \\'95 '], errors='coerce')\n",
    "district['no. of commited crimes \\'96 '] = pd.to_numeric(district['no. of commited crimes \\'96 '], errors='coerce')\n",
    "\n",
    "# NaN values will be equaled to the value of the other column\n",
    "\n",
    "district.loc[nan_commited_crimes(95), 'no. of commited crimes \\'95 '] = district['no. of commited crimes \\'96 ']\n",
    "district.loc[nan_commited_crimes(96), 'no. of commited crimes \\'96 '] = district['no. of commited crimes \\'95 ']\n",
    "\n",
    "# create column with mean from both years and drop previous and now useless columns\n",
    "\n",
    "district['commited_crimes'] = district[['no. of commited crimes \\'95 ', 'no. of commited crimes \\'96 ']].mean(axis=1)\n",
    "district = district.drop(['no. of commited crimes \\'95 ', 'no. of commited crimes \\'96 '], axis= 1).reset_index() "
   ]
  },
  {
   "cell_type": "code",
   "execution_count": null,
   "metadata": {},
   "outputs": [],
   "source": [
    "# join account, loan, disposition and client\n",
    "df = account.merge(loan_dev, on='account_id', suffixes=('','_loan'), how='right')\n",
    "df = df.merge(disp, on='account_id', suffixes=('','_disp'), how='left')\n",
    "df = df.merge(client, on='client_id',suffixes=('','_client'), how='left')\n",
    "\n",
    "df.drop(columns='district_id', axis=1, inplace=True)\n",
    "\n",
    "# create age_at_loan and gender column\n",
    "df = df.apply(lambda row: calculate_age_loan(row), axis=1)\n",
    "\n",
    "# join demograph\n",
    "district.rename(columns={'code ':'code'}, inplace=True)\n",
    "df = df.merge(district, left_on='district_id_client', right_on='code', how='left')\n",
    "\n",
    "# join creditcard\n",
    "df = df.merge(card_dev, on='disp_id', suffixes=('', '_card'), how='left')\n",
    "\n",
    "# join transactions\n",
    "df_transactions = account.merge(loan_dev, on='account_id', suffixes=('','_loan'), how='right').merge(trans_dev, on='account_id', suffixes=('', '_transaction'), how='left')\n",
    "df"
   ]
  },
  {
   "cell_type": "markdown",
   "metadata": {},
   "source": [
    "### Exploratory Analysis"
   ]
  },
  {
   "cell_type": "markdown",
   "metadata": {},
   "source": [
    "- analise de dados sem graficos\n",
    "- graficos de dispersao\n",
    "- bitmaps, coordenadas paralelas\n",
    "- ver varios atributos ao mm tempo\n",
    "- matrizes de correlaçao\n",
    "- graficos de dispersao"
   ]
  },
  {
   "cell_type": "markdown",
   "metadata": {},
   "source": [
    "##### **Dataframes General Information**"
   ]
  },
  {
   "cell_type": "code",
   "execution_count": null,
   "metadata": {},
   "outputs": [],
   "source": [
    "df.info()"
   ]
  },
  {
   "cell_type": "markdown",
   "metadata": {},
   "source": [
    "The generated dataframe columns `card_id`, `type_card` and `issued` had few non-null values. \n",
    "\n",
    "We decided to follow the most simple Null values substitution strategy by discarding the above. This, was the best-suited approach since the values would only count as 2.7% of all table entries, not to mention the type of content they carry (ids). Moreover, our model can now benefit from features with a high percentage of content.\n",
    "\n",
    "As for the other columns, we found the inexistence of null values a little suspicious. So we searched manually for different/weird characters/representations of null values.\n",
    "\n",
    "Almost every feature was numeric with only six in `df` and five in `df_transactions` being of type object, which had to be handled later."
   ]
  },
  {
   "cell_type": "code",
   "execution_count": null,
   "metadata": {},
   "outputs": [],
   "source": [
    "df_transactions.info()"
   ]
  },
  {
   "cell_type": "markdown",
   "metadata": {},
   "source": [
    "As for `df_transactions`, there were three columns with null values:\n",
    "\n",
    "`account`\n",
    "\n",
    "Despite having a numeric representation, one cannot say it represents a numerical feature, since it wouldn't make sense to perform calculations on those values, it is more of an account identifier (in this case of the transaction recipient).\n",
    "\n",
    "- embora esteja representado por um número, não podemos dizer propriamente que se trata de uma feature numérica, dado que não faz sentido efetuar cálculos com esse valor - trata-se, portanto, mais de um identificador da conta (neste caso da conta do destinatário da transação)\n",
    "- quanto aos valores nulos, deduzimos que estes existam devido ao facto de nem todas as transações envolverem um destinatário (p. ex. levantamentos de dinheiro), mas não há nada que possamos fazer quanto a isso, mais uma vez porque não faria sentido substituir por um valor obtido através de cálculos numéricos\n",
    "- posto isto, dicidiu-se descartar esta coluna (a verdade é que também não achamos que ela acrescentasse grande valor in the first place)\n",
    "\n",
    "k_symbol and bank\n",
    "- mais uma vez, não havia como substituir os valores nulos, a não ser que se criasse um valor 'default', para o caso de k_symbol, ou um identificador tipo 'AN' (anonymous), para o caso de bank, mas como não achamos que estas colunas acrescentassem grande valor, optamos por descartar também\n",
    "Again, there is not a way to replace null values, unless a new 'default' value\n"
   ]
  },
  {
   "cell_type": "markdown",
   "metadata": {},
   "source": [
    "##### **Main Statistics**"
   ]
  },
  {
   "cell_type": "code",
   "execution_count": null,
   "metadata": {},
   "outputs": [],
   "source": [
    "print('STATISTICS FOR SOME OF THE RELEVANT NUMERICAL FEATURES')\n",
    "\n",
    "# most of the columns, such as the ones with IDs, are irrelevant for this type of analysis\n",
    "relevant_cols = [\n",
    "    'amount',\n",
    "    'duration',\n",
    "    'payments',\n",
    "    'age_loan',\n",
    "    'average salary ',\n",
    "    'ratio of urban inhabitants ',\n",
    "    'unemployment_rate',\n",
    "]\n",
    "\n",
    "status_positive = df[df[\"status\"] == 1]\n",
    "status_negative = df[df[\"status\"] == -1]\n",
    "\n",
    "df[relevant_cols].describe()"
   ]
  },
  {
   "cell_type": "code",
   "execution_count": null,
   "metadata": {},
   "outputs": [],
   "source": [
    "status_positive[relevant_cols].describe()"
   ]
  },
  {
   "cell_type": "code",
   "execution_count": null,
   "metadata": {},
   "outputs": [],
   "source": [
    "status_negative[relevant_cols].describe()"
   ]
  },
  {
   "cell_type": "markdown",
   "metadata": {},
   "source": [
    "**amount**\n",
    "\n",
    "achamos normal haver essa variação nos valores, porque os motivos pelos quais sao pedidos emprestimos podem variar muito e idem aspas o valor. Não achamos que faça sentido fazer qualquer normalização dos dados.\n",
    "\n",
    "**duration && payments**\n",
    "\n",
    "assumimos que os dados estão em meses, embora nao nos tenha sido dada informação relativa a isto. **perguntar ao stor** \n",
    "\n",
    "achamos valores normais\n",
    "\n",
    "**age loan**  \n",
    "\n",
    "Obviamente achamos estranho o minimo ser 7 anos pois achavamos impossivel e proibido conceder transactions abaixo de 18 anos **verificar e perguntar ao stor** \n",
    "\n"
   ]
  },
  {
   "cell_type": "code",
   "execution_count": null,
   "metadata": {},
   "outputs": [],
   "source": [
    "print('STATISTICS FOR THE NON-NUMERICAL FEATURES')\n",
    "\n",
    "df.describe(include=['object'])"
   ]
  },
  {
   "cell_type": "markdown",
   "metadata": {},
   "source": [
    "##### **Target Distribution and Correlation Matrix**"
   ]
  },
  {
   "cell_type": "code",
   "execution_count": null,
   "metadata": {},
   "outputs": [],
   "source": [
    "loan_dev['status'].value_counts().plot.bar()\n",
    "plt.xlabel('Status')\n",
    "plt.ylabel('Count')\n",
    "plt.title('Status count for bank loans')"
   ]
  },
  {
   "cell_type": "markdown",
   "metadata": {},
   "source": [
    "- maior parte dos emprestimos foram bem sucedidos\n",
    "- dados não balanceados"
   ]
  },
  {
   "cell_type": "code",
   "execution_count": null,
   "metadata": {},
   "outputs": [],
   "source": [
    "# correlation analysis\n",
    "\n",
    "corr = df.corr()\n",
    "mask = np.triu(corr)\n",
    "\n",
    "fig = plt.figure(figsize=(25,15))\n",
    "\n",
    "colormap = sns.diverging_palette(250, 20, as_cmap=True)\n",
    "sns.heatmap(\n",
    "    corr, \n",
    "    annot=True, \n",
    "    fmt='.2f',\n",
    "    cbar_kws={'shrink': .5},\n",
    "    mask=mask,\n",
    "    cmap=colormap).set(title='Correlation Matrix')\n",
    "\n",
    "plt.show()"
   ]
  },
  {
   "cell_type": "code",
   "execution_count": null,
   "metadata": {},
   "outputs": [],
   "source": [
    "fig = px.parallel_categories(df, dimensions=['gender', 'frequency', 'type', 'region'], color=\"status\")\n",
    "\n",
    "fig.show()"
   ]
  },
  {
   "cell_type": "markdown",
   "metadata": {},
   "source": [
    "##### **Demographic Data Distribution per Status**"
   ]
  },
  {
   "cell_type": "code",
   "execution_count": null,
   "metadata": {},
   "outputs": [],
   "source": [
    "fig, axs = plt.subplots(nrows=1, ncols=2, figsize=(15,5), sharey=True)\n",
    "\n",
    "# commited crimes\n",
    "sns.histplot(data=df[df['status'] == 1], x='commited_crimes', color=\"skyblue\", kde=True, stat='percent', ax=axs[0])\n",
    "sns.histplot(data=df[df['status'] == -1], x='commited_crimes', color=\"red\", kde=True, stat='percent', ax=axs[0])\n",
    "\n",
    "# unemplyment rate\n",
    "sns.histplot(data=df[df['status'] == 1], x='unemployment_rate', color=\"skyblue\", stat='percent', kde=True, ax=axs[1])\n",
    "sns.histplot(data=df[df['status'] == -1], x='unemployment_rate', color=\"red\", kde=True, stat='percent', ax=axs[1])\n",
    "\n",
    "axs[0].set_xlabel('Number of Commited Crimes')\n",
    "axs[1].set_xlabel('Unemployment Rate')\n",
    "\n",
    "fig.suptitle('Demographic Data Distribution')\n",
    "fig.legend(['Status 1', 'Status -1'])\n",
    "fig.show()"
   ]
  },
  {
   "cell_type": "markdown",
   "metadata": {},
   "source": [
    "- nao achamos que tenha um impacto significativo porque as distribuiçoes sao muito semelhantes"
   ]
  },
  {
   "cell_type": "markdown",
   "metadata": {},
   "source": [
    "##### **Number of Account Disponents - Statistics and Distribution per Status**"
   ]
  },
  {
   "cell_type": "code",
   "execution_count": null,
   "metadata": {},
   "outputs": [],
   "source": [
    "# number of disponents of each account\n",
    "disp_count = df.groupby(['account_id'])['disp_id'].nunique() \n",
    "\n",
    "df = df.merge(disp_count, on='account_id', suffixes=('', '_count'), how='left')"
   ]
  },
  {
   "cell_type": "code",
   "execution_count": null,
   "metadata": {},
   "outputs": [],
   "source": [
    "df['disp_id_count'].describe()"
   ]
  },
  {
   "cell_type": "code",
   "execution_count": null,
   "metadata": {},
   "outputs": [],
   "source": [
    "no_dups_df = df.drop_duplicates(subset=['account_id']) #remove duplicates\n",
    "no_dups_df.groupby('disp_id_count')['status'].value_counts().unstack(1).plot.bar()\n",
    "\n",
    "plt.xlabel('Disponents')\n",
    "plt.ylabel('Count by number of disponents')\n",
    "plt.legend(['Status = -1', 'Status = 1'])\n",
    "plt.title('Status count by number of account disponents')"
   ]
  },
  {
   "cell_type": "markdown",
   "metadata": {},
   "source": [
    "- só existem contas com um ou dois disponentes\n",
    "- contas com 2 disponentes, com base nos dados, tendem a ter sucesso nas loans"
   ]
  },
  {
   "cell_type": "markdown",
   "metadata": {},
   "source": [
    "##### **Difference between the Average Salary and each Loan Installment - Statistics and Distribution per Status**"
   ]
  },
  {
   "cell_type": "code",
   "execution_count": null,
   "metadata": {},
   "outputs": [],
   "source": [
    "df['diff_salary_loan'] = df['average salary '] - df['payments']"
   ]
  },
  {
   "cell_type": "code",
   "execution_count": null,
   "metadata": {},
   "outputs": [],
   "source": [
    "df['diff_salary_loan'].describe()"
   ]
  },
  {
   "cell_type": "code",
   "execution_count": null,
   "metadata": {},
   "outputs": [],
   "source": [
    "sns.histplot(data=df[df['status'] == 1], x='diff_salary_loan', color=\"skyblue\", stat='percent', kde=True)\n",
    "sns.histplot(data=df[df['status'] == -1], x='diff_salary_loan', color=\"red\", stat='percent', kde=True)\n",
    "\n",
    "plt.xlabel('Salary difference according to loan payment')\n",
    "plt.legend(['Status 1', 'Status -1'])\n",
    "plt.title('Distribution of salary loan difference per status')\n",
    "plt.show()"
   ]
  },
  {
   "cell_type": "markdown",
   "metadata": {},
   "source": [
    "- distribuições parecidas\n",
    "- loans com salary difference according to loan payment > 8000 são bem sucedidas -> faz sentido -> recebe bastante mais que a loan e por isso consegue pagar\n",
    "- estranho não haver loans mal sucedidas para valores < 0"
   ]
  },
  {
   "cell_type": "markdown",
   "metadata": {},
   "source": [
    "##### **Analysis of the Gender Impact on the Loan Status**"
   ]
  },
  {
   "cell_type": "code",
   "execution_count": null,
   "metadata": {},
   "outputs": [],
   "source": [
    "values = np.array(df.groupby('gender')['status'].value_counts())\n",
    "labels = ['female / 1', 'female / -1', 'male / 1', 'male / -1']\n",
    "\n",
    "plt.pie(values, labels=labels)\n",
    "plt.title('Status count by gender')\n",
    "plt.show()"
   ]
  },
  {
   "cell_type": "markdown",
   "metadata": {},
   "source": [
    "- sexo nao tem impacto "
   ]
  },
  {
   "cell_type": "code",
   "execution_count": null,
   "metadata": {},
   "outputs": [],
   "source": [
    "transaction_count = df_transactions.groupby(['account_id'])['trans_id'].nunique()\n",
    "\n",
    "df_transactions = df_transactions.merge(transaction_count, on='account_id', suffixes=['_', '_count'], how='left')"
   ]
  },
  {
   "cell_type": "markdown",
   "metadata": {},
   "source": [
    "##### **Statistics for Other Relevant Features and Outliers Detection**"
   ]
  },
  {
   "cell_type": "code",
   "execution_count": null,
   "metadata": {},
   "outputs": [],
   "source": [
    "count_transactions_per_type = df_transactions.groupby(['account_id', 'type']).size().unstack(fill_value=0)\n",
    "count_transactions_per_type['debit'] = count_transactions_per_type['withdrawal'] + count_transactions_per_type['withdrawal in cash']\n",
    "count_transactions_per_type.drop(labels=['withdrawal', 'withdrawal in cash'], axis=1, inplace=True)\n",
    "count_transactions_per_type['credit_debit_ratio'] = count_transactions_per_type['credit'] / count_transactions_per_type['debit']\n",
    "\n",
    "df_transactions = df_transactions.merge(count_transactions_per_type, on='account_id', how='left')\n",
    "df_transactions.replace([np.inf, -np.inf], 0, inplace=True)\n",
    "df_transactions.rename({ \n",
    "    'trans_id_count': 'transactions_count', \n",
    "    'credit': 'credits_count', \n",
    "    'debit': 'debits_count' }, \n",
    "    axis=1, inplace=True)\n"
   ]
  },
  {
   "cell_type": "code",
   "execution_count": null,
   "metadata": {},
   "outputs": [],
   "source": [
    "df_transactions.columns"
   ]
  },
  {
   "cell_type": "code",
   "execution_count": null,
   "metadata": {},
   "outputs": [],
   "source": [
    "fig, axs = plt.subplots(nrows=1, ncols=3, figsize=(15,5))\n",
    "\n",
    "loan_dev.boxplot(column='amount', by='status', figsize=(5,5), ax=axs[0])\n",
    "loan_dev.boxplot(column='payments', by='status', figsize=(5,5), ax=axs[1])\n",
    "loan_dev.boxplot(column='duration', by='status', figsize=(5,5), ax=axs[2])"
   ]
  },
  {
   "cell_type": "markdown",
   "metadata": {},
   "source": [
    "**amount**\n",
    "- Apenas amount tem outliers, evidentes principalmente no caso do status 1 com valores acima de 400000\n",
    "- queremos testar se remover estes outliers influencia ou não o modelo\n",
    "\n",
    "**payments**\n",
    "- em loans mal sucedidas, os dados estatisticos são mais acima (media e quartis), o que poderá indicar que há uma influência ainda que não muito significativa desta variavel para o status da loan\n",
    "\n",
    "**duration**   \n",
    "- boxplots alinhadas pelo que concluimos que a variavél não influencia o status\n"
   ]
  },
  {
   "cell_type": "code",
   "execution_count": null,
   "metadata": {},
   "outputs": [],
   "source": [
    "fig, axs = plt.subplots(nrows=1, ncols=3, figsize=(15,5))\n",
    "\n",
    "df.boxplot(column='age_loan', by='status', figsize=(5,5), ax=axs[0])\n",
    "df.boxplot(column='average salary ', by='status', figsize=(5,5), ax=axs[1])\n",
    "df.boxplot(column='diff_salary_loan', by='status', figsize=(5,5), ax=axs[2])"
   ]
  },
  {
   "cell_type": "markdown",
   "metadata": {},
   "source": [
    "**age_loan**\n",
    "- embora as distribuições sejam parecidas, está evidente o que foi analisado previamente sobre idades < 18 em loans bem sucedidas\n",
    "\n",
    "**average salary**  \n",
    "esta feature é um bocado irrelevante dado a criação da feature diff_salary_loan que relaciona o salario medio com o valor da loan. No entanto, nota-se uma diferença no valor máximo das loans bem sucedidas, que poderá ter impacto no modelo\n",
    "\n",
    "**diff_salary_loan**  \n",
    "- em loans bem sucedidas, os dados estatisticos são mais acima (media e quartis), o que poderá indicar que há uma influência ainda que não muito significativa desta variavel para o status da loan. Consideramos esta feature relevante pois as médias são diferentes e o máximo do -1 é significativamente abaixo.\n"
   ]
  },
  {
   "cell_type": "code",
   "execution_count": null,
   "metadata": {},
   "outputs": [],
   "source": [
    "fig, axs = plt.subplots(nrows=1, ncols=2, figsize=(10,5))\n",
    "\n",
    "df_transactions.boxplot(column='transactions_count', by='status', figsize=(5,5), ax=axs[0])\n",
    "df_transactions.boxplot(column='credit_debit_ratio', by='status', figsize=(5,5), ax=axs[1])"
   ]
  },
  {
   "cell_type": "code",
   "execution_count": null,
   "metadata": {},
   "outputs": [],
   "source": [
    "sns.histplot(data=df_transactions[df_transactions['status'] == 1], x='credit_debit_ratio', color=\"skyblue\", kde=True)\n",
    "sns.histplot(data=df_transactions[df_transactions['status'] == -1], x='credit_debit_ratio', color=\"red\", kde=True)\n",
    "\n",
    "plt.xlabel('Credit debit ratio')\n",
    "plt.legend(['Status 1', 'Status -1'])\n",
    "plt.title('Distribution of credit debit ratio per status')\n",
    "plt.show()"
   ]
  },
  {
   "cell_type": "markdown",
   "metadata": {},
   "source": [
    "**transactions_count**   \n",
    "- o pensamento por detrás da extraçao da feature -> o quanto se utiliza uma conta pode estar relacionado com o sucesso da loan, indicando o quão ativo um cliente é. Não notamos, no entanto, grande impacto.\n",
    "\n",
    "**credit_debit_ratio**   \n",
    "- accounts que realizam mais créditos que debitos, embora nao saibamos os valores envolvidos nas operações, segundo o gráfico, têm probabilidade de sucesso maior "
   ]
  }
 ],
 "metadata": {
  "kernelspec": {
   "display_name": "Python 3.11.0 64-bit",
   "language": "python",
   "name": "python3"
  },
  "language_info": {
   "codemirror_mode": {
    "name": "ipython",
    "version": 3
   },
   "file_extension": ".py",
   "mimetype": "text/x-python",
   "name": "python",
   "nbconvert_exporter": "python",
   "pygments_lexer": "ipython3",
   "version": "3.11.0"
  },
  "orig_nbformat": 4,
  "vscode": {
   "interpreter": {
    "hash": "e7370f93d1d0cde622a1f8e1c04877d8463912d04d973331ad4851f04de6915a"
   }
  }
 },
 "nbformat": 4,
 "nbformat_minor": 2
}
