{
 "cells": [
  {
   "cell_type": "code",
   "execution_count": null,
   "metadata": {},
   "outputs": [],
   "source": [
    "import pandas as pd\n",
    "from datetime import datetime\n",
    "from imblearn.pipeline import Pipeline\n",
    "from imblearn.over_sampling import SMOTE\n",
    "from sklearn.ensemble import RandomForestClassifier\n",
    "from sklearn.feature_selection import SequentialFeatureSelector, f_classif, SelectKBest\n",
    "from sklearn.linear_model import LogisticRegression\n",
    "from xgboost import XGBClassifier"
   ]
  },
  {
   "cell_type": "code",
   "execution_count": null,
   "metadata": {},
   "outputs": [],
   "source": [
    "df_train = pd.read_csv(\"../data/clean/df-train.csv\", index_col=\"loan_id\")\n",
    "df_test = pd.read_csv(\"../data/clean/df-comp.csv\", index_col=\"loan_id\")\n"
   ]
  },
  {
   "cell_type": "code",
   "execution_count": null,
   "metadata": {},
   "outputs": [],
   "source": [
    "X_train = df_train.drop(columns=[\"status\"], axis=1)\n",
    "y_train = df_train[[\"status\"]]\n",
    "\n",
    "X_test = df_test.drop(columns=[\"status\"], axis=1)\n"
   ]
  },
  {
   "cell_type": "code",
   "execution_count": null,
   "metadata": {},
   "outputs": [],
   "source": [
    "oversample = True\n",
    "feature_selection = True\n",
    "params = {\"C\": 0.01, \"class_weight\": \"balanced\", \"max_iter\": 500, \"solver\": \"newton-cg\"}\n",
    "pipeline = []\n",
    "\n",
    "# model_instance = RandomForestClassifier(criterion='entropy', max_depth=15, n_estimators=200, n_jobs=-1)\n",
    "model_instance = LogisticRegression(**params)\n",
    "# model_instance = XGBClassifier(gamma=1.5, max_depth=5, min_child_weight=1, reg_alpha= 0.1)\n",
    "rfe = SequentialFeatureSelector(model_instance, n_features_to_select=\"auto\", tol=0.07)\n",
    "# rfe = SelectKBest(f_classif, k=10)\n",
    "\n",
    "if oversample:\n",
    "    pipeline.append((\"sampling\", SMOTE(n_jobs=-1)))\n",
    "\n",
    "if feature_selection:\n",
    "    pipeline.append((\"rfe\", rfe))\n",
    "\n",
    "pipeline.append((\"model\", model_instance))\n",
    "\n",
    "pipe = Pipeline(steps=pipeline)\n"
   ]
  },
  {
   "cell_type": "code",
   "execution_count": null,
   "metadata": {},
   "outputs": [],
   "source": [
    "pipe.fit(X_train, y_train)\n",
    "y_result = pipe.predict_proba(X_test)[:, 1]"
   ]
  },
  {
   "cell_type": "code",
   "execution_count": null,
   "metadata": {},
   "outputs": [],
   "source": [
    "result = pd.DataFrame({\"Id\": df_test.index, \"Predicted\": y_result})\n",
    "\n",
    "time = datetime.now().strftime(\"%d_%H-%M-%S\")\n",
    "result.to_csv(f\"../results/result-{time}.csv\", index=False)\n",
    "with open(f\"../results/result-{time}.txt\", \"w\") as f:\n",
    "    f.write(\n",
    "        f\"Logistic Regression\\n{'Feature Selection ' if feature_selection else ''}{'Oversample' if oversample else ''}\\n{model_instance.get_params()}\"\n",
    "    )\n"
   ]
  }
 ],
 "metadata": {
  "kernelspec": {
   "display_name": "Python 3.11.0 64-bit",
   "language": "python",
   "name": "python3"
  },
  "language_info": {
   "codemirror_mode": {
    "name": "ipython",
    "version": 3
   },
   "file_extension": ".py",
   "mimetype": "text/x-python",
   "name": "python",
   "nbconvert_exporter": "python",
   "pygments_lexer": "ipython3",
   "version": "3.11.0"
  },
  "orig_nbformat": 4,
  "vscode": {
   "interpreter": {
    "hash": "e7370f93d1d0cde622a1f8e1c04877d8463912d04d973331ad4851f04de6915a"
   }
  }
 },
 "nbformat": 4,
 "nbformat_minor": 2
}
