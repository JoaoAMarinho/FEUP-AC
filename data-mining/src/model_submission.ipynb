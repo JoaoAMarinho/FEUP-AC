{
 "cells": [
  {
   "cell_type": "code",
   "execution_count": 64,
   "metadata": {},
   "outputs": [],
   "source": [
    "import pandas as pd\n",
    "from sklearn.ensemble import RandomForestClassifier\n",
    "from imblearn.pipeline import Pipeline\n",
    "from imblearn.over_sampling import SMOTE\n",
    "from sklearn.feature_selection import SequentialFeatureSelector, f_classif, SelectKBest\n",
    "from datetime import datetime\n",
    "from sklearn.linear_model import LogisticRegression\n"
   ]
  },
  {
   "cell_type": "code",
   "execution_count": 65,
   "metadata": {},
   "outputs": [],
   "source": [
    "df_train = pd.read_csv('../data/clean/df-train.csv', index_col='loan_id')\n",
    "df_test = pd.read_csv('../data/clean/df-comp.csv', index_col='loan_id')"
   ]
  },
  {
   "cell_type": "code",
   "execution_count": 66,
   "metadata": {},
   "outputs": [],
   "source": [
    "X_train = df_train.drop(columns=['status'], axis=1)\n",
    "y_train = df_train[['status']]\n",
    "\n",
    "X_test = df_test.drop(columns='status', axis=1)"
   ]
  },
  {
   "cell_type": "code",
   "execution_count": 67,
   "metadata": {},
   "outputs": [],
   "source": [
    "oversample = True\n",
    "feature_selection = False\n",
    "\n",
    "pipeline = []\n",
    "#model_instance = RandomForestClassifier(criterion='entropy', max_depth=15, n_estimators=200, n_jobs=-1)\n",
    "model_instance = LogisticRegression(max_iter=5000, solver='saga', class_weight='balanced')\n",
    "#rfe = SequentialFeatureSelector(model_instance, n_features_to_select=\"auto\", tol=0.07)\n",
    "rfe = SelectKBest(f_classif, k=10)\n",
    "\n",
    "if oversample:\n",
    "  pipeline.append(('sampling', SMOTE(n_jobs=-1)))\n",
    "\n",
    "if feature_selection:\n",
    "  pipeline.append(('rfe', rfe))\n",
    "\n",
    "pipeline.append((\"model\", model_instance))\n",
    "\n",
    "pipe = Pipeline(steps=pipeline)"
   ]
  },
  {
   "cell_type": "code",
   "execution_count": 68,
   "metadata": {},
   "outputs": [
    {
     "name": "stderr",
     "output_type": "stream",
     "text": [
      "c:\\Users\\joaoa\\AppData\\Local\\Programs\\Python\\Python310\\lib\\site-packages\\sklearn\\utils\\validation.py:1111: DataConversionWarning: A column-vector y was passed when a 1d array was expected. Please change the shape of y to (n_samples, ), for example using ravel().\n",
      "  y = column_or_1d(y, warn=True)\n",
      "c:\\Users\\joaoa\\AppData\\Local\\Programs\\Python\\Python310\\lib\\site-packages\\sklearn\\linear_model\\_sag.py:350: ConvergenceWarning: The max_iter was reached which means the coef_ did not converge\n",
      "  warnings.warn(\n"
     ]
    }
   ],
   "source": [
    "pipe.fit(X_train, y_train)\n",
    "y_result = pipe.predict_proba(X_test)[:, 0]"
   ]
  },
  {
   "cell_type": "code",
   "execution_count": 69,
   "metadata": {},
   "outputs": [],
   "source": [
    "result = pd.DataFrame({\"Id\": df_test.index, \"Predicted\": y_result})\n",
    "\n",
    "time = datetime.now().strftime('%d_%H-%M-%S')\n",
    "result.to_csv(f\"../results/result-{time}.csv\", index=False)\n",
    "with open(f\"../results/result-{time}.txt\", 'w') as f:\n",
    "    f.write(f\"Logistic Regression\\n{'Feature Selection ' if feature_selection else ''}{'Oversample' if oversample else ''}\\n{model_instance.get_params()}\")"
   ]
  }
 ],
 "metadata": {
  "kernelspec": {
   "display_name": "Python 3.10.5 64-bit",
   "language": "python",
   "name": "python3"
  },
  "language_info": {
   "codemirror_mode": {
    "name": "ipython",
    "version": 3
   },
   "file_extension": ".py",
   "mimetype": "text/x-python",
   "name": "python",
   "nbconvert_exporter": "python",
   "pygments_lexer": "ipython3",
   "version": "3.10.5"
  },
  "orig_nbformat": 4,
  "vscode": {
   "interpreter": {
    "hash": "4faa59b1914308717cc78f809b0e619aee1c6f74c4ddccad8c7692e74bb65391"
   }
  }
 },
 "nbformat": 4,
 "nbformat_minor": 2
}
