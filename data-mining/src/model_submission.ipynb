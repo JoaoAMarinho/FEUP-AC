{
 "cells": [
  {
   "cell_type": "code",
   "execution_count": 43,
   "metadata": {},
   "outputs": [],
   "source": [
    "import pandas as pd\n",
    "from sklearn.ensemble import RandomForestClassifier\n",
    "from imblearn.pipeline import Pipeline\n",
    "from imblearn.over_sampling import SMOTE\n",
    "from sklearn.feature_selection import SequentialFeatureSelector, f_classif, SelectKBest\n",
    "from datetime import datetime\n",
    "from sklearn.linear_model import LogisticRegression\n"
   ]
  },
  {
   "cell_type": "code",
   "execution_count": 44,
   "metadata": {},
   "outputs": [
    {
     "data": {
      "text/plain": [
       "\" \\ntransactions_df = pd.read_csv('../test_ml/transactions_df.csv')\\nirrelevant_columns_df = pd.read_csv('../test_ml/irrelevant_columns_df.csv')\\namount_outliers_df = pd.read_csv('../test_ml/amount_outliers_df.csv')\\nage_loan_outliers_df = pd.read_csv('../test_ml/age_loan_outliers_df.csv')\\n\""
      ]
     },
     "execution_count": 44,
     "metadata": {},
     "output_type": "execute_result"
    }
   ],
   "source": [
    "df_train = pd.read_csv('../data/clean/df-train.csv')\n",
    "df_test = pd.read_csv('../data/clean/df-test.csv')"
   ]
  },
  {
   "cell_type": "code",
   "execution_count": 45,
   "metadata": {},
   "outputs": [],
   "source": [
    "X_train = df_train.drop(columns='status', axis=1)\n",
    "y_train = df_train[['status']]\n",
    "\n",
    "X_test = df_test.drop(columns='status', axis=1)"
   ]
  },
  {
   "cell_type": "code",
   "execution_count": 46,
   "metadata": {},
   "outputs": [],
   "source": [
    "oversample = True\n",
    "feature_selection = False\n",
    "\n",
    "pipeline = []\n",
    "#model_instance = RandomForestClassifier(criterion='entropy', max_depth=15, n_estimators=200, n_jobs=-1)\n",
    "model_instance = LogisticRegression(max_iter=5000, solver='saga', class_weight='balanced')\n",
    "#rfe = SequentialFeatureSelector(model_instance, n_features_to_select=\"auto\", tol=0.07)\n",
    "rfe = SelectKBest(f_classif, k=10)\n",
    "\n",
    "if oversample:\n",
    "  pipeline.append(('sampling', SMOTE(n_jobs=-1)))\n",
    "\n",
    "if feature_selection:\n",
    "  pipeline.append(('rfe', rfe))\n",
    "\n",
    "pipeline.append((\"model\", model_instance))\n",
    "\n",
    "pipe = Pipeline(steps=pipeline)"
   ]
  },
  {
   "cell_type": "code",
   "execution_count": 47,
   "metadata": {},
   "outputs": [
    {
     "name": "stderr",
     "output_type": "stream",
     "text": [
      "/Library/Frameworks/Python.framework/Versions/3.10/lib/python3.10/site-packages/sklearn/utils/validation.py:1111: DataConversionWarning: A column-vector y was passed when a 1d array was expected. Please change the shape of y to (n_samples, ), for example using ravel().\n",
      "  y = column_or_1d(y, warn=True)\n",
      "/Library/Frameworks/Python.framework/Versions/3.10/lib/python3.10/site-packages/sklearn/feature_selection/_univariate_selection.py:112: UserWarning: Features [9] are constant.\n",
      "  warnings.warn(\"Features %s are constant.\" % constant_features_idx, UserWarning)\n",
      "/Library/Frameworks/Python.framework/Versions/3.10/lib/python3.10/site-packages/sklearn/feature_selection/_univariate_selection.py:113: RuntimeWarning: invalid value encountered in true_divide\n",
      "  f = msb / msw\n",
      "/Library/Frameworks/Python.framework/Versions/3.10/lib/python3.10/site-packages/imblearn/pipeline.py:272: DataConversionWarning: A column-vector y was passed when a 1d array was expected. Please change the shape of y to (n_samples,), for example using ravel().\n",
      "  self._final_estimator.fit(Xt, yt, **fit_params_last_step)\n"
     ]
    }
   ],
   "source": [
    "pipe.fit(X_train, y_train)\n",
    "y_result = pipe.predict_proba(X_test)[:, 0]"
   ]
  },
  {
   "cell_type": "code",
   "execution_count": 48,
   "metadata": {},
   "outputs": [],
   "source": [
    "result = pd.DataFrame({\"Id\": X_test[\"loan_id\"], \"Predicted\": y_result})\n",
    "result.drop_duplicates(inplace=True)\n",
    "time = datetime.now().strftime('%d_%H-%M-%S')\n",
    "result.to_csv(f\"./results/result-{time}.csv\", index=False)\n",
    "with open(f\"./results/result-{time}.txt\", 'w') as f:\n",
    "    f.write(f\"Random Forest\\n{'Feature Selection ' if feature_selection else ''}{'Oversample' if oversample else ''}\\n{model_instance.get_params()}\")"
   ]
  }
 ],
 "metadata": {
  "kernelspec": {
   "display_name": "Python 3.10.4 64-bit",
   "language": "python",
   "name": "python3"
  },
  "language_info": {
   "codemirror_mode": {
    "name": "ipython",
    "version": 3
   },
   "file_extension": ".py",
   "mimetype": "text/x-python",
   "name": "python",
   "nbconvert_exporter": "python",
   "pygments_lexer": "ipython3",
   "version": "3.10.4"
  },
  "orig_nbformat": 4,
  "vscode": {
   "interpreter": {
    "hash": "aee8b7b246df8f9039afb4144a1f6fd8d2ca17a180786b69acc140d282b71a49"
   }
  }
 },
 "nbformat": 4,
 "nbformat_minor": 2
}
