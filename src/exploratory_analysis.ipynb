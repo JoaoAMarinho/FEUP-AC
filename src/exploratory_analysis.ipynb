{
 "cells": [
  {
   "cell_type": "code",
   "execution_count": null,
   "metadata": {},
   "outputs": [],
   "source": [
    "import pandas as pd\n",
    "import matplotlib.pyplot as plt\n",
    "import numpy as np\n",
    "import seaborn as sns\n",
    "import plotly.express as px\n",
    "import utils.clean_utils as cu\n"
   ]
  },
  {
   "cell_type": "markdown",
   "metadata": {},
   "source": [
    "### Explore individual datasets\n"
   ]
  },
  {
   "cell_type": "code",
   "execution_count": null,
   "metadata": {},
   "outputs": [],
   "source": [
    "account = pd.read_csv(\"../data/account.csv\", delimiter=\";\")\n",
    "card_dev = pd.read_csv(\"../data/card_dev.csv\", delimiter=\";\")\n",
    "client = pd.read_csv(\"../data/client.csv\", delimiter=\";\")\n",
    "disp = pd.read_csv(\"../data/disp.csv\", delimiter=\";\")\n",
    "district = pd.read_csv(\"../data/district.csv\", delimiter=\";\")\n",
    "loan_dev = pd.read_csv(\"../data/loan_dev.csv\", delimiter=\";\")\n",
    "trans_dev = pd.read_csv(\"../data/trans_dev.csv\", delimiter=\";\", dtype={\"bank\": str})\n"
   ]
  },
  {
   "cell_type": "markdown",
   "metadata": {},
   "source": [
    "#### District\n"
   ]
  },
  {
   "cell_type": "code",
   "execution_count": null,
   "metadata": {},
   "outputs": [],
   "source": [
    "district.info()\n"
   ]
  },
  {
   "cell_type": "code",
   "execution_count": null,
   "metadata": {},
   "outputs": [],
   "source": [
    "new_district = district.copy()\n",
    "\n",
    "new_district[\"no. of commited crimes '95 \"] = pd.to_numeric(\n",
    "    new_district[\"no. of commited crimes '95 \"], errors=\"coerce\"\n",
    ")\n",
    "new_district[\"no. of commited crimes '96 \"] = pd.to_numeric(\n",
    "    new_district[\"no. of commited crimes '96 \"], errors=\"coerce\"\n",
    ")\n",
    "\n",
    "plt.scatter(\n",
    "    new_district[\"no. of commited crimes '95 \"],\n",
    "    new_district[\"no. of commited crimes '96 \"],\n",
    "    color=\"#011C50\",\n",
    ")\n",
    "\n",
    "plt.xlabel(\"Commited crimes '95\")\n",
    "plt.ylabel(\"Commited crimes '96\")\n",
    "plt.title(\"Commited crimes '95/'96\")\n"
   ]
  },
  {
   "cell_type": "code",
   "execution_count": null,
   "metadata": {},
   "outputs": [],
   "source": [
    "sns.lmplot(\n",
    "    x=\"no. of commited crimes '95 \",\n",
    "    y=\"no. of commited crimes '96 \",\n",
    "    data=new_district,\n",
    "    line_kws={\"color\": \"#011C50\"},\n",
    "    scatter_kws={\"color\": \"#011C50\"},\n",
    ")\n",
    "\n",
    "plt.xlabel(\"Commited crimes '95\")\n",
    "plt.ylabel(\"Commited crimes '96\")\n",
    "plt.title(\"Commited crimes '95/'96\")\n"
   ]
  },
  {
   "cell_type": "code",
   "execution_count": null,
   "metadata": {},
   "outputs": [],
   "source": [
    "new_district[\"unemploymant rate '95 \"] = pd.to_numeric(\n",
    "    new_district[\"unemploymant rate '95 \"], errors=\"coerce\"\n",
    ")\n",
    "new_district[\"unemploymant rate '96 \"] = pd.to_numeric(\n",
    "    new_district[\"unemploymant rate '96 \"], errors=\"coerce\"\n",
    ")\n",
    "\n",
    "plt.scatter(\n",
    "    new_district[\"unemploymant rate '95 \"],\n",
    "    new_district[\"unemploymant rate '96 \"],\n",
    "    color=\"#011C50\",\n",
    ")\n",
    "\n",
    "plt.xlabel(\"Unemployment rate '95 (%)\")\n",
    "plt.ylabel(\"Unemployment rate '96 (%)\")\n",
    "plt.title(\"Unemployment rate '95/'96\")\n"
   ]
  },
  {
   "cell_type": "code",
   "execution_count": null,
   "metadata": {},
   "outputs": [],
   "source": [
    "sns.lmplot(\n",
    "    x=\"unemploymant rate '95 \",\n",
    "    y=\"unemploymant rate '96 \",\n",
    "    data=new_district,\n",
    "    line_kws={\"color\": \"#011C50\"},\n",
    "    scatter_kws={\"color\": \"#011C50\"},\n",
    ")\n",
    "\n",
    "plt.xlabel(\"Unemployment rate '95 (%)\")\n",
    "plt.ylabel(\"Unemployment rate '96 (%)\")\n",
    "plt.title(\"Unemployment rate '95/'96\")\n"
   ]
  },
  {
   "cell_type": "markdown",
   "metadata": {},
   "source": [
    "#### Transactions\n"
   ]
  },
  {
   "cell_type": "code",
   "execution_count": null,
   "metadata": {},
   "outputs": [],
   "source": [
    "trans_dev.info()\n"
   ]
  },
  {
   "cell_type": "code",
   "execution_count": null,
   "metadata": {},
   "outputs": [],
   "source": [
    "corr = trans_dev.corr()\n",
    "mask = np.triu(corr)\n",
    "\n",
    "fig = plt.figure(figsize=(25, 15))\n",
    "\n",
    "colormap = sns.diverging_palette(250, 20, as_cmap=True)\n",
    "sns.heatmap(\n",
    "    corr, annot=True, fmt=\".2f\", cbar_kws={\"shrink\": 0.5}, mask=mask, cmap=colormap\n",
    ").set(title=\"Correlation Matrix\")\n",
    "\n",
    "plt.show()\n"
   ]
  },
  {
   "cell_type": "markdown",
   "metadata": {},
   "source": [
    "#### Loan\n"
   ]
  },
  {
   "cell_type": "code",
   "execution_count": null,
   "metadata": {},
   "outputs": [],
   "source": [
    "loan_dev.info()\n"
   ]
  },
  {
   "cell_type": "code",
   "execution_count": null,
   "metadata": {},
   "outputs": [],
   "source": [
    "corr = loan_dev.corr()\n",
    "mask = np.triu(corr)\n",
    "\n",
    "fig = plt.figure(figsize=(25, 15))\n",
    "\n",
    "colormap = sns.diverging_palette(250, 20, as_cmap=True)\n",
    "sns.heatmap(\n",
    "    corr, annot=True, fmt=\".2f\", cbar_kws={\"shrink\": 0.5}, mask=mask, cmap=colormap\n",
    ").set(title=\"Correlation Matrix\")\n",
    "\n",
    "plt.show()\n"
   ]
  },
  {
   "cell_type": "code",
   "execution_count": null,
   "metadata": {},
   "outputs": [],
   "source": [
    "fig, axs = plt.subplots(nrows=1, ncols=3, figsize=(10, 5))\n",
    "\n",
    "loan_dev.boxplot(column=\"amount\", by=\"status\", figsize=(5, 5), ax=axs[0])\n",
    "loan_dev.boxplot(column=\"payments\", by=\"status\", figsize=(5, 5), ax=axs[1])\n",
    "loan_dev.boxplot(column=\"duration\", by=\"status\", figsize=(5, 5), ax=axs[2])\n"
   ]
  },
  {
   "cell_type": "markdown",
   "metadata": {},
   "source": [
    "#### Card\n"
   ]
  },
  {
   "cell_type": "code",
   "execution_count": null,
   "metadata": {},
   "outputs": [],
   "source": [
    "card_dev.info()\n"
   ]
  },
  {
   "cell_type": "markdown",
   "metadata": {},
   "source": [
    "### Explore training dataset\n"
   ]
  },
  {
   "cell_type": "code",
   "execution_count": null,
   "metadata": {},
   "outputs": [],
   "source": [
    "account = cu.clean_accounts(account, clean=False)\n",
    "disp = cu.clean_disp(disp, clean=False)\n",
    "client = cu.clean_clients(client, clean=False)\n",
    "district = cu.clean_districts(district, clean=False)\n",
    "card_dev = cu.clean_cards(card_dev, disp, clean=False)\n",
    "loan_dev = cu.clean_loans(loan_dev)\n",
    "trans_dev = cu.clean_transactions(trans_dev, clean=False, op=True, k_symbol=True)\n",
    "\n",
    "df = pd.read_csv(\"../data/clean/df-exploratory.csv\")\n"
   ]
  },
  {
   "cell_type": "code",
   "execution_count": null,
   "metadata": {},
   "outputs": [],
   "source": [
    "df.info()\n"
   ]
  },
  {
   "cell_type": "code",
   "execution_count": null,
   "metadata": {},
   "outputs": [],
   "source": [
    "df[\"status\"].value_counts().plot.bar(color=\"#011C50\")\n",
    "plt.xlabel(\"Status\")\n",
    "plt.ylabel(\"Count\")\n",
    "plt.title(\"Status count for bank loans\")\n"
   ]
  },
  {
   "cell_type": "code",
   "execution_count": null,
   "metadata": {},
   "outputs": [],
   "source": [
    "# correlation analysis\n",
    "\n",
    "corr = df.corr()\n",
    "mask = np.triu(corr)\n",
    "\n",
    "fig = plt.figure(figsize=(25, 15))\n",
    "\n",
    "colormap = sns.diverging_palette(250, 20, as_cmap=True)\n",
    "sns.heatmap(\n",
    "    corr, annot=True, fmt=\".2f\", cbar_kws={\"shrink\": 0.5}, mask=mask, cmap=colormap\n",
    ").set(title=\"Correlation Matrix\")\n",
    "\n",
    "plt.show()\n"
   ]
  },
  {
   "cell_type": "code",
   "execution_count": null,
   "metadata": {},
   "outputs": [],
   "source": [
    "# correlation analysis\n",
    "corr = trans_dev.corr()\n",
    "mask = np.triu(corr)\n",
    "\n",
    "fig = plt.figure(figsize=(25, 15))\n",
    "\n",
    "colormap = sns.diverging_palette(250, 20, as_cmap=True)\n",
    "sns.heatmap(\n",
    "    corr, annot=True, fmt=\".2f\", cbar_kws={\"shrink\": 0.5}, mask=mask, cmap=colormap\n",
    ").set(title=\"Correlation Matrix\")\n",
    "\n",
    "plt.show()\n"
   ]
  },
  {
   "cell_type": "code",
   "execution_count": null,
   "metadata": {},
   "outputs": [],
   "source": [
    "# correlation analysis\n",
    "\n",
    "corr = loan_dev.corr()\n",
    "mask = np.triu(corr)\n",
    "\n",
    "fig = plt.figure(figsize=(25, 15))\n",
    "\n",
    "colormap = sns.diverging_palette(250, 20, as_cmap=True)\n",
    "sns.heatmap(\n",
    "    corr, annot=True, fmt=\".2f\", cbar_kws={\"shrink\": 0.5}, mask=mask, cmap=colormap\n",
    ").set(title=\"Correlation Matrix\")\n",
    "\n",
    "plt.show()\n"
   ]
  },
  {
   "cell_type": "code",
   "execution_count": null,
   "metadata": {},
   "outputs": [],
   "source": [
    "# correlation analysis\n",
    "\n",
    "corr = district.corr()\n",
    "mask = np.triu(corr)\n",
    "\n",
    "fig = plt.figure(figsize=(25, 15))\n",
    "\n",
    "colormap = sns.diverging_palette(250, 20, as_cmap=True)\n",
    "sns.heatmap(\n",
    "    corr, annot=True, fmt=\".2f\", cbar_kws={\"shrink\": 0.5}, mask=mask, cmap=colormap\n",
    ").set(title=\"Correlation Matrix\")\n",
    "\n",
    "plt.show()\n"
   ]
  },
  {
   "cell_type": "code",
   "execution_count": null,
   "metadata": {},
   "outputs": [],
   "source": [
    "print(\"STATISTICS FOR SOME OF THE RELEVANT NUMERICAL FEATURES\")\n",
    "\n",
    "# most of the columns, such as the ones with IDs, are irrelevant for this type of analysis\n",
    "relevant_cols = [\n",
    "    \"amount\",\n",
    "    \"duration\",\n",
    "    \"payments\",\n",
    "    \"average_salary\",\n",
    "    \"unemployment_growth\",\n",
    "    \"avg_commited_crimes\",\n",
    "    \"ratio_entrepreneurs\",\n",
    "    \"avg_amount_credit\",\n",
    "    \"avg_amount_withdrawal\",\n",
    "    \"avg_amount_total\",\n",
    "    \"min_amount\",\n",
    "    \"max_amount\",\n",
    "    \"credit_ratio\",\n",
    "    \"num_trans\",\n",
    "    \"avg_balance\",\n",
    "    \"min_balance\",\n",
    "    \"max_balance\",\n",
    "    \"std_balance\",\n",
    "    \"num_cash_credit\",\n",
    "    \"num_coll\",\n",
    "    \"num_interest\",\n",
    "    \"num_cash_withdrawal\",\n",
    "    \"num_rem\",\n",
    "    \"num_card_withdrawal\",\n",
    "    \"mean_no_symbol\",\n",
    "    \"num_no_symbol\",\n",
    "    \"mean_household\",\n",
    "    \"num_household\",\n",
    "    \"mean_statement\",\n",
    "    \"num_statement\",\n",
    "    \"mean_insurance\",\n",
    "    \"num_insurance\",\n",
    "    \"mean_sanction\",\n",
    "    \"num_sanction\",\n",
    "    \"mean_pension\",\n",
    "    \"num_pension\",\n",
    "    \"age_at_loan\",\n",
    "    \"days_between\",\n",
    "]\n",
    "\n",
    "status_positive = df[df[\"status\"] == 1]\n",
    "status_negative = df[df[\"status\"] == -1]\n",
    "\n",
    "df[relevant_cols].describe()\n"
   ]
  },
  {
   "cell_type": "code",
   "execution_count": null,
   "metadata": {},
   "outputs": [],
   "source": [
    "status_positive[relevant_cols].describe()\n"
   ]
  },
  {
   "cell_type": "code",
   "execution_count": null,
   "metadata": {},
   "outputs": [],
   "source": [
    "status_negative[relevant_cols].describe()\n"
   ]
  },
  {
   "cell_type": "code",
   "execution_count": null,
   "metadata": {},
   "outputs": [],
   "source": [
    "print(\"STATISTICS FOR THE NON-NUMERICAL FEATURES\")\n",
    "\n",
    "df.describe(include=[\"object\"])\n"
   ]
  },
  {
   "cell_type": "code",
   "execution_count": null,
   "metadata": {},
   "outputs": [],
   "source": [
    "df.groupby(\"has_disponent\")[\"status\"].value_counts().unstack(1).plot.bar(\n",
    "    color=[\"#011C50\", \"#F5BE49\"]\n",
    ")\n",
    "\n",
    "plt.xlabel(\"Disponents\")\n",
    "plt.ylabel(\"Count by number of disponents\")\n",
    "plt.legend([\"Status = -1\", \"Status = 1\"])\n",
    "plt.title(\"Status count by number of account disponents\")\n"
   ]
  },
  {
   "cell_type": "code",
   "execution_count": null,
   "metadata": {},
   "outputs": [],
   "source": [
    "sns.histplot(\n",
    "    data=df[df[\"status\"] == 1],\n",
    "    x=\"avg_balance\",\n",
    "    color=\"#F5BE49\",\n",
    "    stat=\"percent\",\n",
    "    kde=True,\n",
    ")\n",
    "sns.histplot(\n",
    "    data=df[df[\"status\"] == -1],\n",
    "    x=\"avg_balance\",\n",
    "    color=\"#011C50\",\n",
    "    stat=\"percent\",\n",
    "    kde=True,\n",
    ")\n",
    "\n",
    "plt.xlabel(\"Average Balance after transactions\")\n",
    "plt.legend([\"Status 1\", \"Status -1\"])\n",
    "plt.title(\"Distribution of average balance per status\")\n",
    "plt.show()\n"
   ]
  },
  {
   "cell_type": "code",
   "execution_count": null,
   "metadata": {},
   "outputs": [],
   "source": [
    "fig = px.parallel_categories(\n",
    "    df,\n",
    "    dimensions=[\"gender\", \"has_card\", \"negative_balance\", \"has_disponent\", \"frequency\"],\n",
    "    color=\"status\",\n",
    ")\n",
    "\n",
    "fig.layout[\"coloraxis\"][\"colorbar\"][\"x\"] = 1.1\n",
    "fig.show()\n"
   ]
  },
  {
   "cell_type": "code",
   "execution_count": null,
   "metadata": {},
   "outputs": [],
   "source": [
    "fig, axs = plt.subplots(nrows=1, ncols=2, figsize=(15, 5), sharey=True)\n",
    "\n",
    "# commited crimes\n",
    "sns.histplot(\n",
    "    data=df[df[\"status\"] == 1],\n",
    "    x=\"amount\",\n",
    "    color=\"#F5BE49\",\n",
    "    kde=True,\n",
    "    stat=\"percent\",\n",
    "    ax=axs[0],\n",
    ")\n",
    "\n",
    "# unemplyment rate\n",
    "sns.histplot(\n",
    "    data=df[df[\"status\"] == -1],\n",
    "    x=\"amount\",\n",
    "    color=\"#011C50\",\n",
    "    stat=\"percent\",\n",
    "    kde=True,\n",
    "    ax=axs[1],\n",
    ")\n",
    "\n",
    "axs[0].set_xlabel(\"Amount of successful loans\")\n",
    "axs[1].set_xlabel(\"Amount of unsuccessful loans\")\n",
    "axs[0].legend([\"Status 1\"])\n",
    "axs[1].legend([\"Status -1\"])\n",
    "\n",
    "fig.suptitle(\"Loan Amount\")\n",
    "fig.show()\n"
   ]
  },
  {
   "cell_type": "code",
   "execution_count": null,
   "metadata": {},
   "outputs": [],
   "source": [
    "fig, axs = plt.subplots(nrows=1, ncols=2, figsize=(15, 5), sharey=True)\n",
    "\n",
    "# commited crimes\n",
    "sns.histplot(\n",
    "    data=df[df[\"status\"] == 1],\n",
    "    x=\"avg_amount_credit\",\n",
    "    color=\"#F5BE49\",\n",
    "    kde=True,\n",
    "    stat=\"percent\",\n",
    "    ax=axs[0],\n",
    ")\n",
    "\n",
    "# unemplyment rate\n",
    "sns.histplot(\n",
    "    data=df[df[\"status\"] == -1],\n",
    "    x=\"avg_amount_credit\",\n",
    "    color=\"#011C50\",\n",
    "    stat=\"percent\",\n",
    "    kde=True,\n",
    "    ax=axs[1],\n",
    ")\n",
    "\n",
    "axs[0].set_xlabel(\"Average amount credit transactions\")\n",
    "axs[1].set_xlabel(\"Average amount credit transactions\")\n",
    "axs[0].legend([\"Status 1\"])\n",
    "axs[1].legend([\"Status -1\"])\n",
    "\n",
    "fig.suptitle(\"Average amount of credit transactions\")\n",
    "fig.show()\n"
   ]
  },
  {
   "cell_type": "code",
   "execution_count": null,
   "metadata": {},
   "outputs": [],
   "source": [
    "fig, axs = plt.subplots(nrows=1, ncols=2, figsize=(15, 5), sharey=True)\n",
    "df[\"avg_amount_withdrawal\"] = df[\"avg_amount_withdrawal\"] * -1\n",
    "\n",
    "# commited crimes\n",
    "sns.histplot(\n",
    "    data=df[df[\"status\"] == 1],\n",
    "    x=\"avg_amount_withdrawal\",\n",
    "    color=\"#F5BE49\",\n",
    "    kde=True,\n",
    "    stat=\"percent\",\n",
    "    ax=axs[0],\n",
    ")\n",
    "\n",
    "# unemplyment rate\n",
    "sns.histplot(\n",
    "    data=df[df[\"status\"] == -1],\n",
    "    x=\"avg_amount_withdrawal\",\n",
    "    color=\"#011C50\",\n",
    "    stat=\"percent\",\n",
    "    kde=True,\n",
    "    ax=axs[1],\n",
    ")\n",
    "\n",
    "axs[0].set_xlabel(\"Average amount withdrawal transactions\")\n",
    "axs[1].set_xlabel(\"Average amount withdrawal transactions\")\n",
    "axs[0].legend([\"Status 1\"])\n",
    "axs[1].legend([\"Status -1\"])\n",
    "\n",
    "fig.suptitle(\"Average amount of withdrawal transactions\")\n",
    "fig.show()\n"
   ]
  },
  {
   "cell_type": "code",
   "execution_count": null,
   "metadata": {},
   "outputs": [],
   "source": [
    "df.groupby(\"has_card\")[\"status\"].value_counts().unstack(1).plot.bar(\n",
    "    color=[\"#011C50\", \"#F5BE49\"]\n",
    ")\n",
    "\n",
    "plt.ylabel(\"Count\")\n",
    "plt.xlabel(\"Has card\")\n",
    "plt.legend([\"Status = -1\", \"Status = 1\"])\n",
    "plt.title(\"Status count per accounts with(out)\")\n",
    "plt.xticks(rotation=0)\n",
    "plt.show()\n"
   ]
  },
  {
   "cell_type": "code",
   "execution_count": null,
   "metadata": {},
   "outputs": [],
   "source": [
    "df.groupby(\"negative_balance\")[\"status\"].value_counts().unstack(1).plot.bar(\n",
    "    color=[\"#011C50\", \"#F5BE49\"]\n",
    ")\n",
    "\n",
    "plt.xlabel(\"Has had at least one negative balance\")\n",
    "plt.ylabel(\"Count\")\n",
    "plt.legend([\"Status = -1\", \"Status = 1\"])\n",
    "plt.xticks(rotation=0)\n",
    "plt.title(\"Negative balance by number of accounts\")\n"
   ]
  },
  {
   "cell_type": "code",
   "execution_count": null,
   "metadata": {},
   "outputs": [],
   "source": [
    "sns.histplot(\n",
    "    data=df[df[\"status\"] == 1],\n",
    "    x=\"days_between\",\n",
    "    color=\"#F5BE49\",\n",
    "    stat=\"percent\",\n",
    "    kde=True,\n",
    ")\n",
    "sns.histplot(\n",
    "    data=df[df[\"status\"] == -1],\n",
    "    x=\"days_between\",\n",
    "    color=\"#011C50\",\n",
    "    stat=\"percent\",\n",
    "    kde=True,\n",
    ")\n",
    "\n",
    "plt.xlabel(\"Days between loan and account creation\")\n",
    "plt.legend([\"Status 1\", \"Status -1\"])\n",
    "plt.title(\"Distribution of days between loand and account creation per status\")\n",
    "plt.show()\n"
   ]
  },
  {
   "cell_type": "code",
   "execution_count": null,
   "metadata": {},
   "outputs": [],
   "source": [
    "sns.histplot(\n",
    "    data=df[df[\"status\"] == 1],\n",
    "    x=\"age_at_loan\",\n",
    "    color=\"#F5BE49\",\n",
    "    stat=\"percent\",\n",
    "    kde=True,\n",
    ")\n",
    "sns.histplot(\n",
    "    data=df[df[\"status\"] == -1],\n",
    "    x=\"age_at_loan\",\n",
    "    color=\"#011C50\",\n",
    "    stat=\"percent\",\n",
    "    kde=True,\n",
    ")\n",
    "\n",
    "plt.xlabel(\"Age at loan\")\n",
    "plt.legend([\"Status 1\", \"Status -1\"])\n",
    "plt.title(\"Distribution of age at loan per status\")\n",
    "plt.show()\n"
   ]
  },
  {
   "cell_type": "code",
   "execution_count": null,
   "metadata": {},
   "outputs": [],
   "source": [
    "plt.scatter(df[\"average_salary\"], df[\"avg_commited_crimes\"], color=\"#011C50\")\n",
    "\n",
    "plt.xlabel(\"average salary\")\n",
    "plt.ylabel(\"average commited crimes\")\n",
    "plt.title(\"Relation between a district's salary and commited crimes\")\n"
   ]
  },
  {
   "cell_type": "code",
   "execution_count": null,
   "metadata": {},
   "outputs": [],
   "source": [
    "sns.histplot(\n",
    "    data=df[df[\"status\"] == 1], x=\"region\", color=\"#F5BE49\", stat=\"percent\", kde=True\n",
    ")\n",
    "sns.histplot(\n",
    "    data=df[df[\"status\"] == -1], x=\"region\", color=\"#011C50\", stat=\"percent\", kde=True\n",
    ")\n",
    "\n",
    "plt.xlabel(\"Region\")\n",
    "plt.xticks(rotation=45)\n",
    "plt.legend([\"Status 1\", \"Status -1\"])\n",
    "plt.title(\"Distribution of region per status\")\n",
    "plt.show()\n"
   ]
  },
  {
   "cell_type": "code",
   "execution_count": null,
   "metadata": {},
   "outputs": [],
   "source": [
    "sns.histplot(\n",
    "    data=df[df[\"status\"] == 1], x=\"payments\", color=\"#F5BE49\", stat=\"percent\", kde=True\n",
    ")\n",
    "sns.histplot(\n",
    "    data=df[df[\"status\"] == -1], x=\"payments\", color=\"#011C50\", stat=\"percent\", kde=True\n",
    ")\n",
    "\n",
    "plt.xlabel(\"Payments\")\n",
    "plt.legend([\"Status 1\", \"Status -1\"])\n",
    "plt.title(\"Distribution of payments per status\")\n",
    "plt.show()\n"
   ]
  },
  {
   "cell_type": "code",
   "execution_count": null,
   "metadata": {},
   "outputs": [],
   "source": [
    "values = np.array(df.groupby(\"gender\")[\"status\"].value_counts())\n",
    "labels = [\"female / 1\", \"female / -1\", \"male / 1\", \"male / -1\"]\n",
    "\n",
    "plt.pie(values, labels=labels)\n",
    "plt.title(\"Status count by gender\")\n",
    "plt.show()\n"
   ]
  },
  {
   "cell_type": "code",
   "execution_count": null,
   "metadata": {},
   "outputs": [],
   "source": [
    "sns.histplot(\n",
    "    data=df[df[\"status\"] == 1],\n",
    "    x=\"criminality_growth\",\n",
    "    color=\"#F5BE49\",\n",
    "    stat=\"percent\",\n",
    "    kde=True,\n",
    ")\n",
    "sns.histplot(\n",
    "    data=df[df[\"status\"] == -1],\n",
    "    x=\"criminality_growth\",\n",
    "    color=\"#011C50\",\n",
    "    stat=\"percent\",\n",
    "    kde=True,\n",
    ")\n",
    "\n",
    "plt.xlabel(\"Criminality growth\")\n",
    "plt.legend([\"Status 1\", \"Status -1\"])\n",
    "plt.title(\"Distribution of criminality growth per status\")\n",
    "plt.show()\n"
   ]
  },
  {
   "cell_type": "code",
   "execution_count": null,
   "metadata": {},
   "outputs": [],
   "source": [
    "sns.histplot(\n",
    "    data=df[df[\"status\"] == 1],\n",
    "    x=\"unemployment_growth\",\n",
    "    color=\"#F5BE49\",\n",
    "    stat=\"percent\",\n",
    "    kde=True,\n",
    ")\n",
    "sns.histplot(\n",
    "    data=df[df[\"status\"] == -1],\n",
    "    x=\"unemployment_growth\",\n",
    "    color=\"#011C50\",\n",
    "    stat=\"percent\",\n",
    "    kde=True,\n",
    ")\n",
    "\n",
    "plt.xlabel(\"Unemployment growth\")\n",
    "plt.legend([\"Status 1\", \"Status -1\"])\n",
    "plt.title(\"Distribution of unemployment growth per status\")\n",
    "plt.show()\n"
   ]
  },
  {
   "cell_type": "code",
   "execution_count": null,
   "metadata": {},
   "outputs": [],
   "source": [
    "fig, axs = plt.subplots(nrows=4, ncols=3, figsize=(20, 20))\n",
    "\n",
    "df.boxplot(column=\"amount\", by=\"status\", figsize=(5, 5), ax=axs[0][0])\n",
    "df.boxplot(column=\"payments\", by=\"status\", figsize=(5, 5), ax=axs[0][1])\n",
    "df.boxplot(column=\"duration\", by=\"status\", figsize=(5, 5), ax=axs[0][2])\n",
    "df.boxplot(column=\"average_salary\", by=\"status\", figsize=(5, 5), ax=axs[1][0])\n",
    "df.boxplot(column=\"unemployment_rate\", by=\"status\", figsize=(5, 5), ax=axs[1][1])\n",
    "df.boxplot(column=\"avg_commited_crimes\", by=\"status\", figsize=(5, 5), ax=axs[1][2])\n",
    "df.boxplot(column=\"ratio_entrepreneurs\", by=\"status\", figsize=(5, 5), ax=axs[2][0])\n",
    "df.boxplot(column=\"criminality_growth\", by=\"status\", figsize=(5, 5), ax=axs[2][1])\n",
    "df.boxplot(column=\"avg_amount_credit\", by=\"status\", figsize=(5, 5), ax=axs[2][2])\n",
    "df.boxplot(column=\"avg_amount_withdrawal\", by=\"status\", figsize=(5, 5), ax=axs[3][0])\n",
    "df.boxplot(column=\"avg_amount_total\", by=\"status\", figsize=(5, 5), ax=axs[3][1])\n",
    "df.boxplot(column=\"credit_ratio\", by=\"status\", figsize=(5, 5), ax=axs[3][2])\n"
   ]
  },
  {
   "cell_type": "code",
   "execution_count": null,
   "metadata": {},
   "outputs": [],
   "source": [
    "fig, axs = plt.subplots(nrows=4, ncols=3, figsize=(20, 20))\n",
    "\n",
    "df.boxplot(column=\"min_amount\", by=\"status\", figsize=(5, 5), ax=axs[0][0])\n",
    "df.boxplot(column=\"max_amount\", by=\"status\", figsize=(5, 5), ax=axs[0][1])\n",
    "df.boxplot(column=\"num_trans\", by=\"status\", figsize=(5, 5), ax=axs[0][2])\n",
    "df.boxplot(column=\"avg_balance\", by=\"status\", figsize=(5, 5), ax=axs[1][0])\n",
    "df.boxplot(column=\"min_balance\", by=\"status\", figsize=(5, 5), ax=axs[1][1])\n",
    "df.boxplot(column=\"max_balance\", by=\"status\", figsize=(5, 5), ax=axs[1][2])\n",
    "df.boxplot(column=\"std_balance\", by=\"status\", figsize=(5, 5), ax=axs[2][0])\n",
    "df.boxplot(column=\"num_cash_credit\", by=\"status\", figsize=(5, 5), ax=axs[2][1])\n",
    "df.boxplot(column=\"num_coll\", by=\"status\", figsize=(5, 5), ax=axs[2][2])\n",
    "df.boxplot(column=\"num_interest\", by=\"status\", figsize=(5, 5), ax=axs[3][0])\n",
    "df.boxplot(column=\"num_pension\", by=\"status\", figsize=(5, 5), ax=axs[3][0])\n",
    "df.boxplot(column=\"num_cash_withdrawal\", by=\"status\", figsize=(5, 5), ax=axs[3][1])\n",
    "df.boxplot(column=\"days_between\", by=\"status\", figsize=(5, 5), ax=axs[3][2])\n"
   ]
  },
  {
   "cell_type": "code",
   "execution_count": null,
   "metadata": {},
   "outputs": [],
   "source": [
    "fig, axs = plt.subplots(nrows=4, ncols=3, figsize=(20, 20))\n",
    "\n",
    "df.boxplot(column=\"mean_no_symbol\", by=\"status\", figsize=(5, 5), ax=axs[0][0])\n",
    "df.boxplot(column=\"mean_household\", by=\"status\", figsize=(5, 5), ax=axs[0][1])\n",
    "df.boxplot(column=\"num_household\", by=\"status\", figsize=(5, 5), ax=axs[0][2])\n",
    "df.boxplot(column=\"mean_statement\", by=\"status\", figsize=(5, 5), ax=axs[1][0])\n",
    "df.boxplot(column=\"num_statement\", by=\"status\", figsize=(5, 5), ax=axs[1][1])\n",
    "df.boxplot(column=\"mean_insurance\", by=\"status\", figsize=(5, 5), ax=axs[1][2])\n",
    "df.boxplot(column=\"num_insurance\", by=\"status\", figsize=(5, 5), ax=axs[2][0])\n",
    "df.boxplot(column=\"mean_sanction\", by=\"status\", figsize=(5, 5), ax=axs[2][1])\n",
    "df.boxplot(column=\"num_sanction\", by=\"status\", figsize=(5, 5), ax=axs[2][2])\n",
    "df.boxplot(column=\"mean_pension\", by=\"status\", figsize=(5, 5), ax=axs[3][0])\n",
    "df.boxplot(column=\"age_at_loan\", by=\"status\", figsize=(5, 5), ax=axs[3][1])\n",
    "df.boxplot(column=\"days_between\", by=\"status\", figsize=(5, 5), ax=axs[3][2])\n"
   ]
  },
  {
   "cell_type": "code",
   "execution_count": null,
   "metadata": {},
   "outputs": [],
   "source": [
    "df.columns\n"
   ]
  }
 ],
 "metadata": {
  "kernelspec": {
   "display_name": "Python 3.11.0 64-bit",
   "language": "python",
   "name": "python3"
  },
  "language_info": {
   "codemirror_mode": {
    "name": "ipython",
    "version": 3
   },
   "file_extension": ".py",
   "mimetype": "text/x-python",
   "name": "python",
   "nbconvert_exporter": "python",
   "pygments_lexer": "ipython3",
   "version": "3.11.0"
  },
  "orig_nbformat": 4,
  "vscode": {
   "interpreter": {
    "hash": "e7370f93d1d0cde622a1f8e1c04877d8463912d04d973331ad4851f04de6915a"
   }
  }
 },
 "nbformat": 4,
 "nbformat_minor": 2
}
