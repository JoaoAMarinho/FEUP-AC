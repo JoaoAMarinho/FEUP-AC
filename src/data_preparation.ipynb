{
 "cells": [
  {
   "cell_type": "markdown",
   "metadata": {},
   "source": [
    "# Data Mining Project - Data Preparation\n"
   ]
  },
  {
   "cell_type": "markdown",
   "metadata": {},
   "source": [
    "### Imports\n"
   ]
  },
  {
   "cell_type": "code",
   "execution_count": 1,
   "metadata": {},
   "outputs": [],
   "source": [
    "import pandas as pd\n",
    "import utils.clean_utils as cu\n"
   ]
  },
  {
   "cell_type": "markdown",
   "metadata": {},
   "source": [
    "### Assemble Train DF\n"
   ]
  },
  {
   "cell_type": "code",
   "execution_count": 2,
   "metadata": {},
   "outputs": [],
   "source": [
    "account = pd.read_csv(\"../data/account.csv\", delimiter=\";\")\n",
    "disp = pd.read_csv(\"../data/disp.csv\", delimiter=\";\")\n",
    "client = pd.read_csv(\"../data/client.csv\", delimiter=\";\")\n",
    "district = pd.read_csv(\"../data/district.csv\", delimiter=\";\")\n",
    "card_dev = pd.read_csv(\"../data/card_dev.csv\", delimiter=\";\")\n",
    "loan_dev = pd.read_csv(\"../data/loan_dev.csv\", delimiter=\";\")\n",
    "trans_dev = pd.read_csv(\"../data/trans_dev.csv\", delimiter=\";\", dtype={\"bank\": str})"
   ]
  },
  {
   "cell_type": "code",
   "execution_count": 3,
   "metadata": {},
   "outputs": [],
   "source": [
    "account = cu.clean_accounts(account)\n",
    "disp = cu.clean_disp(disp)\n",
    "client = cu.clean_clients(client)\n",
    "district = cu.clean_districts(district)\n",
    "card_dev = cu.clean_cards(card_dev, disp)\n",
    "loan_dev = cu.clean_loans(loan_dev)\n",
    "trans_dev = cu.clean_transactions(trans_dev, op=False, k_symbol=False)\n",
    "\n",
    "dfs = [account, disp, client, district, card_dev, loan_dev, trans_dev]"
   ]
  },
  {
   "cell_type": "code",
   "execution_count": 4,
   "metadata": {},
   "outputs": [],
   "source": [
    "df = cu.merge_dfs(dfs)\n",
    "df = cu.extract_other_features(df)\n",
    "df = cu.clean_columns(df)\n",
    "df = cu.transform_status(df)\n"
   ]
  },
  {
   "cell_type": "code",
   "execution_count": 5,
   "metadata": {},
   "outputs": [],
   "source": [
    "df.to_csv(\"../data/clean/df-train.csv\")"
   ]
  },
  {
   "cell_type": "markdown",
   "metadata": {},
   "source": [
    "### Assemble Other Training DFs\n"
   ]
  },
  {
   "cell_type": "code",
   "execution_count": 6,
   "metadata": {},
   "outputs": [],
   "source": [
    "amount_outliers_df = cu.drop_outliers(df, \"amount\")\n",
    "age_loan_outliers_df = df[df[\"age_at_loan\"] > 18]"
   ]
  },
  {
   "cell_type": "code",
   "execution_count": 7,
   "metadata": {},
   "outputs": [],
   "source": [
    "amount_outliers_df.to_csv(\"../data/clean/df-amount_outliers.csv\")\n",
    "age_loan_outliers_df.to_csv(\"../data/clean/df-adult_loans.csv\")"
   ]
  },
  {
   "cell_type": "markdown",
   "metadata": {},
   "source": [
    "### Assemble Competition DF\n"
   ]
  },
  {
   "cell_type": "code",
   "execution_count": 8,
   "metadata": {},
   "outputs": [],
   "source": [
    "account = pd.read_csv(\"../data/account.csv\", delimiter=\";\")\n",
    "disp = pd.read_csv(\"../data/disp.csv\", delimiter=\";\")\n",
    "client = pd.read_csv(\"../data/client.csv\", delimiter=\";\")\n",
    "district = pd.read_csv(\"../data/district.csv\", delimiter=\";\")\n",
    "card_comp = pd.read_csv(\"../data/competition/card_comp.csv\", delimiter=\";\")\n",
    "loan_comp = pd.read_csv(\"../data/competition/loan_comp.csv\", delimiter=\";\")\n",
    "trans_comp = pd.read_csv(\n",
    "    \"../data/competition/trans_comp.csv\", delimiter=\";\", dtype={\"bank\": str}\n",
    ")"
   ]
  },
  {
   "cell_type": "code",
   "execution_count": 9,
   "metadata": {},
   "outputs": [],
   "source": [
    "account = cu.clean_accounts(account)\n",
    "disp = cu.clean_disp(disp)\n",
    "client = cu.clean_clients(client)\n",
    "district = cu.clean_districts(district)\n",
    "card_comp = cu.clean_cards(card_comp, disp)\n",
    "loan_comp = cu.clean_loans(loan_comp)\n",
    "trans_comp = cu.clean_transactions(trans_comp)\n",
    "\n",
    "dfs = [account, disp, client, district, card_comp, loan_comp, trans_comp]"
   ]
  },
  {
   "cell_type": "code",
   "execution_count": 10,
   "metadata": {},
   "outputs": [],
   "source": [
    "df = cu.merge_dfs(dfs)\n",
    "df = cu.extract_other_features(df)\n",
    "df = cu.clean_columns(df)\n"
   ]
  },
  {
   "cell_type": "code",
   "execution_count": 11,
   "metadata": {},
   "outputs": [],
   "source": [
    "df.to_csv(\"../data/clean/df-comp.csv\")"
   ]
  }
 ],
 "metadata": {
  "kernelspec": {
   "display_name": "Python 3.11.0 64-bit",
   "language": "python",
   "name": "python3"
  },
  "language_info": {
   "codemirror_mode": {
    "name": "ipython",
    "version": 3
   },
   "file_extension": ".py",
   "mimetype": "text/x-python",
   "name": "python",
   "nbconvert_exporter": "python",
   "pygments_lexer": "ipython3",
   "version": "3.11.0"
  },
  "orig_nbformat": 4,
  "vscode": {
   "interpreter": {
    "hash": "e7370f93d1d0cde622a1f8e1c04877d8463912d04d973331ad4851f04de6915a"
   }
  }
 },
 "nbformat": 4,
 "nbformat_minor": 2
}
